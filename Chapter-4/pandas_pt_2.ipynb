{
 "cells": [
  {
   "cell_type": "code",
   "execution_count": 1,
   "id": "14850b05-ca30-45d9-a1ab-75b765de6672",
   "metadata": {},
   "outputs": [],
   "source": [
    "import pandas as pd\n",
    "import numpy as np"
   ]
  },
  {
   "cell_type": "markdown",
   "id": "f37f2d85-ebae-4d98-b448-899193731c51",
   "metadata": {},
   "source": [
    "Creation of dataframes"
   ]
  },
  {
   "cell_type": "markdown",
   "id": "d105d46f-0c17-47cc-856b-b2466edf17a9",
   "metadata": {},
   "source": [
    "Creating DataFrames from a NumPy array"
   ]
  },
  {
   "cell_type": "code",
   "execution_count": 5,
   "id": "e0dd3a12-1b2b-4c2c-9968-935dff2afc95",
   "metadata": {},
   "outputs": [
    {
     "data": {
      "text/html": [
       "<div>\n",
       "<style scoped>\n",
       "    .dataframe tbody tr th:only-of-type {\n",
       "        vertical-align: middle;\n",
       "    }\n",
       "\n",
       "    .dataframe tbody tr th {\n",
       "        vertical-align: top;\n",
       "    }\n",
       "\n",
       "    .dataframe thead th {\n",
       "        text-align: right;\n",
       "    }\n",
       "</style>\n",
       "<table border=\"1\" class=\"dataframe\">\n",
       "  <thead>\n",
       "    <tr style=\"text-align: right;\">\n",
       "      <th></th>\n",
       "      <th>First</th>\n",
       "      <th>Second</th>\n",
       "      <th>Third</th>\n",
       "    </tr>\n",
       "  </thead>\n",
       "  <tbody>\n",
       "    <tr>\n",
       "      <th>a</th>\n",
       "      <td>-0.441458</td>\n",
       "      <td>0.909961</td>\n",
       "      <td>0.309505</td>\n",
       "    </tr>\n",
       "    <tr>\n",
       "      <th>b</th>\n",
       "      <td>-0.355160</td>\n",
       "      <td>-1.306468</td>\n",
       "      <td>-0.675490</td>\n",
       "    </tr>\n",
       "  </tbody>\n",
       "</table>\n",
       "</div>"
      ],
      "text/plain": [
       "      First    Second     Third\n",
       "a -0.441458  0.909961  0.309505\n",
       "b -0.355160 -1.306468 -0.675490"
      ]
     },
     "execution_count": 5,
     "metadata": {},
     "output_type": "execute_result"
    }
   ],
   "source": [
    "df = pd.DataFrame(\n",
    "    np.random.randn(2, 3),\n",
    "    columns=[\"First\", \"Second\", \"Third\"],\n",
    "    index=[\"a\", \"b\"]\n",
    ")\n",
    "df"
   ]
  },
  {
   "cell_type": "code",
   "execution_count": 7,
   "id": "4da38a54-d6e7-497d-a657-bfa1cf77deed",
   "metadata": {},
   "outputs": [
    {
     "data": {
      "text/plain": [
       "Index(['a', 'b'], dtype='object')"
      ]
     },
     "execution_count": 7,
     "metadata": {},
     "output_type": "execute_result"
    }
   ],
   "source": [
    "df.index  # These are the \"row names\""
   ]
  },
  {
   "cell_type": "code",
   "execution_count": 9,
   "id": "c90e9754-9e68-41c8-bed2-7e50d89cdeab",
   "metadata": {},
   "outputs": [
    {
     "data": {
      "text/plain": [
       "Index(['First', 'Second', 'Third'], dtype='object')"
      ]
     },
     "execution_count": 9,
     "metadata": {},
     "output_type": "execute_result"
    }
   ],
   "source": [
    "df.columns  # These are the \"column names\""
   ]
  },
  {
   "cell_type": "code",
   "execution_count": 11,
   "id": "38bb7e6e-022a-4f2b-a93a-e70b99a21206",
   "metadata": {},
   "outputs": [
    {
     "data": {
      "text/html": [
       "<div>\n",
       "<style scoped>\n",
       "    .dataframe tbody tr th:only-of-type {\n",
       "        vertical-align: middle;\n",
       "    }\n",
       "\n",
       "    .dataframe tbody tr th {\n",
       "        vertical-align: top;\n",
       "    }\n",
       "\n",
       "    .dataframe thead th {\n",
       "        text-align: right;\n",
       "    }\n",
       "</style>\n",
       "<table border=\"1\" class=\"dataframe\">\n",
       "  <thead>\n",
       "    <tr style=\"text-align: right;\">\n",
       "      <th></th>\n",
       "      <th>0</th>\n",
       "      <th>1</th>\n",
       "      <th>2</th>\n",
       "    </tr>\n",
       "  </thead>\n",
       "  <tbody>\n",
       "    <tr>\n",
       "      <th>a</th>\n",
       "      <td>-0.606804</td>\n",
       "      <td>0.331033</td>\n",
       "      <td>-0.564309</td>\n",
       "    </tr>\n",
       "    <tr>\n",
       "      <th>b</th>\n",
       "      <td>1.300565</td>\n",
       "      <td>-1.382835</td>\n",
       "      <td>0.456260</td>\n",
       "    </tr>\n",
       "  </tbody>\n",
       "</table>\n",
       "</div>"
      ],
      "text/plain": [
       "          0         1         2\n",
       "a -0.606804  0.331033 -0.564309\n",
       "b  1.300565 -1.382835  0.456260"
      ]
     },
     "execution_count": 11,
     "metadata": {},
     "output_type": "execute_result"
    }
   ],
   "source": [
    "df2 = pd.DataFrame(np.random.randn(2, 3), index=[\"a\",\"b\"])\n",
    "df2"
   ]
  },
  {
   "cell_type": "code",
   "execution_count": 13,
   "id": "dff95655-d5ab-4c65-b262-cb5a35fd5f38",
   "metadata": {},
   "outputs": [
    {
     "data": {
      "text/plain": [
       "RangeIndex(start=0, stop=3, step=1)"
      ]
     },
     "execution_count": 13,
     "metadata": {},
     "output_type": "execute_result"
    }
   ],
   "source": [
    "df2.columns"
   ]
  },
  {
   "cell_type": "markdown",
   "id": "e3797d3e-58c4-4b4a-a76f-bdc7a1361aff",
   "metadata": {},
   "source": [
    "Creating DataFrames from columns"
   ]
  },
  {
   "cell_type": "code",
   "execution_count": 16,
   "id": "6bbc475b-c7b0-426e-9ca7-99ef852e8343",
   "metadata": {},
   "outputs": [
    {
     "data": {
      "text/plain": [
       "0    1\n",
       "1    2\n",
       "2    3\n",
       "dtype: int64"
      ]
     },
     "execution_count": 16,
     "metadata": {},
     "output_type": "execute_result"
    }
   ],
   "source": [
    "s1 = pd.Series([1, 2, 3])\n",
    "s1"
   ]
  },
  {
   "cell_type": "code",
   "execution_count": 18,
   "id": "2d24dee3-2134-4e43-9601-9b9627ff1aa4",
   "metadata": {},
   "outputs": [
    {
     "data": {
      "text/plain": [
       "0    4\n",
       "1    5\n",
       "2    6\n",
       "Name: b, dtype: int64"
      ]
     },
     "execution_count": 18,
     "metadata": {},
     "output_type": "execute_result"
    }
   ],
   "source": [
    "s2 = pd.Series([4, 5, 6], name=\"b\")\n",
    "s2"
   ]
  },
  {
   "cell_type": "code",
   "execution_count": 20,
   "id": "1d5a1bf1-b0f8-478d-b0ab-9c4743e51bcb",
   "metadata": {},
   "outputs": [
    {
     "data": {
      "text/html": [
       "<div>\n",
       "<style scoped>\n",
       "    .dataframe tbody tr th:only-of-type {\n",
       "        vertical-align: middle;\n",
       "    }\n",
       "\n",
       "    .dataframe tbody tr th {\n",
       "        vertical-align: top;\n",
       "    }\n",
       "\n",
       "    .dataframe thead th {\n",
       "        text-align: right;\n",
       "    }\n",
       "</style>\n",
       "<table border=\"1\" class=\"dataframe\">\n",
       "  <thead>\n",
       "    <tr style=\"text-align: right;\">\n",
       "      <th></th>\n",
       "      <th>a</th>\n",
       "    </tr>\n",
       "  </thead>\n",
       "  <tbody>\n",
       "    <tr>\n",
       "      <th>0</th>\n",
       "      <td>1</td>\n",
       "    </tr>\n",
       "    <tr>\n",
       "      <th>1</th>\n",
       "      <td>2</td>\n",
       "    </tr>\n",
       "    <tr>\n",
       "      <th>2</th>\n",
       "      <td>3</td>\n",
       "    </tr>\n",
       "  </tbody>\n",
       "</table>\n",
       "</div>"
      ],
      "text/plain": [
       "   a\n",
       "0  1\n",
       "1  2\n",
       "2  3"
      ]
     },
     "execution_count": 20,
     "metadata": {},
     "output_type": "execute_result"
    }
   ],
   "source": [
    "pd.DataFrame(s1, columns=[\"a\"])"
   ]
  },
  {
   "cell_type": "code",
   "execution_count": 22,
   "id": "c5cdef80-7694-495c-90a9-2864cfe82412",
   "metadata": {},
   "outputs": [
    {
     "data": {
      "text/html": [
       "<div>\n",
       "<style scoped>\n",
       "    .dataframe tbody tr th:only-of-type {\n",
       "        vertical-align: middle;\n",
       "    }\n",
       "\n",
       "    .dataframe tbody tr th {\n",
       "        vertical-align: top;\n",
       "    }\n",
       "\n",
       "    .dataframe thead th {\n",
       "        text-align: right;\n",
       "    }\n",
       "</style>\n",
       "<table border=\"1\" class=\"dataframe\">\n",
       "  <thead>\n",
       "    <tr style=\"text-align: right;\">\n",
       "      <th></th>\n",
       "      <th>b</th>\n",
       "    </tr>\n",
       "  </thead>\n",
       "  <tbody>\n",
       "    <tr>\n",
       "      <th>0</th>\n",
       "      <td>4</td>\n",
       "    </tr>\n",
       "    <tr>\n",
       "      <th>1</th>\n",
       "      <td>5</td>\n",
       "    </tr>\n",
       "    <tr>\n",
       "      <th>2</th>\n",
       "      <td>6</td>\n",
       "    </tr>\n",
       "  </tbody>\n",
       "</table>\n",
       "</div>"
      ],
      "text/plain": [
       "   b\n",
       "0  4\n",
       "1  5\n",
       "2  6"
      ]
     },
     "execution_count": 22,
     "metadata": {},
     "output_type": "execute_result"
    }
   ],
   "source": [
    "pd.DataFrame(s2)"
   ]
  },
  {
   "cell_type": "code",
   "execution_count": 24,
   "id": "f1c15116-9628-45fc-a024-16deae49c73c",
   "metadata": {},
   "outputs": [
    {
     "data": {
      "text/html": [
       "<div>\n",
       "<style scoped>\n",
       "    .dataframe tbody tr th:only-of-type {\n",
       "        vertical-align: middle;\n",
       "    }\n",
       "\n",
       "    .dataframe tbody tr th {\n",
       "        vertical-align: top;\n",
       "    }\n",
       "\n",
       "    .dataframe thead th {\n",
       "        text-align: right;\n",
       "    }\n",
       "</style>\n",
       "<table border=\"1\" class=\"dataframe\">\n",
       "  <thead>\n",
       "    <tr style=\"text-align: right;\">\n",
       "      <th></th>\n",
       "      <th>a</th>\n",
       "      <th>b</th>\n",
       "    </tr>\n",
       "  </thead>\n",
       "  <tbody>\n",
       "    <tr>\n",
       "      <th>0</th>\n",
       "      <td>1</td>\n",
       "      <td>4</td>\n",
       "    </tr>\n",
       "    <tr>\n",
       "      <th>1</th>\n",
       "      <td>2</td>\n",
       "      <td>5</td>\n",
       "    </tr>\n",
       "    <tr>\n",
       "      <th>2</th>\n",
       "      <td>3</td>\n",
       "      <td>6</td>\n",
       "    </tr>\n",
       "  </tbody>\n",
       "</table>\n",
       "</div>"
      ],
      "text/plain": [
       "   a  b\n",
       "0  1  4\n",
       "1  2  5\n",
       "2  3  6"
      ]
     },
     "execution_count": 24,
     "metadata": {},
     "output_type": "execute_result"
    }
   ],
   "source": [
    "pd.DataFrame({\"a\": s1, \"b\": s2})"
   ]
  },
  {
   "cell_type": "markdown",
   "id": "83fd90c0-dabd-4f47-8343-0888ce3677df",
   "metadata": {},
   "source": [
    "Creating DataFrames from rows"
   ]
  },
  {
   "cell_type": "code",
   "execution_count": 27,
   "id": "3035ea6f-34a5-400c-bcda-52d7d61a835d",
   "metadata": {},
   "outputs": [
    {
     "data": {
      "text/html": [
       "<div>\n",
       "<style scoped>\n",
       "    .dataframe tbody tr th:only-of-type {\n",
       "        vertical-align: middle;\n",
       "    }\n",
       "\n",
       "    .dataframe tbody tr th {\n",
       "        vertical-align: top;\n",
       "    }\n",
       "\n",
       "    .dataframe thead th {\n",
       "        text-align: right;\n",
       "    }\n",
       "</style>\n",
       "<table border=\"1\" class=\"dataframe\">\n",
       "  <thead>\n",
       "    <tr style=\"text-align: right;\">\n",
       "      <th></th>\n",
       "      <th>Wage</th>\n",
       "      <th>Name</th>\n",
       "      <th>Age</th>\n",
       "    </tr>\n",
       "  </thead>\n",
       "  <tbody>\n",
       "    <tr>\n",
       "      <th>0</th>\n",
       "      <td>1000</td>\n",
       "      <td>Jack</td>\n",
       "      <td>21</td>\n",
       "    </tr>\n",
       "    <tr>\n",
       "      <th>1</th>\n",
       "      <td>1500</td>\n",
       "      <td>John</td>\n",
       "      <td>29</td>\n",
       "    </tr>\n",
       "  </tbody>\n",
       "</table>\n",
       "</div>"
      ],
      "text/plain": [
       "   Wage  Name  Age\n",
       "0  1000  Jack   21\n",
       "1  1500  John   29"
      ]
     },
     "execution_count": 27,
     "metadata": {},
     "output_type": "execute_result"
    }
   ],
   "source": [
    "df = pd.DataFrame([{\"Wage\": 1000, \"Name\": \"Jack\", \"Age\": 21},\n",
    "                   {\"Wage\": 1500, \"Name\": \"John\", \"Age\": 29}])\n",
    "df"
   ]
  },
  {
   "cell_type": "code",
   "execution_count": 29,
   "id": "a6157767-3ed5-4a88-9298-c86dd262ffc7",
   "metadata": {},
   "outputs": [
    {
     "data": {
      "text/html": [
       "<div>\n",
       "<style scoped>\n",
       "    .dataframe tbody tr th:only-of-type {\n",
       "        vertical-align: middle;\n",
       "    }\n",
       "\n",
       "    .dataframe tbody tr th {\n",
       "        vertical-align: top;\n",
       "    }\n",
       "\n",
       "    .dataframe thead th {\n",
       "        text-align: right;\n",
       "    }\n",
       "</style>\n",
       "<table border=\"1\" class=\"dataframe\">\n",
       "  <thead>\n",
       "    <tr style=\"text-align: right;\">\n",
       "      <th></th>\n",
       "      <th>Wage</th>\n",
       "      <th>Name</th>\n",
       "      <th>Age</th>\n",
       "    </tr>\n",
       "  </thead>\n",
       "  <tbody>\n",
       "    <tr>\n",
       "      <th>0</th>\n",
       "      <td>1000</td>\n",
       "      <td>Jack</td>\n",
       "      <td>21</td>\n",
       "    </tr>\n",
       "    <tr>\n",
       "      <th>1</th>\n",
       "      <td>1500</td>\n",
       "      <td>John</td>\n",
       "      <td>29</td>\n",
       "    </tr>\n",
       "  </tbody>\n",
       "</table>\n",
       "</div>"
      ],
      "text/plain": [
       "   Wage  Name  Age\n",
       "0  1000  Jack   21\n",
       "1  1500  John   29"
      ]
     },
     "execution_count": 29,
     "metadata": {},
     "output_type": "execute_result"
    }
   ],
   "source": [
    "df = pd.DataFrame([[1000, \"Jack\", 21], [1500, \"John\", 29]],\n",
    "                  columns=[\"Wage\", \"Name\", \"Age\"])\n",
    "df"
   ]
  },
  {
   "cell_type": "markdown",
   "id": "14c447a4-0e0c-44cf-a99a-b16b18d6fa74",
   "metadata": {},
   "source": [
    "Exercise 4.1 (cities)"
   ]
  },
  {
   "cell_type": "code",
   "execution_count": 32,
   "id": "fb16072c-7ee2-401c-a6bd-b224317f1f6a",
   "metadata": {},
   "outputs": [
    {
     "name": "stdout",
     "output_type": "stream",
     "text": [
      "          Population  Total area\n",
      "Helsinki      643272      715.48\n",
      "Espoo         279044      528.03\n",
      "Tampere       231853      689.59\n",
      "Vantaa        223027      240.35\n",
      "Oulu          201810     3817.52\n"
     ]
    }
   ],
   "source": [
    "import pandas as pd\n",
    "\n",
    "def cities():\n",
    "    \"\"\"Returns DataFrame of top Finnish cities by population\"\"\"\n",
    "    index = [\"Helsinki\", \"Espoo\", \"Tampere\", \"Vantaa\", \"Oulu\"]\n",
    "    population = [643272, 279044, 231853, 223027, 201810]\n",
    "    total_area = [715.48, 528.03, 689.59, 240.35, 3817.52]\n",
    "    df = pd.DataFrame({\"Population\": population, \"Total area\": total_area}, index=index)\n",
    "    return df\n",
    "    \n",
    "def main():\n",
    "    print(cities())\n",
    "    \n",
    "if __name__ == \"__main__\":\n",
    "    main()"
   ]
  },
  {
   "cell_type": "markdown",
   "id": "04d522b4-18f4-4cfa-8022-15ca75159610",
   "metadata": {},
   "source": [
    "Suggested solution:"
   ]
  },
  {
   "cell_type": "code",
   "execution_count": 35,
   "id": "99661542-181c-4a46-bc2c-bd1697647787",
   "metadata": {},
   "outputs": [
    {
     "name": "stdout",
     "output_type": "stream",
     "text": [
      "Population      int64\n",
      "Total area    float64\n",
      "dtype: object\n",
      "          Population  Total area\n",
      "Helsinki      643272      715.48\n",
      "Espoo         279044      528.03\n",
      "Tampere       231853      689.59\n",
      "Vantaa        223027      240.35\n",
      "Oulu          201810     3817.52\n"
     ]
    }
   ],
   "source": [
    "import pandas as pd\n",
    " \n",
    "def cities():\n",
    "    a=[[643272, 715.48],\n",
    "       [279044, 528.03],\n",
    "       [231853, 689.59],\n",
    "       [223027, 240.35],\n",
    "       [201810, 3817.52]]\n",
    "    cols=[\"Population\", \"Total area\"]\n",
    "    ind=[\"Helsinki\", \"Espoo\", \"Tampere\", \"Vantaa\", \"Oulu\"]\n",
    "    df = pd.DataFrame(a, index=ind, columns=cols)\n",
    "    return df\n",
    "    \n",
    "def main():\n",
    "    df = cities()\n",
    "    print(df.dtypes)\n",
    "    print(df)\n",
    "    \n",
    "if __name__ == \"__main__\":\n",
    "    main()"
   ]
  },
  {
   "cell_type": "markdown",
   "id": "e1f0b921-21d6-44bf-b001-d4ac7ca9eaa2",
   "metadata": {},
   "source": [
    "Exercise 4.2 (powers of series)"
   ]
  },
  {
   "cell_type": "code",
   "execution_count": 38,
   "id": "5a38ecc2-7ee0-4dda-a9a5-9a6fda84eb53",
   "metadata": {},
   "outputs": [
    {
     "name": "stdout",
     "output_type": "stream",
     "text": [
      "   1   2   3\n",
      "a  1   1   1\n",
      "b  2   4   8\n",
      "c  3   9  27\n",
      "d  4  16  64\n"
     ]
    }
   ],
   "source": [
    "import pandas as pd\n",
    "\n",
    "def powers_of_series(s, k):\n",
    "    \"\"\"Takes Series and positive integer k,\n",
    "    returns DataFrame where first column is Series,\n",
    "    second column is Series raised to power of 2,\n",
    "    and so on until (and including) the power of k\n",
    "    \"\"\"\n",
    "    d = {}\n",
    "    for i in range(1, k+1):\n",
    "        d[i] = s ** i\n",
    "    return pd.DataFrame(d)\n",
    "    \n",
    "def main():\n",
    "    s = pd.Series([1, 2, 3, 4], index=list(\"abcd\"))\n",
    "    print(powers_of_series(s, 3))\n",
    "    \n",
    "if __name__ == \"__main__\":\n",
    "    main()"
   ]
  },
  {
   "cell_type": "markdown",
   "id": "8b8108f2-1971-4fca-aff0-9d6b7857e216",
   "metadata": {},
   "source": [
    "Suggested solution:"
   ]
  },
  {
   "cell_type": "code",
   "execution_count": 41,
   "id": "db010651-3c57-49e7-bbec-bf5e548f2a69",
   "metadata": {},
   "outputs": [
    {
     "name": "stdout",
     "output_type": "stream",
     "text": [
      "Original Series:\n",
      "a    1\n",
      "b    2\n",
      "c    3\n",
      "d    4\n",
      "dtype: int64\n",
      "Powers of Series:\n",
      "   1   2   3\n",
      "a  1   1   1\n",
      "b  2   4   8\n",
      "c  3   9  27\n",
      "d  4  16  64\n"
     ]
    }
   ],
   "source": [
    "import pandas as pd\n",
    " \n",
    "def powers_of_series(s, k):\n",
    "    c=[ s**i for i in range(1,k+1) ]\n",
    "    df = pd.DataFrame(dict(zip(range(1,k+1), c)))\n",
    "    return df\n",
    "    \n",
    "def main():\n",
    "    s = pd.Series([1,2,3,4], index=list(\"abcd\"))\n",
    "    print(\"Original Series:\\n\", s, sep=\"\")\n",
    "    print(\"Powers of Series:\\n\", powers_of_series(s, 3), sep=\"\")\n",
    "    \n",
    "if __name__ == \"__main__\":\n",
    "    main()"
   ]
  },
  {
   "cell_type": "markdown",
   "id": "368e370a-1143-403c-a2b9-fa29974a7ff5",
   "metadata": {},
   "source": [
    "Exercise 4.3 (municipal information)"
   ]
  },
  {
   "cell_type": "code",
   "execution_count": 54,
   "id": "560e4e13-77eb-4a93-b7f0-6745a99fac9e",
   "metadata": {},
   "outputs": [
    {
     "name": "stdout",
     "output_type": "stream",
     "text": [
      "Shape: 490, 7\n",
      "Columns:\n",
      "Region 2018\n",
      "Population\n",
      "Population change from the previous year, %\n",
      "Share of Swedish-speakers of the population, %\n",
      "Share of foreign citizens of the population, %\n",
      "Proportion of the unemployed among the labour force, %\n",
      "Proportion of pensioners of the population, %\n"
     ]
    }
   ],
   "source": [
    "import pandas as pd\n",
    "\n",
    "def main():\n",
    "    df = pd.read_csv(\"municipal.tsv\", sep=\"\\t\")\n",
    "    print(f\"Shape: {df.shape[0]}, {df.shape[1]}\")\n",
    "    print(\"Columns:\")\n",
    "    for i in range(df.shape[1]):\n",
    "        print(df.columns[i]) \n",
    "\n",
    "if __name__ == \"__main__\":\n",
    "    main()"
   ]
  },
  {
   "cell_type": "markdown",
   "id": "e5ee87df-e4a5-4981-9311-ed9e414f5981",
   "metadata": {},
   "source": [
    "Suggested solution:"
   ]
  },
  {
   "cell_type": "code",
   "execution_count": 57,
   "id": "7978f323-7ff7-40ba-a5b8-129848f46854",
   "metadata": {},
   "outputs": [
    {
     "name": "stdout",
     "output_type": "stream",
     "text": [
      "Shape: 490, 7\n",
      "Columns:\n",
      "Region 2018\n",
      "Population\n",
      "Population change from the previous year, %\n",
      "Share of Swedish-speakers of the population, %\n",
      "Share of foreign citizens of the population, %\n",
      "Proportion of the unemployed among the labour force, %\n",
      "Proportion of pensioners of the population, %\n"
     ]
    }
   ],
   "source": [
    "import pandas as pd\n",
    " \n",
    "def main():\n",
    "    df = pd.read_csv(\"municipal.tsv\", sep=\"\\t\")\n",
    "    print(\"Shape: {}, {}\".format(*df.shape))\n",
    "    print(\"Columns:\")\n",
    "    for name in df.columns:\n",
    "        print(name)\n",
    " \n",
    " \n",
    "if __name__ == \"__main__\":\n",
    "    main()"
   ]
  },
  {
   "cell_type": "markdown",
   "id": "d4c296cb-6f16-48f4-996f-b0cce5bae16c",
   "metadata": {},
   "source": [
    "Accessing columns and rows of a dataframe"
   ]
  },
  {
   "cell_type": "code",
   "execution_count": 60,
   "id": "9e77c5bc-cb12-47b4-925a-ac24d55bea98",
   "metadata": {},
   "outputs": [
    {
     "name": "stderr",
     "output_type": "stream",
     "text": [
      "Key error\n"
     ]
    }
   ],
   "source": [
    "try:\n",
    "    df[0]\n",
    "except KeyError:\n",
    "    import sys\n",
    "    print(\"Key error\", file=sys.stderr)"
   ]
  },
  {
   "cell_type": "code",
   "execution_count": 62,
   "id": "779c4a82-8172-4228-a8c0-a79ca83a5913",
   "metadata": {},
   "outputs": [
    {
     "data": {
      "text/plain": [
       "0    1000\n",
       "1    1500\n",
       "Name: Wage, dtype: int64"
      ]
     },
     "execution_count": 62,
     "metadata": {},
     "output_type": "execute_result"
    }
   ],
   "source": [
    "df[\"Wage\"]"
   ]
  },
  {
   "cell_type": "code",
   "execution_count": 64,
   "id": "1b59d1c6-b673-49df-bbfb-0a3f596701bf",
   "metadata": {},
   "outputs": [
    {
     "data": {
      "text/html": [
       "<div>\n",
       "<style scoped>\n",
       "    .dataframe tbody tr th:only-of-type {\n",
       "        vertical-align: middle;\n",
       "    }\n",
       "\n",
       "    .dataframe tbody tr th {\n",
       "        vertical-align: top;\n",
       "    }\n",
       "\n",
       "    .dataframe thead th {\n",
       "        text-align: right;\n",
       "    }\n",
       "</style>\n",
       "<table border=\"1\" class=\"dataframe\">\n",
       "  <thead>\n",
       "    <tr style=\"text-align: right;\">\n",
       "      <th></th>\n",
       "      <th>Wage</th>\n",
       "      <th>Name</th>\n",
       "    </tr>\n",
       "  </thead>\n",
       "  <tbody>\n",
       "    <tr>\n",
       "      <th>0</th>\n",
       "      <td>1000</td>\n",
       "      <td>Jack</td>\n",
       "    </tr>\n",
       "    <tr>\n",
       "      <th>1</th>\n",
       "      <td>1500</td>\n",
       "      <td>John</td>\n",
       "    </tr>\n",
       "  </tbody>\n",
       "</table>\n",
       "</div>"
      ],
      "text/plain": [
       "   Wage  Name\n",
       "0  1000  Jack\n",
       "1  1500  John"
      ]
     },
     "execution_count": 64,
     "metadata": {},
     "output_type": "execute_result"
    }
   ],
   "source": [
    "df[[\"Wage\", \"Name\"]]"
   ]
  },
  {
   "cell_type": "code",
   "execution_count": 66,
   "id": "839e1b91-bbdf-4ccb-b992-d608aa3f5641",
   "metadata": {},
   "outputs": [
    {
     "data": {
      "text/html": [
       "<div>\n",
       "<style scoped>\n",
       "    .dataframe tbody tr th:only-of-type {\n",
       "        vertical-align: middle;\n",
       "    }\n",
       "\n",
       "    .dataframe tbody tr th {\n",
       "        vertical-align: top;\n",
       "    }\n",
       "\n",
       "    .dataframe thead th {\n",
       "        text-align: right;\n",
       "    }\n",
       "</style>\n",
       "<table border=\"1\" class=\"dataframe\">\n",
       "  <thead>\n",
       "    <tr style=\"text-align: right;\">\n",
       "      <th></th>\n",
       "      <th>Wage</th>\n",
       "      <th>Name</th>\n",
       "      <th>Age</th>\n",
       "    </tr>\n",
       "  </thead>\n",
       "  <tbody>\n",
       "    <tr>\n",
       "      <th>0</th>\n",
       "      <td>1000</td>\n",
       "      <td>Jack</td>\n",
       "      <td>21</td>\n",
       "    </tr>\n",
       "  </tbody>\n",
       "</table>\n",
       "</div>"
      ],
      "text/plain": [
       "   Wage  Name  Age\n",
       "0  1000  Jack   21"
      ]
     },
     "execution_count": 66,
     "metadata": {},
     "output_type": "execute_result"
    }
   ],
   "source": [
    "df[0:1]  # Slice"
   ]
  },
  {
   "cell_type": "code",
   "execution_count": 68,
   "id": "79457054-f174-470e-afaa-e1ed08cef36b",
   "metadata": {},
   "outputs": [
    {
     "data": {
      "text/html": [
       "<div>\n",
       "<style scoped>\n",
       "    .dataframe tbody tr th:only-of-type {\n",
       "        vertical-align: middle;\n",
       "    }\n",
       "\n",
       "    .dataframe tbody tr th {\n",
       "        vertical-align: top;\n",
       "    }\n",
       "\n",
       "    .dataframe thead th {\n",
       "        text-align: right;\n",
       "    }\n",
       "</style>\n",
       "<table border=\"1\" class=\"dataframe\">\n",
       "  <thead>\n",
       "    <tr style=\"text-align: right;\">\n",
       "      <th></th>\n",
       "      <th>Wage</th>\n",
       "      <th>Name</th>\n",
       "      <th>Age</th>\n",
       "    </tr>\n",
       "  </thead>\n",
       "  <tbody>\n",
       "    <tr>\n",
       "      <th>1</th>\n",
       "      <td>1500</td>\n",
       "      <td>John</td>\n",
       "      <td>29</td>\n",
       "    </tr>\n",
       "  </tbody>\n",
       "</table>\n",
       "</div>"
      ],
      "text/plain": [
       "   Wage  Name  Age\n",
       "1  1500  John   29"
      ]
     },
     "execution_count": 68,
     "metadata": {},
     "output_type": "execute_result"
    }
   ],
   "source": [
    "df[df.Wage > 1200]  # Boolean mask"
   ]
  },
  {
   "cell_type": "code",
   "execution_count": 70,
   "id": "1b0e8cb3-5d1d-444f-9ce6-d0cb7de193e4",
   "metadata": {},
   "outputs": [
    {
     "data": {
      "text/plain": [
       "1500"
      ]
     },
     "execution_count": 70,
     "metadata": {},
     "output_type": "execute_result"
    }
   ],
   "source": [
    "df[\"Wage\"][1]  # Note order of dimensions"
   ]
  },
  {
   "cell_type": "markdown",
   "id": "67c61544-67c9-447f-abc8-cd5c9c118ac1",
   "metadata": {},
   "source": [
    "Exercise 4.4 (municipalities of finland)"
   ]
  },
  {
   "cell_type": "code",
   "execution_count": 75,
   "id": "6609c8f3-6ac6-4891-b816-3d7607b20fb7",
   "metadata": {},
   "outputs": [
    {
     "name": "stdout",
     "output_type": "stream",
     "text": [
      "             Population  Population change from the previous year, %  \\\n",
      "Region 2018                                                            \n",
      "Akaa              16769                                         -0.9   \n",
      "Alajärvi           9831                                         -0.7   \n",
      "Alavieska          2610                                         -1.1   \n",
      "Alavus            11713                                         -1.6   \n",
      "Asikkala           8248                                         -0.9   \n",
      "...                 ...                                          ...   \n",
      "Ylivieska         15251                                          0.3   \n",
      "Ylöjärvi          32878                                          0.2   \n",
      "Ypäjä              2372                                         -0.4   \n",
      "Ähtäri             5906                                         -1.3   \n",
      "Äänekoski         19144                                         -1.2   \n",
      "\n",
      "             Share of Swedish-speakers of the population, %  \\\n",
      "Region 2018                                                   \n",
      "Akaa                                                    0.2   \n",
      "Alajärvi                                                0.1   \n",
      "Alavieska                                               0.2   \n",
      "Alavus                                                  0.1   \n",
      "Asikkala                                                0.2   \n",
      "...                                                     ...   \n",
      "Ylivieska                                               0.3   \n",
      "Ylöjärvi                                                0.3   \n",
      "Ypäjä                                                   0.7   \n",
      "Ähtäri                                                  0.1   \n",
      "Äänekoski                                               0.1   \n",
      "\n",
      "             Share of foreign citizens of the population, %  \\\n",
      "Region 2018                                                   \n",
      "Akaa                                                    1.6   \n",
      "Alajärvi                                                1.9   \n",
      "Alavieska                                               0.6   \n",
      "Alavus                                                  1.1   \n",
      "Asikkala                                                1.6   \n",
      "...                                                     ...   \n",
      "Ylivieska                                               1.2   \n",
      "Ylöjärvi                                                1.2   \n",
      "Ypäjä                                                   1.9   \n",
      "Ähtäri                                                  0.9   \n",
      "Äänekoski                                               1.2   \n",
      "\n",
      "             Proportion of the unemployed among the labour force, %  \\\n",
      "Region 2018                                                           \n",
      "Akaa                                                      14.6        \n",
      "Alajärvi                                                  13.9        \n",
      "Alavieska                                                 10.8        \n",
      "Alavus                                                    11.3        \n",
      "Asikkala                                                  12.0        \n",
      "...                                                        ...        \n",
      "Ylivieska                                                 13.3        \n",
      "Ylöjärvi                                                  11.7        \n",
      "Ypäjä                                                     13.2        \n",
      "Ähtäri                                                    13.0        \n",
      "Äänekoski                                                 19.7        \n",
      "\n",
      "             Proportion of pensioners of the population, %  \n",
      "Region 2018                                                 \n",
      "Akaa                                                  26.1  \n",
      "Alajärvi                                              32.0  \n",
      "Alavieska                                             28.4  \n",
      "Alavus                                                31.5  \n",
      "Asikkala                                              35.5  \n",
      "...                                                    ...  \n",
      "Ylivieska                                             23.1  \n",
      "Ylöjärvi                                              20.3  \n",
      "Ypäjä                                                 31.4  \n",
      "Ähtäri                                                35.1  \n",
      "Äänekoski                                             30.5  \n",
      "\n",
      "[311 rows x 6 columns]\n"
     ]
    }
   ],
   "source": [
    "import pandas as pd\n",
    "\n",
    "def municipalities_of_finland():\n",
    "    \"\"\"Returns DataFrame containing only rows about municipalities\"\"\"\n",
    "    df = pd.read_csv(\"municipal.tsv\", sep=\"\\t\", index_col=\"Region 2018\")\n",
    "    return df.loc[\"Akaa\":\"Äänekoski\"]\n",
    "    \n",
    "def main():\n",
    "    print(municipalities_of_finland())\n",
    "    \n",
    "if __name__ == \"__main__\":\n",
    "    main()"
   ]
  },
  {
   "cell_type": "markdown",
   "id": "ba133276-5e7a-42b6-acbe-b13fc30b9061",
   "metadata": {},
   "source": [
    "Suggested solution:"
   ]
  },
  {
   "cell_type": "code",
   "execution_count": 91,
   "id": "77b89f54-41e5-4767-ad91-b921f3325bf9",
   "metadata": {},
   "outputs": [
    {
     "name": "stdout",
     "output_type": "stream",
     "text": [
      "16769\n",
      "30.5\n",
      "Shape: 311, 6\n",
      "Population\n",
      "Population change from the previous year, %\n",
      "Share of Swedish-speakers of the population, %\n",
      "Share of foreign citizens of the population, %\n",
      "Proportion of the unemployed among the labour force, %\n",
      "Proportion of pensioners of the population, %\n"
     ]
    }
   ],
   "source": [
    "import pandas as pd\n",
    " \n",
    "def municipalities_of_finland():\n",
    "    df = pd.read_csv(\"municipal.tsv\", sep=\"\\t\", index_col=0)\n",
    "    return df[\"Akaa\":\"Äänekoski\"]\n",
    "    \n",
    "def main():\n",
    "    df=municipalities_of_finland()\n",
    "    print(df.iloc[0,0])\n",
    "    print(df.iloc[-1,-1])\n",
    "    #df=pd.DataFrame()\n",
    "    print(\"Shape: {}, {}\".format(*df.shape))\n",
    "    for name in df.columns:\n",
    "        print(name)\n",
    "    \n",
    "if __name__ == \"__main__\":\n",
    "    main()"
   ]
  },
  {
   "cell_type": "markdown",
   "id": "b7c505e1-a77c-4b62-acb1-fae13e25fa60",
   "metadata": {},
   "source": [
    "Exercise 4.5 (swedish and foreigners)"
   ]
  },
  {
   "cell_type": "code",
   "execution_count": 96,
   "id": "4e6f12eb-c435-45fd-a467-24f0f16bcbb9",
   "metadata": {},
   "outputs": [
    {
     "name": "stdout",
     "output_type": "stream",
     "text": [
      "               Population  Share of Swedish-speakers of the population, %  \\\n",
      "Region 2018                                                                 \n",
      "Brändö                452                                            72.6   \n",
      "Eckerö                948                                            89.7   \n",
      "Espoo              279044                                             7.2   \n",
      "Finström             2580                                            89.8   \n",
      "Föglö                 532                                            84.2   \n",
      "Geta                  495                                            86.9   \n",
      "Hammarland           1547                                            89.7   \n",
      "Helsinki           643272                                             5.7   \n",
      "Jomala               4859                                            89.1   \n",
      "Kaskinen             1274                                            29.9   \n",
      "Kirkkonummi         39170                                            16.6   \n",
      "Korsnäs              2154                                            85.8   \n",
      "Kumlinge              314                                            85.4   \n",
      "Kökar                 236                                            87.7   \n",
      "Lapinjärvi           2706                                            31.2   \n",
      "Lemland              2028                                            92.1   \n",
      "Lumparland            395                                            86.6   \n",
      "Mariehamn           11677                                            84.2   \n",
      "Närpiö               9507                                            80.4   \n",
      "Pietarsaari         19379                                            56.2   \n",
      "Saltvik              1873                                            91.9   \n",
      "Sottunga               92                                            93.5   \n",
      "Sund                 1031                                            88.8   \n",
      "Turku              189669                                             5.4   \n",
      "Uusikaarlepyy        7521                                            86.7   \n",
      "Vaasa               67392                                            22.8   \n",
      "Vårdö                 430                                            88.1   \n",
      "Vöyri                6616                                            81.1   \n",
      "\n",
      "               Share of foreign citizens of the population, %  \n",
      "Region 2018                                                    \n",
      "Brändö                                                    8.4  \n",
      "Eckerö                                                   11.5  \n",
      "Espoo                                                    10.5  \n",
      "Finström                                                 10.5  \n",
      "Föglö                                                    17.3  \n",
      "Geta                                                     13.5  \n",
      "Hammarland                                               11.6  \n",
      "Helsinki                                                  9.5  \n",
      "Jomala                                                    8.5  \n",
      "Kaskinen                                                  5.3  \n",
      "Kirkkonummi                                               5.5  \n",
      "Korsnäs                                                   9.1  \n",
      "Kumlinge                                                  8.0  \n",
      "Kökar                                                     8.1  \n",
      "Lapinjärvi                                                5.1  \n",
      "Lemland                                                   8.0  \n",
      "Lumparland                                                9.9  \n",
      "Mariehamn                                                13.0  \n",
      "Närpiö                                                   12.7  \n",
      "Pietarsaari                                               7.1  \n",
      "Saltvik                                                   6.3  \n",
      "Sottunga                                                  5.4  \n",
      "Sund                                                      8.5  \n",
      "Turku                                                     6.5  \n",
      "Uusikaarlepyy                                             6.1  \n",
      "Vaasa                                                     6.0  \n",
      "Vårdö                                                     9.5  \n",
      "Vöyri                                                     5.7  \n"
     ]
    }
   ],
   "source": [
    "import pandas as pd\n",
    "\n",
    "def swedish_and_foreigners():\n",
    "    \"\"\"Returns only columns about population, proportion of Swedish\n",
    "    speaking people, and foreigners for municipalities where\n",
    "    proportion of Swedish speakers and foreigners is above 5%\n",
    "    \"\"\"\n",
    "    df = pd.read_csv(\"municipal.tsv\", sep=\"\\t\", index_col=\"Region 2018\") \n",
    "    municipal = df.loc[\"Akaa\":\"Äänekoski\"]\n",
    "    subset = municipal[\n",
    "        (municipal[\"Share of Swedish-speakers of the population, %\"] > 5.0)\n",
    "        & (municipal[\"Share of foreign citizens of the population, %\"] > 5.0)]\n",
    "    return subset[[\n",
    "        \"Population\",\n",
    "        \"Share of Swedish-speakers of the population, %\",\n",
    "        \"Share of foreign citizens of the population, %\"]]\n",
    "\n",
    "def main():\n",
    "    print(swedish_and_foreigners())\n",
    "\n",
    "if __name__ == \"__main__\":\n",
    "    main()"
   ]
  },
  {
   "cell_type": "markdown",
   "id": "c4298a3e-cdaa-4cef-9ef4-345f539e9274",
   "metadata": {},
   "source": [
    "Exercise 4.6 (growing municipalities)"
   ]
  },
  {
   "cell_type": "code",
   "execution_count": 107,
   "id": "36af9814-0307-4350-87e4-790a66c3572c",
   "metadata": {},
   "outputs": [
    {
     "name": "stdout",
     "output_type": "stream",
     "text": [
      "Proportion of growing municipalities: 22.8%\n"
     ]
    }
   ],
   "source": [
    "import pandas as pd\n",
    "\n",
    "def growing_municipalities(df):\n",
    "    \"\"\"Gets subset of municipalities as input and returns proportion\n",
    "    of municipalities with increasing population in that subset\n",
    "    \"\"\"\n",
    "    growing = len(df[df[\"Population change from the previous year, %\"] > 0])\n",
    "    return (growing / len(df))\n",
    "\n",
    "def main():\n",
    "    df = pd.read_csv(\"municipal.tsv\", sep=\"\\t\", index_col=\"Region 2018\")\n",
    "    subset = df.loc[\"Akaa\":\"Äänekoski\"]\n",
    "    prop = growing_municipalities(subset)\n",
    "    print(f\"Proportion of growing municipalities: {prop:.1%}\")\n",
    "\n",
    "if __name__ == \"__main__\":\n",
    "    main()"
   ]
  },
  {
   "cell_type": "markdown",
   "id": "19b886c0-9155-4c1b-8533-62d2fd0a74ba",
   "metadata": {},
   "source": [
    "Alternative indexing and data selection"
   ]
  },
  {
   "cell_type": "code",
   "execution_count": 111,
   "id": "7b5a49e8-2574-4da0-90ae-dd82ae1a2c6c",
   "metadata": {},
   "outputs": [
    {
     "data": {
      "text/plain": [
       "1500"
      ]
     },
     "execution_count": 111,
     "metadata": {},
     "output_type": "execute_result"
    }
   ],
   "source": [
    "df.loc[1, \"Wage\"]"
   ]
  },
  {
   "cell_type": "code",
   "execution_count": 113,
   "id": "5cc1b9e7-e147-4d3d-ad14-5c11652e2920",
   "metadata": {},
   "outputs": [
    {
     "data": {
      "text/plain": [
       "29"
      ]
     },
     "execution_count": 113,
     "metadata": {},
     "output_type": "execute_result"
    }
   ],
   "source": [
    "df.iloc[-1, -1]  # Right lower corner of the DataFrame"
   ]
  },
  {
   "cell_type": "code",
   "execution_count": 117,
   "id": "69513880-40d9-4a3c-aa6b-16a32c02f7e3",
   "metadata": {},
   "outputs": [
    {
     "data": {
      "text/plain": [
       "Name    John\n",
       "Wage    1500\n",
       "Name: 1, dtype: object"
      ]
     },
     "execution_count": 117,
     "metadata": {},
     "output_type": "execute_result"
    }
   ],
   "source": [
    "df.loc[1, [\"Name\", \"Wage\"]]"
   ]
  },
  {
   "cell_type": "markdown",
   "id": "a56f5c64-f2ef-4795-882a-decf544c4b6c",
   "metadata": {},
   "source": [
    "Exercise 4.7 (subsetting with loc)"
   ]
  },
  {
   "cell_type": "code",
   "execution_count": 126,
   "id": "ff2b09fb-e260-4076-92da-6c4d3256986d",
   "metadata": {},
   "outputs": [
    {
     "name": "stdout",
     "output_type": "stream",
     "text": [
      "             Population  Share of Swedish-speakers of the population, %  \\\n",
      "Region 2018                                                               \n",
      "Akaa              16769                                             0.2   \n",
      "Alajärvi           9831                                             0.1   \n",
      "Alavieska          2610                                             0.2   \n",
      "Alavus            11713                                             0.1   \n",
      "Asikkala           8248                                             0.2   \n",
      "...                 ...                                             ...   \n",
      "Ylivieska         15251                                             0.3   \n",
      "Ylöjärvi          32878                                             0.3   \n",
      "Ypäjä              2372                                             0.7   \n",
      "Ähtäri             5906                                             0.1   \n",
      "Äänekoski         19144                                             0.1   \n",
      "\n",
      "             Share of foreign citizens of the population, %  \n",
      "Region 2018                                                  \n",
      "Akaa                                                    1.6  \n",
      "Alajärvi                                                1.9  \n",
      "Alavieska                                               0.6  \n",
      "Alavus                                                  1.1  \n",
      "Asikkala                                                1.6  \n",
      "...                                                     ...  \n",
      "Ylivieska                                               1.2  \n",
      "Ylöjärvi                                                1.2  \n",
      "Ypäjä                                                   1.9  \n",
      "Ähtäri                                                  0.9  \n",
      "Äänekoski                                               1.2  \n",
      "\n",
      "[311 rows x 3 columns]\n"
     ]
    }
   ],
   "source": [
    "import pandas as pd\n",
    "\n",
    "def subsetting_with_loc():\n",
    "    df = pd.read_csv(\"municipal.tsv\", sep=\"\\t\", index_col=\"Region 2018\")\n",
    "    return df.loc[\n",
    "        \"Akaa\":\"Äänekoski\",\n",
    "        [\"Population\",\n",
    "        \"Share of Swedish-speakers of the population, %\",\n",
    "        \"Share of foreign citizens of the population, %\"]]\n",
    "\n",
    "def main():\n",
    "    print(subsetting_with_loc())\n",
    "\n",
    "if __name__ == \"__main__\":\n",
    "    main()"
   ]
  },
  {
   "cell_type": "markdown",
   "id": "9286d6f4-0478-4345-9ba4-512cda357b70",
   "metadata": {},
   "source": [
    "Exercise 4.8 (subsetting by positions)"
   ]
  },
  {
   "cell_type": "code",
   "execution_count": 129,
   "id": "a4be0a65-0af2-4e06-bce3-9a2b5c68b554",
   "metadata": {},
   "outputs": [
    {
     "name": "stdout",
     "output_type": "stream",
     "text": [
      "                          Title                    Artist\n",
      "0      I WANT TO HOLD YOUR HAND               THE BEATLES\n",
      "1                 GLAD ALL OVER       THE DAVE CLARK FIVE\n",
      "2                 SHE LOVES YOU               THE BEATLES\n",
      "3          YOU WERE MADE FOR ME  FREDDIE AND THE DREAMERS\n",
      "4  TWENTY FOUR HOURS FROM TULSA               GENE PITNEY\n",
      "5    I ONLY WANT TO BE WITH YOU         DUSTY SPRINGFIELD\n",
      "6                     DOMINIQUE           THE SINGING NUN\n",
      "7                   MARIA ELENA      LOS INDIOS TABAJARAS\n",
      "8                   SECRET LOVE               KATHY KIRBY\n",
      "9             DON'T TALK TO HIM             CLIFF RICHARD\n"
     ]
    }
   ],
   "source": [
    "import pandas as pd\n",
    "\n",
    "def subsetting_by_positions():\n",
    "    \"\"\"Return top 10 entries and only columns Title and Artist\"\"\"\n",
    "    df = pd.read_csv(\"UK-top40-1964-1-2.tsv\", sep=\"\\t\")\n",
    "    return df.iloc[0:10, 2:4]\n",
    "\n",
    "def main():\n",
    "    print(subsetting_by_positions())\n",
    "\n",
    "if __name__ == \"__main__\":\n",
    "    main()"
   ]
  },
  {
   "cell_type": "markdown",
   "id": "d08892e1-acfc-40d1-bbfb-725a14429855",
   "metadata": {},
   "source": [
    "Summary statistics"
   ]
  },
  {
   "cell_type": "code",
   "execution_count": 132,
   "id": "6be4c017-482a-4233-b0fa-717b6ce14009",
   "metadata": {},
   "outputs": [],
   "source": [
    "wh = pd.read_csv(\"https://raw.githubusercontent.com/csmastersUH/data_analysis_with_python_2020/master/kumpula-weather-2017.csv\")"
   ]
  },
  {
   "cell_type": "code",
   "execution_count": 138,
   "id": "f80dc2b5-71b7-4c9c-bf2b-730a4a652169",
   "metadata": {},
   "outputs": [
    {
     "data": {
      "text/plain": [
       "Precipitation amount (mm)    1.966301\n",
       "Snow depth (cm)              0.966480\n",
       "Air temperature (degC)       6.527123\n",
       "dtype: float64"
      ]
     },
     "execution_count": 138,
     "metadata": {},
     "output_type": "execute_result"
    }
   ],
   "source": [
    "wh2 = wh.drop([\"Year\", \"m\", \"d\", \"Time\", \"Time zone\"], axis=1)  # Taking averages over these is not very interesting\n",
    "wh2.mean()"
   ]
  },
  {
   "cell_type": "code",
   "execution_count": 140,
   "id": "8eed0f69-af42-4926-889e-32e159f609be",
   "metadata": {},
   "outputs": [
    {
     "data": {
      "text/html": [
       "<div>\n",
       "<style scoped>\n",
       "    .dataframe tbody tr th:only-of-type {\n",
       "        vertical-align: middle;\n",
       "    }\n",
       "\n",
       "    .dataframe tbody tr th {\n",
       "        vertical-align: top;\n",
       "    }\n",
       "\n",
       "    .dataframe thead th {\n",
       "        text-align: right;\n",
       "    }\n",
       "</style>\n",
       "<table border=\"1\" class=\"dataframe\">\n",
       "  <thead>\n",
       "    <tr style=\"text-align: right;\">\n",
       "      <th></th>\n",
       "      <th>Year</th>\n",
       "      <th>m</th>\n",
       "      <th>d</th>\n",
       "      <th>Precipitation amount (mm)</th>\n",
       "      <th>Snow depth (cm)</th>\n",
       "      <th>Air temperature (degC)</th>\n",
       "    </tr>\n",
       "  </thead>\n",
       "  <tbody>\n",
       "    <tr>\n",
       "      <th>count</th>\n",
       "      <td>365.0</td>\n",
       "      <td>365.000000</td>\n",
       "      <td>365.000000</td>\n",
       "      <td>365.000000</td>\n",
       "      <td>358.000000</td>\n",
       "      <td>365.000000</td>\n",
       "    </tr>\n",
       "    <tr>\n",
       "      <th>mean</th>\n",
       "      <td>2017.0</td>\n",
       "      <td>6.526027</td>\n",
       "      <td>15.720548</td>\n",
       "      <td>1.966301</td>\n",
       "      <td>0.966480</td>\n",
       "      <td>6.527123</td>\n",
       "    </tr>\n",
       "    <tr>\n",
       "      <th>std</th>\n",
       "      <td>0.0</td>\n",
       "      <td>3.452584</td>\n",
       "      <td>8.808321</td>\n",
       "      <td>4.858423</td>\n",
       "      <td>3.717472</td>\n",
       "      <td>7.183934</td>\n",
       "    </tr>\n",
       "    <tr>\n",
       "      <th>min</th>\n",
       "      <td>2017.0</td>\n",
       "      <td>1.000000</td>\n",
       "      <td>1.000000</td>\n",
       "      <td>-1.000000</td>\n",
       "      <td>-1.000000</td>\n",
       "      <td>-17.800000</td>\n",
       "    </tr>\n",
       "    <tr>\n",
       "      <th>25%</th>\n",
       "      <td>2017.0</td>\n",
       "      <td>4.000000</td>\n",
       "      <td>8.000000</td>\n",
       "      <td>-1.000000</td>\n",
       "      <td>-1.000000</td>\n",
       "      <td>1.200000</td>\n",
       "    </tr>\n",
       "    <tr>\n",
       "      <th>50%</th>\n",
       "      <td>2017.0</td>\n",
       "      <td>7.000000</td>\n",
       "      <td>16.000000</td>\n",
       "      <td>0.200000</td>\n",
       "      <td>-1.000000</td>\n",
       "      <td>4.800000</td>\n",
       "    </tr>\n",
       "    <tr>\n",
       "      <th>75%</th>\n",
       "      <td>2017.0</td>\n",
       "      <td>10.000000</td>\n",
       "      <td>23.000000</td>\n",
       "      <td>2.700000</td>\n",
       "      <td>0.000000</td>\n",
       "      <td>12.900000</td>\n",
       "    </tr>\n",
       "    <tr>\n",
       "      <th>max</th>\n",
       "      <td>2017.0</td>\n",
       "      <td>12.000000</td>\n",
       "      <td>31.000000</td>\n",
       "      <td>35.000000</td>\n",
       "      <td>15.000000</td>\n",
       "      <td>19.600000</td>\n",
       "    </tr>\n",
       "  </tbody>\n",
       "</table>\n",
       "</div>"
      ],
      "text/plain": [
       "         Year           m           d  Precipitation amount (mm)  \\\n",
       "count   365.0  365.000000  365.000000                 365.000000   \n",
       "mean   2017.0    6.526027   15.720548                   1.966301   \n",
       "std       0.0    3.452584    8.808321                   4.858423   \n",
       "min    2017.0    1.000000    1.000000                  -1.000000   \n",
       "25%    2017.0    4.000000    8.000000                  -1.000000   \n",
       "50%    2017.0    7.000000   16.000000                   0.200000   \n",
       "75%    2017.0   10.000000   23.000000                   2.700000   \n",
       "max    2017.0   12.000000   31.000000                  35.000000   \n",
       "\n",
       "       Snow depth (cm)  Air temperature (degC)  \n",
       "count       358.000000              365.000000  \n",
       "mean          0.966480                6.527123  \n",
       "std           3.717472                7.183934  \n",
       "min          -1.000000              -17.800000  \n",
       "25%          -1.000000                1.200000  \n",
       "50%          -1.000000                4.800000  \n",
       "75%           0.000000               12.900000  \n",
       "max          15.000000               19.600000  "
      ]
     },
     "execution_count": 140,
     "metadata": {},
     "output_type": "execute_result"
    }
   ],
   "source": [
    "wh.describe()"
   ]
  },
  {
   "cell_type": "markdown",
   "id": "30c71920-d514-48b5-9d47-5350b0f5881e",
   "metadata": {},
   "source": [
    "Exercise 4.9 (snow depth)"
   ]
  },
  {
   "cell_type": "code",
   "execution_count": 143,
   "id": "b9966502-f87f-4269-8853-32069cdee26c",
   "metadata": {},
   "outputs": [
    {
     "name": "stdout",
     "output_type": "stream",
     "text": [
      "Max snow depth: 15.0\n"
     ]
    }
   ],
   "source": [
    "import pandas as pd\n",
    "\n",
    "def snow_depth():\n",
    "    \"\"\"Reads in weather DataFrame and returns maximum\n",
    "    amount of snow in the year 2017\n",
    "    \"\"\"\n",
    "    df = pd.read_csv(\"kumpula-weather-2017.csv\")\n",
    "    return df[\"Snow depth (cm)\"].max()\n",
    "\n",
    "def main():\n",
    "    print(f\"Max snow depth: {snow_depth():.1f}\")\n",
    "\n",
    "if __name__ == \"__main__\":\n",
    "    main()"
   ]
  },
  {
   "cell_type": "markdown",
   "id": "568c8626-c0d7-411b-83b1-11d5712479c5",
   "metadata": {},
   "source": [
    "Exercise 4.10 (average temperature)"
   ]
  },
  {
   "cell_type": "code",
   "execution_count": 156,
   "id": "3d7b9a3e-ae62-4a2d-b6f3-9fe94bd93c60",
   "metadata": {},
   "outputs": [
    {
     "name": "stdout",
     "output_type": "stream",
     "text": [
      "Average temperature in July: 16.0\n"
     ]
    }
   ],
   "source": [
    "import pandas as pd\n",
    "\n",
    "def average_temperature():\n",
    "    \"\"\"Reads weather data and returns average temperature in July\"\"\"\n",
    "    df = pd.read_csv(\"kumpula-weather-2017.csv\")\n",
    "    return df.loc[df[\"m\"] == 7, \"Air temperature (degC)\"].mean()\n",
    "\n",
    "def main():\n",
    "    print(f\"Average temperature in July: {average_temperature():.1f}\")\n",
    "\n",
    "if __name__ == \"__main__\":\n",
    "    main()\n"
   ]
  },
  {
   "cell_type": "markdown",
   "id": "1b173ea2-5a1c-49f9-bf9e-3e0886ba3027",
   "metadata": {},
   "source": [
    "Suggested solution:"
   ]
  },
  {
   "cell_type": "code",
   "execution_count": 151,
   "id": "37d5b6ca-37cf-4f73-a6e0-4313d2c2e85b",
   "metadata": {},
   "outputs": [
    {
     "name": "stdout",
     "output_type": "stream",
     "text": [
      "Average temperature in July: 16.0\n"
     ]
    }
   ],
   "source": [
    "import pandas as pd\n",
    " \n",
    "def average_temperature():\n",
    "    df = pd.read_csv(\"kumpula-weather-2017.csv\", sep=\",\")\n",
    "    m = df[\"m\"] == 7\n",
    "    return df[m][\"Air temperature (degC)\"].mean()\n",
    " \n",
    "def main():\n",
    "    t = average_temperature()\n",
    "    print(f\"Average temperature in July: {t:.1f}\")\n",
    " \n",
    "if __name__ == \"__main__\":\n",
    "    main()"
   ]
  },
  {
   "cell_type": "markdown",
   "id": "9250392b-6031-4fa0-bcae-336e3ef7aac3",
   "metadata": {},
   "source": [
    "Exercise 4.11 (below zero)"
   ]
  },
  {
   "cell_type": "code",
   "execution_count": 164,
   "id": "7968075c-f4d6-4499-81c5-91033a24e997",
   "metadata": {},
   "outputs": [
    {
     "name": "stdout",
     "output_type": "stream",
     "text": [
      "Number of days below zero: 49\n"
     ]
    }
   ],
   "source": [
    "import pandas as pd\n",
    "\n",
    "def below_zero():\n",
    "    \"\"\"returns number of days temperature was below zero\"\"\"\n",
    "    df = pd.read_csv(\"kumpula-weather-2017.csv\")\n",
    "    return len(df[df[\"Air temperature (degC)\"] < 0])\n",
    "\n",
    "def main():\n",
    "    print(f\"Number of days below zero: {below_zero()}\")\n",
    "    \n",
    "if __name__ == \"__main__\":\n",
    "    main()"
   ]
  },
  {
   "cell_type": "markdown",
   "id": "54d88baa-cd28-4728-9b56-90651c4fc2dd",
   "metadata": {},
   "source": [
    "Suggested solution:"
   ]
  },
  {
   "cell_type": "code",
   "execution_count": 169,
   "id": "9ea42220-2d7c-4382-9ed6-371cb2f0a67e",
   "metadata": {},
   "outputs": [
    {
     "name": "stdout",
     "output_type": "stream",
     "text": [
      "Number of days below zero: 49\n"
     ]
    }
   ],
   "source": [
    "import pandas as pd\n",
    " \n",
    "def below_zero():\n",
    "    df = pd.read_csv(\"kumpula-weather-2017.csv\")\n",
    "    return sum(df[\"Air temperature (degC)\"] < 0.0)\n",
    "    # Sums the number of True (1)\n",
    " \n",
    "def main():\n",
    "    print(f\"Number of days below zero: {below_zero()}\")\n",
    "    \n",
    "if __name__ == \"__main__\":\n",
    "    main()"
   ]
  },
  {
   "cell_type": "markdown",
   "id": "a924f376-69a1-495b-9d42-9bcae87c42a2",
   "metadata": {},
   "source": [
    "Missing data"
   ]
  },
  {
   "cell_type": "code",
   "execution_count": 172,
   "id": "c30d80fb-2910-407d-beae-81cd71be5402",
   "metadata": {},
   "outputs": [
    {
     "data": {
      "text/plain": [
       "array([-1.,  7., 13., 10., 12.,  9.,  8.,  5.,  6.,  4.,  3., 15., 14.,\n",
       "        2., nan,  0.])"
      ]
     },
     "execution_count": 172,
     "metadata": {},
     "output_type": "execute_result"
    }
   ],
   "source": [
    "wh[\"Snow depth (cm)\"].unique()"
   ]
  },
  {
   "cell_type": "code",
   "execution_count": 174,
   "id": "f72f088e-3c6c-4fa3-b146-cf22e05acf0a",
   "metadata": {},
   "outputs": [
    {
     "data": {
      "text/plain": [
       "0    1\n",
       "1    3\n",
       "2    2\n",
       "dtype: int64"
      ]
     },
     "execution_count": 174,
     "metadata": {},
     "output_type": "execute_result"
    }
   ],
   "source": [
    "pd.Series([1, 3, 2])"
   ]
  },
  {
   "cell_type": "code",
   "execution_count": 176,
   "id": "d0231901-0445-40d1-9aaf-3f417f42a842",
   "metadata": {},
   "outputs": [
    {
     "data": {
      "text/plain": [
       "0    1.0\n",
       "1    3.0\n",
       "2    2.0\n",
       "3    NaN\n",
       "dtype: float64"
      ]
     },
     "execution_count": 176,
     "metadata": {},
     "output_type": "execute_result"
    }
   ],
   "source": [
    "pd.Series([1, 3, 2, np.nan])"
   ]
  },
  {
   "cell_type": "code",
   "execution_count": 178,
   "id": "c3201df0-91fe-47ab-ad14-d676be7c7edb",
   "metadata": {},
   "outputs": [
    {
     "data": {
      "text/plain": [
       "0    jack\n",
       "1     joe\n",
       "2    None\n",
       "dtype: object"
      ]
     },
     "execution_count": 178,
     "metadata": {},
     "output_type": "execute_result"
    }
   ],
   "source": [
    "pd.Series([\"jack\", \"joe\", None])"
   ]
  },
  {
   "cell_type": "code",
   "execution_count": 186,
   "id": "64e72287-eae8-4e2c-85c6-27293aa86b75",
   "metadata": {},
   "outputs": [
    {
     "data": {
      "text/html": [
       "<div>\n",
       "<style scoped>\n",
       "    .dataframe tbody tr th:only-of-type {\n",
       "        vertical-align: middle;\n",
       "    }\n",
       "\n",
       "    .dataframe tbody tr th {\n",
       "        vertical-align: top;\n",
       "    }\n",
       "\n",
       "    .dataframe thead th {\n",
       "        text-align: right;\n",
       "    }\n",
       "</style>\n",
       "<table border=\"1\" class=\"dataframe\">\n",
       "  <thead>\n",
       "    <tr style=\"text-align: right;\">\n",
       "      <th></th>\n",
       "      <th>Year</th>\n",
       "      <th>m</th>\n",
       "      <th>d</th>\n",
       "      <th>Time</th>\n",
       "      <th>Time zone</th>\n",
       "      <th>Precipitation amount (mm)</th>\n",
       "      <th>Snow depth (cm)</th>\n",
       "      <th>Air temperature (degC)</th>\n",
       "    </tr>\n",
       "  </thead>\n",
       "  <tbody>\n",
       "    <tr>\n",
       "      <th>0</th>\n",
       "      <td>False</td>\n",
       "      <td>False</td>\n",
       "      <td>False</td>\n",
       "      <td>False</td>\n",
       "      <td>False</td>\n",
       "      <td>False</td>\n",
       "      <td>False</td>\n",
       "      <td>False</td>\n",
       "    </tr>\n",
       "    <tr>\n",
       "      <th>1</th>\n",
       "      <td>False</td>\n",
       "      <td>False</td>\n",
       "      <td>False</td>\n",
       "      <td>False</td>\n",
       "      <td>False</td>\n",
       "      <td>False</td>\n",
       "      <td>False</td>\n",
       "      <td>False</td>\n",
       "    </tr>\n",
       "    <tr>\n",
       "      <th>2</th>\n",
       "      <td>False</td>\n",
       "      <td>False</td>\n",
       "      <td>False</td>\n",
       "      <td>False</td>\n",
       "      <td>False</td>\n",
       "      <td>False</td>\n",
       "      <td>False</td>\n",
       "      <td>False</td>\n",
       "    </tr>\n",
       "    <tr>\n",
       "      <th>3</th>\n",
       "      <td>False</td>\n",
       "      <td>False</td>\n",
       "      <td>False</td>\n",
       "      <td>False</td>\n",
       "      <td>False</td>\n",
       "      <td>False</td>\n",
       "      <td>False</td>\n",
       "      <td>False</td>\n",
       "    </tr>\n",
       "    <tr>\n",
       "      <th>4</th>\n",
       "      <td>False</td>\n",
       "      <td>False</td>\n",
       "      <td>False</td>\n",
       "      <td>False</td>\n",
       "      <td>False</td>\n",
       "      <td>False</td>\n",
       "      <td>False</td>\n",
       "      <td>False</td>\n",
       "    </tr>\n",
       "    <tr>\n",
       "      <th>...</th>\n",
       "      <td>...</td>\n",
       "      <td>...</td>\n",
       "      <td>...</td>\n",
       "      <td>...</td>\n",
       "      <td>...</td>\n",
       "      <td>...</td>\n",
       "      <td>...</td>\n",
       "      <td>...</td>\n",
       "    </tr>\n",
       "    <tr>\n",
       "      <th>360</th>\n",
       "      <td>False</td>\n",
       "      <td>False</td>\n",
       "      <td>False</td>\n",
       "      <td>False</td>\n",
       "      <td>False</td>\n",
       "      <td>False</td>\n",
       "      <td>False</td>\n",
       "      <td>False</td>\n",
       "    </tr>\n",
       "    <tr>\n",
       "      <th>361</th>\n",
       "      <td>False</td>\n",
       "      <td>False</td>\n",
       "      <td>False</td>\n",
       "      <td>False</td>\n",
       "      <td>False</td>\n",
       "      <td>False</td>\n",
       "      <td>False</td>\n",
       "      <td>False</td>\n",
       "    </tr>\n",
       "    <tr>\n",
       "      <th>362</th>\n",
       "      <td>False</td>\n",
       "      <td>False</td>\n",
       "      <td>False</td>\n",
       "      <td>False</td>\n",
       "      <td>False</td>\n",
       "      <td>False</td>\n",
       "      <td>False</td>\n",
       "      <td>False</td>\n",
       "    </tr>\n",
       "    <tr>\n",
       "      <th>363</th>\n",
       "      <td>False</td>\n",
       "      <td>False</td>\n",
       "      <td>False</td>\n",
       "      <td>False</td>\n",
       "      <td>False</td>\n",
       "      <td>False</td>\n",
       "      <td>False</td>\n",
       "      <td>False</td>\n",
       "    </tr>\n",
       "    <tr>\n",
       "      <th>364</th>\n",
       "      <td>False</td>\n",
       "      <td>False</td>\n",
       "      <td>False</td>\n",
       "      <td>False</td>\n",
       "      <td>False</td>\n",
       "      <td>False</td>\n",
       "      <td>False</td>\n",
       "      <td>False</td>\n",
       "    </tr>\n",
       "  </tbody>\n",
       "</table>\n",
       "<p>365 rows × 8 columns</p>\n",
       "</div>"
      ],
      "text/plain": [
       "      Year      m      d   Time  Time zone  Precipitation amount (mm)  \\\n",
       "0    False  False  False  False      False                      False   \n",
       "1    False  False  False  False      False                      False   \n",
       "2    False  False  False  False      False                      False   \n",
       "3    False  False  False  False      False                      False   \n",
       "4    False  False  False  False      False                      False   \n",
       "..     ...    ...    ...    ...        ...                        ...   \n",
       "360  False  False  False  False      False                      False   \n",
       "361  False  False  False  False      False                      False   \n",
       "362  False  False  False  False      False                      False   \n",
       "363  False  False  False  False      False                      False   \n",
       "364  False  False  False  False      False                      False   \n",
       "\n",
       "     Snow depth (cm)  Air temperature (degC)  \n",
       "0              False                   False  \n",
       "1              False                   False  \n",
       "2              False                   False  \n",
       "3              False                   False  \n",
       "4              False                   False  \n",
       "..               ...                     ...  \n",
       "360            False                   False  \n",
       "361            False                   False  \n",
       "362            False                   False  \n",
       "363            False                   False  \n",
       "364            False                   False  \n",
       "\n",
       "[365 rows x 8 columns]"
      ]
     },
     "execution_count": 186,
     "metadata": {},
     "output_type": "execute_result"
    }
   ],
   "source": [
    "wh.isnull()  # returns a boolean mask DataFrame"
   ]
  },
  {
   "cell_type": "code",
   "execution_count": 200,
   "id": "2027e7e0-b7f1-4f14-b87b-077e66499384",
   "metadata": {},
   "outputs": [
    {
     "data": {
      "text/html": [
       "<div>\n",
       "<style scoped>\n",
       "    .dataframe tbody tr th:only-of-type {\n",
       "        vertical-align: middle;\n",
       "    }\n",
       "\n",
       "    .dataframe tbody tr th {\n",
       "        vertical-align: top;\n",
       "    }\n",
       "\n",
       "    .dataframe thead th {\n",
       "        text-align: right;\n",
       "    }\n",
       "</style>\n",
       "<table border=\"1\" class=\"dataframe\">\n",
       "  <thead>\n",
       "    <tr style=\"text-align: right;\">\n",
       "      <th></th>\n",
       "      <th>Year</th>\n",
       "      <th>m</th>\n",
       "      <th>d</th>\n",
       "      <th>Time</th>\n",
       "      <th>Time zone</th>\n",
       "      <th>Precipitation amount (mm)</th>\n",
       "      <th>Snow depth (cm)</th>\n",
       "      <th>Air temperature (degC)</th>\n",
       "    </tr>\n",
       "  </thead>\n",
       "  <tbody>\n",
       "  </tbody>\n",
       "</table>\n",
       "</div>"
      ],
      "text/plain": [
       "Empty DataFrame\n",
       "Columns: [Year, m, d, Time, Time zone, Precipitation amount (mm), Snow depth (cm), Air temperature (degC)]\n",
       "Index: []"
      ]
     },
     "execution_count": 200,
     "metadata": {},
     "output_type": "execute_result"
    }
   ],
   "source": [
    "wh[wh.isnull().any(axis=1)]  # All rows that contain at least one missing value"
   ]
  },
  {
   "cell_type": "code",
   "execution_count": 192,
   "id": "cd1abf22-0d48-4372-89b4-160e89a5d3e0",
   "metadata": {},
   "outputs": [
    {
     "data": {
      "text/plain": [
       "(358, 8)"
      ]
     },
     "execution_count": 192,
     "metadata": {},
     "output_type": "execute_result"
    }
   ],
   "source": [
    "wh.dropna().shape  # Default axis is 0"
   ]
  },
  {
   "cell_type": "code",
   "execution_count": 194,
   "id": "547aa356-92e2-465c-b3dc-490ad9793455",
   "metadata": {},
   "outputs": [
    {
     "data": {
      "text/plain": [
       "(365, 7)"
      ]
     },
     "execution_count": 194,
     "metadata": {},
     "output_type": "execute_result"
    }
   ],
   "source": [
    "wh.dropna(axis=1).shape  # Drops the columns containing missing values"
   ]
  },
  {
   "cell_type": "code",
   "execution_count": 205,
   "id": "be43f8c4-6ea4-465d-a587-13d84dbdf372",
   "metadata": {},
   "outputs": [
    {
     "data": {
      "text/html": [
       "<div>\n",
       "<style scoped>\n",
       "    .dataframe tbody tr th:only-of-type {\n",
       "        vertical-align: middle;\n",
       "    }\n",
       "\n",
       "    .dataframe tbody tr th {\n",
       "        vertical-align: top;\n",
       "    }\n",
       "\n",
       "    .dataframe thead th {\n",
       "        text-align: right;\n",
       "    }\n",
       "</style>\n",
       "<table border=\"1\" class=\"dataframe\">\n",
       "  <thead>\n",
       "    <tr style=\"text-align: right;\">\n",
       "      <th></th>\n",
       "      <th>Year</th>\n",
       "      <th>m</th>\n",
       "      <th>d</th>\n",
       "      <th>Time</th>\n",
       "      <th>Time zone</th>\n",
       "      <th>Precipitation amount (mm)</th>\n",
       "      <th>Snow depth (cm)</th>\n",
       "      <th>Air temperature (degC)</th>\n",
       "    </tr>\n",
       "  </thead>\n",
       "  <tbody>\n",
       "  </tbody>\n",
       "</table>\n",
       "</div>"
      ],
      "text/plain": [
       "Empty DataFrame\n",
       "Columns: [Year, m, d, Time, Time zone, Precipitation amount (mm), Snow depth (cm), Air temperature (degC)]\n",
       "Index: []"
      ]
     },
     "execution_count": 205,
     "metadata": {},
     "output_type": "execute_result"
    }
   ],
   "source": [
    "wh = wh.ffill()\n",
    "wh[wh.isnull().any(axis=1)]"
   ]
  },
  {
   "cell_type": "markdown",
   "id": "efbd3e22-320c-4f62-8502-823bcb953798",
   "metadata": {},
   "source": [
    "Exercise 4.12 (cyclists)"
   ]
  },
  {
   "cell_type": "code",
   "execution_count": 209,
   "id": "29ca8974-0fc2-4579-b4ec-e59d3eb0a158",
   "metadata": {},
   "outputs": [
    {
     "name": "stdout",
     "output_type": "stream",
     "text": [
      "                    Päivämäärä  Auroransilta  Eteläesplanadi  \\\n",
      "0        ke 1 tammi 2014 00:00           NaN             7.0   \n",
      "1        ke 1 tammi 2014 01:00           NaN             5.0   \n",
      "2        ke 1 tammi 2014 02:00           NaN             2.0   \n",
      "3        ke 1 tammi 2014 03:00           NaN             5.0   \n",
      "4        ke 1 tammi 2014 04:00           NaN             1.0   \n",
      "...                        ...           ...             ...   \n",
      "37123  ti 27 maalis 2018 19:00          21.0            30.0   \n",
      "37124  ti 27 maalis 2018 20:00          10.0            19.0   \n",
      "37125  ti 27 maalis 2018 21:00           7.0            13.0   \n",
      "37126  ti 27 maalis 2018 22:00           1.0             5.0   \n",
      "37127  ti 27 maalis 2018 23:00           0.0             0.0   \n",
      "\n",
      "       Huopalahti (asema)  Kaisaniemi/Eläintarhanlahti  Kaivokatu  \\\n",
      "0                     NaN                          1.0        NaN   \n",
      "1                     NaN                          3.0        NaN   \n",
      "2                     NaN                          3.0        NaN   \n",
      "3                     NaN                          2.0        NaN   \n",
      "4                     NaN                          4.0        NaN   \n",
      "...                   ...                          ...        ...   \n",
      "37123                18.0                         29.0       51.0   \n",
      "37124                19.0                         12.0       26.0   \n",
      "37125                10.0                          4.0       11.0   \n",
      "37126                 5.0                          6.0        7.0   \n",
      "37127                 0.0                          0.0        4.0   \n",
      "\n",
      "       Kulosaaren silta et.  Kulosaaren silta po.   Kuusisaarentie  \\\n",
      "0                       NaN                    NaN             NaN   \n",
      "1                       NaN                    NaN             NaN   \n",
      "2                       NaN                    NaN             NaN   \n",
      "3                       NaN                    NaN             NaN   \n",
      "4                       NaN                    NaN             NaN   \n",
      "...                     ...                    ...             ...   \n",
      "37123                   0.0                   26.0            31.0   \n",
      "37124                   0.0                   25.0             9.0   \n",
      "37125                   1.0                    4.0            12.0   \n",
      "37126                   0.0                    4.0             1.0   \n",
      "37127                   0.0                    1.0             0.0   \n",
      "\n",
      "       Käpylä, Pohjoisbaana  ...  Merikannontie  \\\n",
      "0                       NaN  ...            NaN   \n",
      "1                       NaN  ...            NaN   \n",
      "2                       NaN  ...            NaN   \n",
      "3                       NaN  ...            NaN   \n",
      "4                       NaN  ...            NaN   \n",
      "...                     ...  ...            ...   \n",
      "37123                  19.0  ...           34.0   \n",
      "37124                  12.0  ...           28.0   \n",
      "37125                   4.0  ...           18.0   \n",
      "37126                   4.0  ...            8.0   \n",
      "37127                   7.0  ...            2.0   \n",
      "\n",
      "       Munkkiniemen silta eteläpuoli  Munkkiniemi silta pohjoispuoli  \\\n",
      "0                                2.0                             5.0   \n",
      "1                                6.0                             5.0   \n",
      "2                                1.0                             1.0   \n",
      "3                                0.0                             2.0   \n",
      "4                                1.0                             1.0   \n",
      "...                              ...                             ...   \n",
      "37123                           31.0                            15.0   \n",
      "37124                           20.0                             8.0   \n",
      "37125                           11.0                             7.0   \n",
      "37126                            5.0                             8.0   \n",
      "37127                            1.0                             2.0   \n",
      "\n",
      "       Heperian puisto/Ooppera  Pitkäsilta itäpuoli  Pitkäsilta länsipuoli  \\\n",
      "0                          3.0                  NaN                   11.0   \n",
      "1                          1.0                  NaN                    8.0   \n",
      "2                          1.0                  NaN                   14.0   \n",
      "3                          0.0                  NaN                    7.0   \n",
      "4                          1.0                  NaN                    9.0   \n",
      "...                        ...                  ...                    ...   \n",
      "37123                     68.0                 39.0                   20.0   \n",
      "37124                     38.0                 24.0                   10.0   \n",
      "37125                     32.0                 25.0                   14.0   \n",
      "37126                      8.0                  8.0                    3.0   \n",
      "37127                      5.0                  6.0                    3.0   \n",
      "\n",
      "       Lauttasaaren silta pohjoispuoli  Ratapihantie  Viikintie  Baana  \n",
      "0                                  NaN           NaN        NaN    8.0  \n",
      "1                                  NaN           NaN        NaN    4.0  \n",
      "2                                  NaN           NaN        NaN   11.0  \n",
      "3                                  NaN           NaN        NaN    3.0  \n",
      "4                                  NaN           NaN        NaN    4.0  \n",
      "...                                ...           ...        ...    ...  \n",
      "37123                             22.0          28.0       12.0   55.0  \n",
      "37124                             21.0          19.0        6.0   43.0  \n",
      "37125                             11.0          17.0        2.0   27.0  \n",
      "37126                              2.0          11.0        0.0   10.0  \n",
      "37127                              2.0           0.0        0.0    4.0  \n",
      "\n",
      "[37128 rows x 21 columns]\n"
     ]
    }
   ],
   "source": [
    "import pandas as pd\n",
    "\n",
    "def cyclists():\n",
    "    \"\"\"Return cleaned dataset (no empty rows, no columns that\n",
    "    contain only missing values)\n",
    "    \"\"\"\n",
    "    df = pd.read_csv(\"Helsingin_pyorailijamaarat.csv\", sep=\";\")\n",
    "\n",
    "    # Drop empty rows\n",
    "    df.dropna(how=\"all\", inplace=True)\n",
    "\n",
    "    # Drop columns only containing missing values\n",
    "    df.dropna(axis=1, how=\"all\", inplace=True)  \n",
    "\n",
    "    return df\n",
    "\n",
    "def main():\n",
    "    print(cyclists())\n",
    "    \n",
    "if __name__ == \"__main__\":\n",
    "    main()"
   ]
  },
  {
   "cell_type": "markdown",
   "id": "59b99f5f-9a52-4eef-b2a7-81d949466b6c",
   "metadata": {},
   "source": [
    "Exercise 4.13 (missing value types)"
   ]
  },
  {
   "cell_type": "code",
   "execution_count": 212,
   "id": "39688880-7958-4fa6-b42e-decff05f1827",
   "metadata": {},
   "outputs": [
    {
     "name": "stdout",
     "output_type": "stream",
     "text": [
      "Year of independence    float64\n",
      "President                object\n",
      "dtype: object\n",
      "                Year of independence   President\n",
      "State                                           \n",
      "United Kingdom                   NaN        None\n",
      "Finland                       1917.0    Niinistö\n",
      "USA                           1776.0       Trump\n",
      "Sweden                        1523.0        None\n",
      "Germany                          NaN  Steinmeier\n",
      "Russia                        1992.0       Putin\n"
     ]
    }
   ],
   "source": [
    "import pandas as pd\n",
    "import numpy as np\n",
    "\n",
    "def missing_value_types():\n",
    "    state = [\"United Kingdom\", \"Finland\", \"USA\", \"Sweden\", \"Germany\", \"Russia\"]\n",
    "    year = [np.nan, 1917, 1776, 1523, np.nan, 1992]\n",
    "    president = [None, \"Niinistö\", \"Trump\", None, \"Steinmeier\", \"Putin\"]\n",
    "    df = pd.DataFrame(\n",
    "        {\"State\": state,\n",
    "        \"Year of independence\": year,\n",
    "        \"President\": president},\n",
    "    )\n",
    "    return df.set_index(\"State\")\n",
    "               \n",
    "def main():\n",
    "    print(missing_value_types().dtypes)\n",
    "    print(missing_value_types())\n",
    "\n",
    "if __name__ == \"__main__\":\n",
    "    main()"
   ]
  },
  {
   "cell_type": "markdown",
   "id": "e8c710a0-981b-403b-bd73-e1412b7791c6",
   "metadata": {},
   "source": [
    "Exercise 4.14 (special missing values)"
   ]
  },
  {
   "cell_type": "code",
   "execution_count": null,
   "id": "efea6fe0-787e-4ace-ac19-ba4392fb9875",
   "metadata": {},
   "outputs": [],
   "source": []
  }
 ],
 "metadata": {
  "kernelspec": {
   "display_name": "Python [conda env:base] *",
   "language": "python",
   "name": "conda-base-py"
  },
  "language_info": {
   "codemirror_mode": {
    "name": "ipython",
    "version": 3
   },
   "file_extension": ".py",
   "mimetype": "text/x-python",
   "name": "python",
   "nbconvert_exporter": "python",
   "pygments_lexer": "ipython3",
   "version": "3.12.2"
  }
 },
 "nbformat": 4,
 "nbformat_minor": 5
}
