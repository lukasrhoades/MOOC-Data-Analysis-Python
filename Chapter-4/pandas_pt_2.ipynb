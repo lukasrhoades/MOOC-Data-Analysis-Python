{
 "cells": [
  {
   "cell_type": "code",
   "execution_count": 1,
   "id": "14850b05-ca30-45d9-a1ab-75b765de6672",
   "metadata": {},
   "outputs": [],
   "source": [
    "import pandas as pd\n",
    "import numpy as np"
   ]
  },
  {
   "cell_type": "markdown",
   "id": "f37f2d85-ebae-4d98-b448-899193731c51",
   "metadata": {},
   "source": [
    "Creation of dataframes"
   ]
  },
  {
   "cell_type": "markdown",
   "id": "d105d46f-0c17-47cc-856b-b2466edf17a9",
   "metadata": {},
   "source": [
    "Creating DataFrames from a NumPy array"
   ]
  },
  {
   "cell_type": "code",
   "execution_count": 5,
   "id": "e0dd3a12-1b2b-4c2c-9968-935dff2afc95",
   "metadata": {},
   "outputs": [
    {
     "data": {
      "text/html": [
       "<div>\n",
       "<style scoped>\n",
       "    .dataframe tbody tr th:only-of-type {\n",
       "        vertical-align: middle;\n",
       "    }\n",
       "\n",
       "    .dataframe tbody tr th {\n",
       "        vertical-align: top;\n",
       "    }\n",
       "\n",
       "    .dataframe thead th {\n",
       "        text-align: right;\n",
       "    }\n",
       "</style>\n",
       "<table border=\"1\" class=\"dataframe\">\n",
       "  <thead>\n",
       "    <tr style=\"text-align: right;\">\n",
       "      <th></th>\n",
       "      <th>First</th>\n",
       "      <th>Second</th>\n",
       "      <th>Third</th>\n",
       "    </tr>\n",
       "  </thead>\n",
       "  <tbody>\n",
       "    <tr>\n",
       "      <th>a</th>\n",
       "      <td>-0.441458</td>\n",
       "      <td>0.909961</td>\n",
       "      <td>0.309505</td>\n",
       "    </tr>\n",
       "    <tr>\n",
       "      <th>b</th>\n",
       "      <td>-0.355160</td>\n",
       "      <td>-1.306468</td>\n",
       "      <td>-0.675490</td>\n",
       "    </tr>\n",
       "  </tbody>\n",
       "</table>\n",
       "</div>"
      ],
      "text/plain": [
       "      First    Second     Third\n",
       "a -0.441458  0.909961  0.309505\n",
       "b -0.355160 -1.306468 -0.675490"
      ]
     },
     "execution_count": 5,
     "metadata": {},
     "output_type": "execute_result"
    }
   ],
   "source": [
    "df = pd.DataFrame(\n",
    "    np.random.randn(2, 3),\n",
    "    columns=[\"First\", \"Second\", \"Third\"],\n",
    "    index=[\"a\", \"b\"]\n",
    ")\n",
    "df"
   ]
  },
  {
   "cell_type": "code",
   "execution_count": 7,
   "id": "4da38a54-d6e7-497d-a657-bfa1cf77deed",
   "metadata": {},
   "outputs": [
    {
     "data": {
      "text/plain": [
       "Index(['a', 'b'], dtype='object')"
      ]
     },
     "execution_count": 7,
     "metadata": {},
     "output_type": "execute_result"
    }
   ],
   "source": [
    "df.index  # These are the \"row names\""
   ]
  },
  {
   "cell_type": "code",
   "execution_count": 9,
   "id": "c90e9754-9e68-41c8-bed2-7e50d89cdeab",
   "metadata": {},
   "outputs": [
    {
     "data": {
      "text/plain": [
       "Index(['First', 'Second', 'Third'], dtype='object')"
      ]
     },
     "execution_count": 9,
     "metadata": {},
     "output_type": "execute_result"
    }
   ],
   "source": [
    "df.columns  # These are the \"column names\""
   ]
  },
  {
   "cell_type": "code",
   "execution_count": 11,
   "id": "38bb7e6e-022a-4f2b-a93a-e70b99a21206",
   "metadata": {},
   "outputs": [
    {
     "data": {
      "text/html": [
       "<div>\n",
       "<style scoped>\n",
       "    .dataframe tbody tr th:only-of-type {\n",
       "        vertical-align: middle;\n",
       "    }\n",
       "\n",
       "    .dataframe tbody tr th {\n",
       "        vertical-align: top;\n",
       "    }\n",
       "\n",
       "    .dataframe thead th {\n",
       "        text-align: right;\n",
       "    }\n",
       "</style>\n",
       "<table border=\"1\" class=\"dataframe\">\n",
       "  <thead>\n",
       "    <tr style=\"text-align: right;\">\n",
       "      <th></th>\n",
       "      <th>0</th>\n",
       "      <th>1</th>\n",
       "      <th>2</th>\n",
       "    </tr>\n",
       "  </thead>\n",
       "  <tbody>\n",
       "    <tr>\n",
       "      <th>a</th>\n",
       "      <td>-0.606804</td>\n",
       "      <td>0.331033</td>\n",
       "      <td>-0.564309</td>\n",
       "    </tr>\n",
       "    <tr>\n",
       "      <th>b</th>\n",
       "      <td>1.300565</td>\n",
       "      <td>-1.382835</td>\n",
       "      <td>0.456260</td>\n",
       "    </tr>\n",
       "  </tbody>\n",
       "</table>\n",
       "</div>"
      ],
      "text/plain": [
       "          0         1         2\n",
       "a -0.606804  0.331033 -0.564309\n",
       "b  1.300565 -1.382835  0.456260"
      ]
     },
     "execution_count": 11,
     "metadata": {},
     "output_type": "execute_result"
    }
   ],
   "source": [
    "df2 = pd.DataFrame(np.random.randn(2, 3), index=[\"a\",\"b\"])\n",
    "df2"
   ]
  },
  {
   "cell_type": "code",
   "execution_count": 13,
   "id": "dff95655-d5ab-4c65-b262-cb5a35fd5f38",
   "metadata": {},
   "outputs": [
    {
     "data": {
      "text/plain": [
       "RangeIndex(start=0, stop=3, step=1)"
      ]
     },
     "execution_count": 13,
     "metadata": {},
     "output_type": "execute_result"
    }
   ],
   "source": [
    "df2.columns"
   ]
  },
  {
   "cell_type": "markdown",
   "id": "e3797d3e-58c4-4b4a-a76f-bdc7a1361aff",
   "metadata": {},
   "source": [
    "Creating DataFrames from columns"
   ]
  },
  {
   "cell_type": "code",
   "execution_count": 16,
   "id": "6bbc475b-c7b0-426e-9ca7-99ef852e8343",
   "metadata": {},
   "outputs": [
    {
     "data": {
      "text/plain": [
       "0    1\n",
       "1    2\n",
       "2    3\n",
       "dtype: int64"
      ]
     },
     "execution_count": 16,
     "metadata": {},
     "output_type": "execute_result"
    }
   ],
   "source": [
    "s1 = pd.Series([1, 2, 3])\n",
    "s1"
   ]
  },
  {
   "cell_type": "code",
   "execution_count": 18,
   "id": "2d24dee3-2134-4e43-9601-9b9627ff1aa4",
   "metadata": {},
   "outputs": [
    {
     "data": {
      "text/plain": [
       "0    4\n",
       "1    5\n",
       "2    6\n",
       "Name: b, dtype: int64"
      ]
     },
     "execution_count": 18,
     "metadata": {},
     "output_type": "execute_result"
    }
   ],
   "source": [
    "s2 = pd.Series([4, 5, 6], name=\"b\")\n",
    "s2"
   ]
  },
  {
   "cell_type": "code",
   "execution_count": 20,
   "id": "1d5a1bf1-b0f8-478d-b0ab-9c4743e51bcb",
   "metadata": {},
   "outputs": [
    {
     "data": {
      "text/html": [
       "<div>\n",
       "<style scoped>\n",
       "    .dataframe tbody tr th:only-of-type {\n",
       "        vertical-align: middle;\n",
       "    }\n",
       "\n",
       "    .dataframe tbody tr th {\n",
       "        vertical-align: top;\n",
       "    }\n",
       "\n",
       "    .dataframe thead th {\n",
       "        text-align: right;\n",
       "    }\n",
       "</style>\n",
       "<table border=\"1\" class=\"dataframe\">\n",
       "  <thead>\n",
       "    <tr style=\"text-align: right;\">\n",
       "      <th></th>\n",
       "      <th>a</th>\n",
       "    </tr>\n",
       "  </thead>\n",
       "  <tbody>\n",
       "    <tr>\n",
       "      <th>0</th>\n",
       "      <td>1</td>\n",
       "    </tr>\n",
       "    <tr>\n",
       "      <th>1</th>\n",
       "      <td>2</td>\n",
       "    </tr>\n",
       "    <tr>\n",
       "      <th>2</th>\n",
       "      <td>3</td>\n",
       "    </tr>\n",
       "  </tbody>\n",
       "</table>\n",
       "</div>"
      ],
      "text/plain": [
       "   a\n",
       "0  1\n",
       "1  2\n",
       "2  3"
      ]
     },
     "execution_count": 20,
     "metadata": {},
     "output_type": "execute_result"
    }
   ],
   "source": [
    "pd.DataFrame(s1, columns=[\"a\"])"
   ]
  },
  {
   "cell_type": "code",
   "execution_count": 22,
   "id": "c5cdef80-7694-495c-90a9-2864cfe82412",
   "metadata": {},
   "outputs": [
    {
     "data": {
      "text/html": [
       "<div>\n",
       "<style scoped>\n",
       "    .dataframe tbody tr th:only-of-type {\n",
       "        vertical-align: middle;\n",
       "    }\n",
       "\n",
       "    .dataframe tbody tr th {\n",
       "        vertical-align: top;\n",
       "    }\n",
       "\n",
       "    .dataframe thead th {\n",
       "        text-align: right;\n",
       "    }\n",
       "</style>\n",
       "<table border=\"1\" class=\"dataframe\">\n",
       "  <thead>\n",
       "    <tr style=\"text-align: right;\">\n",
       "      <th></th>\n",
       "      <th>b</th>\n",
       "    </tr>\n",
       "  </thead>\n",
       "  <tbody>\n",
       "    <tr>\n",
       "      <th>0</th>\n",
       "      <td>4</td>\n",
       "    </tr>\n",
       "    <tr>\n",
       "      <th>1</th>\n",
       "      <td>5</td>\n",
       "    </tr>\n",
       "    <tr>\n",
       "      <th>2</th>\n",
       "      <td>6</td>\n",
       "    </tr>\n",
       "  </tbody>\n",
       "</table>\n",
       "</div>"
      ],
      "text/plain": [
       "   b\n",
       "0  4\n",
       "1  5\n",
       "2  6"
      ]
     },
     "execution_count": 22,
     "metadata": {},
     "output_type": "execute_result"
    }
   ],
   "source": [
    "pd.DataFrame(s2)"
   ]
  },
  {
   "cell_type": "code",
   "execution_count": 24,
   "id": "f1c15116-9628-45fc-a024-16deae49c73c",
   "metadata": {},
   "outputs": [
    {
     "data": {
      "text/html": [
       "<div>\n",
       "<style scoped>\n",
       "    .dataframe tbody tr th:only-of-type {\n",
       "        vertical-align: middle;\n",
       "    }\n",
       "\n",
       "    .dataframe tbody tr th {\n",
       "        vertical-align: top;\n",
       "    }\n",
       "\n",
       "    .dataframe thead th {\n",
       "        text-align: right;\n",
       "    }\n",
       "</style>\n",
       "<table border=\"1\" class=\"dataframe\">\n",
       "  <thead>\n",
       "    <tr style=\"text-align: right;\">\n",
       "      <th></th>\n",
       "      <th>a</th>\n",
       "      <th>b</th>\n",
       "    </tr>\n",
       "  </thead>\n",
       "  <tbody>\n",
       "    <tr>\n",
       "      <th>0</th>\n",
       "      <td>1</td>\n",
       "      <td>4</td>\n",
       "    </tr>\n",
       "    <tr>\n",
       "      <th>1</th>\n",
       "      <td>2</td>\n",
       "      <td>5</td>\n",
       "    </tr>\n",
       "    <tr>\n",
       "      <th>2</th>\n",
       "      <td>3</td>\n",
       "      <td>6</td>\n",
       "    </tr>\n",
       "  </tbody>\n",
       "</table>\n",
       "</div>"
      ],
      "text/plain": [
       "   a  b\n",
       "0  1  4\n",
       "1  2  5\n",
       "2  3  6"
      ]
     },
     "execution_count": 24,
     "metadata": {},
     "output_type": "execute_result"
    }
   ],
   "source": [
    "pd.DataFrame({\"a\": s1, \"b\": s2})"
   ]
  },
  {
   "cell_type": "markdown",
   "id": "83fd90c0-dabd-4f47-8343-0888ce3677df",
   "metadata": {},
   "source": [
    "Creating DataFrames from rows"
   ]
  },
  {
   "cell_type": "code",
   "execution_count": 27,
   "id": "3035ea6f-34a5-400c-bcda-52d7d61a835d",
   "metadata": {},
   "outputs": [
    {
     "data": {
      "text/html": [
       "<div>\n",
       "<style scoped>\n",
       "    .dataframe tbody tr th:only-of-type {\n",
       "        vertical-align: middle;\n",
       "    }\n",
       "\n",
       "    .dataframe tbody tr th {\n",
       "        vertical-align: top;\n",
       "    }\n",
       "\n",
       "    .dataframe thead th {\n",
       "        text-align: right;\n",
       "    }\n",
       "</style>\n",
       "<table border=\"1\" class=\"dataframe\">\n",
       "  <thead>\n",
       "    <tr style=\"text-align: right;\">\n",
       "      <th></th>\n",
       "      <th>Wage</th>\n",
       "      <th>Name</th>\n",
       "      <th>Age</th>\n",
       "    </tr>\n",
       "  </thead>\n",
       "  <tbody>\n",
       "    <tr>\n",
       "      <th>0</th>\n",
       "      <td>1000</td>\n",
       "      <td>Jack</td>\n",
       "      <td>21</td>\n",
       "    </tr>\n",
       "    <tr>\n",
       "      <th>1</th>\n",
       "      <td>1500</td>\n",
       "      <td>John</td>\n",
       "      <td>29</td>\n",
       "    </tr>\n",
       "  </tbody>\n",
       "</table>\n",
       "</div>"
      ],
      "text/plain": [
       "   Wage  Name  Age\n",
       "0  1000  Jack   21\n",
       "1  1500  John   29"
      ]
     },
     "execution_count": 27,
     "metadata": {},
     "output_type": "execute_result"
    }
   ],
   "source": [
    "df = pd.DataFrame([{\"Wage\": 1000, \"Name\": \"Jack\", \"Age\": 21},\n",
    "                   {\"Wage\": 1500, \"Name\": \"John\", \"Age\": 29}])\n",
    "df"
   ]
  },
  {
   "cell_type": "code",
   "execution_count": 29,
   "id": "a6157767-3ed5-4a88-9298-c86dd262ffc7",
   "metadata": {},
   "outputs": [
    {
     "data": {
      "text/html": [
       "<div>\n",
       "<style scoped>\n",
       "    .dataframe tbody tr th:only-of-type {\n",
       "        vertical-align: middle;\n",
       "    }\n",
       "\n",
       "    .dataframe tbody tr th {\n",
       "        vertical-align: top;\n",
       "    }\n",
       "\n",
       "    .dataframe thead th {\n",
       "        text-align: right;\n",
       "    }\n",
       "</style>\n",
       "<table border=\"1\" class=\"dataframe\">\n",
       "  <thead>\n",
       "    <tr style=\"text-align: right;\">\n",
       "      <th></th>\n",
       "      <th>Wage</th>\n",
       "      <th>Name</th>\n",
       "      <th>Age</th>\n",
       "    </tr>\n",
       "  </thead>\n",
       "  <tbody>\n",
       "    <tr>\n",
       "      <th>0</th>\n",
       "      <td>1000</td>\n",
       "      <td>Jack</td>\n",
       "      <td>21</td>\n",
       "    </tr>\n",
       "    <tr>\n",
       "      <th>1</th>\n",
       "      <td>1500</td>\n",
       "      <td>John</td>\n",
       "      <td>29</td>\n",
       "    </tr>\n",
       "  </tbody>\n",
       "</table>\n",
       "</div>"
      ],
      "text/plain": [
       "   Wage  Name  Age\n",
       "0  1000  Jack   21\n",
       "1  1500  John   29"
      ]
     },
     "execution_count": 29,
     "metadata": {},
     "output_type": "execute_result"
    }
   ],
   "source": [
    "df = pd.DataFrame([[1000, \"Jack\", 21], [1500, \"John\", 29]],\n",
    "                  columns=[\"Wage\", \"Name\", \"Age\"])\n",
    "df"
   ]
  },
  {
   "cell_type": "markdown",
   "id": "14c447a4-0e0c-44cf-a99a-b16b18d6fa74",
   "metadata": {},
   "source": [
    "Exercise 4.1 (cities)"
   ]
  },
  {
   "cell_type": "code",
   "execution_count": 32,
   "id": "fb16072c-7ee2-401c-a6bd-b224317f1f6a",
   "metadata": {},
   "outputs": [
    {
     "name": "stdout",
     "output_type": "stream",
     "text": [
      "          Population  Total area\n",
      "Helsinki      643272      715.48\n",
      "Espoo         279044      528.03\n",
      "Tampere       231853      689.59\n",
      "Vantaa        223027      240.35\n",
      "Oulu          201810     3817.52\n"
     ]
    }
   ],
   "source": [
    "import pandas as pd\n",
    "\n",
    "def cities():\n",
    "    \"\"\"Returns DataFrame of top Finnish cities by population\"\"\"\n",
    "    index = [\"Helsinki\", \"Espoo\", \"Tampere\", \"Vantaa\", \"Oulu\"]\n",
    "    population = [643272, 279044, 231853, 223027, 201810]\n",
    "    total_area = [715.48, 528.03, 689.59, 240.35, 3817.52]\n",
    "    df = pd.DataFrame({\"Population\": population, \"Total area\": total_area}, index=index)\n",
    "    return df\n",
    "    \n",
    "def main():\n",
    "    print(cities())\n",
    "    \n",
    "if __name__ == \"__main__\":\n",
    "    main()"
   ]
  },
  {
   "cell_type": "markdown",
   "id": "04d522b4-18f4-4cfa-8022-15ca75159610",
   "metadata": {},
   "source": [
    "Suggested solution:"
   ]
  },
  {
   "cell_type": "code",
   "execution_count": 35,
   "id": "99661542-181c-4a46-bc2c-bd1697647787",
   "metadata": {},
   "outputs": [
    {
     "name": "stdout",
     "output_type": "stream",
     "text": [
      "Population      int64\n",
      "Total area    float64\n",
      "dtype: object\n",
      "          Population  Total area\n",
      "Helsinki      643272      715.48\n",
      "Espoo         279044      528.03\n",
      "Tampere       231853      689.59\n",
      "Vantaa        223027      240.35\n",
      "Oulu          201810     3817.52\n"
     ]
    }
   ],
   "source": [
    "import pandas as pd\n",
    " \n",
    "def cities():\n",
    "    a=[[643272, 715.48],\n",
    "       [279044, 528.03],\n",
    "       [231853, 689.59],\n",
    "       [223027, 240.35],\n",
    "       [201810, 3817.52]]\n",
    "    cols=[\"Population\", \"Total area\"]\n",
    "    ind=[\"Helsinki\", \"Espoo\", \"Tampere\", \"Vantaa\", \"Oulu\"]\n",
    "    df = pd.DataFrame(a, index=ind, columns=cols)\n",
    "    return df\n",
    "    \n",
    "def main():\n",
    "    df = cities()\n",
    "    print(df.dtypes)\n",
    "    print(df)\n",
    "    \n",
    "if __name__ == \"__main__\":\n",
    "    main()"
   ]
  },
  {
   "cell_type": "markdown",
   "id": "e1f0b921-21d6-44bf-b001-d4ac7ca9eaa2",
   "metadata": {},
   "source": [
    "Exercise 4.2 (powers of series)"
   ]
  },
  {
   "cell_type": "code",
   "execution_count": 38,
   "id": "5a38ecc2-7ee0-4dda-a9a5-9a6fda84eb53",
   "metadata": {},
   "outputs": [
    {
     "name": "stdout",
     "output_type": "stream",
     "text": [
      "   1   2   3\n",
      "a  1   1   1\n",
      "b  2   4   8\n",
      "c  3   9  27\n",
      "d  4  16  64\n"
     ]
    }
   ],
   "source": [
    "import pandas as pd\n",
    "\n",
    "def powers_of_series(s, k):\n",
    "    \"\"\"Takes Series and positive integer k,\n",
    "    returns DataFrame where first column is Series,\n",
    "    second column is Series raised to power of 2,\n",
    "    and so on until (and including) the power of k\n",
    "    \"\"\"\n",
    "    d = {}\n",
    "    for i in range(1, k+1):\n",
    "        d[i] = s ** i\n",
    "    return pd.DataFrame(d)\n",
    "    \n",
    "def main():\n",
    "    s = pd.Series([1, 2, 3, 4], index=list(\"abcd\"))\n",
    "    print(powers_of_series(s, 3))\n",
    "    \n",
    "if __name__ == \"__main__\":\n",
    "    main()"
   ]
  },
  {
   "cell_type": "markdown",
   "id": "8b8108f2-1971-4fca-aff0-9d6b7857e216",
   "metadata": {},
   "source": [
    "Suggested solution:"
   ]
  },
  {
   "cell_type": "code",
   "execution_count": 41,
   "id": "db010651-3c57-49e7-bbec-bf5e548f2a69",
   "metadata": {},
   "outputs": [
    {
     "name": "stdout",
     "output_type": "stream",
     "text": [
      "Original Series:\n",
      "a    1\n",
      "b    2\n",
      "c    3\n",
      "d    4\n",
      "dtype: int64\n",
      "Powers of Series:\n",
      "   1   2   3\n",
      "a  1   1   1\n",
      "b  2   4   8\n",
      "c  3   9  27\n",
      "d  4  16  64\n"
     ]
    }
   ],
   "source": [
    "import pandas as pd\n",
    " \n",
    "def powers_of_series(s, k):\n",
    "    c=[ s**i for i in range(1,k+1) ]\n",
    "    df = pd.DataFrame(dict(zip(range(1,k+1), c)))\n",
    "    return df\n",
    "    \n",
    "def main():\n",
    "    s = pd.Series([1,2,3,4], index=list(\"abcd\"))\n",
    "    print(\"Original Series:\\n\", s, sep=\"\")\n",
    "    print(\"Powers of Series:\\n\", powers_of_series(s, 3), sep=\"\")\n",
    "    \n",
    "if __name__ == \"__main__\":\n",
    "    main()"
   ]
  },
  {
   "cell_type": "markdown",
   "id": "368e370a-1143-403c-a2b9-fa29974a7ff5",
   "metadata": {},
   "source": [
    "Exercise 4.3 (municipal information)"
   ]
  },
  {
   "cell_type": "code",
   "execution_count": 54,
   "id": "560e4e13-77eb-4a93-b7f0-6745a99fac9e",
   "metadata": {},
   "outputs": [
    {
     "name": "stdout",
     "output_type": "stream",
     "text": [
      "Shape: 490, 7\n",
      "Columns:\n",
      "Region 2018\n",
      "Population\n",
      "Population change from the previous year, %\n",
      "Share of Swedish-speakers of the population, %\n",
      "Share of foreign citizens of the population, %\n",
      "Proportion of the unemployed among the labour force, %\n",
      "Proportion of pensioners of the population, %\n"
     ]
    }
   ],
   "source": [
    "import pandas as pd\n",
    "\n",
    "def main():\n",
    "    df = pd.read_csv(\"municipal.tsv\", sep=\"\\t\")\n",
    "    print(f\"Shape: {df.shape[0]}, {df.shape[1]}\")\n",
    "    print(\"Columns:\")\n",
    "    for i in range(df.shape[1]):\n",
    "        print(df.columns[i]) \n",
    "\n",
    "if __name__ == \"__main__\":\n",
    "    main()"
   ]
  },
  {
   "cell_type": "markdown",
   "id": "e5ee87df-e4a5-4981-9311-ed9e414f5981",
   "metadata": {},
   "source": [
    "Suggested solution:"
   ]
  },
  {
   "cell_type": "code",
   "execution_count": 57,
   "id": "7978f323-7ff7-40ba-a5b8-129848f46854",
   "metadata": {},
   "outputs": [
    {
     "name": "stdout",
     "output_type": "stream",
     "text": [
      "Shape: 490, 7\n",
      "Columns:\n",
      "Region 2018\n",
      "Population\n",
      "Population change from the previous year, %\n",
      "Share of Swedish-speakers of the population, %\n",
      "Share of foreign citizens of the population, %\n",
      "Proportion of the unemployed among the labour force, %\n",
      "Proportion of pensioners of the population, %\n"
     ]
    }
   ],
   "source": [
    "import pandas as pd\n",
    " \n",
    "def main():\n",
    "    df = pd.read_csv(\"municipal.tsv\", sep=\"\\t\")\n",
    "    print(\"Shape: {}, {}\".format(*df.shape))\n",
    "    print(\"Columns:\")\n",
    "    for name in df.columns:\n",
    "        print(name)\n",
    " \n",
    " \n",
    "if __name__ == \"__main__\":\n",
    "    main()"
   ]
  },
  {
   "cell_type": "markdown",
   "id": "d4c296cb-6f16-48f4-996f-b0cce5bae16c",
   "metadata": {},
   "source": [
    "Accessing columns and rows of a dataframe"
   ]
  },
  {
   "cell_type": "code",
   "execution_count": 60,
   "id": "9e77c5bc-cb12-47b4-925a-ac24d55bea98",
   "metadata": {},
   "outputs": [
    {
     "name": "stderr",
     "output_type": "stream",
     "text": [
      "Key error\n"
     ]
    }
   ],
   "source": [
    "try:\n",
    "    df[0]\n",
    "except KeyError:\n",
    "    import sys\n",
    "    print(\"Key error\", file=sys.stderr)"
   ]
  },
  {
   "cell_type": "code",
   "execution_count": 62,
   "id": "779c4a82-8172-4228-a8c0-a79ca83a5913",
   "metadata": {},
   "outputs": [
    {
     "data": {
      "text/plain": [
       "0    1000\n",
       "1    1500\n",
       "Name: Wage, dtype: int64"
      ]
     },
     "execution_count": 62,
     "metadata": {},
     "output_type": "execute_result"
    }
   ],
   "source": [
    "df[\"Wage\"]"
   ]
  },
  {
   "cell_type": "code",
   "execution_count": 64,
   "id": "1b59d1c6-b673-49df-bbfb-0a3f596701bf",
   "metadata": {},
   "outputs": [
    {
     "data": {
      "text/html": [
       "<div>\n",
       "<style scoped>\n",
       "    .dataframe tbody tr th:only-of-type {\n",
       "        vertical-align: middle;\n",
       "    }\n",
       "\n",
       "    .dataframe tbody tr th {\n",
       "        vertical-align: top;\n",
       "    }\n",
       "\n",
       "    .dataframe thead th {\n",
       "        text-align: right;\n",
       "    }\n",
       "</style>\n",
       "<table border=\"1\" class=\"dataframe\">\n",
       "  <thead>\n",
       "    <tr style=\"text-align: right;\">\n",
       "      <th></th>\n",
       "      <th>Wage</th>\n",
       "      <th>Name</th>\n",
       "    </tr>\n",
       "  </thead>\n",
       "  <tbody>\n",
       "    <tr>\n",
       "      <th>0</th>\n",
       "      <td>1000</td>\n",
       "      <td>Jack</td>\n",
       "    </tr>\n",
       "    <tr>\n",
       "      <th>1</th>\n",
       "      <td>1500</td>\n",
       "      <td>John</td>\n",
       "    </tr>\n",
       "  </tbody>\n",
       "</table>\n",
       "</div>"
      ],
      "text/plain": [
       "   Wage  Name\n",
       "0  1000  Jack\n",
       "1  1500  John"
      ]
     },
     "execution_count": 64,
     "metadata": {},
     "output_type": "execute_result"
    }
   ],
   "source": [
    "df[[\"Wage\", \"Name\"]]"
   ]
  },
  {
   "cell_type": "code",
   "execution_count": 66,
   "id": "839e1b91-bbdf-4ccb-b992-d608aa3f5641",
   "metadata": {},
   "outputs": [
    {
     "data": {
      "text/html": [
       "<div>\n",
       "<style scoped>\n",
       "    .dataframe tbody tr th:only-of-type {\n",
       "        vertical-align: middle;\n",
       "    }\n",
       "\n",
       "    .dataframe tbody tr th {\n",
       "        vertical-align: top;\n",
       "    }\n",
       "\n",
       "    .dataframe thead th {\n",
       "        text-align: right;\n",
       "    }\n",
       "</style>\n",
       "<table border=\"1\" class=\"dataframe\">\n",
       "  <thead>\n",
       "    <tr style=\"text-align: right;\">\n",
       "      <th></th>\n",
       "      <th>Wage</th>\n",
       "      <th>Name</th>\n",
       "      <th>Age</th>\n",
       "    </tr>\n",
       "  </thead>\n",
       "  <tbody>\n",
       "    <tr>\n",
       "      <th>0</th>\n",
       "      <td>1000</td>\n",
       "      <td>Jack</td>\n",
       "      <td>21</td>\n",
       "    </tr>\n",
       "  </tbody>\n",
       "</table>\n",
       "</div>"
      ],
      "text/plain": [
       "   Wage  Name  Age\n",
       "0  1000  Jack   21"
      ]
     },
     "execution_count": 66,
     "metadata": {},
     "output_type": "execute_result"
    }
   ],
   "source": [
    "df[0:1]  # Slice"
   ]
  },
  {
   "cell_type": "code",
   "execution_count": 68,
   "id": "79457054-f174-470e-afaa-e1ed08cef36b",
   "metadata": {},
   "outputs": [
    {
     "data": {
      "text/html": [
       "<div>\n",
       "<style scoped>\n",
       "    .dataframe tbody tr th:only-of-type {\n",
       "        vertical-align: middle;\n",
       "    }\n",
       "\n",
       "    .dataframe tbody tr th {\n",
       "        vertical-align: top;\n",
       "    }\n",
       "\n",
       "    .dataframe thead th {\n",
       "        text-align: right;\n",
       "    }\n",
       "</style>\n",
       "<table border=\"1\" class=\"dataframe\">\n",
       "  <thead>\n",
       "    <tr style=\"text-align: right;\">\n",
       "      <th></th>\n",
       "      <th>Wage</th>\n",
       "      <th>Name</th>\n",
       "      <th>Age</th>\n",
       "    </tr>\n",
       "  </thead>\n",
       "  <tbody>\n",
       "    <tr>\n",
       "      <th>1</th>\n",
       "      <td>1500</td>\n",
       "      <td>John</td>\n",
       "      <td>29</td>\n",
       "    </tr>\n",
       "  </tbody>\n",
       "</table>\n",
       "</div>"
      ],
      "text/plain": [
       "   Wage  Name  Age\n",
       "1  1500  John   29"
      ]
     },
     "execution_count": 68,
     "metadata": {},
     "output_type": "execute_result"
    }
   ],
   "source": [
    "df[df.Wage > 1200]  # Boolean mask"
   ]
  },
  {
   "cell_type": "code",
   "execution_count": 70,
   "id": "1b0e8cb3-5d1d-444f-9ce6-d0cb7de193e4",
   "metadata": {},
   "outputs": [
    {
     "data": {
      "text/plain": [
       "1500"
      ]
     },
     "execution_count": 70,
     "metadata": {},
     "output_type": "execute_result"
    }
   ],
   "source": [
    "df[\"Wage\"][1]  # Note order of dimensions"
   ]
  },
  {
   "cell_type": "markdown",
   "id": "67c61544-67c9-447f-abc8-cd5c9c118ac1",
   "metadata": {},
   "source": [
    "Exercise 4.4 (municipalities of finland)"
   ]
  },
  {
   "cell_type": "code",
   "execution_count": 75,
   "id": "6609c8f3-6ac6-4891-b816-3d7607b20fb7",
   "metadata": {},
   "outputs": [
    {
     "name": "stdout",
     "output_type": "stream",
     "text": [
      "             Population  Population change from the previous year, %  \\\n",
      "Region 2018                                                            \n",
      "Akaa              16769                                         -0.9   \n",
      "Alajärvi           9831                                         -0.7   \n",
      "Alavieska          2610                                         -1.1   \n",
      "Alavus            11713                                         -1.6   \n",
      "Asikkala           8248                                         -0.9   \n",
      "...                 ...                                          ...   \n",
      "Ylivieska         15251                                          0.3   \n",
      "Ylöjärvi          32878                                          0.2   \n",
      "Ypäjä              2372                                         -0.4   \n",
      "Ähtäri             5906                                         -1.3   \n",
      "Äänekoski         19144                                         -1.2   \n",
      "\n",
      "             Share of Swedish-speakers of the population, %  \\\n",
      "Region 2018                                                   \n",
      "Akaa                                                    0.2   \n",
      "Alajärvi                                                0.1   \n",
      "Alavieska                                               0.2   \n",
      "Alavus                                                  0.1   \n",
      "Asikkala                                                0.2   \n",
      "...                                                     ...   \n",
      "Ylivieska                                               0.3   \n",
      "Ylöjärvi                                                0.3   \n",
      "Ypäjä                                                   0.7   \n",
      "Ähtäri                                                  0.1   \n",
      "Äänekoski                                               0.1   \n",
      "\n",
      "             Share of foreign citizens of the population, %  \\\n",
      "Region 2018                                                   \n",
      "Akaa                                                    1.6   \n",
      "Alajärvi                                                1.9   \n",
      "Alavieska                                               0.6   \n",
      "Alavus                                                  1.1   \n",
      "Asikkala                                                1.6   \n",
      "...                                                     ...   \n",
      "Ylivieska                                               1.2   \n",
      "Ylöjärvi                                                1.2   \n",
      "Ypäjä                                                   1.9   \n",
      "Ähtäri                                                  0.9   \n",
      "Äänekoski                                               1.2   \n",
      "\n",
      "             Proportion of the unemployed among the labour force, %  \\\n",
      "Region 2018                                                           \n",
      "Akaa                                                      14.6        \n",
      "Alajärvi                                                  13.9        \n",
      "Alavieska                                                 10.8        \n",
      "Alavus                                                    11.3        \n",
      "Asikkala                                                  12.0        \n",
      "...                                                        ...        \n",
      "Ylivieska                                                 13.3        \n",
      "Ylöjärvi                                                  11.7        \n",
      "Ypäjä                                                     13.2        \n",
      "Ähtäri                                                    13.0        \n",
      "Äänekoski                                                 19.7        \n",
      "\n",
      "             Proportion of pensioners of the population, %  \n",
      "Region 2018                                                 \n",
      "Akaa                                                  26.1  \n",
      "Alajärvi                                              32.0  \n",
      "Alavieska                                             28.4  \n",
      "Alavus                                                31.5  \n",
      "Asikkala                                              35.5  \n",
      "...                                                    ...  \n",
      "Ylivieska                                             23.1  \n",
      "Ylöjärvi                                              20.3  \n",
      "Ypäjä                                                 31.4  \n",
      "Ähtäri                                                35.1  \n",
      "Äänekoski                                             30.5  \n",
      "\n",
      "[311 rows x 6 columns]\n"
     ]
    }
   ],
   "source": [
    "import pandas as pd\n",
    "\n",
    "def municipalities_of_finland():\n",
    "    \"\"\"Returns DataFrame containing only rows about municipalities\"\"\"\n",
    "    df = pd.read_csv(\"municipal.tsv\", sep=\"\\t\", index_col=\"Region 2018\")\n",
    "    return df.loc[\"Akaa\":\"Äänekoski\"]\n",
    "    \n",
    "def main():\n",
    "    print(municipalities_of_finland())\n",
    "    \n",
    "if __name__ == \"__main__\":\n",
    "    main()"
   ]
  },
  {
   "cell_type": "markdown",
   "id": "ba133276-5e7a-42b6-acbe-b13fc30b9061",
   "metadata": {},
   "source": [
    "Suggested solution:"
   ]
  },
  {
   "cell_type": "code",
   "execution_count": 91,
   "id": "77b89f54-41e5-4767-ad91-b921f3325bf9",
   "metadata": {},
   "outputs": [
    {
     "name": "stdout",
     "output_type": "stream",
     "text": [
      "16769\n",
      "30.5\n",
      "Shape: 311, 6\n",
      "Population\n",
      "Population change from the previous year, %\n",
      "Share of Swedish-speakers of the population, %\n",
      "Share of foreign citizens of the population, %\n",
      "Proportion of the unemployed among the labour force, %\n",
      "Proportion of pensioners of the population, %\n"
     ]
    }
   ],
   "source": [
    "import pandas as pd\n",
    " \n",
    "def municipalities_of_finland():\n",
    "    df = pd.read_csv(\"municipal.tsv\", sep=\"\\t\", index_col=0)\n",
    "    return df[\"Akaa\":\"Äänekoski\"]\n",
    "    \n",
    "def main():\n",
    "    df=municipalities_of_finland()\n",
    "    print(df.iloc[0,0])\n",
    "    print(df.iloc[-1,-1])\n",
    "    #df=pd.DataFrame()\n",
    "    print(\"Shape: {}, {}\".format(*df.shape))\n",
    "    for name in df.columns:\n",
    "        print(name)\n",
    "    \n",
    "if __name__ == \"__main__\":\n",
    "    main()"
   ]
  },
  {
   "cell_type": "markdown",
   "id": "b7c505e1-a77c-4b62-acb1-fae13e25fa60",
   "metadata": {},
   "source": [
    "Exercise 4.5 (swedish and foreigners)"
   ]
  },
  {
   "cell_type": "code",
   "execution_count": 96,
   "id": "4e6f12eb-c435-45fd-a467-24f0f16bcbb9",
   "metadata": {},
   "outputs": [
    {
     "name": "stdout",
     "output_type": "stream",
     "text": [
      "               Population  Share of Swedish-speakers of the population, %  \\\n",
      "Region 2018                                                                 \n",
      "Brändö                452                                            72.6   \n",
      "Eckerö                948                                            89.7   \n",
      "Espoo              279044                                             7.2   \n",
      "Finström             2580                                            89.8   \n",
      "Föglö                 532                                            84.2   \n",
      "Geta                  495                                            86.9   \n",
      "Hammarland           1547                                            89.7   \n",
      "Helsinki           643272                                             5.7   \n",
      "Jomala               4859                                            89.1   \n",
      "Kaskinen             1274                                            29.9   \n",
      "Kirkkonummi         39170                                            16.6   \n",
      "Korsnäs              2154                                            85.8   \n",
      "Kumlinge              314                                            85.4   \n",
      "Kökar                 236                                            87.7   \n",
      "Lapinjärvi           2706                                            31.2   \n",
      "Lemland              2028                                            92.1   \n",
      "Lumparland            395                                            86.6   \n",
      "Mariehamn           11677                                            84.2   \n",
      "Närpiö               9507                                            80.4   \n",
      "Pietarsaari         19379                                            56.2   \n",
      "Saltvik              1873                                            91.9   \n",
      "Sottunga               92                                            93.5   \n",
      "Sund                 1031                                            88.8   \n",
      "Turku              189669                                             5.4   \n",
      "Uusikaarlepyy        7521                                            86.7   \n",
      "Vaasa               67392                                            22.8   \n",
      "Vårdö                 430                                            88.1   \n",
      "Vöyri                6616                                            81.1   \n",
      "\n",
      "               Share of foreign citizens of the population, %  \n",
      "Region 2018                                                    \n",
      "Brändö                                                    8.4  \n",
      "Eckerö                                                   11.5  \n",
      "Espoo                                                    10.5  \n",
      "Finström                                                 10.5  \n",
      "Föglö                                                    17.3  \n",
      "Geta                                                     13.5  \n",
      "Hammarland                                               11.6  \n",
      "Helsinki                                                  9.5  \n",
      "Jomala                                                    8.5  \n",
      "Kaskinen                                                  5.3  \n",
      "Kirkkonummi                                               5.5  \n",
      "Korsnäs                                                   9.1  \n",
      "Kumlinge                                                  8.0  \n",
      "Kökar                                                     8.1  \n",
      "Lapinjärvi                                                5.1  \n",
      "Lemland                                                   8.0  \n",
      "Lumparland                                                9.9  \n",
      "Mariehamn                                                13.0  \n",
      "Närpiö                                                   12.7  \n",
      "Pietarsaari                                               7.1  \n",
      "Saltvik                                                   6.3  \n",
      "Sottunga                                                  5.4  \n",
      "Sund                                                      8.5  \n",
      "Turku                                                     6.5  \n",
      "Uusikaarlepyy                                             6.1  \n",
      "Vaasa                                                     6.0  \n",
      "Vårdö                                                     9.5  \n",
      "Vöyri                                                     5.7  \n"
     ]
    }
   ],
   "source": [
    "import pandas as pd\n",
    "\n",
    "def swedish_and_foreigners():\n",
    "    \"\"\"Returns only columns about population, proportion of Swedish\n",
    "    speaking people, and foreigners for municipalities where\n",
    "    proportion of Swedish speakers and foreigners is above 5%\n",
    "    \"\"\"\n",
    "    df = pd.read_csv(\"municipal.tsv\", sep=\"\\t\", index_col=\"Region 2018\") \n",
    "    municipal = df.loc[\"Akaa\":\"Äänekoski\"]\n",
    "    subset = municipal[\n",
    "        (municipal[\"Share of Swedish-speakers of the population, %\"] > 5.0)\n",
    "        & (municipal[\"Share of foreign citizens of the population, %\"] > 5.0)]\n",
    "    return subset[[\n",
    "        \"Population\",\n",
    "        \"Share of Swedish-speakers of the population, %\",\n",
    "        \"Share of foreign citizens of the population, %\"]]\n",
    "\n",
    "def main():\n",
    "    print(swedish_and_foreigners())\n",
    "\n",
    "if __name__ == \"__main__\":\n",
    "    main()"
   ]
  },
  {
   "cell_type": "markdown",
   "id": "c4298a3e-cdaa-4cef-9ef4-345f539e9274",
   "metadata": {},
   "source": [
    "Exercise 4.6 (growing municipalities)"
   ]
  },
  {
   "cell_type": "code",
   "execution_count": 107,
   "id": "36af9814-0307-4350-87e4-790a66c3572c",
   "metadata": {},
   "outputs": [
    {
     "name": "stdout",
     "output_type": "stream",
     "text": [
      "Proportion of growing municipalities: 22.8%\n"
     ]
    }
   ],
   "source": [
    "import pandas as pd\n",
    "\n",
    "def growing_municipalities(df):\n",
    "    \"\"\"Gets subset of municipalities as input and returns proportion\n",
    "    of municipalities with increasing population in that subset\n",
    "    \"\"\"\n",
    "    growing = len(df[df[\"Population change from the previous year, %\"] > 0])\n",
    "    return (growing / len(df))\n",
    "\n",
    "def main():\n",
    "    df = pd.read_csv(\"municipal.tsv\", sep=\"\\t\", index_col=\"Region 2018\")\n",
    "    subset = df.loc[\"Akaa\":\"Äänekoski\"]\n",
    "    prop = growing_municipalities(subset)\n",
    "    print(f\"Proportion of growing municipalities: {prop:.1%}\")\n",
    "\n",
    "if __name__ == \"__main__\":\n",
    "    main()"
   ]
  }
 ],
 "metadata": {
  "kernelspec": {
   "display_name": "Python [conda env:base] *",
   "language": "python",
   "name": "conda-base-py"
  },
  "language_info": {
   "codemirror_mode": {
    "name": "ipython",
    "version": 3
   },
   "file_extension": ".py",
   "mimetype": "text/x-python",
   "name": "python",
   "nbconvert_exporter": "python",
   "pygments_lexer": "ipython3",
   "version": "3.12.2"
  }
 },
 "nbformat": 4,
 "nbformat_minor": 5
}
