{
 "cells": [
  {
   "cell_type": "code",
   "execution_count": 1,
   "id": "2d57dc30-2088-4775-9cee-cbd63d196e5c",
   "metadata": {},
   "outputs": [],
   "source": [
    "import pandas as pd  # This is the standard way of importing the Pandas library\n",
    "import numpy as np"
   ]
  },
  {
   "cell_type": "code",
   "execution_count": 3,
   "id": "2df8933a-98f3-4466-a36d-47f4e6f972d9",
   "metadata": {},
   "outputs": [
    {
     "data": {
      "text/html": [
       "<div>\n",
       "<style scoped>\n",
       "    .dataframe tbody tr th:only-of-type {\n",
       "        vertical-align: middle;\n",
       "    }\n",
       "\n",
       "    .dataframe tbody tr th {\n",
       "        vertical-align: top;\n",
       "    }\n",
       "\n",
       "    .dataframe thead th {\n",
       "        text-align: right;\n",
       "    }\n",
       "</style>\n",
       "<table border=\"1\" class=\"dataframe\">\n",
       "  <thead>\n",
       "    <tr style=\"text-align: right;\">\n",
       "      <th></th>\n",
       "      <th>Year</th>\n",
       "      <th>m</th>\n",
       "      <th>d</th>\n",
       "      <th>Time</th>\n",
       "      <th>Time zone</th>\n",
       "      <th>Precipitation amount (mm)</th>\n",
       "      <th>Snow depth (cm)</th>\n",
       "      <th>Air temperature (degC)</th>\n",
       "    </tr>\n",
       "  </thead>\n",
       "  <tbody>\n",
       "    <tr>\n",
       "      <th>0</th>\n",
       "      <td>2017</td>\n",
       "      <td>1</td>\n",
       "      <td>1</td>\n",
       "      <td>00:00</td>\n",
       "      <td>UTC</td>\n",
       "      <td>-1.0</td>\n",
       "      <td>-1.0</td>\n",
       "      <td>0.6</td>\n",
       "    </tr>\n",
       "    <tr>\n",
       "      <th>1</th>\n",
       "      <td>2017</td>\n",
       "      <td>1</td>\n",
       "      <td>2</td>\n",
       "      <td>00:00</td>\n",
       "      <td>UTC</td>\n",
       "      <td>4.4</td>\n",
       "      <td>-1.0</td>\n",
       "      <td>-3.9</td>\n",
       "    </tr>\n",
       "    <tr>\n",
       "      <th>2</th>\n",
       "      <td>2017</td>\n",
       "      <td>1</td>\n",
       "      <td>3</td>\n",
       "      <td>00:00</td>\n",
       "      <td>UTC</td>\n",
       "      <td>6.6</td>\n",
       "      <td>7.0</td>\n",
       "      <td>-6.5</td>\n",
       "    </tr>\n",
       "    <tr>\n",
       "      <th>3</th>\n",
       "      <td>2017</td>\n",
       "      <td>1</td>\n",
       "      <td>4</td>\n",
       "      <td>00:00</td>\n",
       "      <td>UTC</td>\n",
       "      <td>-1.0</td>\n",
       "      <td>13.0</td>\n",
       "      <td>-12.8</td>\n",
       "    </tr>\n",
       "    <tr>\n",
       "      <th>4</th>\n",
       "      <td>2017</td>\n",
       "      <td>1</td>\n",
       "      <td>5</td>\n",
       "      <td>00:00</td>\n",
       "      <td>UTC</td>\n",
       "      <td>-1.0</td>\n",
       "      <td>10.0</td>\n",
       "      <td>-17.8</td>\n",
       "    </tr>\n",
       "  </tbody>\n",
       "</table>\n",
       "</div>"
      ],
      "text/plain": [
       "   Year  m  d   Time Time zone  Precipitation amount (mm)  Snow depth (cm)  \\\n",
       "0  2017  1  1  00:00       UTC                       -1.0             -1.0   \n",
       "1  2017  1  2  00:00       UTC                        4.4             -1.0   \n",
       "2  2017  1  3  00:00       UTC                        6.6              7.0   \n",
       "3  2017  1  4  00:00       UTC                       -1.0             13.0   \n",
       "4  2017  1  5  00:00       UTC                       -1.0             10.0   \n",
       "\n",
       "   Air temperature (degC)  \n",
       "0                     0.6  \n",
       "1                    -3.9  \n",
       "2                    -6.5  \n",
       "3                   -12.8  \n",
       "4                   -17.8  "
      ]
     },
     "execution_count": 3,
     "metadata": {},
     "output_type": "execute_result"
    }
   ],
   "source": [
    "wh = pd.read_csv(\"https://raw.githubusercontent.com/csmastersUH/data_analysis_with_python_2020/master/kumpula-weather-2017.csv\")\n",
    "wh.head()  # The head method prints the first 5 rows"
   ]
  },
  {
   "cell_type": "code",
   "execution_count": 5,
   "id": "802a2707-c4e5-43c1-836c-1e0cda97ee51",
   "metadata": {},
   "outputs": [
    {
     "data": {
      "text/plain": [
       "0    -1.0\n",
       "1    -1.0\n",
       "2     7.0\n",
       "3    13.0\n",
       "4    10.0\n",
       "Name: Snow depth (cm), dtype: float64"
      ]
     },
     "execution_count": 5,
     "metadata": {},
     "output_type": "execute_result"
    }
   ],
   "source": [
    "wh[\"Snow depth (cm)\"].head()  # Using the tab key can help enter long column names"
   ]
  },
  {
   "cell_type": "code",
   "execution_count": 7,
   "id": "becaedea-0210-4054-ab3d-961dd233a4ae",
   "metadata": {},
   "outputs": [
    {
     "data": {
      "text/plain": [
       "6.527123287671233"
      ]
     },
     "execution_count": 7,
     "metadata": {},
     "output_type": "execute_result"
    }
   ],
   "source": [
    "wh[\"Air temperature (degC)\"].mean()  # Mean temperature"
   ]
  },
  {
   "cell_type": "code",
   "execution_count": 9,
   "id": "03d3c660-cf84-4d11-b46a-e5ae7e2c3784",
   "metadata": {},
   "outputs": [
    {
     "data": {
      "text/html": [
       "<div>\n",
       "<style scoped>\n",
       "    .dataframe tbody tr th:only-of-type {\n",
       "        vertical-align: middle;\n",
       "    }\n",
       "\n",
       "    .dataframe tbody tr th {\n",
       "        vertical-align: top;\n",
       "    }\n",
       "\n",
       "    .dataframe thead th {\n",
       "        text-align: right;\n",
       "    }\n",
       "</style>\n",
       "<table border=\"1\" class=\"dataframe\">\n",
       "  <thead>\n",
       "    <tr style=\"text-align: right;\">\n",
       "      <th></th>\n",
       "      <th>Year</th>\n",
       "      <th>m</th>\n",
       "      <th>d</th>\n",
       "      <th>Time</th>\n",
       "      <th>Precipitation amount (mm)</th>\n",
       "      <th>Snow depth (cm)</th>\n",
       "      <th>Air temperature (degC)</th>\n",
       "    </tr>\n",
       "  </thead>\n",
       "  <tbody>\n",
       "    <tr>\n",
       "      <th>0</th>\n",
       "      <td>2017</td>\n",
       "      <td>1</td>\n",
       "      <td>1</td>\n",
       "      <td>00:00</td>\n",
       "      <td>-1.0</td>\n",
       "      <td>-1.0</td>\n",
       "      <td>0.6</td>\n",
       "    </tr>\n",
       "    <tr>\n",
       "      <th>1</th>\n",
       "      <td>2017</td>\n",
       "      <td>1</td>\n",
       "      <td>2</td>\n",
       "      <td>00:00</td>\n",
       "      <td>4.4</td>\n",
       "      <td>-1.0</td>\n",
       "      <td>-3.9</td>\n",
       "    </tr>\n",
       "    <tr>\n",
       "      <th>2</th>\n",
       "      <td>2017</td>\n",
       "      <td>1</td>\n",
       "      <td>3</td>\n",
       "      <td>00:00</td>\n",
       "      <td>6.6</td>\n",
       "      <td>7.0</td>\n",
       "      <td>-6.5</td>\n",
       "    </tr>\n",
       "    <tr>\n",
       "      <th>3</th>\n",
       "      <td>2017</td>\n",
       "      <td>1</td>\n",
       "      <td>4</td>\n",
       "      <td>00:00</td>\n",
       "      <td>-1.0</td>\n",
       "      <td>13.0</td>\n",
       "      <td>-12.8</td>\n",
       "    </tr>\n",
       "    <tr>\n",
       "      <th>4</th>\n",
       "      <td>2017</td>\n",
       "      <td>1</td>\n",
       "      <td>5</td>\n",
       "      <td>00:00</td>\n",
       "      <td>-1.0</td>\n",
       "      <td>10.0</td>\n",
       "      <td>-17.8</td>\n",
       "    </tr>\n",
       "  </tbody>\n",
       "</table>\n",
       "</div>"
      ],
      "text/plain": [
       "   Year  m  d   Time  Precipitation amount (mm)  Snow depth (cm)  \\\n",
       "0  2017  1  1  00:00                       -1.0             -1.0   \n",
       "1  2017  1  2  00:00                        4.4             -1.0   \n",
       "2  2017  1  3  00:00                        6.6              7.0   \n",
       "3  2017  1  4  00:00                       -1.0             13.0   \n",
       "4  2017  1  5  00:00                       -1.0             10.0   \n",
       "\n",
       "   Air temperature (degC)  \n",
       "0                     0.6  \n",
       "1                    -3.9  \n",
       "2                    -6.5  \n",
       "3                   -12.8  \n",
       "4                   -17.8  "
      ]
     },
     "execution_count": 9,
     "metadata": {},
     "output_type": "execute_result"
    }
   ],
   "source": [
    "wh.drop(\"Time zone\", axis=1).head()  # Return a copy with one column removed,\n",
    "# the original DataFrame stays intact"
   ]
  },
  {
   "cell_type": "code",
   "execution_count": 11,
   "id": "6d809f52-16d8-4c41-a658-eff7127a3ec1",
   "metadata": {},
   "outputs": [
    {
     "data": {
      "text/html": [
       "<div>\n",
       "<style scoped>\n",
       "    .dataframe tbody tr th:only-of-type {\n",
       "        vertical-align: middle;\n",
       "    }\n",
       "\n",
       "    .dataframe tbody tr th {\n",
       "        vertical-align: top;\n",
       "    }\n",
       "\n",
       "    .dataframe thead th {\n",
       "        text-align: right;\n",
       "    }\n",
       "</style>\n",
       "<table border=\"1\" class=\"dataframe\">\n",
       "  <thead>\n",
       "    <tr style=\"text-align: right;\">\n",
       "      <th></th>\n",
       "      <th>Year</th>\n",
       "      <th>m</th>\n",
       "      <th>d</th>\n",
       "      <th>Time</th>\n",
       "      <th>Time zone</th>\n",
       "      <th>Precipitation amount (mm)</th>\n",
       "      <th>Snow depth (cm)</th>\n",
       "      <th>Air temperature (degC)</th>\n",
       "    </tr>\n",
       "  </thead>\n",
       "  <tbody>\n",
       "    <tr>\n",
       "      <th>0</th>\n",
       "      <td>2017</td>\n",
       "      <td>1</td>\n",
       "      <td>1</td>\n",
       "      <td>00:00</td>\n",
       "      <td>UTC</td>\n",
       "      <td>-1.0</td>\n",
       "      <td>-1.0</td>\n",
       "      <td>0.6</td>\n",
       "    </tr>\n",
       "    <tr>\n",
       "      <th>1</th>\n",
       "      <td>2017</td>\n",
       "      <td>1</td>\n",
       "      <td>2</td>\n",
       "      <td>00:00</td>\n",
       "      <td>UTC</td>\n",
       "      <td>4.4</td>\n",
       "      <td>-1.0</td>\n",
       "      <td>-3.9</td>\n",
       "    </tr>\n",
       "    <tr>\n",
       "      <th>2</th>\n",
       "      <td>2017</td>\n",
       "      <td>1</td>\n",
       "      <td>3</td>\n",
       "      <td>00:00</td>\n",
       "      <td>UTC</td>\n",
       "      <td>6.6</td>\n",
       "      <td>7.0</td>\n",
       "      <td>-6.5</td>\n",
       "    </tr>\n",
       "    <tr>\n",
       "      <th>3</th>\n",
       "      <td>2017</td>\n",
       "      <td>1</td>\n",
       "      <td>4</td>\n",
       "      <td>00:00</td>\n",
       "      <td>UTC</td>\n",
       "      <td>-1.0</td>\n",
       "      <td>13.0</td>\n",
       "      <td>-12.8</td>\n",
       "    </tr>\n",
       "    <tr>\n",
       "      <th>4</th>\n",
       "      <td>2017</td>\n",
       "      <td>1</td>\n",
       "      <td>5</td>\n",
       "      <td>00:00</td>\n",
       "      <td>UTC</td>\n",
       "      <td>-1.0</td>\n",
       "      <td>10.0</td>\n",
       "      <td>-17.8</td>\n",
       "    </tr>\n",
       "  </tbody>\n",
       "</table>\n",
       "</div>"
      ],
      "text/plain": [
       "   Year  m  d   Time Time zone  Precipitation amount (mm)  Snow depth (cm)  \\\n",
       "0  2017  1  1  00:00       UTC                       -1.0             -1.0   \n",
       "1  2017  1  2  00:00       UTC                        4.4             -1.0   \n",
       "2  2017  1  3  00:00       UTC                        6.6              7.0   \n",
       "3  2017  1  4  00:00       UTC                       -1.0             13.0   \n",
       "4  2017  1  5  00:00       UTC                       -1.0             10.0   \n",
       "\n",
       "   Air temperature (degC)  \n",
       "0                     0.6  \n",
       "1                    -3.9  \n",
       "2                    -6.5  \n",
       "3                   -12.8  \n",
       "4                   -17.8  "
      ]
     },
     "execution_count": 11,
     "metadata": {},
     "output_type": "execute_result"
    }
   ],
   "source": [
    "wh.head()  # Original DataFrame is unchanged"
   ]
  },
  {
   "cell_type": "code",
   "execution_count": 13,
   "id": "0e949d96-3ed8-4628-81d5-60551eede203",
   "metadata": {},
   "outputs": [
    {
     "data": {
      "text/html": [
       "<div>\n",
       "<style scoped>\n",
       "    .dataframe tbody tr th:only-of-type {\n",
       "        vertical-align: middle;\n",
       "    }\n",
       "\n",
       "    .dataframe tbody tr th {\n",
       "        vertical-align: top;\n",
       "    }\n",
       "\n",
       "    .dataframe thead th {\n",
       "        text-align: right;\n",
       "    }\n",
       "</style>\n",
       "<table border=\"1\" class=\"dataframe\">\n",
       "  <thead>\n",
       "    <tr style=\"text-align: right;\">\n",
       "      <th></th>\n",
       "      <th>Year</th>\n",
       "      <th>m</th>\n",
       "      <th>d</th>\n",
       "      <th>Time</th>\n",
       "      <th>Time zone</th>\n",
       "      <th>Precipitation amount (mm)</th>\n",
       "      <th>Snow depth (cm)</th>\n",
       "      <th>Air temperature (degC)</th>\n",
       "      <th>Rainy</th>\n",
       "    </tr>\n",
       "  </thead>\n",
       "  <tbody>\n",
       "    <tr>\n",
       "      <th>0</th>\n",
       "      <td>2017</td>\n",
       "      <td>1</td>\n",
       "      <td>1</td>\n",
       "      <td>00:00</td>\n",
       "      <td>UTC</td>\n",
       "      <td>-1.0</td>\n",
       "      <td>-1.0</td>\n",
       "      <td>0.6</td>\n",
       "      <td>False</td>\n",
       "    </tr>\n",
       "    <tr>\n",
       "      <th>1</th>\n",
       "      <td>2017</td>\n",
       "      <td>1</td>\n",
       "      <td>2</td>\n",
       "      <td>00:00</td>\n",
       "      <td>UTC</td>\n",
       "      <td>4.4</td>\n",
       "      <td>-1.0</td>\n",
       "      <td>-3.9</td>\n",
       "      <td>False</td>\n",
       "    </tr>\n",
       "    <tr>\n",
       "      <th>2</th>\n",
       "      <td>2017</td>\n",
       "      <td>1</td>\n",
       "      <td>3</td>\n",
       "      <td>00:00</td>\n",
       "      <td>UTC</td>\n",
       "      <td>6.6</td>\n",
       "      <td>7.0</td>\n",
       "      <td>-6.5</td>\n",
       "      <td>True</td>\n",
       "    </tr>\n",
       "    <tr>\n",
       "      <th>3</th>\n",
       "      <td>2017</td>\n",
       "      <td>1</td>\n",
       "      <td>4</td>\n",
       "      <td>00:00</td>\n",
       "      <td>UTC</td>\n",
       "      <td>-1.0</td>\n",
       "      <td>13.0</td>\n",
       "      <td>-12.8</td>\n",
       "      <td>False</td>\n",
       "    </tr>\n",
       "    <tr>\n",
       "      <th>4</th>\n",
       "      <td>2017</td>\n",
       "      <td>1</td>\n",
       "      <td>5</td>\n",
       "      <td>00:00</td>\n",
       "      <td>UTC</td>\n",
       "      <td>-1.0</td>\n",
       "      <td>10.0</td>\n",
       "      <td>-17.8</td>\n",
       "      <td>False</td>\n",
       "    </tr>\n",
       "  </tbody>\n",
       "</table>\n",
       "</div>"
      ],
      "text/plain": [
       "   Year  m  d   Time Time zone  Precipitation amount (mm)  Snow depth (cm)  \\\n",
       "0  2017  1  1  00:00       UTC                       -1.0             -1.0   \n",
       "1  2017  1  2  00:00       UTC                        4.4             -1.0   \n",
       "2  2017  1  3  00:00       UTC                        6.6              7.0   \n",
       "3  2017  1  4  00:00       UTC                       -1.0             13.0   \n",
       "4  2017  1  5  00:00       UTC                       -1.0             10.0   \n",
       "\n",
       "   Air temperature (degC)  Rainy  \n",
       "0                     0.6  False  \n",
       "1                    -3.9  False  \n",
       "2                    -6.5   True  \n",
       "3                   -12.8  False  \n",
       "4                   -17.8  False  "
      ]
     },
     "execution_count": 13,
     "metadata": {},
     "output_type": "execute_result"
    }
   ],
   "source": [
    "wh[\"Rainy\"] = wh[\"Precipitation amount (mm)\"] > 5\n",
    "wh.head()"
   ]
  },
  {
   "cell_type": "markdown",
   "id": "00375c87-4154-48b5-86de-e6e947748598",
   "metadata": {},
   "source": [
    "Creation and indexing of series"
   ]
  },
  {
   "cell_type": "code",
   "execution_count": 16,
   "id": "3124e4c5-fb49-49f7-ad95-167549259fd9",
   "metadata": {},
   "outputs": [
    {
     "data": {
      "text/plain": [
       "0    1\n",
       "1    4\n",
       "2    5\n",
       "3    2\n",
       "4    5\n",
       "5    2\n",
       "dtype: int64"
      ]
     },
     "execution_count": 16,
     "metadata": {},
     "output_type": "execute_result"
    }
   ],
   "source": [
    "s = pd.Series([1, 4, 5, 2, 5, 2])\n",
    "s"
   ]
  },
  {
   "cell_type": "code",
   "execution_count": 18,
   "id": "08975042-8af9-4859-9bd1-25128e0ae1ec",
   "metadata": {},
   "outputs": [
    {
     "data": {
      "text/plain": [
       "0    1\n",
       "1    4\n",
       "2    5\n",
       "3    2\n",
       "4    5\n",
       "5    2\n",
       "Name: Grades, dtype: int64"
      ]
     },
     "execution_count": 18,
     "metadata": {},
     "output_type": "execute_result"
    }
   ],
   "source": [
    "s.name = \"Grades\"\n",
    "s"
   ]
  },
  {
   "cell_type": "code",
   "execution_count": 20,
   "id": "23f4765f-7a5e-48d3-90ca-8cdbdec77a41",
   "metadata": {},
   "outputs": [
    {
     "name": "stdout",
     "output_type": "stream",
     "text": [
      "Name: Grades, dtype: int64, size: 6\n"
     ]
    }
   ],
   "source": [
    "print(f\"Name: {s.name}, dtype: {s.dtype}, size: {s.size}\")"
   ]
  },
  {
   "cell_type": "code",
   "execution_count": 22,
   "id": "502c3041-424c-4003-9220-501a5d7ac5ca",
   "metadata": {},
   "outputs": [
    {
     "data": {
      "text/plain": [
       "4"
      ]
     },
     "execution_count": 22,
     "metadata": {},
     "output_type": "execute_result"
    }
   ],
   "source": [
    "s[1]"
   ]
  },
  {
   "cell_type": "code",
   "execution_count": 24,
   "id": "dfcffb29-4864-47d0-a475-fe5cb02a20bc",
   "metadata": {},
   "outputs": [
    {
     "name": "stdout",
     "output_type": "stream",
     "text": [
      "0    1\n",
      "5    2\n",
      "Name: Grades, dtype: int64\n"
     ]
    }
   ],
   "source": [
    "s2 = s[[0, 5]]  # Fancy indexing\n",
    "print(s2)"
   ]
  },
  {
   "cell_type": "code",
   "execution_count": 26,
   "id": "2886ba3d-fa3c-4651-851b-2dc817f383c3",
   "metadata": {},
   "outputs": [
    {
     "data": {
      "text/plain": [
       "4    5\n",
       "5    2\n",
       "Name: Grades, dtype: int64"
      ]
     },
     "execution_count": 26,
     "metadata": {},
     "output_type": "execute_result"
    }
   ],
   "source": [
    "t = s[-2:]  # Slicing\n",
    "t"
   ]
  },
  {
   "cell_type": "code",
   "execution_count": 28,
   "id": "4243bcbd-83af-45ab-bb96-c31701e6af0d",
   "metadata": {},
   "outputs": [
    {
     "data": {
      "text/plain": [
       "5"
      ]
     },
     "execution_count": 28,
     "metadata": {},
     "output_type": "execute_result"
    }
   ],
   "source": [
    "t[4]  # t[0] would give an error"
   ]
  },
  {
   "cell_type": "code",
   "execution_count": 30,
   "id": "16a0088d-3175-4b52-855c-6c874d4a9f0c",
   "metadata": {},
   "outputs": [
    {
     "data": {
      "text/plain": [
       "array([1, 2])"
      ]
     },
     "execution_count": 30,
     "metadata": {},
     "output_type": "execute_result"
    }
   ],
   "source": [
    "s2.values"
   ]
  },
  {
   "cell_type": "code",
   "execution_count": 32,
   "id": "bdc0b1a4-a034-4d67-a8fa-396637dd4364",
   "metadata": {},
   "outputs": [
    {
     "data": {
      "text/plain": [
       "Index([0, 5], dtype='int64')"
      ]
     },
     "execution_count": 32,
     "metadata": {},
     "output_type": "execute_result"
    }
   ],
   "source": [
    "s2.index"
   ]
  },
  {
   "cell_type": "code",
   "execution_count": 36,
   "id": "269c48eb-a37d-4832-8f30-a2238e9da175",
   "metadata": {},
   "outputs": [
    {
     "data": {
      "text/plain": [
       "a    1\n",
       "b    4\n",
       "c    5\n",
       "d    2\n",
       "e    5\n",
       "f    2\n",
       "dtype: int64"
      ]
     },
     "execution_count": 36,
     "metadata": {},
     "output_type": "execute_result"
    }
   ],
   "source": [
    "s3 = pd.Series([1, 4, 5, 2, 5, 2],\n",
    "             index=list(\"abcdef\"))\n",
    "s3"
   ]
  },
  {
   "cell_type": "code",
   "execution_count": 38,
   "id": "93e1d1f2-1041-45aa-845b-d722baaf1966",
   "metadata": {},
   "outputs": [
    {
     "data": {
      "text/plain": [
       "Index(['a', 'b', 'c', 'd', 'e', 'f'], dtype='object')"
      ]
     },
     "execution_count": 38,
     "metadata": {},
     "output_type": "execute_result"
    }
   ],
   "source": [
    "s3.index"
   ]
  },
  {
   "cell_type": "code",
   "execution_count": 40,
   "id": "eac0dd81-9bfa-4051-b03b-7feff404abfb",
   "metadata": {},
   "outputs": [
    {
     "data": {
      "text/plain": [
       "4"
      ]
     },
     "execution_count": 40,
     "metadata": {},
     "output_type": "execute_result"
    }
   ],
   "source": [
    "s3[\"b\"]"
   ]
  },
  {
   "cell_type": "code",
   "execution_count": 42,
   "id": "375f82ba-20f5-48b3-a400-8653d86159f4",
   "metadata": {},
   "outputs": [
    {
     "data": {
      "text/plain": [
       "b    4\n",
       "c    5\n",
       "d    2\n",
       "e    5\n",
       "dtype: int64"
      ]
     },
     "execution_count": 42,
     "metadata": {},
     "output_type": "execute_result"
    }
   ],
   "source": [
    "s3[\"b\":\"e\"]"
   ]
  },
  {
   "cell_type": "code",
   "execution_count": 44,
   "id": "a0de4c70-b45b-45b8-a6c8-8fac2ece7ae8",
   "metadata": {},
   "outputs": [
    {
     "name": "stderr",
     "output_type": "stream",
     "text": [
      "/var/folders/qy/5pm1cj9n2tg60w8wm_b_xx180000gn/T/ipykernel_26427/3609381242.py:1: FutureWarning: Series.__getitem__ treating keys as positions is deprecated. In a future version, integer keys will always be treated as labels (consistent with DataFrame behavior). To access a value by position, use `ser.iloc[pos]`\n",
      "  s3[1]\n"
     ]
    },
    {
     "data": {
      "text/plain": [
       "4"
      ]
     },
     "execution_count": 44,
     "metadata": {},
     "output_type": "execute_result"
    }
   ],
   "source": [
    "s3[1]"
   ]
  },
  {
   "cell_type": "code",
   "execution_count": 46,
   "id": "938fa00e-4330-4eae-a57f-f5bbf0418e10",
   "metadata": {},
   "outputs": [
    {
     "data": {
      "text/plain": [
       "1     Jack\n",
       "2    Jones\n",
       "3    James\n",
       "dtype: object"
      ]
     },
     "execution_count": 46,
     "metadata": {},
     "output_type": "execute_result"
    }
   ],
   "source": [
    "s4 = pd.Series([\"Jack\", \"Jones\", \"James\"], index=[1, 2, 3])\n",
    "s4"
   ]
  },
  {
   "cell_type": "code",
   "execution_count": 48,
   "id": "1015bea5-e1f9-4242-9ab2-7d4dd6999fe8",
   "metadata": {},
   "outputs": [
    {
     "name": "stdout",
     "output_type": "stream",
     "text": [
      "Jack\n",
      "Jones\n"
     ]
    }
   ],
   "source": [
    "print(s4.loc[1])\n",
    "print(s4.iloc[1])"
   ]
  },
  {
   "cell_type": "markdown",
   "id": "46b318a3-de8d-401b-a696-30f5677c3832",
   "metadata": {},
   "source": [
    "Exercise 3.13 (read series)"
   ]
  },
  {
   "cell_type": "code",
   "execution_count": 51,
   "id": "97461d7e-13ef-41b0-9399-8ed798b2c7e4",
   "metadata": {},
   "outputs": [
    {
     "name": "stdin",
     "output_type": "stream",
     "text": [
      " 0 a\n",
      " 1 b\n",
      " 2 c\n",
      " \n"
     ]
    },
    {
     "name": "stdout",
     "output_type": "stream",
     "text": [
      "0    a\n",
      "1    b\n",
      "2    c\n",
      "dtype: object\n"
     ]
    }
   ],
   "source": [
    "def read_series():\n",
    "    \"\"\"Reads input lines from the user and returns a Series,\n",
    "    input index and corresponding value separated by whitespace\"\"\"\n",
    "    import pandas as pd\n",
    "    index = []\n",
    "    values = []\n",
    "    while True:\n",
    "        lines = input()\n",
    "        if len(lines) == 0:\n",
    "            break\n",
    "        elif len(lines.split()) != 2:\n",
    "            raise Exception\n",
    "        else:\n",
    "            index.append(lines.split()[0])\n",
    "            values.append(lines.split()[1])\n",
    "    return pd.Series(values, index=index)\n",
    "\n",
    "def main():\n",
    "    print(read_series())\n",
    "\n",
    "if __name__ == \"__main__\":\n",
    "    main()"
   ]
  },
  {
   "cell_type": "markdown",
   "id": "60b3831a-a56b-4b69-88b3-1582a1e1d2db",
   "metadata": {},
   "source": [
    "Suggested solution:"
   ]
  },
  {
   "cell_type": "code",
   "execution_count": 56,
   "id": "b572ed3d-cb42-40c2-a1ae-b9c63dcd7e87",
   "metadata": {},
   "outputs": [
    {
     "name": "stdin",
     "output_type": "stream",
     "text": [
      " 0 a\n",
      " 1 b\n",
      " 2 c\n",
      " \n"
     ]
    },
    {
     "name": "stdout",
     "output_type": "stream",
     "text": [
      "0    a\n",
      "1    b\n",
      "2    c\n",
      "dtype: object\n"
     ]
    }
   ],
   "source": [
    "import pandas as pd\n",
    " \n",
    "def read_series():\n",
    "    values=[]\n",
    "    indices=[]\n",
    "    while True:\n",
    "        line = input(\"\")\n",
    "        if not line:\n",
    "            break\n",
    "        i, v = line.split()\n",
    "        values.append(v)\n",
    "        indices.append(i)\n",
    "    s = pd.Series(values, index=indices)\n",
    "    return s\n",
    " \n",
    "def main():\n",
    "    print(read_series())\n",
    " \n",
    "if __name__ == \"__main__\":\n",
    "    main()"
   ]
  },
  {
   "cell_type": "markdown",
   "id": "6c7c7657-3e6d-4ccc-8b59-14574c056846",
   "metadata": {},
   "source": [
    "Exercise 3.14 (operations on series)"
   ]
  },
  {
   "cell_type": "code",
   "execution_count": 59,
   "id": "1173fb6f-4507-40e9-9124-222e400e27bc",
   "metadata": {},
   "outputs": [
    {
     "name": "stdout",
     "output_type": "stream",
     "text": [
      "a    5.0\n",
      "b    NaN\n",
      "c    9.0\n",
      "d    NaN\n",
      "dtype: float64\n"
     ]
    }
   ],
   "source": [
    "import pandas as pd\n",
    "\n",
    "def create_series(L1, L2):\n",
    "    \"\"\"Gets two list of numbers of length 3,\n",
    "    returns one series with values from first list,\n",
    "    returns second series with values from second list,\n",
    "    indices are a, b, and c for both\n",
    "    \"\"\"\n",
    "    s1 = pd.Series(L1, index=[\"a\", \"b\", \"c\"])\n",
    "    s2 = pd.Series(L2, index=[\"a\", \"b\", \"c\"])\n",
    "    return (s1, s2)\n",
    "    \n",
    "def modify_series(s1, s2):\n",
    "    \"\"\"Add first series a new value with index d that is\n",
    "    same as the value from s2 with index b, deletes value with\n",
    "    index b from s2\n",
    "    \"\"\"\n",
    "    s1[\"d\"] = s2[\"b\"]\n",
    "    del s2[\"b\"]\n",
    "    return (s1, s2)\n",
    "    \n",
    "def main():\n",
    "    L1 = [1, 2, 3]\n",
    "    L2 = [4, 5, 6]\n",
    "    s1, s2 = create_series(L1, L2)\n",
    "    s1, s2 = modify_series(s1, s2)\n",
    "    print(s1 + s2)\n",
    "    \n",
    "if __name__ == \"__main__\":\n",
    "    main()"
   ]
  },
  {
   "cell_type": "markdown",
   "id": "72f7b003-6c8b-47e0-8aed-da3da5d76db6",
   "metadata": {},
   "source": [
    "Suggested solution:"
   ]
  },
  {
   "cell_type": "code",
   "execution_count": 62,
   "id": "510f36fe-3f1c-4b14-96cb-e39522b9b10f",
   "metadata": {},
   "outputs": [
    {
     "name": "stdout",
     "output_type": "stream",
     "text": [
      "Original:\n",
      "a    2\n",
      "b    3\n",
      "c    4\n",
      "dtype: int64\n",
      "a    9\n",
      "b    8\n",
      "c    7\n",
      "dtype: int64\n",
      "Modified:\n",
      "a    2\n",
      "b    3\n",
      "c    4\n",
      "d    8\n",
      "dtype: int64\n",
      "a    9\n",
      "c    7\n",
      "dtype: int64\n",
      "Addition:\n",
      "a    11.0\n",
      "b     NaN\n",
      "c    11.0\n",
      "d     NaN\n",
      "dtype: float64\n",
      "Note that the resulting type gets \n",
      "    converted to float to accomodate the missing value symbol NaN\n"
     ]
    }
   ],
   "source": [
    "import pandas as pd\n",
    " \n",
    "def create_series(L1, L2):\n",
    "    indices = list(\"abc\")\n",
    "    s1 = pd.Series(L1, indices)\n",
    "    s2 = pd.Series(L2, indices)\n",
    "    return (s1, s2)\n",
    "    \n",
    "def modify_series(s1, s2):\n",
    "    s1[\"d\"] = s2[\"b\"]\n",
    "    del s2[\"b\"]\n",
    "    return s1, s2\n",
    "    \n",
    "def main():\n",
    "    s1, s2 = create_series([2,3,4], [9,8,7])\n",
    "    print(\"Original:\")\n",
    "    print(s1)\n",
    "    print(s2)\n",
    "    s1, s2 = modify_series(s1, s2)\n",
    "    print(\"Modified:\")\n",
    "    print(s1)\n",
    "    print(s2)\n",
    "    print(\"Addition:\")\n",
    "    print(s1 + s2)\n",
    "    print(\"\"\"Note that the resulting type gets \n",
    "    converted to float to accomodate the missing value symbol NaN\"\"\")\n",
    "    \n",
    "if __name__ == \"__main__\":\n",
    "    main()"
   ]
  },
  {
   "cell_type": "markdown",
   "id": "f92a91bf-2723-4f71-bbcb-f357e8e9899b",
   "metadata": {},
   "source": [
    "Exercise 3.15 (inverse series)"
   ]
  },
  {
   "cell_type": "code",
   "execution_count": 65,
   "id": "dc83a82a-99dc-43f6-93af-8ea7a352f9a3",
   "metadata": {},
   "outputs": [
    {
     "name": "stdout",
     "output_type": "stream",
     "text": [
      "0    1\n",
      "1    1\n",
      "1    1\n",
      "2    1\n",
      "3    1\n",
      "dtype: int64\n"
     ]
    }
   ],
   "source": [
    "import pandas as pd\n",
    "\n",
    "def inverse_series(s):\n",
    "    \"\"\"Returns series with indices and values swapped\"\"\"\n",
    "    new_values = s.index\n",
    "    new_indices = s.values\n",
    "    return pd.Series(new_values, index=new_indices)\n",
    "\n",
    "def main():\n",
    "    test = pd.Series([0, 1, 1, 2, 3], index=[1, 1, 1, 1, 1])\n",
    "    print(inverse_series(test))\n",
    "\n",
    "if __name__ == \"__main__\":\n",
    "    main()"
   ]
  },
  {
   "cell_type": "markdown",
   "id": "2513d551-acda-4078-aa9a-d21c305b7990",
   "metadata": {},
   "source": [
    "Suggested solution:"
   ]
  },
  {
   "cell_type": "code",
   "execution_count": 68,
   "id": "7a242c74-cb85-4a4c-b04b-486ef5d6e28e",
   "metadata": {},
   "outputs": [
    {
     "name": "stdout",
     "output_type": "stream",
     "text": [
      "1    a\n",
      "2    b\n",
      "3    c\n",
      "1    d\n",
      "dtype: object\n"
     ]
    }
   ],
   "source": [
    "import pandas as pd\n",
    " \n",
    "def inverse_series(s):\n",
    "    return pd.Series(s.index, s.values)\n",
    " \n",
    "def main():\n",
    "    s = pd.Series([1,2,3,1], index=list(\"abcd\"))\n",
    "    print(inverse_series(s))\n",
    " \n",
    "if __name__ == \"__main__\":\n",
    "    main()"
   ]
  },
  {
   "cell_type": "code",
   "execution_count": 70,
   "id": "1a0a71e1-b228-4d0c-a99f-374526ed82ce",
   "metadata": {},
   "outputs": [
    {
     "data": {
      "text/plain": [
       "2001     Bush\n",
       "2005     Bush\n",
       "2009    Obama\n",
       "2013    Obama\n",
       "2017    Trump\n",
       "Name: Presidents, dtype: object"
      ]
     },
     "execution_count": 70,
     "metadata": {},
     "output_type": "execute_result"
    }
   ],
   "source": [
    "d = { 2001 : \"Bush\", 2005 : \"Bush\", 2009 : \"Obama\", 2013 : \"Obama\", 2017 : \"Trump\"}\n",
    "s4 = pd.Series(d, name=\"Presidents\")\n",
    "s4"
   ]
  }
 ],
 "metadata": {
  "kernelspec": {
   "display_name": "Python [conda env:base] *",
   "language": "python",
   "name": "conda-base-py"
  },
  "language_info": {
   "codemirror_mode": {
    "name": "ipython",
    "version": 3
   },
   "file_extension": ".py",
   "mimetype": "text/x-python",
   "name": "python",
   "nbconvert_exporter": "python",
   "pygments_lexer": "ipython3",
   "version": "3.12.2"
  }
 },
 "nbformat": 4,
 "nbformat_minor": 5
}
