{
 "cells": [
  {
   "cell_type": "code",
   "execution_count": 1,
   "id": "a5cfe893-ad59-44f7-9e81-970bea976f23",
   "metadata": {},
   "outputs": [],
   "source": [
    "import numpy as np"
   ]
  },
  {
   "cell_type": "markdown",
   "id": "89969dc1-e65d-446e-be7d-93667afc1009",
   "metadata": {},
   "source": [
    "Comparisons and masking"
   ]
  },
  {
   "cell_type": "code",
   "execution_count": 4,
   "id": "c65843dc-d122-4200-ac94-026f532d8910",
   "metadata": {},
   "outputs": [
    {
     "name": "stdout",
     "output_type": "stream",
     "text": [
      "[ True False  True]\n"
     ]
    }
   ],
   "source": [
    "a = np.array([1, 3, 4])\n",
    "b = np.array([2, 2, 7])\n",
    "c = a < b\n",
    "print(c)"
   ]
  },
  {
   "cell_type": "code",
   "execution_count": 6,
   "id": "28e358a0-4154-4355-855a-7286117ca3ca",
   "metadata": {},
   "outputs": [
    {
     "name": "stdout",
     "output_type": "stream",
     "text": [
      "False\n",
      "True\n"
     ]
    }
   ],
   "source": [
    "print(c.all())  # were all True\n",
    "print(c.any())  # was some comparison True"
   ]
  },
  {
   "cell_type": "code",
   "execution_count": 10,
   "id": "eb8f2135-1b3c-4183-b411-f8fa1d2511db",
   "metadata": {},
   "outputs": [
    {
     "name": "stdout",
     "output_type": "stream",
     "text": [
      "2\n"
     ]
    }
   ],
   "source": [
    "print(np.sum(c))  # prints number that were True"
   ]
  },
  {
   "cell_type": "code",
   "execution_count": 12,
   "id": "6c732a07-4dcf-4b84-b7c1-ab7d595099bb",
   "metadata": {},
   "outputs": [
    {
     "name": "stdout",
     "output_type": "stream",
     "text": [
      "[ True  True  True]\n"
     ]
    }
   ],
   "source": [
    "print(a > 0)"
   ]
  },
  {
   "cell_type": "code",
   "execution_count": 14,
   "id": "3b696238-186d-4dff-8b62-a9acf45ca4f4",
   "metadata": {},
   "outputs": [],
   "source": [
    "import pandas as pd\n",
    "a=pd.read_csv(\"https://raw.githubusercontent.com/csmastersUH/data_analysis_with_python_2020/master/kumpula-weather-2017.csv\")['Air temperature (degC)'].values"
   ]
  },
  {
   "cell_type": "code",
   "execution_count": 16,
   "id": "ff126b70-66fb-4af8-9390-04b7d65f85fb",
   "metadata": {},
   "outputs": [
    {
     "data": {
      "text/plain": [
       "array([  0.6,  -3.9,  -6.5, -12.8, -17.8, -17.8,  -3.8,  -0.5,   0.5,\n",
       "         1.7,  -1.6,  -2.8,   1.1,   0.8,  -2.8,  -4.2,  -3.5,   1.1,\n",
       "         1.6,  -0.6,  -1.8,   1. ,   0.1,  -2.2,  -3.8,   1.9,   1.6,\n",
       "         0.8,   0.6,   1. ,   0.2,  -0.6,  -0.8,  -0.2,   0.4,  -2.5,\n",
       "        -7.3, -12.1,  -8.8, -10.1,  -8.3,  -5.4,  -2.7,   1.5,   4.4,\n",
       "         0. ,   0.5,   1.5,   1.9,   2.2,   0.4,  -2.5,  -4.6,  -0.7,\n",
       "        -5.3,  -5.6,  -2. ,  -2.3,   2.1,   1.5,   1.5,   0.9,  -1.8,\n",
       "        -4.2,  -4.2,  -2.9,   0.2,   1.2,   1.4,   2.2,  -0.9,   0.6,\n",
       "         0.6,   3.8,   3.4,   2. ,   1.6,   0.6,   0.2,   1.6,   2.3,\n",
       "         2.5,   0.5,   1.9,   4.8,   6.6,   2.4,   0.4,  -0.4,   0.2,\n",
       "         1.5,   4.3,   3. ,   3.8,   3.3,   4.7,   4.1,   3.3,   3.7,\n",
       "         6. ,   4.3,   1.8,   1.2,  -0.5,  -1.4,  -1.7,   0.6,   0.3,\n",
       "         1.2,   2.5,   5.7,   3.1,   2.9,   3.6,   2.8,   3.2,   4.4,\n",
       "         4.1,   2.3,   2.2,   7.6,   9.4,   9.2,   6.7,  10.1,  11.1,\n",
       "         6.1,   4.4,   1.5,   1.5,   2.9,   5.1,   7.5,   9.8,   9. ,\n",
       "         7.3,   9.4,  11.2,  16.1,  16.9,  14.7,  14.6,  13.3,  12.4,\n",
       "        14.1,  14.1,   9.6,  13.2,  14.1,   9.6,  10.8,   6.5,   6.2,\n",
       "        10. ,   9.9,  10.4,  14.5,  16.4,  12.3,  14. ,  16.3,  16.8,\n",
       "        12.6,  12.6,  14.8,  15.1,  18.4,  19.3,  16.9,  17.8,  12.7,\n",
       "        12.4,  12.2,  10.8,  12.9,  14. ,  13.5,  13.7,  15.3,  16.3,\n",
       "        17.2,  14.1,  16.4,  14.5,  14.1,  14. ,  11.5,  14.7,  16.1,\n",
       "        17.4,  18. ,  16.8,  16.8,  14.7,  15.3,  16.7,  18. ,  15.4,\n",
       "        15. ,  13.7,  14.6,  15.8,  15.6,  16.9,  15.7,  16.1,  17.2,\n",
       "        19. ,  19.1,  17.8,  18.3,  17.8,  18.9,  17.5,  18.2,  16.6,\n",
       "        17.1,  16. ,  15.2,  17.2,  18.3,  18.7,  18.1,  19.6,  17.4,\n",
       "        16.1,  16.4,  17.6,  19. ,  18. ,  18.2,  17.4,  16.2,  14.9,\n",
       "        13.5,  12.9,  11.2,  10.4,  10.7,  12. ,  14.4,  16.8,  17.2,\n",
       "        15.1,  12.9,  12.9,  11.9,  11.4,  10.4,  10.3,  10.6,  13.1,\n",
       "        14.6,  14.6,  14.9,  14.4,  12.9,  12.2,  12.1,   9.9,   8.7,\n",
       "         9. ,   9.2,  12.4,  11.5,  12.8,  12.5,  12.6,  12. ,  12.1,\n",
       "        10.1,   8.9,   8.8,   9.1,   9.2,   8.3,  11.2,   8.8,   7.7,\n",
       "         8.1,   9.3,   8.6,   8.1,   6.9,   6. ,   7.5,   7.2,   8.3,\n",
       "        10.7,   8.5,   8.3,   4.6,   2. ,   0.2,   0.1,   1.3,   0.8,\n",
       "         2.1,   0.3,  -0.3,   3.3,   2.1,   1.2,  -0.4,   0.1,   0.5,\n",
       "         3.2,   8. ,   8.4,   7.5,   3.9,   5.9,   6.7,   7.2,   5.9,\n",
       "         3.1,   2.4,   1.8,   3.1,   3.5,   5.8,   5.9,   4. ,   1.2,\n",
       "         0.9,   1. ,   1.5,   6.1,   4.2,   2.3,   4.6,   3.9,   2.8,\n",
       "         3.1,   0.9,   1.4,   5. ,   1.3,   0. ,  -1.2,  -0.8,   5.2,\n",
       "         4.2,   2. ,   1.4,   1.6,   1.6,   1.6,   1.7,   2.4,   0.1,\n",
       "         2. ,   1. ,   2.6,   2.5,  -0.1,   1.2,  -0.3,   0.3,   1.9,\n",
       "         3.8,   2.8,   3.8,   2.5,   1.6])"
      ]
     },
     "execution_count": 16,
     "metadata": {},
     "output_type": "execute_result"
    }
   ],
   "source": [
    "a"
   ]
  },
  {
   "cell_type": "code",
   "execution_count": 18,
   "id": "c9bd6a5c-43dc-4cdd-b4e0-3221c80fb3c7",
   "metadata": {},
   "outputs": [
    {
     "name": "stdout",
     "output_type": "stream",
     "text": [
      "Number of days with the temperature below zero 49\n"
     ]
    }
   ],
   "source": [
    "print(\"Number of days with the temperature below zero\", np.sum(a < 0))"
   ]
  },
  {
   "cell_type": "code",
   "execution_count": 20,
   "id": "2fb830d3-2406-4c79-9bc5-e940e0faa07b",
   "metadata": {},
   "outputs": [
    {
     "data": {
      "text/plain": [
       "185"
      ]
     },
     "execution_count": 20,
     "metadata": {},
     "output_type": "execute_result"
    }
   ],
   "source": [
    "np.sum((0 < a) & (a < 10))  # temperature is greater than 0 and less than 10"
   ]
  },
  {
   "cell_type": "code",
   "execution_count": 22,
   "id": "d0468a86-cefa-4cdd-85b0-0e3de79c7339",
   "metadata": {},
   "outputs": [
    {
     "name": "stdout",
     "output_type": "stream",
     "text": [
      "[ True False False False False False False False  True  True]\n",
      "[ 0.6  0.5  1.7  1.1  0.8  1.1  1.6  1.   0.1  1.9  1.6  0.8  0.6  1.\n",
      "  0.2  0.4  1.5  4.4  0.5  1.5  1.9  2.2  0.4  2.1  1.5  1.5  0.9  0.2\n",
      "  1.2  1.4  2.2  0.6  0.6  3.8  3.4  2.   1.6  0.6  0.2  1.6  2.3  2.5\n",
      "  0.5  1.9  4.8  6.6  2.4  0.4  0.2  1.5  4.3  3.   3.8  3.3  4.7  4.1\n",
      "  3.3  3.7  6.   4.3  1.8  1.2  0.6  0.3  1.2  2.5  5.7  3.1  2.9  3.6\n",
      "  2.8  3.2  4.4  4.1  2.3  2.2  7.6  9.4  9.2  6.7 10.1 11.1  6.1  4.4\n",
      "  1.5  1.5  2.9  5.1  7.5  9.8  9.   7.3  9.4 11.2 16.1 16.9 14.7 14.6\n",
      " 13.3 12.4 14.1 14.1  9.6 13.2 14.1  9.6 10.8  6.5  6.2 10.   9.9 10.4\n",
      " 14.5 16.4 12.3 14.  16.3 16.8 12.6 12.6 14.8 15.1 18.4 19.3 16.9 17.8\n",
      " 12.7 12.4 12.2 10.8 12.9 14.  13.5 13.7 15.3 16.3 17.2 14.1 16.4 14.5\n",
      " 14.1 14.  11.5 14.7 16.1 17.4 18.  16.8 16.8 14.7 15.3 16.7 18.  15.4\n",
      " 15.  13.7 14.6 15.8 15.6 16.9 15.7 16.1 17.2 19.  19.1 17.8 18.3 17.8\n",
      " 18.9 17.5 18.2 16.6 17.1 16.  15.2 17.2 18.3 18.7 18.1 19.6 17.4 16.1\n",
      " 16.4 17.6 19.  18.  18.2 17.4 16.2 14.9 13.5 12.9 11.2 10.4 10.7 12.\n",
      " 14.4 16.8 17.2 15.1 12.9 12.9 11.9 11.4 10.4 10.3 10.6 13.1 14.6 14.6\n",
      " 14.9 14.4 12.9 12.2 12.1  9.9  8.7  9.   9.2 12.4 11.5 12.8 12.5 12.6\n",
      " 12.  12.1 10.1  8.9  8.8  9.1  9.2  8.3 11.2  8.8  7.7  8.1  9.3  8.6\n",
      "  8.1  6.9  6.   7.5  7.2  8.3 10.7  8.5  8.3  4.6  2.   0.2  0.1  1.3\n",
      "  0.8  2.1  0.3  3.3  2.1  1.2  0.1  0.5  3.2  8.   8.4  7.5  3.9  5.9\n",
      "  6.7  7.2  5.9  3.1  2.4  1.8  3.1  3.5  5.8  5.9  4.   1.2  0.9  1.\n",
      "  1.5  6.1  4.2  2.3  4.6  3.9  2.8  3.1  0.9  1.4  5.   1.3  5.2  4.2\n",
      "  2.   1.4  1.6  1.6  1.6  1.7  2.4  0.1  2.   1.   2.6  2.5  1.2  0.3\n",
      "  1.9  3.8  2.8  3.8  2.5  1.6]\n"
     ]
    }
   ],
   "source": [
    "c = a > 0\n",
    "print(c[:10])  # print only the first ten elements\n",
    "print(a[c])    # select only the positive temperatures"
   ]
  },
  {
   "cell_type": "code",
   "execution_count": 24,
   "id": "79ff20e6-0cda-4d47-80e1-3bf5a71cbfbf",
   "metadata": {},
   "outputs": [
    {
     "name": "stdout",
     "output_type": "stream",
     "text": [
      "[ 0.6  0.   0.   0.   0.   0.   0.   0.   0.5  1.7  0.   0.   1.1  0.8\n",
      "  0.   0.   0.   1.1  1.6  0.   0.   1.   0.1  0.   0.   1.9  1.6  0.8\n",
      "  0.6  1.   0.2  0.   0.   0.   0.4  0.   0.   0.   0.   0.   0.   0.\n",
      "  0.   1.5  4.4  0.   0.5  1.5  1.9  2.2  0.4  0.   0.   0.   0.   0.\n",
      "  0.   0.   2.1  1.5  1.5  0.9  0.   0.   0.   0.   0.2  1.2  1.4  2.2\n",
      "  0.   0.6  0.6  3.8  3.4  2.   1.6  0.6  0.2  1.6  2.3  2.5  0.5  1.9\n",
      "  4.8  6.6  2.4  0.4  0.   0.2  1.5  4.3  3.   3.8  3.3  4.7  4.1  3.3\n",
      "  3.7  6.   4.3  1.8  1.2  0.   0.   0.   0.6  0.3  1.2  2.5  5.7  3.1\n",
      "  2.9  3.6  2.8  3.2  4.4  4.1  2.3  2.2  7.6  9.4  9.2  6.7 10.1 11.1\n",
      "  6.1  4.4  1.5  1.5  2.9  5.1  7.5  9.8  9.   7.3  9.4 11.2 16.1 16.9\n",
      " 14.7 14.6 13.3 12.4 14.1 14.1  9.6 13.2 14.1  9.6 10.8  6.5  6.2 10.\n",
      "  9.9 10.4 14.5 16.4 12.3 14.  16.3 16.8 12.6 12.6 14.8 15.1 18.4 19.3\n",
      " 16.9 17.8 12.7 12.4 12.2 10.8 12.9 14.  13.5 13.7 15.3 16.3 17.2 14.1\n",
      " 16.4 14.5 14.1 14.  11.5 14.7 16.1 17.4 18.  16.8 16.8 14.7 15.3 16.7\n",
      " 18.  15.4 15.  13.7 14.6 15.8 15.6 16.9 15.7 16.1 17.2 19.  19.1 17.8\n",
      " 18.3 17.8 18.9 17.5 18.2 16.6 17.1 16.  15.2 17.2 18.3 18.7 18.1 19.6\n",
      " 17.4 16.1 16.4 17.6 19.  18.  18.2 17.4 16.2 14.9 13.5 12.9 11.2 10.4\n",
      " 10.7 12.  14.4 16.8 17.2 15.1 12.9 12.9 11.9 11.4 10.4 10.3 10.6 13.1\n",
      " 14.6 14.6 14.9 14.4 12.9 12.2 12.1  9.9  8.7  9.   9.2 12.4 11.5 12.8\n",
      " 12.5 12.6 12.  12.1 10.1  8.9  8.8  9.1  9.2  8.3 11.2  8.8  7.7  8.1\n",
      "  9.3  8.6  8.1  6.9  6.   7.5  7.2  8.3 10.7  8.5  8.3  4.6  2.   0.2\n",
      "  0.1  1.3  0.8  2.1  0.3  0.   3.3  2.1  1.2  0.   0.1  0.5  3.2  8.\n",
      "  8.4  7.5  3.9  5.9  6.7  7.2  5.9  3.1  2.4  1.8  3.1  3.5  5.8  5.9\n",
      "  4.   1.2  0.9  1.   1.5  6.1  4.2  2.3  4.6  3.9  2.8  3.1  0.9  1.4\n",
      "  5.   1.3  0.   0.   0.   5.2  4.2  2.   1.4  1.6  1.6  1.6  1.7  2.4\n",
      "  0.1  2.   1.   2.6  2.5  0.   1.2  0.   0.3  1.9  3.8  2.8  3.8  2.5\n",
      "  1.6]\n"
     ]
    }
   ],
   "source": [
    "a[~c] = 0\n",
    "print(a)"
   ]
  },
  {
   "cell_type": "markdown",
   "id": "158103b5-1a94-404c-b704-2240d15e83fa",
   "metadata": {},
   "source": [
    "Exercise 3.1 (column comparison)"
   ]
  },
  {
   "cell_type": "code",
   "execution_count": 31,
   "id": "329cff93-880a-4cf4-a16b-8b9982b13cf8",
   "metadata": {},
   "outputs": [
    {
     "name": "stdout",
     "output_type": "stream",
     "text": [
      "[[8 9 3 8 8]\n",
      " [5 7 6 0 4]\n",
      " [7 8 1 6 2]]\n"
     ]
    }
   ],
   "source": [
    "import numpy as np\n",
    "\n",
    "def column_comparison(a):\n",
    "    \"\"\"Returns array containing rows where value in second column\n",
    "    are larger than in second to last\n",
    "    \"\"\"\n",
    "    return a[a[:,1] > a[:,-2]]\n",
    "    \n",
    "def main():\n",
    "    test = np.array([[8, 9, 3, 8, 8], \n",
    "                     [0, 5, 3, 9, 9],\n",
    "                     [5, 7, 6, 0, 4],\n",
    "                     [7, 8, 1, 6, 2],\n",
    "                     [2, 1, 3, 5, 8]])\n",
    "    print(column_comparison(test))\n",
    "\n",
    "if __name__ == \"__main__\":\n",
    "    main()"
   ]
  },
  {
   "cell_type": "markdown",
   "id": "9fd2915f-bbf2-4f4e-9975-bfab81541f3b",
   "metadata": {},
   "source": [
    "Exercise 3.2 (first half second half)"
   ]
  },
  {
   "cell_type": "markdown",
   "id": "c6988c4e-908c-4bf5-869d-4e6734721282",
   "metadata": {},
   "source": [
    "My solution:"
   ]
  },
  {
   "cell_type": "code",
   "execution_count": 34,
   "id": "012eba1c-2875-4aca-b939-e9b8d7a5ef45",
   "metadata": {},
   "outputs": [
    {
     "name": "stdout",
     "output_type": "stream",
     "text": [
      "[[2 2 1 2]]\n"
     ]
    }
   ],
   "source": [
    "import numpy as np\n",
    "\n",
    "def first_half_second_half(a):\n",
    "    \"\"\"Returns rows from input array where sum of first half \n",
    "    of elements in each row is larger than sum of second half\n",
    "    \"\"\"\n",
    "    n, m = a.shape\n",
    "    half = int(m / 2)\n",
    "    # lhs/rhs of boolean index will each have array with n, m shape\n",
    "    # changing axis will sum the values of the same row \n",
    "    return a[np.sum(a[:,:half], axis=1) > np.sum(a[:,half:], axis=1)]\n",
    "\n",
    "\n",
    "def main():\n",
    "    test = np.array([[1, 3, 4, 2],\n",
    "                     [2, 2, 1, 2]])\n",
    "    print(first_half_second_half(test))\n",
    "\n",
    "if __name__ == \"__main__\":\n",
    "    main()"
   ]
  },
  {
   "cell_type": "markdown",
   "id": "1335e31f-cea6-4ef6-b3d6-5216fc046d51",
   "metadata": {},
   "source": [
    "Suggested solution:"
   ]
  },
  {
   "cell_type": "code",
   "execution_count": 37,
   "id": "f2d1352e-f1d2-4a8b-80b6-717b6a1950f7",
   "metadata": {},
   "outputs": [
    {
     "name": "stdout",
     "output_type": "stream",
     "text": [
      "a:\n",
      " [[ 1.76405235  0.40015721  0.97873798  2.2408932   1.86755799 -0.97727788  0.95008842 -0.15135721]\n",
      " [-0.10321885  0.4105985   0.14404357  1.45427351  0.76103773  0.12167502  0.44386323  0.33367433]\n",
      " [ 1.49407907 -0.20515826  0.3130677  -0.85409574 -2.55298982  0.6536186   0.8644362  -0.74216502]\n",
      " [ 2.26975462 -1.45436567  0.04575852 -0.18718385  1.53277921  1.46935877  0.15494743  0.37816252]\n",
      " [-0.88778575 -1.98079647 -0.34791215  0.15634897  1.23029068  1.20237985 -0.38732682 -0.30230275]\n",
      " [-1.04855297 -1.42001794 -1.70627019  1.9507754  -0.50965218 -0.4380743  -1.25279536  0.77749036]\n",
      " [-1.61389785 -0.21274028 -0.89546656  0.3869025  -0.51080514 -1.18063218 -0.02818223  0.42833187]\n",
      " [ 0.06651722  0.3024719  -0.63432209 -0.36274117 -0.67246045 -0.35955316 -0.81314628 -1.7262826 ]\n",
      " [ 0.17742614 -0.40178094 -1.63019835  0.46278226 -0.90729836  0.0519454   0.72909056  0.12898291]\n",
      " [ 1.13940068 -1.23482582  0.40234164 -0.68481009 -0.87079715 -0.57884966 -0.31155253  0.05616534]]\n",
      "result:\n",
      " [[ 1.76405235  0.40015721  0.97873798  2.2408932   1.86755799 -0.97727788  0.95008842 -0.15135721]\n",
      " [-0.10321885  0.4105985   0.14404357  1.45427351  0.76103773  0.12167502  0.44386323  0.33367433]\n",
      " [ 1.49407907 -0.20515826  0.3130677  -0.85409574 -2.55298982  0.6536186   0.8644362  -0.74216502]\n",
      " [ 0.06651722  0.3024719  -0.63432209 -0.36274117 -0.67246045 -0.35955316 -0.81314628 -1.7262826 ]\n",
      " [ 1.13940068 -1.23482582  0.40234164 -0.68481009 -0.87079715 -0.57884966 -0.31155253  0.05616534]]\n"
     ]
    }
   ],
   "source": [
    "import numpy as np\n",
    " \n",
    "def first_half_second_half(a):\n",
    "    a1, a2 = np.split(a, 2, axis=1)\n",
    "    mask = np.sum(a1, axis=1) > np.sum(a2, axis=1)\n",
    "    return a[mask]\n",
    " \n",
    "def main():\n",
    "    m=4\n",
    "    n=10\n",
    "    np.random.seed(0)\n",
    "    a = np.random.randn(n, 2*m)\n",
    "    np.set_printoptions(linewidth=1000)\n",
    "    print(\"a:\\n\", a)\n",
    "    print(\"result:\\n\", first_half_second_half(a))\n",
    " \n",
    "if __name__ == \"__main__\":\n",
    "    main()"
   ]
  },
  {
   "cell_type": "markdown",
   "id": "4a4984cc-afde-48c5-b152-378190aabb83",
   "metadata": {},
   "source": [
    "Fancy indexing"
   ]
  },
  {
   "cell_type": "code",
   "execution_count": 45,
   "id": "0ba58a9e-faf6-4b5d-a410-69ad8783d326",
   "metadata": {},
   "outputs": [
    {
     "name": "stdout",
     "output_type": "stream",
     "text": [
      "[12 15  0  3  3  7  9 19 18  4  6 12  1  6  7 14 17  5 13  8]\n",
      "[ 0  7 19]\n"
     ]
    }
   ],
   "source": [
    "np.random.seed(0)\n",
    "a = np.random.randint(0, 20, 20)\n",
    "a2 = np.array([a[2], a[5], a[7]])\n",
    "print(a)\n",
    "print(a2)"
   ]
  },
  {
   "cell_type": "code",
   "execution_count": 49,
   "id": "e5a745f5-75b9-493a-ba0c-47f722681a86",
   "metadata": {},
   "outputs": [
    {
     "name": "stdout",
     "output_type": "stream",
     "text": [
      "[ 0  7 19]\n",
      "[ 0  7 19]\n"
     ]
    }
   ],
   "source": [
    "idx = [2, 5, 7]      # list of indices\n",
    "print(a[idx])        # in fancy indexing in place of single index can provide a list of indices\n",
    "print(a[[2, 5, 7]])  # or directly"
   ]
  },
  {
   "cell_type": "code",
   "execution_count": 51,
   "id": "a93f246e-3bec-4679-9ba9-5ac179d0afbc",
   "metadata": {},
   "outputs": [
    {
     "name": "stdout",
     "output_type": "stream",
     "text": [
      "[12 15 -1  3  3 -1  9 -1 18  4  6 12  1  6  7 14 17  5 13  8]\n"
     ]
    }
   ],
   "source": [
    "a[idx] = -1\n",
    "print(a)"
   ]
  },
  {
   "cell_type": "code",
   "execution_count": 55,
   "id": "bb4b1fc5-9e42-44a7-b0af-99776e827d65",
   "metadata": {},
   "outputs": [
    {
     "name": "stdout",
     "output_type": "stream",
     "text": [
      "[[ 0  1  2  3]\n",
      " [ 4  5  6  7]\n",
      " [ 8  9 10 11]\n",
      " [12 13 14 15]]\n",
      "[ 1 11]\n"
     ]
    }
   ],
   "source": [
    "b = np.arange(16).reshape(4, 4)\n",
    "print(b)\n",
    "row = np.array([0, 2])\n",
    "col = np.array([1, 3])\n",
    "print(b[row, col])  # 0th row 2nd column, 2nd row 3rd column"
   ]
  },
  {
   "cell_type": "code",
   "execution_count": 57,
   "id": "97ea23c7-c07c-4d66-835f-7acca16ab384",
   "metadata": {},
   "outputs": [
    {
     "name": "stdout",
     "output_type": "stream",
     "text": [
      "[[0 0]\n",
      " [2 2]]\n",
      "[[1 3]\n",
      " [1 3]]\n",
      "[[ 1  3]\n",
      " [ 9 11]]\n"
     ]
    }
   ],
   "source": [
    "row2 = np.array([[0, 0], [2, 2]])\n",
    "col2 = np.array([[1, 3], [1, 3]])\n",
    "print(row2)\n",
    "print(col2)\n",
    "print(b[row2, col2])"
   ]
  },
  {
   "cell_type": "code",
   "execution_count": 59,
   "id": "76bc6c45-d21f-4a50-82c8-a37c1ba96982",
   "metadata": {},
   "outputs": [
    {
     "name": "stdout",
     "output_type": "stream",
     "text": [
      "[[0]\n",
      " [2]]\n",
      "[[1 3]]\n",
      "[[ 1  3]\n",
      " [ 9 11]]\n"
     ]
    }
   ],
   "source": [
    "row2 = row.reshape(2, 1)  # has shape (2, 1)\n",
    "col2 = col.reshape(1, 2)  # has shape (1, 2)\n",
    "print(row2)\n",
    "print(col2)\n",
    "print(b[row2, col2])      # index arrays will be broadcasted here to shape (2,2)"
   ]
  },
  {
   "cell_type": "code",
   "execution_count": 61,
   "id": "005eb9aa-d742-46c5-b826-1208ba892e20",
   "metadata": {},
   "outputs": [
    {
     "data": {
      "text/plain": [
       "array([[ 0,  2],\n",
       "       [ 4,  6],\n",
       "       [ 8, 10],\n",
       "       [12, 14]])"
      ]
     },
     "execution_count": 61,
     "metadata": {},
     "output_type": "execute_result"
    }
   ],
   "source": [
    "b[:,[0, 2]]"
   ]
  },
  {
   "cell_type": "markdown",
   "id": "0fe0b3a0-90c9-485f-a54a-76fa36de4dbf",
   "metadata": {},
   "source": [
    "Sorting arrays"
   ]
  },
  {
   "cell_type": "code",
   "execution_count": 64,
   "id": "13f139ca-c474-4e6a-8b71-ae9286bcb61a",
   "metadata": {},
   "outputs": [
    {
     "name": "stdout",
     "output_type": "stream",
     "text": [
      "[1 2 3 4 5]\n",
      "[2 1 4 3 5]\n"
     ]
    }
   ],
   "source": [
    "a = np.array([2, 1, 4, 3, 5])\n",
    "print(np.sort(a))  # doe snot modify the argument\n",
    "print(a)"
   ]
  },
  {
   "cell_type": "code",
   "execution_count": 66,
   "id": "35c374cf-016a-475f-9b51-4e2cef1c93d5",
   "metadata": {},
   "outputs": [
    {
     "name": "stdout",
     "output_type": "stream",
     "text": [
      "[1 2 3 4 5]\n"
     ]
    }
   ],
   "source": [
    "a.sort()  # modifies the argument\n",
    "print(a)"
   ]
  },
  {
   "cell_type": "code",
   "execution_count": 68,
   "id": "bfe3539d-ab02-4dff-9c83-4e1d3c6cdeea",
   "metadata": {},
   "outputs": [
    {
     "name": "stdout",
     "output_type": "stream",
     "text": [
      "[[9 4 3 0]\n",
      " [3 5 0 2]\n",
      " [3 8 1 3]\n",
      " [3 3 7 0]]\n"
     ]
    }
   ],
   "source": [
    "b = np.random.randint(0, 10, (4,4))\n",
    "print(b)"
   ]
  },
  {
   "cell_type": "code",
   "execution_count": 70,
   "id": "8c32d83b-6828-43e8-92a2-262a5d4a9cf3",
   "metadata": {},
   "outputs": [
    {
     "data": {
      "text/plain": [
       "array([[3, 3, 0, 0],\n",
       "       [3, 4, 1, 0],\n",
       "       [3, 5, 3, 2],\n",
       "       [9, 8, 7, 3]])"
      ]
     },
     "execution_count": 70,
     "metadata": {},
     "output_type": "execute_result"
    }
   ],
   "source": [
    "np.sort(b, axis=0)  # sort each column"
   ]
  },
  {
   "cell_type": "code",
   "execution_count": 72,
   "id": "bf49f138-ba81-4ce0-8046-40260904329d",
   "metadata": {},
   "outputs": [
    {
     "data": {
      "text/plain": [
       "array([[0, 3, 4, 9],\n",
       "       [0, 2, 3, 5],\n",
       "       [1, 3, 3, 8],\n",
       "       [0, 3, 3, 7]])"
      ]
     },
     "execution_count": 72,
     "metadata": {},
     "output_type": "execute_result"
    }
   ],
   "source": [
    "np.sort(b, axis=1)  # sort each row"
   ]
  },
  {
   "cell_type": "code",
   "execution_count": 74,
   "id": "af9cbd1c-fd89-47db-b164-58511fe15141",
   "metadata": {},
   "outputs": [
    {
     "name": "stdout",
     "output_type": "stream",
     "text": [
      "Array a: [23 12 47 35 59]\n",
      "Indices: [1 0 3 2 4]\n"
     ]
    }
   ],
   "source": [
    "a = np.array([23, 12, 47, 35, 59])\n",
    "print(\"Array a:\", a)\n",
    "idx = np.argsort(a)\n",
    "print(\"Indices:\", idx)"
   ]
  },
  {
   "cell_type": "code",
   "execution_count": 76,
   "id": "e29192cc-0417-4014-bea9-35233de0f421",
   "metadata": {},
   "outputs": [
    {
     "name": "stdout",
     "output_type": "stream",
     "text": [
      "[12 23 35 47 59]\n"
     ]
    }
   ],
   "source": [
    "print(a[idx])"
   ]
  },
  {
   "cell_type": "markdown",
   "id": "294d191d-af66-4ade-9232-09d6ebf025f5",
   "metadata": {},
   "source": [
    "Exercise 3.3 (most frequent first)"
   ]
  },
  {
   "cell_type": "markdown",
   "id": "6ec29fb0-9dc2-4c3e-b268-f15514f95750",
   "metadata": {},
   "source": [
    "My solution:"
   ]
  },
  {
   "cell_type": "code",
   "execution_count": 118,
   "id": "48a61c26-d30a-4a92-ac8d-0529f735a6c2",
   "metadata": {},
   "outputs": [
    {
     "name": "stdout",
     "output_type": "stream",
     "text": [
      "[[4 4 8 4 3 7 5 5 0 1]\n",
      " [2 3 8 1 3 3 3 7 0 1]\n",
      " [7 6 8 8 1 6 7 7 8 1]\n",
      " [5 9 3 0 5 0 1 2 4 2]\n",
      " [8 1 1 7 9 9 3 6 7 2]\n",
      " [9 9 0 4 7 3 2 7 2 0]\n",
      " [5 9 8 9 4 3 0 3 5 0]\n",
      " [0 3 5 9 4 4 6 4 4 3]\n",
      " [0 4 5 5 6 8 4 1 4 9]\n",
      " [5 0 3 3 7 9 3 5 2 4]]\n"
     ]
    }
   ],
   "source": [
    "import numpy as np\n",
    "\n",
    "def most_frequent_first(a, c):\n",
    "    \"\"\"Gets 2D array and index of column as parameters,\n",
    "    returns array whose rows are sorted so rows with\n",
    "    the most frequent element in column c come first,\n",
    "    then rows with 2nd most frequent elemnent in column c,\n",
    "    and so on. Values outside column c don't affect order\n",
    "    \"\"\"\n",
    "    b = a[:,c]  # Get array of just column c\n",
    "    \"\"\"\n",
    "    # Get values at specified column\n",
    "    L = [ (row[c], i) for i, row in enumerate(a) ]\n",
    "    \"\"\"\n",
    "\n",
    "    # Get elements, inverse index, and frequencies of column c\n",
    "    elements, inverse, freq = np.unique(b, return_inverse=True, return_counts=True)\n",
    "    \"\"\"\n",
    "    Alternative way using dictionary to get frequencies\n",
    "    d = {}\n",
    "    for element, i in L:\n",
    "        if element not in d:\n",
    "            d[element] = 1\n",
    "        else:\n",
    "            d[element] += 1 \n",
    "    M = [ (value, key) for key, value in d.items() ]\n",
    "    M = sorted(M)\n",
    "    \"\"\"\n",
    "\n",
    "    # Get the frequencies for each column value, return indices of sorted elements from smallest to largest\n",
    "    idx = np.argsort(freq[inverse])\n",
    "\n",
    "    # Use fancy index, then reverse so highest frequencies are on top\n",
    "    return a[idx][::-1]\n",
    "\n",
    "    \"\"\"\n",
    "    Alternative method using for loops\n",
    "    # Sort with higher frequencies first\n",
    "    M = sorted(list(zip(freq, elements)), reverse=True)\n",
    "\n",
    "    # Iterate through elements starting with most frequent\n",
    "    n = 0\n",
    "    while n < len(M):\n",
    "        # Iterate through the value in each row\n",
    "        for element, i in L:\n",
    "            # If value is same as element that is frequent\n",
    "            if element == M[0+n][1]:\n",
    "                # Make result array the first row that contains a frequent element \n",
    "                if not b.any():\n",
    "                    b = np.array([a[i]])\n",
    "                # Otherwise stack vertically, new row on bottom\n",
    "                else:\n",
    "                    b = np.vstack((b, a[i]))\n",
    "        # Continue to the next most frequent element\n",
    "        n += 1\n",
    "    \n",
    "    return b\n",
    "    \"\"\"\n",
    "\n",
    "def main():\n",
    "    a = np.array([[5, 0, 3, 3, 7, 9, 3, 5, 2, 4],\n",
    "                  [7, 6, 8, 8, 1, 6, 7, 7, 8, 1],\n",
    "                  [5, 9, 8, 9, 4, 3, 0, 3, 5, 0],\n",
    "                  [2, 3, 8, 1, 3, 3, 3, 7, 0, 1],\n",
    "                  [9, 9, 0, 4, 7, 3, 2, 7, 2, 0],\n",
    "                  [0, 4, 5, 5, 6, 8, 4, 1, 4, 9],\n",
    "                  [8, 1, 1, 7, 9, 9, 3, 6, 7, 2],\n",
    "                  [0, 3, 5, 9, 4, 4, 6, 4, 4, 3],\n",
    "                  [4, 4, 8, 4, 3, 7, 5, 5, 0, 1],\n",
    "                  [5, 9, 3, 0, 5, 0, 1, 2, 4, 2]])\n",
    "    print(most_frequent_first(a, -1))\n",
    "\n",
    "\n",
    "if __name__ == \"__main__\":\n",
    "    main()"
   ]
  },
  {
   "cell_type": "markdown",
   "id": "702236cd-7a37-485f-9402-03a14a1a0f42",
   "metadata": {},
   "source": [
    "Suggested solution:"
   ]
  },
  {
   "cell_type": "code",
   "execution_count": 116,
   "id": "bdc31625-b8bd-4246-b4b3-d77551c77d6f",
   "metadata": {},
   "outputs": [
    {
     "name": "stdout",
     "output_type": "stream",
     "text": [
      "a:\n",
      " [[5 0 3 3 7 9 3 5 2 4]\n",
      " [7 6 8 8 1 6 7 7 8 1]\n",
      " [5 9 8 9 4 3 0 3 5 0]\n",
      " [2 3 8 1 3 3 3 7 0 1]\n",
      " [9 9 0 4 7 3 2 7 2 0]\n",
      " [0 4 5 5 6 8 4 1 4 9]\n",
      " [8 1 1 7 9 9 3 6 7 2]\n",
      " [0 3 5 9 4 4 6 4 4 3]\n",
      " [4 4 8 4 3 7 5 5 0 1]\n",
      " [5 9 3 0 5 0 1 2 4 2]]\n",
      "result:\n",
      " [[4 4 8 4 3 7 5 5 0 1]\n",
      " [2 3 8 1 3 3 3 7 0 1]\n",
      " [7 6 8 8 1 6 7 7 8 1]\n",
      " [5 9 3 0 5 0 1 2 4 2]\n",
      " [8 1 1 7 9 9 3 6 7 2]\n",
      " [9 9 0 4 7 3 2 7 2 0]\n",
      " [5 9 8 9 4 3 0 3 5 0]\n",
      " [0 3 5 9 4 4 6 4 4 3]\n",
      " [0 4 5 5 6 8 4 1 4 9]\n",
      " [5 0 3 3 7 9 3 5 2 4]]\n"
     ]
    }
   ],
   "source": [
    "import numpy as np\n",
    " \n",
    "def most_frequent_first(a, c):\n",
    "    b = a[:,c]   # get column c\n",
    "    _,s,t = np.unique(b, return_inverse=True, return_counts=True)\n",
    "    # returns unique values, b values, and counts of unique values\n",
    "    idx = np.argsort(t[s])\n",
    "    # t[s] is the frequencies of each column value\n",
    "    # idx becomes the index of each row, sorted from least to most frequent\n",
    "    return a[idx][::-1]  # fancy index and reverse so most frequent at top\n",
    " \n",
    "def main():\n",
    "    np.random.seed(0)\n",
    "    a = np.random.randint(0,10, (10,10))\n",
    "    print(\"a:\\n\", a)\n",
    "    print(\"result:\\n\", most_frequent_first(a, -1))\n",
    " \n",
    "if __name__ == \"__main__\":\n",
    "    main()"
   ]
  },
  {
   "cell_type": "code",
   "execution_count": null,
   "id": "668dc60b-1f42-42bd-99de-832d43495abe",
   "metadata": {},
   "outputs": [],
   "source": []
  }
 ],
 "metadata": {
  "kernelspec": {
   "display_name": "Python [conda env:base] *",
   "language": "python",
   "name": "conda-base-py"
  },
  "language_info": {
   "codemirror_mode": {
    "name": "ipython",
    "version": 3
   },
   "file_extension": ".py",
   "mimetype": "text/x-python",
   "name": "python",
   "nbconvert_exporter": "python",
   "pygments_lexer": "ipython3",
   "version": "3.12.7"
  }
 },
 "nbformat": 4,
 "nbformat_minor": 5
}
