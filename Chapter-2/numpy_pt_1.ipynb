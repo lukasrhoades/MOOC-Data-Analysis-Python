{
 "cells": [
  {
   "cell_type": "markdown",
   "id": "185708be-eb2d-4cb3-9f79-c60e74e87152",
   "metadata": {},
   "source": [
    "Introduction"
   ]
  },
  {
   "cell_type": "code",
   "execution_count": 8,
   "id": "dc985703-bb80-4c68-941c-84f2fae96010",
   "metadata": {},
   "outputs": [],
   "source": [
    "import numpy as np"
   ]
  },
  {
   "cell_type": "markdown",
   "id": "2d329046-58f4-4768-bed7-4193c292286a",
   "metadata": {},
   "source": [
    "Creation of arrays"
   ]
  },
  {
   "cell_type": "code",
   "execution_count": 12,
   "id": "230d3e49-c595-4908-a3d2-fe24e677875e",
   "metadata": {},
   "outputs": [
    {
     "data": {
      "text/plain": [
       "array([1, 2, 3])"
      ]
     },
     "execution_count": 12,
     "metadata": {},
     "output_type": "execute_result"
    }
   ],
   "source": [
    "np.array([1, 2, 3])  # one dimensional array"
   ]
  },
  {
   "cell_type": "code",
   "execution_count": 14,
   "id": "067bc27c-11bb-40f0-afe8-555274287315",
   "metadata": {},
   "outputs": [
    {
     "data": {
      "text/plain": [
       "array([[1, 2, 3],\n",
       "       [4, 5, 6]])"
      ]
     },
     "execution_count": 14,
     "metadata": {},
     "output_type": "execute_result"
    }
   ],
   "source": [
    "np.array([[1, 2, 3], [4, 5, 6]])"
   ]
  },
  {
   "cell_type": "code",
   "execution_count": 16,
   "id": "2a71044e-2217-4186-8737-b12aaa854676",
   "metadata": {},
   "outputs": [
    {
     "data": {
      "text/plain": [
       "array([[[1, 2],\n",
       "        [3, 4]],\n",
       "\n",
       "       [[5, 6],\n",
       "        [7, 8]]])"
      ]
     },
     "execution_count": 16,
     "metadata": {},
     "output_type": "execute_result"
    }
   ],
   "source": [
    "np.array([[[1, 2], [3, 4]], [[5, 6], [7, 8]]])"
   ]
  },
  {
   "cell_type": "code",
   "execution_count": 18,
   "id": "86dbe21d-f794-4ad6-ba49-a5e5faab0918",
   "metadata": {},
   "outputs": [
    {
     "data": {
      "text/plain": [
       "array([[0., 0., 0., 0.],\n",
       "       [0., 0., 0., 0.],\n",
       "       [0., 0., 0., 0.]])"
      ]
     },
     "execution_count": 18,
     "metadata": {},
     "output_type": "execute_result"
    }
   ],
   "source": [
    "np.zeros((3, 4))"
   ]
  },
  {
   "cell_type": "code",
   "execution_count": 20,
   "id": "08a01dd0-d6f8-4d21-abd6-5ecd029fb4e4",
   "metadata": {},
   "outputs": [
    {
     "data": {
      "text/plain": [
       "array([[0, 0, 0, 0],\n",
       "       [0, 0, 0, 0],\n",
       "       [0, 0, 0, 0]])"
      ]
     },
     "execution_count": 20,
     "metadata": {},
     "output_type": "execute_result"
    }
   ],
   "source": [
    "np.zeros((3, 4), dtype=int)"
   ]
  },
  {
   "cell_type": "code",
   "execution_count": 22,
   "id": "14d761e6-b8b4-48e4-9ce9-b1f768b39688",
   "metadata": {},
   "outputs": [
    {
     "data": {
      "text/plain": [
       "array([[1., 1., 1.],\n",
       "       [1., 1., 1.]])"
      ]
     },
     "execution_count": 22,
     "metadata": {},
     "output_type": "execute_result"
    }
   ],
   "source": [
    "np.ones((2, 3))"
   ]
  },
  {
   "cell_type": "code",
   "execution_count": 24,
   "id": "3087267e-398a-43f5-9c74-d1130b1d587f",
   "metadata": {},
   "outputs": [
    {
     "data": {
      "text/plain": [
       "array([[7, 7, 7],\n",
       "       [7, 7, 7]])"
      ]
     },
     "execution_count": 24,
     "metadata": {},
     "output_type": "execute_result"
    }
   ],
   "source": [
    "np.full((2, 3), fill_value=7)"
   ]
  },
  {
   "cell_type": "code",
   "execution_count": 26,
   "id": "93c09ea5-15a0-4df8-8b38-ef850a77a523",
   "metadata": {},
   "outputs": [
    {
     "data": {
      "text/plain": [
       "array([[0., 0., 0., 0.],\n",
       "       [0., 0., 0., 0.]])"
      ]
     },
     "execution_count": 26,
     "metadata": {},
     "output_type": "execute_result"
    }
   ],
   "source": [
    "np.empty((2, 4))"
   ]
  },
  {
   "cell_type": "code",
   "execution_count": 28,
   "id": "cc0e3310-4f14-4e02-a8e3-c7a1787cc5e1",
   "metadata": {},
   "outputs": [
    {
     "data": {
      "text/plain": [
       "array([[1, 0, 0, 0, 0],\n",
       "       [0, 1, 0, 0, 0],\n",
       "       [0, 0, 1, 0, 0],\n",
       "       [0, 0, 0, 1, 0],\n",
       "       [0, 0, 0, 0, 1]])"
      ]
     },
     "execution_count": 28,
     "metadata": {},
     "output_type": "execute_result"
    }
   ],
   "source": [
    "np.eye(5, dtype=int)"
   ]
  },
  {
   "cell_type": "code",
   "execution_count": 30,
   "id": "afebca04-ce61-4a5a-8758-011e0b425657",
   "metadata": {},
   "outputs": [
    {
     "data": {
      "text/plain": [
       "array([0, 2, 4, 6, 8])"
      ]
     },
     "execution_count": 30,
     "metadata": {},
     "output_type": "execute_result"
    }
   ],
   "source": [
    "np.arange(0, 10, 2)"
   ]
  },
  {
   "cell_type": "code",
   "execution_count": 32,
   "id": "7b823f2e-9105-426a-83e3-bcf6f5c7d621",
   "metadata": {},
   "outputs": [
    {
     "data": {
      "text/plain": [
       "array([0.        , 0.78539816, 1.57079633, 2.35619449, 3.14159265])"
      ]
     },
     "execution_count": 32,
     "metadata": {},
     "output_type": "execute_result"
    }
   ],
   "source": [
    "np.linspace(0, np.pi, 5)  # evenly spaced range with 5 elements"
   ]
  },
  {
   "cell_type": "markdown",
   "id": "5edea452-a340-4d63-82d0-35c9b64aea30",
   "metadata": {},
   "source": [
    "Arrays with random elements"
   ]
  },
  {
   "cell_type": "code",
   "execution_count": 38,
   "id": "25b758aa-55f3-4c65-b582-c79343b782e8",
   "metadata": {},
   "outputs": [
    {
     "data": {
      "text/plain": [
       "array([[0.00100701, 0.58306146, 0.4310834 , 0.63762916],\n",
       "       [0.24892343, 0.33021761, 0.60986045, 0.66352794],\n",
       "       [0.10949322, 0.68871454, 0.60021626, 0.53615571]])"
      ]
     },
     "execution_count": 38,
     "metadata": {},
     "output_type": "execute_result"
    }
   ],
   "source": [
    "np.random.random((3, 4))\n",
    "# elements are uniformly distributed from half-open interval [0.0, 1.0)"
   ]
  },
  {
   "cell_type": "code",
   "execution_count": 40,
   "id": "8b257084-d7cb-4fbd-a694-c67e51e8861b",
   "metadata": {},
   "outputs": [
    {
     "data": {
      "text/plain": [
       "array([[ 0.04826354, -0.77619113,  0.8472708 , -0.36830436],\n",
       "       [ 1.29713501,  0.3820323 ,  0.72355391, -0.99355874],\n",
       "       [ 0.01911494, -0.59202338, -0.43638781, -1.83356192]])"
      ]
     },
     "execution_count": 40,
     "metadata": {},
     "output_type": "execute_result"
    }
   ],
   "source": [
    "np.random.normal(0, 1 ,(3, 4))\n",
    "# elements are normally distributed with mean 0 and standard deviation 1"
   ]
  },
  {
   "cell_type": "code",
   "execution_count": 54,
   "id": "081b519e-0b32-4df0-8d18-604e6fe4a57e",
   "metadata": {},
   "outputs": [
    {
     "data": {
      "text/plain": [
       "array([[ 0,  9, -2,  1],\n",
       "       [ 3,  7,  8,  2],\n",
       "       [ 9,  2,  4,  2]])"
      ]
     },
     "execution_count": 54,
     "metadata": {},
     "output_type": "execute_result"
    }
   ],
   "source": [
    "np.random.randint(-2, 10, (3, 4))\n",
    "# elements are uniformly distributed integers from the half-open interval [-2, 10)"
   ]
  },
  {
   "cell_type": "code",
   "execution_count": 46,
   "id": "d1d79da5-1259-4703-9cad-c8a70c69f92b",
   "metadata": {},
   "outputs": [
    {
     "name": "stdout",
     "output_type": "stream",
     "text": [
      "[44 47 64 67 67  9 83 21 36 87]\n",
      "[ 1.26611853 -0.50587654  2.54520078  1.08081191  0.48431215  0.57914048\n",
      " -0.18158257  1.41020463 -0.37447169  0.27519832]\n"
     ]
    }
   ],
   "source": [
    "np.random.seed(0)\n",
    "print(np.random.randint(0, 100, 10))\n",
    "print(np.random.normal(0, 1, 10))"
   ]
  },
  {
   "cell_type": "code",
   "execution_count": 56,
   "id": "5091f062-e450-4783-a715-86a682037d68",
   "metadata": {},
   "outputs": [
    {
     "data": {
      "text/plain": [
       "array([66, 92, 98, 17, 83, 57, 86, 97, 96, 47])"
      ]
     },
     "execution_count": 56,
     "metadata": {},
     "output_type": "execute_result"
    }
   ],
   "source": [
    "new_generator = np.random.RandomState(seed=123)\n",
    "# RandomState is a class, so we give the seed to its constructor\n",
    "new_generator.randint(0, 100, 10)"
   ]
  },
  {
   "cell_type": "markdown",
   "id": "722dec15-09f1-41a3-b03c-5a238ca0b416",
   "metadata": {},
   "source": [
    "Array types and attributes"
   ]
  },
  {
   "cell_type": "code",
   "execution_count": 64,
   "id": "c396ebf3-273c-4edb-a8d9-62a7e904818c",
   "metadata": {},
   "outputs": [],
   "source": [
    "def info(name, a):\n",
    "    print(f\"{name} has dim {a.ndim}, shape {a.shape}, size {a.size}, and dtype {a.dtype}:\")\n",
    "    print(a)"
   ]
  },
  {
   "cell_type": "code",
   "execution_count": 66,
   "id": "1227f132-1717-42b4-b955-234a735f0c42",
   "metadata": {},
   "outputs": [
    {
     "name": "stdout",
     "output_type": "stream",
     "text": [
      "b has dim 2, shape (2, 3), size 6, and dtype int64:\n",
      "[[1 2 3]\n",
      " [4 5 6]]\n"
     ]
    }
   ],
   "source": [
    "b = np.array([[1, 2, 3], [4, 5, 6]])\n",
    "info(\"b\", b)"
   ]
  },
  {
   "cell_type": "code",
   "execution_count": 68,
   "id": "64e75f7e-95b0-498c-a0f2-c0b70383580b",
   "metadata": {},
   "outputs": [
    {
     "name": "stdout",
     "output_type": "stream",
     "text": [
      "c has dim 3, shape (2, 2, 3), size 12, and dtype int64:\n",
      "[[[1 2 3]\n",
      "  [4 5 6]]\n",
      "\n",
      " [[1 2 3]\n",
      "  [4 5 6]]]\n"
     ]
    }
   ],
   "source": [
    "c = np.array([b, b])  # creates a 3-d array\n",
    "info(\"c\", c)"
   ]
  },
  {
   "cell_type": "code",
   "execution_count": 70,
   "id": "cdc75f36-4436-4f02-a593-c326b4ec5f09",
   "metadata": {},
   "outputs": [
    {
     "name": "stdout",
     "output_type": "stream",
     "text": [
      "d has dim 2, shape (1, 4), size 4, and dtype int64:\n",
      "[[1 2 3 4]]\n"
     ]
    }
   ],
   "source": [
    "d = np.array([[1, 2, 3, 4]])  # a row vector\n",
    "info(\"d\", d)"
   ]
  },
  {
   "cell_type": "markdown",
   "id": "fab7fc85-b211-4ff6-9835-ee89104328d7",
   "metadata": {},
   "source": [
    "Indexing, slicing, and reshaping"
   ]
  },
  {
   "cell_type": "markdown",
   "id": "e7d1bc65-933b-4033-b4c7-5874d74ecdca",
   "metadata": {},
   "source": [
    "Indexing"
   ]
  },
  {
   "cell_type": "code",
   "execution_count": 76,
   "id": "8166d39f-e4c8-478c-9da6-ae5b4385e156",
   "metadata": {},
   "outputs": [
    {
     "name": "stdout",
     "output_type": "stream",
     "text": [
      "4\n",
      "9\n"
     ]
    }
   ],
   "source": [
    "a = np.array([1, 4, 2, 7, 9, 5])\n",
    "print(a[1])\n",
    "print(a[-2])"
   ]
  },
  {
   "cell_type": "code",
   "execution_count": 78,
   "id": "3a9ae971-d558-4201-9df0-03fc9909aea9",
   "metadata": {},
   "outputs": [
    {
     "name": "stdout",
     "output_type": "stream",
     "text": [
      "[[1 2 3]\n",
      " [4 5 6]]\n",
      "6\n",
      "3\n"
     ]
    }
   ],
   "source": [
    "b = np.array([[1, 2, 3], [4, 5, 6]])\n",
    "print(b)\n",
    "print(b[1, 2])   # row index 1, column index 2\n",
    "print(b[0, -1])  # row index 0, column index -1"
   ]
  },
  {
   "cell_type": "code",
   "execution_count": 80,
   "id": "5795d847-c5bb-4feb-b32e-751ad628a8b3",
   "metadata": {},
   "outputs": [
    {
     "name": "stdout",
     "output_type": "stream",
     "text": [
      "[[10  2  3]\n",
      " [ 4  5  6]]\n"
     ]
    }
   ],
   "source": [
    "# as with lists, modification through indexing is possible\n",
    "b[0, 0] = 10\n",
    "print(b)"
   ]
  },
  {
   "cell_type": "code",
   "execution_count": 82,
   "id": "6b765440-0688-4050-984d-9fbddb1ca646",
   "metadata": {},
   "outputs": [
    {
     "name": "stdout",
     "output_type": "stream",
     "text": [
      "[10  2  3]\n",
      "[4 5 6]\n"
     ]
    }
   ],
   "source": [
    "print(b[0])  # first row\n",
    "print(b[1])  # second row"
   ]
  },
  {
   "cell_type": "markdown",
   "id": "c7a7e3ca-1c53-4a21-b714-cb6b8c4ab896",
   "metadata": {},
   "source": [
    "Slicing"
   ]
  },
  {
   "cell_type": "code",
   "execution_count": 85,
   "id": "424fe883-ec12-4369-824c-572f9afa898d",
   "metadata": {},
   "outputs": [
    {
     "name": "stdout",
     "output_type": "stream",
     "text": [
      "[1 4 2 7 9 5]\n",
      "[4 2]\n",
      "[5 9 7 2 4 1]\n"
     ]
    }
   ],
   "source": [
    "print(a)\n",
    "print(a[1:3])\n",
    "print(a[::-1])  # reverses the array"
   ]
  },
  {
   "cell_type": "code",
   "execution_count": 87,
   "id": "e177c404-12c3-4c2a-afbc-34992eb39ec2",
   "metadata": {},
   "outputs": [
    {
     "name": "stdout",
     "output_type": "stream",
     "text": [
      "[[10  2  3]\n",
      " [ 4  5  6]]\n",
      "[10  4]\n",
      "[10  2  3]\n",
      "[[2 3]\n",
      " [5 6]]\n"
     ]
    }
   ],
   "source": [
    "print(b)\n",
    "print(b[:,0])\n",
    "print(b[0,:])\n",
    "print(b[:,1:])"
   ]
  },
  {
   "cell_type": "code",
   "execution_count": 89,
   "id": "0c43eaf5-ef84-4191-aace-1948b3893b9b",
   "metadata": {},
   "outputs": [
    {
     "name": "stdout",
     "output_type": "stream",
     "text": [
      "[[10  7  7]\n",
      " [ 4  7  7]]\n"
     ]
    }
   ],
   "source": [
    "b[:,1:] = 7\n",
    "print(b)"
   ]
  },
  {
   "cell_type": "code",
   "execution_count": 91,
   "id": "31b90dda-5528-4072-a8fc-08ffcbe6b56a",
   "metadata": {},
   "outputs": [
    {
     "name": "stdout",
     "output_type": "stream",
     "text": [
      "[10  4]\n",
      "[4 7 7]\n"
     ]
    }
   ],
   "source": [
    "print(b[:,0])  # first column\n",
    "print(b[1,:])  # second row"
   ]
  },
  {
   "cell_type": "markdown",
   "id": "ee7ba140-b23d-47db-829e-eade2a83c7ac",
   "metadata": {},
   "source": [
    "Reshaping"
   ]
  },
  {
   "cell_type": "code",
   "execution_count": 96,
   "id": "fd7101f2-67a6-4aa6-9fc6-7967c45ab387",
   "metadata": {},
   "outputs": [
    {
     "name": "stdout",
     "output_type": "stream",
     "text": [
      "anew has dim 2, shape (3, 3), size 9, and dtype int64:\n",
      "[[0 1 2]\n",
      " [3 4 5]\n",
      " [6 7 8]]\n",
      "a has dim 1, shape (9,), size 9, and dtype int64:\n",
      "[0 1 2 3 4 5 6 7 8]\n"
     ]
    }
   ],
   "source": [
    "a = np.arange(9)\n",
    "anew = a.reshape(3, 3)\n",
    "info(\"anew\", anew)\n",
    "info(\"a\", a)"
   ]
  },
  {
   "cell_type": "code",
   "execution_count": 98,
   "id": "6b768d01-5f4b-4b1a-a38f-7571b582ad93",
   "metadata": {},
   "outputs": [
    {
     "name": "stdout",
     "output_type": "stream",
     "text": [
      "d has dim 1, shape (4,), size 4, and dtype int64:\n",
      "[0 1 2 3]\n",
      "dr has dim 2, shape (1, 4), size 4, and dtype int64:\n",
      "[[0 1 2 3]]\n",
      "dc has dim 2, shape (4, 1), size 4, and dtype int64:\n",
      "[[0]\n",
      " [1]\n",
      " [2]\n",
      " [3]]\n"
     ]
    }
   ],
   "source": [
    "d = np.arange(4)      # 1d array\n",
    "dr = d.reshape(1, 4)  # row vector\n",
    "dc = d.reshape(4, 1)  # column vector\n",
    "info(\"d\", d)\n",
    "info(\"dr\", dr)\n",
    "info(\"dc\", dc)"
   ]
  },
  {
   "cell_type": "code",
   "execution_count": 100,
   "id": "58c03c57-e6f7-4ccc-aae0-9f0b74513ea0",
   "metadata": {},
   "outputs": [
    {
     "name": "stdout",
     "output_type": "stream",
     "text": [
      "d has dim 1, shape (4,), size 4, and dtype int64:\n",
      "[0 1 2 3]\n",
      "drow has dim 2, shape (4, 1), size 4, and dtype int64:\n",
      "[[0]\n",
      " [1]\n",
      " [2]\n",
      " [3]]\n",
      "drow has dim 2, shape (1, 4), size 4, and dtype int64:\n",
      "[[0 1 2 3]]\n",
      "dcol has dim 2, shape (4, 1), size 4, and dtype int64:\n",
      "[[0]\n",
      " [1]\n",
      " [2]\n",
      " [3]]\n"
     ]
    }
   ],
   "source": [
    "info(\"d\", d)\n",
    "info(\"drow\", d[:, np.newaxis])\n",
    "info(\"drow\", d[np.newaxis, :])\n",
    "info(\"dcol\", d[:, np.newaxis])"
   ]
  },
  {
   "cell_type": "markdown",
   "id": "15298b62-a487-4d15-ade4-bf2e5bcf5385",
   "metadata": {},
   "source": [
    "Exercise 2.11 (rows and columns)"
   ]
  },
  {
   "cell_type": "code",
   "execution_count": 103,
   "id": "5655dc94-9559-4271-b0fb-8c295ec41636",
   "metadata": {},
   "outputs": [
    {
     "name": "stdout",
     "output_type": "stream",
     "text": [
      "[[4 3 4 4]\n",
      " [8 4 3 7]\n",
      " [5 5 0 1]\n",
      " [5 9 3 0]]\n",
      "[[4 8 5 5]\n",
      " [3 4 5 9]\n",
      " [4 3 0 3]\n",
      " [4 7 1 0]]\n"
     ]
    }
   ],
   "source": [
    "a = np.random.randint(0, 10, (4,4))\n",
    "print(a)\n",
    "print(a.T)"
   ]
  },
  {
   "cell_type": "markdown",
   "id": "b8d89ebd-8b03-4944-b0f9-e025a9914913",
   "metadata": {},
   "source": [
    "My solution:"
   ]
  },
  {
   "cell_type": "code",
   "execution_count": 106,
   "id": "aa40245d-0504-4b50-a230-ee3c59e5abfb",
   "metadata": {},
   "outputs": [
    {
     "name": "stdout",
     "output_type": "stream",
     "text": [
      "a: [[5 0 3 3]\n",
      " [7 9 3 5]\n",
      " [2 4 7 6]\n",
      " [8 8 1 6]]\n",
      "Rows: [array([5, 0, 3, 3]), array([7, 9, 3, 5]), array([2, 4, 7, 6]), array([8, 8, 1, 6])]\n",
      "Columns: [array([5, 7, 2, 8]), array([0, 9, 4, 8]), array([3, 3, 7, 1]), array([3, 5, 6, 6])]\n"
     ]
    }
   ],
   "source": [
    "import numpy as np\n",
    "\n",
    "def get_rows(a):\n",
    "    \"\"\"Returns list of rows of a 2D array\"\"\"\n",
    "    b, c = a.shape\n",
    "    return [ np.array(a[i]) for i in range(b) ]\n",
    "\n",
    "def get_columns(a):\n",
    "    \"\"\"Returns list of columns of a 2D array\"\"\"\n",
    "    b, c = a.shape\n",
    "    return [ np.array(a[:,i]) for i in range(c) ]\n",
    "\n",
    "def main():\n",
    "    np.random.seed(0)\n",
    "    a=np.random.randint(0,10, (4,4))\n",
    "    print(\"a:\", a)\n",
    "    print(\"Rows:\", get_rows(a))\n",
    "    print(\"Columns:\", get_columns(a))\n",
    "\n",
    "if __name__ == \"__main__\":\n",
    "    main()"
   ]
  },
  {
   "cell_type": "markdown",
   "id": "91bcd034-4b21-4450-b42f-2d3f8fa20b46",
   "metadata": {},
   "source": [
    "Suggested solution:"
   ]
  },
  {
   "cell_type": "code",
   "execution_count": 109,
   "id": "902ec831-c89f-45c1-97fd-2490a249751d",
   "metadata": {},
   "outputs": [
    {
     "name": "stdout",
     "output_type": "stream",
     "text": [
      "a: [[5 0 3 3]\n",
      " [7 9 3 5]\n",
      " [2 4 7 6]\n",
      " [8 8 1 6]]\n",
      "Rows: [array([5, 0, 3, 3]), array([7, 9, 3, 5]), array([2, 4, 7, 6]), array([8, 8, 1, 6])]\n",
      "Columns: [array([5, 7, 2, 8]), array([0, 9, 4, 8]), array([3, 3, 7, 1]), array([3, 5, 6, 6])]\n"
     ]
    }
   ],
   "source": [
    "import numpy as np\n",
    " \n",
    "def get_rows(a):\n",
    "    result = [row for row in a]\n",
    "    return result\n",
    " \n",
    "def get_columns(a):\n",
    "    result = [row for row in a.T]\n",
    "    return result\n",
    " \n",
    "def main():\n",
    "    np.random.seed(0)\n",
    "    a=np.random.randint(0,10, (4,4))\n",
    "    print(\"a:\", a)\n",
    "    print(\"Rows:\", get_rows(a))\n",
    "    print(\"Columns:\", get_columns(a))\n",
    " \n",
    "if __name__ == \"__main__\":\n",
    "    main()"
   ]
  },
  {
   "cell_type": "code",
   "execution_count": 129,
   "id": "6def2478-36fc-4440-b5bc-d7929c37ea75",
   "metadata": {},
   "outputs": [
    {
     "name": "stdout",
     "output_type": "stream",
     "text": [
      "[1 2 3]\n",
      "[4 5 6]\n"
     ]
    }
   ],
   "source": [
    "# why the suggested solution works\n",
    "a = np.array([[1, 2, 3], [4, 5, 6]])\n",
    "for i in a:\n",
    "    print(i)"
   ]
  },
  {
   "cell_type": "markdown",
   "id": "1d6d2b4c-d076-42e4-8ce6-f926b55663b8",
   "metadata": {},
   "source": [
    "Array concatenation, splitting and stacking"
   ]
  },
  {
   "cell_type": "code",
   "execution_count": 135,
   "id": "bf14b43e-198e-448d-a1b1-0f04fedcb936",
   "metadata": {},
   "outputs": [
    {
     "name": "stdout",
     "output_type": "stream",
     "text": [
      "a has shape (2,): [0 1]\n",
      "b has shape (3,): [2 3 4]\n"
     ]
    },
    {
     "data": {
      "text/plain": [
       "array([0, 1, 2, 3, 4])"
      ]
     },
     "execution_count": 135,
     "metadata": {},
     "output_type": "execute_result"
    }
   ],
   "source": [
    "a = np.arange(2)\n",
    "b = np.arange(2, 5)\n",
    "print(f\"a has shape {a.shape}: {a}\")\n",
    "print(f\"b has shape {b.shape}: {b}\")\n",
    "np.concatenate((a, b))  # concatenating 1d arrays"
   ]
  },
  {
   "cell_type": "code",
   "execution_count": 147,
   "id": "98a45428-2768-44e4-8f41-7d0e00336013",
   "metadata": {},
   "outputs": [
    {
     "name": "stdout",
     "output_type": "stream",
     "text": [
      "c has shape (2, 2):\n",
      "[[1 2]\n",
      " [3 4]]\n"
     ]
    },
    {
     "data": {
      "text/plain": [
       "array([[1, 2],\n",
       "       [3, 4],\n",
       "       [1, 2],\n",
       "       [3, 4]])"
      ]
     },
     "execution_count": 147,
     "metadata": {},
     "output_type": "execute_result"
    }
   ],
   "source": [
    "c = np.arange(1, 5).reshape(2, 2)\n",
    "print(f\"c has shape {c.shape}:\", c, sep=\"\\n\")\n",
    "np.concatenate((c, c))  # concatenating 2d arrays"
   ]
  },
  {
   "cell_type": "code",
   "execution_count": 141,
   "id": "ed9104ee-bba8-4341-9f02-44eb071d3ffc",
   "metadata": {},
   "outputs": [
    {
     "data": {
      "text/plain": [
       "array([[1, 2, 1, 2],\n",
       "       [3, 4, 3, 4]])"
      ]
     },
     "execution_count": 141,
     "metadata": {},
     "output_type": "execute_result"
    }
   ],
   "source": [
    "np.concatenate((c, c), axis=1)"
   ]
  },
  {
   "cell_type": "code",
   "execution_count": 143,
   "id": "0602507a-e729-4f2f-9a48-65c67488204f",
   "metadata": {},
   "outputs": [
    {
     "name": "stdout",
     "output_type": "stream",
     "text": [
      "New row:\n",
      "[[1 2]\n",
      " [3 4]\n",
      " [0 1]]\n",
      "New column:\n",
      "[[1 2 0]\n",
      " [3 4 1]]\n"
     ]
    }
   ],
   "source": [
    "print(\"New row:\")\n",
    "print(np.concatenate((c, a.reshape(1, 2))))\n",
    "print(\"New column:\")\n",
    "print(np.concatenate((c, a.reshape(2, 1)), axis=1))"
   ]
  },
  {
   "cell_type": "code",
   "execution_count": 149,
   "id": "68582c6c-6865-487c-8620-9bd8447b4658",
   "metadata": {},
   "outputs": [
    {
     "data": {
      "text/plain": [
       "array([[2, 3, 4],\n",
       "       [2, 3, 4]])"
      ]
     },
     "execution_count": 149,
     "metadata": {},
     "output_type": "execute_result"
    }
   ],
   "source": [
    "np.stack((b, b))"
   ]
  },
  {
   "cell_type": "code",
   "execution_count": 151,
   "id": "57e47def-8314-4725-bd58-dd245131fb21",
   "metadata": {},
   "outputs": [
    {
     "data": {
      "text/plain": [
       "array([[2, 2],\n",
       "       [3, 3],\n",
       "       [4, 4]])"
      ]
     },
     "execution_count": 151,
     "metadata": {},
     "output_type": "execute_result"
    }
   ],
   "source": [
    "np.stack((b, b), axis=1)"
   ]
  },
  {
   "cell_type": "code",
   "execution_count": 153,
   "id": "ac7d422e-f4ac-4d65-8d83-2bd66491e412",
   "metadata": {},
   "outputs": [
    {
     "name": "stdout",
     "output_type": "stream",
     "text": [
      "d:\n",
      "[[ 0  1]\n",
      " [ 2  3]\n",
      " [ 4  5]\n",
      " [ 6  7]\n",
      " [ 8  9]\n",
      " [10 11]]\n",
      "d1:\n",
      "[[0 1]\n",
      " [2 3]\n",
      " [4 5]]\n",
      "d2:\n",
      "[[ 6  7]\n",
      " [ 8  9]\n",
      " [10 11]]\n"
     ]
    }
   ],
   "source": [
    "d = np.arange(12).reshape(6, 2)\n",
    "print(\"d:\")\n",
    "print(d)\n",
    "d1, d2 = np.split(d, 2)\n",
    "print(\"d1:\")\n",
    "print(d1)\n",
    "print(\"d2:\")\n",
    "print(d2)"
   ]
  },
  {
   "cell_type": "code",
   "execution_count": 155,
   "id": "025ff57d-8bcf-4ca5-b93a-5199e9e6596d",
   "metadata": {},
   "outputs": [
    {
     "name": "stdout",
     "output_type": "stream",
     "text": [
      "d:\n",
      "[[ 0  1  2  3  4  5]\n",
      " [ 6  7  8  9 10 11]]\n",
      "part 0:\n",
      "[[0 1]\n",
      " [6 7]]\n",
      "part 1:\n",
      "[[2]\n",
      " [8]]\n",
      "part 2:\n",
      "[[ 3  4]\n",
      " [ 9 10]]\n",
      "part 3:\n",
      "[[ 5]\n",
      " [11]]\n"
     ]
    }
   ],
   "source": [
    "d = np.arange(12).reshape(2, 6)\n",
    "print(\"d:\")\n",
    "print(d)\n",
    "parts = np.split(d, (2, 3, 5), axis=1)\n",
    "for i, p in enumerate(parts):\n",
    "    print(\"part %i:\" %i)\n",
    "    print(p)"
   ]
  },
  {
   "cell_type": "markdown",
   "id": "482fe0cc-f2e7-4df8-a7cb-06d46abc0712",
   "metadata": {},
   "source": [
    "Exercise 2.12 (row and column vectors)"
   ]
  },
  {
   "cell_type": "markdown",
   "id": "eb64afa8-7212-4fa3-b166-2dcbef959c28",
   "metadata": {},
   "source": [
    "My solution:"
   ]
  },
  {
   "cell_type": "code",
   "execution_count": 159,
   "id": "f3a96bcd-be79-495c-9ad1-8670d7b2cd6b",
   "metadata": {},
   "outputs": [
    {
     "name": "stdout",
     "output_type": "stream",
     "text": [
      "a: [[5 0 3 3]\n",
      " [7 9 3 5]\n",
      " [2 4 7 6]\n",
      " [8 8 1 6]]\n",
      "Row vectors: [array([[5, 0, 3, 3]]), array([[7, 9, 3, 5]]), array([[2, 4, 7, 6]]), array([[8, 8, 1, 6]])]\n",
      "Column vectors: [array([[5],\n",
      "       [7],\n",
      "       [2],\n",
      "       [8]]), array([[0],\n",
      "       [9],\n",
      "       [4],\n",
      "       [8]]), array([[3],\n",
      "       [3],\n",
      "       [7],\n",
      "       [1]]), array([[3],\n",
      "       [5],\n",
      "       [6],\n",
      "       [6]])]\n"
     ]
    }
   ],
   "source": [
    "import numpy as np\n",
    "\n",
    "def get_row_vectors(a):\n",
    "    \"\"\"Returns list of rows shape (1,m) from input array shape (n,m)\"\"\"\n",
    "    n, m = a.shape\n",
    "    return [ row.reshape(1, m) for row in a ]\n",
    "\n",
    "def get_column_vectors(a):\n",
    "    \"\"\"Returns list of columns shape (n,1) from input array shape (n,m)\"\"\"\n",
    "    n, m = a.shape\n",
    "    return [ row.reshape(n, 1) for row in a.T ]\n",
    "\n",
    "def main():\n",
    "    np.random.seed(0)\n",
    "    a=np.random.randint(0,10, (4,4))\n",
    "    print(\"a:\", a)\n",
    "    print(\"Row vectors:\", get_row_vectors(a))\n",
    "    print(\"Column vectors:\", get_column_vectors(a))\n",
    "\n",
    "if __name__ == \"__main__\":\n",
    "    main()"
   ]
  },
  {
   "cell_type": "markdown",
   "id": "daf86a81-f6a4-4eaf-ba3a-0bd1d288fa1b",
   "metadata": {},
   "source": [
    "Suggested solution:"
   ]
  },
  {
   "cell_type": "code",
   "execution_count": 162,
   "id": "32bfcbce-cfcc-4011-a8df-afefb5e09640",
   "metadata": {},
   "outputs": [
    {
     "name": "stdout",
     "output_type": "stream",
     "text": [
      "a: [[5 0 3 3]\n",
      " [7 9 3 5]\n",
      " [2 4 7 6]\n",
      " [8 8 1 6]]\n",
      "Row vectors: [array([[5, 0, 3, 3]]), array([[7, 9, 3, 5]]), array([[2, 4, 7, 6]]), array([[8, 8, 1, 6]])]\n",
      "Column vectors: [array([[5],\n",
      "       [7],\n",
      "       [2],\n",
      "       [8]]), array([[0],\n",
      "       [9],\n",
      "       [4],\n",
      "       [8]]), array([[3],\n",
      "       [3],\n",
      "       [7],\n",
      "       [1]]), array([[3],\n",
      "       [5],\n",
      "       [6],\n",
      "       [6]])]\n"
     ]
    }
   ],
   "source": [
    "import numpy as np\n",
    " \n",
    "def get_row_vectors(a):\n",
    "    return np.split(a, a.shape[0], axis=0)\n",
    " \n",
    "def get_column_vectors(a):\n",
    "    return np.split(a, a.shape[1], axis=1)\n",
    " \n",
    "def main():\n",
    "    np.random.seed(0)\n",
    "    a=np.random.randint(0,10, (4,4))\n",
    "    print(\"a:\", a)\n",
    "    print(\"Row vectors:\", get_row_vectors(a))\n",
    "    print(\"Column vectors:\", get_column_vectors(a))\n",
    " \n",
    "if __name__ == \"__main__\":\n",
    "    main()"
   ]
  },
  {
   "cell_type": "markdown",
   "id": "68cd0bd2-ad60-423b-8f7c-601240845ec4",
   "metadata": {},
   "source": [
    "Exercise 2.13 (diamond)"
   ]
  },
  {
   "cell_type": "markdown",
   "id": "d5944e1d-bb5f-45e6-a2a8-63a7fccef5c4",
   "metadata": {},
   "source": [
    "My solution:"
   ]
  },
  {
   "cell_type": "code",
   "execution_count": 204,
   "id": "15db957d-7cb1-4bd8-b55f-d048adbeffe8",
   "metadata": {},
   "outputs": [
    {
     "name": "stdout",
     "output_type": "stream",
     "text": [
      "[[1]]\n",
      "[[0 1 0]\n",
      " [1 0 1]\n",
      " [0 1 0]]\n",
      "[[0 0 1 0 0]\n",
      " [0 1 0 1 0]\n",
      " [1 0 0 0 1]\n",
      " [0 1 0 1 0]\n",
      " [0 0 1 0 0]]\n",
      "[[0 0 0 1 0 0 0]\n",
      " [0 0 1 0 1 0 0]\n",
      " [0 1 0 0 0 1 0]\n",
      " [1 0 0 0 0 0 1]\n",
      " [0 1 0 0 0 1 0]\n",
      " [0 0 1 0 1 0 0]\n",
      " [0 0 0 1 0 0 0]]\n",
      "[[0 0 0 0 1 0 0 0 0]\n",
      " [0 0 0 1 0 1 0 0 0]\n",
      " [0 0 1 0 0 0 1 0 0]\n",
      " [0 1 0 0 0 0 0 1 0]\n",
      " [1 0 0 0 0 0 0 0 1]\n",
      " [0 1 0 0 0 0 0 1 0]\n",
      " [0 0 1 0 0 0 1 0 0]\n",
      " [0 0 0 1 0 1 0 0 0]\n",
      " [0 0 0 0 1 0 0 0 0]]\n"
     ]
    }
   ],
   "source": [
    "import numpy as np\n",
    "\n",
    "def diamond(n):\n",
    "    \"\"\"Returns 2D integer array where 1s form diamond shape,\n",
    "    rest of numbers are 0, n is the length of side of diamond\"\"\"\n",
    "    # identity matrix and its reverse\n",
    "    a = np.eye(2*n-1, dtype=int)\n",
    "    b = a[::-1]\n",
    "\n",
    "    c = b[n-1:,:n]  # upper left\n",
    "    d = a[:n,1:n]  # upper right\n",
    "    f = np.concatenate((c, d), axis=1)  # upper half\n",
    "\n",
    "    g = a[1:n,:n]  # bottom left\n",
    "    h = b[1:n,n:]  # bottom right\n",
    "    m = np.concatenate((g, h), axis=1)  # bottom half\n",
    "        \n",
    "    p = np.concatenate((f, m))  # combine upper and bottom\n",
    "    return p\n",
    "\n",
    "'''\n",
    "Reference matrices for n = 4\n",
    "\n",
    "Result:\n",
    "[[0 0 0 1 0 0 0]\n",
    " [0 0 1 0 1 0 0]\n",
    " [0 1 0 0 0 1 0]\n",
    " [1 0 0 0 0 0 1]\n",
    " [0 1 0 0 0 1 0]\n",
    " [0 0 1 0 1 0 0]\n",
    " [0 0 0 1 0 0 0]]\n",
    "\n",
    "a:\n",
    "[[1 0 0 0 0 0 0]\n",
    " [0 1 0 0 0 0 0]\n",
    " [0 0 1 0 0 0 0]\n",
    " [0 0 0 1 0 0 0]\n",
    " [0 0 0 0 1 0 0]\n",
    " [0 0 0 0 0 1 0]\n",
    " [0 0 0 0 0 0 1]]\n",
    "\n",
    "b:\n",
    "[[0 0 0 0 0 0 1]\n",
    " [0 0 0 0 0 1 0]\n",
    " [0 0 0 0 1 0 0]\n",
    " [0 0 0 1 0 0 0]\n",
    " [0 0 1 0 0 0 0]\n",
    " [0 1 0 0 0 0 0]\n",
    " [1 0 0 0 0 0 0]]\n",
    "'''\n",
    "\n",
    "def main():\n",
    "    print(diamond(1))\n",
    "    print(diamond(2))\n",
    "    print(diamond(3))\n",
    "    print(diamond(4))\n",
    "    print(diamond(5))\n",
    "\n",
    "if __name__ == \"__main__\":\n",
    "    main()"
   ]
  },
  {
   "cell_type": "markdown",
   "id": "63caa5fe-e4a2-4319-881a-ad58736ca84d",
   "metadata": {},
   "source": [
    "Suggested solution:"
   ]
  },
  {
   "cell_type": "code",
   "execution_count": 180,
   "id": "cb7b5fec-fd85-426b-b648-0df9a24895f3",
   "metadata": {},
   "outputs": [
    {
     "name": "stdout",
     "output_type": "stream",
     "text": [
      "[[0 0 1 0 0]\n",
      " [0 1 0 1 0]\n",
      " [1 0 0 0 1]\n",
      " [0 1 0 1 0]\n",
      " [0 0 1 0 0]]\n"
     ]
    }
   ],
   "source": [
    "import numpy as np\n",
    " \n",
    "def diamond(n):\n",
    "    e=np.eye(n, dtype=int)  # identity (n, n)\n",
    "\n",
    "    # upper left is reverse identity, upper right is identity bar 1st row\n",
    "    a=np.concatenate([e[::-1], e[:,1:]], axis=1)\n",
    "\n",
    "    # take upper bar last row and combine with its inverse\n",
    "    result = np.concatenate([a[:-1], a[::-1]], axis=0)\n",
    "    return result\n",
    " \n",
    "def main():\n",
    "    print(diamond(3))\n",
    " \n",
    "if __name__ == \"__main__\":\n",
    "    main()"
   ]
  },
  {
   "cell_type": "markdown",
   "id": "b9677d76-bbf6-4efa-9b08-9e650f18121c",
   "metadata": {},
   "source": [
    "Fast computation using universal functions"
   ]
  },
  {
   "cell_type": "code",
   "execution_count": 208,
   "id": "a982cd47-b3f5-4ce4-8016-8d14b42c4adc",
   "metadata": {},
   "outputs": [
    {
     "name": "stdout",
     "output_type": "stream",
     "text": [
      "[2, 10.4, 'abab']\n"
     ]
    }
   ],
   "source": [
    "L = [1, 5.2, \"ab\"]\n",
    "L2 = []\n",
    "for x in L:\n",
    "    L2.append(x*2)\n",
    "print(L2)"
   ]
  },
  {
   "cell_type": "code",
   "execution_count": 210,
   "id": "11360fb4-04b4-4d30-90af-7510dccdc092",
   "metadata": {},
   "outputs": [
    {
     "name": "stdout",
     "output_type": "stream",
     "text": [
      "[ 4.2 10.  34.4]\n"
     ]
    }
   ],
   "source": [
    "a = np.array([2.1, 5.0, 17.2])\n",
    "a2 = a*2\n",
    "print(a2)"
   ]
  },
  {
   "cell_type": "code",
   "execution_count": 212,
   "id": "927114d6-f1a8-416d-8bbb-7e279129b93a",
   "metadata": {},
   "outputs": [
    {
     "name": "stdout",
     "output_type": "stream",
     "text": [
      "[   4.41   -80.    -710.016]\n"
     ]
    }
   ],
   "source": [
    "b = np.array([-1, 3.2, 2.4])\n",
    "print(-a**2 * b)"
   ]
  },
  {
   "cell_type": "code",
   "execution_count": 214,
   "id": "9a0b093d-5737-4df3-9b19-e88c28a401e7",
   "metadata": {},
   "outputs": [
    {
     "name": "stdout",
     "output_type": "stream",
     "text": [
      "[1.  3.2 2.4]\n",
      "[ 0.54030231 -0.99829478 -0.73739372]\n",
      "[ 0.36787944 24.5325302  11.02317638]\n",
      "[0.         1.67807191 1.26303441]\n"
     ]
    }
   ],
   "source": [
    "print(np.abs(b))\n",
    "print(np.cos(b))\n",
    "print(np.exp(b))\n",
    "print(np.log2(np.abs(b)))"
   ]
  },
  {
   "cell_type": "markdown",
   "id": "3700fd64-7ee5-4725-bb77-0ca7293d1f9b",
   "metadata": {},
   "source": [
    "Aggregations: max, min, sum, mean, standard deviation and more"
   ]
  },
  {
   "cell_type": "code",
   "execution_count": 217,
   "id": "e5e14616-3196-44c4-91ef-77e2822eed79",
   "metadata": {},
   "outputs": [
    {
     "name": "stdout",
     "output_type": "stream",
     "text": [
      "[[ 72 -53  17  92 -33]\n",
      " [ 95   3 -91 -79 -64]\n",
      " [-13 -30 -12  40 -42]\n",
      " [ 93 -61 -13  74 -12]]\n",
      "Minimum: -91, maximum: 95\n",
      "Sum: -17\n",
      "Mean: -0.85, standard deviation: 58.39886557117355\n"
     ]
    }
   ],
   "source": [
    "np.random.seed(0)\n",
    "a = np.random.randint(-100, 100, (4, 5))\n",
    "print(a)\n",
    "print(f\"Minimum: {a.min()}, maximum: {a.max()}\")\n",
    "print(f\"Sum: {a.sum()}\")\n",
    "print(f\"Mean: {a.mean()}, standard deviation: {a.std()}\")"
   ]
  },
  {
   "cell_type": "code",
   "execution_count": 219,
   "id": "78e8ba42-45e3-4e24-97f1-252bc4de7b57",
   "metadata": {},
   "outputs": [
    {
     "name": "stdout",
     "output_type": "stream",
     "text": [
      "[[5 6 8 6]\n",
      " [1 6 4 8]\n",
      " [1 8 5 1]]\n",
      "Column sums: [ 7 20 17 15]\n",
      "Row sums: [25 19 15]\n"
     ]
    }
   ],
   "source": [
    "np.random.seed(9)\n",
    "b = np.random.randint(0, 10, (3, 4))\n",
    "print(b)\n",
    "print(\"Column sums:\", b.sum(axis=0))\n",
    "print(\"Row sums:\", b.sum(axis=1))"
   ]
  },
  {
   "cell_type": "code",
   "execution_count": 227,
   "id": "13134b53-3e8c-466a-a543-35ea4b64603a",
   "metadata": {},
   "outputs": [
    {
     "name": "stdout",
     "output_type": "stream",
     "text": [
      "1.42 μs ± 8.93 ns per loop (mean ± std. dev. of 7 runs, 1,000,000 loops each)\n"
     ]
    }
   ],
   "source": [
    "a = np.arange(1000)\n",
    "%timeit np.sum(a)"
   ]
  },
  {
   "cell_type": "code",
   "execution_count": 225,
   "id": "bee00340-158f-4b89-9f4d-e4dfe85a5ab8",
   "metadata": {},
   "outputs": [
    {
     "name": "stdout",
     "output_type": "stream",
     "text": [
      "40.2 μs ± 1.75 μs per loop (mean ± std. dev. of 7 runs, 10,000 loops each)\n"
     ]
    }
   ],
   "source": [
    "%timeit sum(a)"
   ]
  },
  {
   "cell_type": "markdown",
   "id": "0557abf5-69dc-45d7-9f36-486a0bd45e14",
   "metadata": {},
   "source": [
    "Exercise 2.14 (vector lengths)"
   ]
  },
  {
   "cell_type": "markdown",
   "id": "822a9d82-23c5-4f32-9b4d-0ed86759672a",
   "metadata": {},
   "source": [
    "My solution:"
   ]
  },
  {
   "cell_type": "code",
   "execution_count": 236,
   "id": "5743ee3e-f488-47b2-b828-7b13c9ead40a",
   "metadata": {},
   "outputs": [
    {
     "name": "stdout",
     "output_type": "stream",
     "text": [
      "[[-1  6  7]\n",
      " [-2  3 -9]\n",
      " [ 3  2  8]\n",
      " [-2 -6 -7]]\n",
      "[9.2736185  9.69535971 8.77496439 9.43398113]\n"
     ]
    }
   ],
   "source": [
    "import numpy as np\n",
    "#import scipy.linalg\n",
    "\n",
    "def vector_lengths(a):\n",
    "    \"\"\"Returns array with length of each row vector in input array\"\"\"\n",
    "    return np.sqrt((a**2).sum(axis=1))\n",
    "\n",
    "def main():\n",
    "    test = np.random.randint(-10, 10, (4, 3))\n",
    "    print(test)\n",
    "    print(vector_lengths(test))\n",
    "\n",
    "if __name__ == \"__main__\":\n",
    "    main()"
   ]
  },
  {
   "cell_type": "markdown",
   "id": "70164c37-6c2a-47ae-b92e-337a94349f5f",
   "metadata": {},
   "source": [
    "Suggested solution:"
   ]
  },
  {
   "cell_type": "code",
   "execution_count": 234,
   "id": "b9630294-9365-492b-b259-e4261d1dded7",
   "metadata": {},
   "outputs": [
    {
     "name": "stdout",
     "output_type": "stream",
     "text": [
      "a: [[1 2]\n",
      " [3 4]\n",
      " [5 6]]\n",
      "Lengths: [2.23606798 5.         7.81024968]\n"
     ]
    }
   ],
   "source": [
    "import numpy as np\n",
    "#import scipy.linalg\n",
    " \n",
    "def vector_lengths(a):\n",
    "    #return scipy.linalg.norm(a, 2, axis=1)\n",
    "    return np.sqrt(np.sum(a**2, axis=1))\n",
    " \n",
    "def main():\n",
    "    a = np.asarray([[1, 2], [3, 4], [5, 6]])\n",
    "    print(\"a:\", a)\n",
    "    print(\"Lengths:\", vector_lengths(a))\n",
    " \n",
    "if __name__ == \"__main__\":\n",
    "    main()"
   ]
  },
  {
   "cell_type": "markdown",
   "id": "7816eddc-a6ee-4f02-a083-3526c6ede755",
   "metadata": {},
   "source": [
    "Exercise 2.15 (vector angles)"
   ]
  },
  {
   "cell_type": "code",
   "execution_count": 244,
   "id": "54fece22-9e2d-44d9-9548-f23662a056b8",
   "metadata": {},
   "outputs": [
    {
     "name": "stdout",
     "output_type": "stream",
     "text": [
      "[180.         141.46015129]\n"
     ]
    }
   ],
   "source": [
    "import numpy as np\n",
    "\n",
    "def vector_angles(X, Y):\n",
    "    \"\"\"Returns angle between row vectors in degrees\"\"\"\n",
    "    ip = np.sum(X*Y)  # inner product\n",
    "    xm = np.sqrt(np.sum(X**2, axis=1))  # magnitude of X\n",
    "    ym = np.sqrt(np.sum(Y**2, axis=1))  # magnitude of Y\n",
    "    rhs = (ip)/(xm*ym)\n",
    "    clipped = np.clip(rhs, -1, 1)\n",
    "    rad = np.arccos(clipped)\n",
    "    return rad * (180/np.pi)  # convert from radian to degrees\n",
    "\n",
    "def main():\n",
    "    test1 = np.random.randint(-10, 10, (2, 2))\n",
    "    test2 = np.random.randint(-10, 10, (2, 2))\n",
    "    print(vector_angles(test1, test2))\n",
    "\n",
    "if __name__ == \"__main__\":\n",
    "    main()"
   ]
  },
  {
   "cell_type": "markdown",
   "id": "421330d4-1642-4f71-9edd-1fb3d540ab3c",
   "metadata": {},
   "source": [
    "Broadcasting"
   ]
  },
  {
   "cell_type": "code",
   "execution_count": 247,
   "id": "6fd831bd-852b-48b6-9f82-11bb4e8e2063",
   "metadata": {},
   "outputs": [
    {
     "data": {
      "text/plain": [
       "array([4, 5, 6])"
      ]
     },
     "execution_count": 247,
     "metadata": {},
     "output_type": "execute_result"
    }
   ],
   "source": [
    "np.arange(3) + np.array([4])"
   ]
  },
  {
   "cell_type": "code",
   "execution_count": 249,
   "id": "10c09bb5-698e-420e-8630-45465cd5fc99",
   "metadata": {},
   "outputs": [
    {
     "data": {
      "text/plain": [
       "array([4, 5, 6])"
      ]
     },
     "execution_count": 249,
     "metadata": {},
     "output_type": "execute_result"
    }
   ],
   "source": [
    "np.arange(3) + 4"
   ]
  },
  {
   "cell_type": "code",
   "execution_count": 251,
   "id": "33f3a0ee-2241-4f25-8161-e93f036a4361",
   "metadata": {},
   "outputs": [
    {
     "name": "stdout",
     "output_type": "stream",
     "text": [
      "a:\n",
      "[[5 5 5]\n",
      " [5 5 5]\n",
      " [5 5 5]]\n",
      "b: [0 1 2]\n",
      "a+b:\n",
      "[[5 6 7]\n",
      " [5 6 7]\n",
      " [5 6 7]]\n"
     ]
    }
   ],
   "source": [
    "a = np.full((3,3), 5)\n",
    "b = np.arange(3)\n",
    "print(\"a:\", a, sep=\"\\n\")\n",
    "print(\"b:\", b)\n",
    "print(\"a+b:\", a+b, sep=\"\\n\")"
   ]
  },
  {
   "cell_type": "code",
   "execution_count": 253,
   "id": "67926c46-9b74-4c80-82b8-bae0867ccf16",
   "metadata": {},
   "outputs": [
    {
     "data": {
      "text/plain": [
       "array([[0, 1, 2],\n",
       "       [0, 1, 2],\n",
       "       [0, 1, 2]])"
      ]
     },
     "execution_count": 253,
     "metadata": {},
     "output_type": "execute_result"
    }
   ],
   "source": [
    "# b was first broadcasted to this array\n",
    "np.array([[0, 1, 2], [0, 1, 2], [0, 1, 2]])\n",
    "# and then addition was performed"
   ]
  },
  {
   "cell_type": "code",
   "execution_count": 255,
   "id": "8708770b-9e05-490e-9616-da98ffd6d940",
   "metadata": {},
   "outputs": [
    {
     "name": "stdout",
     "output_type": "stream",
     "text": [
      "a has dim 1, shape (3,), size 3, and dtype int64:\n",
      "[0 1 2]\n",
      "b has dim 2, shape (3, 1), size 3, and dtype int64:\n",
      "[[0]\n",
      " [1]\n",
      " [2]]\n",
      "a+b has dim 2, shape (3, 3), size 9, and dtype int64:\n",
      "[[0 1 2]\n",
      " [1 2 3]\n",
      " [2 3 4]]\n"
     ]
    }
   ],
   "source": [
    "a = np.arange(3)\n",
    "b = np.arange(3).reshape((3, 1))\n",
    "info(\"a\", a)\n",
    "info(\"b\", b)\n",
    "info(\"a+b\", a+b)"
   ]
  },
  {
   "cell_type": "code",
   "execution_count": 257,
   "id": "5e0f3684-a520-44c1-9ccf-b250a616863a",
   "metadata": {},
   "outputs": [
    {
     "name": "stdout",
     "output_type": "stream",
     "text": [
      "broadcasted_a has dim 2, shape (3, 3), size 9, and dtype int64:\n",
      "[[0 1 2]\n",
      " [0 1 2]\n",
      " [0 1 2]]\n",
      "broadcasted_b has dim 2, shape (3, 3), size 9, and dtype int64:\n",
      "[[0 0 0]\n",
      " [1 1 1]\n",
      " [2 2 2]]\n"
     ]
    }
   ],
   "source": [
    "broadcasted_a, broadcasted_b = np.broadcast_arrays(a, b)\n",
    "info(\"broadcasted_a\", broadcasted_a)\n",
    "info(\"broadcasted_b\", broadcasted_b)"
   ]
  },
  {
   "cell_type": "code",
   "execution_count": 263,
   "id": "71e94d92-1898-43cf-8ac6-3c9b2b0f4ca3",
   "metadata": {},
   "outputs": [
    {
     "name": "stderr",
     "output_type": "stream",
     "text": [
      "operands could not be broadcast together with shapes (3,) (2,) \n"
     ]
    }
   ],
   "source": [
    "a = np.array([1, 2, 3])\n",
    "b = np.array([4, 5])\n",
    "try:\n",
    "    a+b  # this doesn't work since it violates rule 3\n",
    "    # dimension must either match or have value of 1 \n",
    "except ValueError as e:\n",
    "    import sys\n",
    "    print(e, file=sys.stderr)"
   ]
  },
  {
   "cell_type": "markdown",
   "id": "815516d9-12bd-4f8d-9849-353ffac9f8fa",
   "metadata": {},
   "source": [
    "Exercise 2.16 (multiplication table revisited)"
   ]
  },
  {
   "cell_type": "markdown",
   "id": "e91eb441-76fa-40eb-a936-bd8308fe9346",
   "metadata": {},
   "source": [
    "My solution:"
   ]
  },
  {
   "cell_type": "code",
   "execution_count": 275,
   "id": "61bf850c-adc0-46e3-b97c-7bd7f8571a9d",
   "metadata": {},
   "outputs": [
    {
     "name": "stdout",
     "output_type": "stream",
     "text": [
      "[[0 0 0 0]\n",
      " [0 1 2 3]\n",
      " [0 2 4 6]\n",
      " [0 3 6 9]]\n"
     ]
    }
   ],
   "source": [
    "import numpy as np\n",
    "\n",
    "def multiplication_table(n):\n",
    "    \"\"\"Returns multiplictaion table as an array with shape (n, n)\"\"\"\n",
    "    r = np.arange(n).reshape(n, 1)  # rows value\n",
    "    c = np.arange(n)  # columns value shape (1, n)\n",
    "    return r*c  # broadcast so each value becomes product of row times column\n",
    "\n",
    "def main():\n",
    "    print(multiplication_table(4))\n",
    "\n",
    "if __name__ == \"__main__\":\n",
    "    main()"
   ]
  },
  {
   "cell_type": "markdown",
   "id": "73e9be27-7267-4f23-ae78-3fc3ec36fa1f",
   "metadata": {},
   "source": [
    "Suggested solution:"
   ]
  },
  {
   "cell_type": "code",
   "execution_count": 270,
   "id": "b0a58319-2ba5-45b9-be0e-a6bde3fab34c",
   "metadata": {},
   "outputs": [
    {
     "name": "stdout",
     "output_type": "stream",
     "text": [
      "[[0 0 0 0]\n",
      " [0 1 2 3]\n",
      " [0 2 4 6]\n",
      " [0 3 6 9]]\n"
     ]
    }
   ],
   "source": [
    "import numpy as np\n",
    " \n",
    "def multiplication_table(n):\n",
    "    a=np.arange(n)\n",
    "    return a[:, np.newaxis] * a[np.newaxis, :]\n",
    " \n",
    "def main():\n",
    "    print(multiplication_table(4))\n",
    " \n",
    "if __name__ == \"__main__\":\n",
    "    main()"
   ]
  }
 ],
 "metadata": {
  "kernelspec": {
   "display_name": "Python [conda env:base] *",
   "language": "python",
   "name": "conda-base-py"
  },
  "language_info": {
   "codemirror_mode": {
    "name": "ipython",
    "version": 3
   },
   "file_extension": ".py",
   "mimetype": "text/x-python",
   "name": "python",
   "nbconvert_exporter": "python",
   "pygments_lexer": "ipython3",
   "version": "3.12.2"
  }
 },
 "nbformat": 4,
 "nbformat_minor": 5
}
