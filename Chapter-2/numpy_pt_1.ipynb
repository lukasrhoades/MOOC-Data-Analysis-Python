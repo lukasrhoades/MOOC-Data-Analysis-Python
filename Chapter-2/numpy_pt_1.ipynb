{
 "cells": [
  {
   "cell_type": "markdown",
   "id": "185708be-eb2d-4cb3-9f79-c60e74e87152",
   "metadata": {},
   "source": [
    "Introduction"
   ]
  },
  {
   "cell_type": "code",
   "execution_count": 8,
   "id": "dc985703-bb80-4c68-941c-84f2fae96010",
   "metadata": {},
   "outputs": [],
   "source": [
    "import numpy as np"
   ]
  },
  {
   "cell_type": "markdown",
   "id": "2d329046-58f4-4768-bed7-4193c292286a",
   "metadata": {},
   "source": [
    "Creation of arrays"
   ]
  },
  {
   "cell_type": "code",
   "execution_count": 12,
   "id": "230d3e49-c595-4908-a3d2-fe24e677875e",
   "metadata": {},
   "outputs": [
    {
     "data": {
      "text/plain": [
       "array([1, 2, 3])"
      ]
     },
     "execution_count": 12,
     "metadata": {},
     "output_type": "execute_result"
    }
   ],
   "source": [
    "np.array([1, 2, 3])  # one dimensional array"
   ]
  },
  {
   "cell_type": "code",
   "execution_count": 14,
   "id": "067bc27c-11bb-40f0-afe8-555274287315",
   "metadata": {},
   "outputs": [
    {
     "data": {
      "text/plain": [
       "array([[1, 2, 3],\n",
       "       [4, 5, 6]])"
      ]
     },
     "execution_count": 14,
     "metadata": {},
     "output_type": "execute_result"
    }
   ],
   "source": [
    "np.array([[1, 2, 3], [4, 5, 6]])"
   ]
  },
  {
   "cell_type": "code",
   "execution_count": 16,
   "id": "2a71044e-2217-4186-8737-b12aaa854676",
   "metadata": {},
   "outputs": [
    {
     "data": {
      "text/plain": [
       "array([[[1, 2],\n",
       "        [3, 4]],\n",
       "\n",
       "       [[5, 6],\n",
       "        [7, 8]]])"
      ]
     },
     "execution_count": 16,
     "metadata": {},
     "output_type": "execute_result"
    }
   ],
   "source": [
    "np.array([[[1, 2], [3, 4]], [[5, 6], [7, 8]]])"
   ]
  },
  {
   "cell_type": "code",
   "execution_count": 18,
   "id": "86dbe21d-f794-4ad6-ba49-a5e5faab0918",
   "metadata": {},
   "outputs": [
    {
     "data": {
      "text/plain": [
       "array([[0., 0., 0., 0.],\n",
       "       [0., 0., 0., 0.],\n",
       "       [0., 0., 0., 0.]])"
      ]
     },
     "execution_count": 18,
     "metadata": {},
     "output_type": "execute_result"
    }
   ],
   "source": [
    "np.zeros((3, 4))"
   ]
  },
  {
   "cell_type": "code",
   "execution_count": 20,
   "id": "08a01dd0-d6f8-4d21-abd6-5ecd029fb4e4",
   "metadata": {},
   "outputs": [
    {
     "data": {
      "text/plain": [
       "array([[0, 0, 0, 0],\n",
       "       [0, 0, 0, 0],\n",
       "       [0, 0, 0, 0]])"
      ]
     },
     "execution_count": 20,
     "metadata": {},
     "output_type": "execute_result"
    }
   ],
   "source": [
    "np.zeros((3, 4), dtype=int)"
   ]
  },
  {
   "cell_type": "code",
   "execution_count": 22,
   "id": "14d761e6-b8b4-48e4-9ce9-b1f768b39688",
   "metadata": {},
   "outputs": [
    {
     "data": {
      "text/plain": [
       "array([[1., 1., 1.],\n",
       "       [1., 1., 1.]])"
      ]
     },
     "execution_count": 22,
     "metadata": {},
     "output_type": "execute_result"
    }
   ],
   "source": [
    "np.ones((2, 3))"
   ]
  },
  {
   "cell_type": "code",
   "execution_count": 24,
   "id": "3087267e-398a-43f5-9c74-d1130b1d587f",
   "metadata": {},
   "outputs": [
    {
     "data": {
      "text/plain": [
       "array([[7, 7, 7],\n",
       "       [7, 7, 7]])"
      ]
     },
     "execution_count": 24,
     "metadata": {},
     "output_type": "execute_result"
    }
   ],
   "source": [
    "np.full((2, 3), fill_value=7)"
   ]
  },
  {
   "cell_type": "code",
   "execution_count": 26,
   "id": "93c09ea5-15a0-4df8-8b38-ef850a77a523",
   "metadata": {},
   "outputs": [
    {
     "data": {
      "text/plain": [
       "array([[0., 0., 0., 0.],\n",
       "       [0., 0., 0., 0.]])"
      ]
     },
     "execution_count": 26,
     "metadata": {},
     "output_type": "execute_result"
    }
   ],
   "source": [
    "np.empty((2, 4))"
   ]
  },
  {
   "cell_type": "code",
   "execution_count": 28,
   "id": "cc0e3310-4f14-4e02-a8e3-c7a1787cc5e1",
   "metadata": {},
   "outputs": [
    {
     "data": {
      "text/plain": [
       "array([[1, 0, 0, 0, 0],\n",
       "       [0, 1, 0, 0, 0],\n",
       "       [0, 0, 1, 0, 0],\n",
       "       [0, 0, 0, 1, 0],\n",
       "       [0, 0, 0, 0, 1]])"
      ]
     },
     "execution_count": 28,
     "metadata": {},
     "output_type": "execute_result"
    }
   ],
   "source": [
    "np.eye(5, dtype=int)"
   ]
  },
  {
   "cell_type": "code",
   "execution_count": 30,
   "id": "afebca04-ce61-4a5a-8758-011e0b425657",
   "metadata": {},
   "outputs": [
    {
     "data": {
      "text/plain": [
       "array([0, 2, 4, 6, 8])"
      ]
     },
     "execution_count": 30,
     "metadata": {},
     "output_type": "execute_result"
    }
   ],
   "source": [
    "np.arange(0, 10, 2)"
   ]
  },
  {
   "cell_type": "code",
   "execution_count": 32,
   "id": "7b823f2e-9105-426a-83e3-bcf6f5c7d621",
   "metadata": {},
   "outputs": [
    {
     "data": {
      "text/plain": [
       "array([0.        , 0.78539816, 1.57079633, 2.35619449, 3.14159265])"
      ]
     },
     "execution_count": 32,
     "metadata": {},
     "output_type": "execute_result"
    }
   ],
   "source": [
    "np.linspace(0, np.pi, 5)  # evenly spaced range with 5 elements"
   ]
  },
  {
   "cell_type": "markdown",
   "id": "5edea452-a340-4d63-82d0-35c9b64aea30",
   "metadata": {},
   "source": [
    "Arrays with random elements"
   ]
  },
  {
   "cell_type": "code",
   "execution_count": 38,
   "id": "25b758aa-55f3-4c65-b582-c79343b782e8",
   "metadata": {},
   "outputs": [
    {
     "data": {
      "text/plain": [
       "array([[0.00100701, 0.58306146, 0.4310834 , 0.63762916],\n",
       "       [0.24892343, 0.33021761, 0.60986045, 0.66352794],\n",
       "       [0.10949322, 0.68871454, 0.60021626, 0.53615571]])"
      ]
     },
     "execution_count": 38,
     "metadata": {},
     "output_type": "execute_result"
    }
   ],
   "source": [
    "np.random.random((3, 4))\n",
    "# elements are uniformly distributed from half-open interval [0.0, 1.0)"
   ]
  },
  {
   "cell_type": "code",
   "execution_count": 40,
   "id": "8b257084-d7cb-4fbd-a694-c67e51e8861b",
   "metadata": {},
   "outputs": [
    {
     "data": {
      "text/plain": [
       "array([[ 0.04826354, -0.77619113,  0.8472708 , -0.36830436],\n",
       "       [ 1.29713501,  0.3820323 ,  0.72355391, -0.99355874],\n",
       "       [ 0.01911494, -0.59202338, -0.43638781, -1.83356192]])"
      ]
     },
     "execution_count": 40,
     "metadata": {},
     "output_type": "execute_result"
    }
   ],
   "source": [
    "np.random.normal(0, 1 ,(3, 4))\n",
    "# elements are normally distributed with mean 0 and standard deviation 1"
   ]
  },
  {
   "cell_type": "code",
   "execution_count": 54,
   "id": "081b519e-0b32-4df0-8d18-604e6fe4a57e",
   "metadata": {},
   "outputs": [
    {
     "data": {
      "text/plain": [
       "array([[ 0,  9, -2,  1],\n",
       "       [ 3,  7,  8,  2],\n",
       "       [ 9,  2,  4,  2]])"
      ]
     },
     "execution_count": 54,
     "metadata": {},
     "output_type": "execute_result"
    }
   ],
   "source": [
    "np.random.randint(-2, 10, (3, 4))\n",
    "# elements are uniformly distributed integers from the half-open interval [-2, 10)"
   ]
  },
  {
   "cell_type": "code",
   "execution_count": 46,
   "id": "d1d79da5-1259-4703-9cad-c8a70c69f92b",
   "metadata": {},
   "outputs": [
    {
     "name": "stdout",
     "output_type": "stream",
     "text": [
      "[44 47 64 67 67  9 83 21 36 87]\n",
      "[ 1.26611853 -0.50587654  2.54520078  1.08081191  0.48431215  0.57914048\n",
      " -0.18158257  1.41020463 -0.37447169  0.27519832]\n"
     ]
    }
   ],
   "source": [
    "np.random.seed(0)\n",
    "print(np.random.randint(0, 100, 10))\n",
    "print(np.random.normal(0, 1, 10))"
   ]
  },
  {
   "cell_type": "code",
   "execution_count": 56,
   "id": "5091f062-e450-4783-a715-86a682037d68",
   "metadata": {},
   "outputs": [
    {
     "data": {
      "text/plain": [
       "array([66, 92, 98, 17, 83, 57, 86, 97, 96, 47])"
      ]
     },
     "execution_count": 56,
     "metadata": {},
     "output_type": "execute_result"
    }
   ],
   "source": [
    "new_generator = np.random.RandomState(seed=123)\n",
    "# RandomState is a class, so we give the seed to its constructor\n",
    "new_generator.randint(0, 100, 10)"
   ]
  },
  {
   "cell_type": "markdown",
   "id": "722dec15-09f1-41a3-b03c-5a238ca0b416",
   "metadata": {},
   "source": [
    "Array types and attributes"
   ]
  },
  {
   "cell_type": "code",
   "execution_count": null,
   "id": "c396ebf3-273c-4edb-a8d9-62a7e904818c",
   "metadata": {},
   "outputs": [],
   "source": []
  }
 ],
 "metadata": {
  "kernelspec": {
   "display_name": "Python [conda env:base] *",
   "language": "python",
   "name": "conda-base-py"
  },
  "language_info": {
   "codemirror_mode": {
    "name": "ipython",
    "version": 3
   },
   "file_extension": ".py",
   "mimetype": "text/x-python",
   "name": "python",
   "nbconvert_exporter": "python",
   "pygments_lexer": "ipython3",
   "version": "3.12.7"
  }
 },
 "nbformat": 4,
 "nbformat_minor": 5
}
