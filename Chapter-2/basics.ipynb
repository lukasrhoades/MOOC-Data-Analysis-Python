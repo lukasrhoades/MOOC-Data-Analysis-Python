{
 "cells": [
  {
   "cell_type": "markdown",
   "id": "226311c3-351b-4382-8c6a-5bd8a269ea73",
   "metadata": {},
   "source": [
    "testing"
   ]
  },
  {
   "cell_type": "code",
   "execution_count": 2,
   "id": "a90e79b4-fc28-403d-8b3b-a9a9bd700fc0",
   "metadata": {},
   "outputs": [
    {
     "name": "stdout",
     "output_type": "stream",
     "text": [
      "Hello world!\n"
     ]
    }
   ],
   "source": [
    "print(\"Hello world!\")"
   ]
  },
  {
   "cell_type": "markdown",
   "id": "74ae101e-77f4-4272-88a0-5c57c3b174c0",
   "metadata": {},
   "source": [
    "more testing :)"
   ]
  },
  {
   "cell_type": "code",
   "execution_count": null,
   "id": "9ac024c7-7a17-47b3-a34e-8b4ed05d3dc0",
   "metadata": {},
   "outputs": [],
   "source": []
  }
 ],
 "metadata": {
  "kernelspec": {
   "display_name": "Python [conda env:base] *",
   "language": "python",
   "name": "conda-base-py"
  },
  "language_info": {
   "codemirror_mode": {
    "name": "ipython",
    "version": 3
   },
   "file_extension": ".py",
   "mimetype": "text/x-python",
   "name": "python",
   "nbconvert_exporter": "python",
   "pygments_lexer": "ipython3",
   "version": "3.12.7"
  }
 },
 "nbformat": 4,
 "nbformat_minor": 5
}
