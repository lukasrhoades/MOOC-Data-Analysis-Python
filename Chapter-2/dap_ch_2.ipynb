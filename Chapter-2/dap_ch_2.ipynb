{
 "cells": [
  {
   "cell_type": "markdown",
   "id": "2dc248e6-90fb-47f0-85b8-74f689c9d8f7",
   "metadata": {},
   "source": [
    "Regular expressions"
   ]
  },
  {
   "cell_type": "markdown",
   "id": "c1bf42e5-3fa9-4219-a7dc-c41e9fa77ca8",
   "metadata": {},
   "source": [
    "Examples"
   ]
  },
  {
   "cell_type": "markdown",
   "id": "6c016659-f915-4c81-a54d-110cb25317b3",
   "metadata": {},
   "source": [
    "Patterns"
   ]
  },
  {
   "cell_type": "markdown",
   "id": "8131f422-91bc-42bf-ba5b-e30f253ca5e9",
   "metadata": {},
   "source": [
    "Match and search functions"
   ]
  },
  {
   "cell_type": "code",
   "execution_count": 6,
   "id": "7d8323a6-6f7d-4f8a-8dbd-f4e492698c7a",
   "metadata": {},
   "outputs": [
    {
     "data": {
      "text/plain": [
       "['Doing', 'going', 'staying', 'sleeping']"
      ]
     },
     "execution_count": 6,
     "metadata": {},
     "output_type": "execute_result"
    }
   ],
   "source": [
    "import re\n",
    "s = \"Doing things, going home, staying awake, sleeping later\"\n",
    "re.findall(r'\\w+ing\\b', s)"
   ]
  },
  {
   "cell_type": "code",
   "execution_count": 8,
   "id": "425756d6-174a-4334-b9af-f4ed71805c48",
   "metadata": {},
   "outputs": [
    {
     "data": {
      "text/plain": [
       "['23', '-24', '-1']"
      ]
     },
     "execution_count": 8,
     "metadata": {},
     "output_type": "execute_result"
    }
   ],
   "source": [
    "re.findall(r'[+-]?\\d+', \"23 + -24 = -1\")"
   ]
  },
  {
   "cell_type": "code",
   "execution_count": 22,
   "id": "4c896e66-3518-405b-ad68-b6da20e282dc",
   "metadata": {},
   "outputs": [
    {
     "data": {
      "text/plain": [
       "[\"I'm not in a hurry, then I should stay. On the other hand, if I leave\"]"
      ]
     },
     "execution_count": 22,
     "metadata": {},
     "output_type": "execute_result"
    }
   ],
   "source": [
    "s = (\"If I'm not in a hurry, then I should stay. \" + \n",
    "     \"On the other hand, if I leave, then I can sleep.\")\n",
    "re.findall(r'[Ii]f (.*), then', s)    # tries to match as many characters as possible"
   ]
  },
  {
   "cell_type": "code",
   "execution_count": 24,
   "id": "44d3beaf-5d1d-4c92-a7d7-4b7b13bcbbf2",
   "metadata": {},
   "outputs": [
    {
     "data": {
      "text/plain": [
       "[\"I'm not in a hurry\", 'I leave']"
      ]
     },
     "execution_count": 24,
     "metadata": {},
     "output_type": "execute_result"
    }
   ],
   "source": [
    "re.findall(r'[Ii]f ([^.]*), then', s)    # match everything but dot character"
   ]
  },
  {
   "cell_type": "code",
   "execution_count": 20,
   "id": "8d413131-c112-48a5-8454-1b7034e160d6",
   "metadata": {},
   "outputs": [
    {
     "data": {
      "text/plain": [
       "[\"I'm not in a hurry\", 'I leave']"
      ]
     },
     "execution_count": 20,
     "metadata": {},
     "output_type": "execute_result"
    }
   ],
   "source": [
    "re.findall(r'[Ii]f (.*?), then', s)    # non-greedy version"
   ]
  },
  {
   "cell_type": "markdown",
   "id": "fc07f061-ea98-4478-a582-e68df29be325",
   "metadata": {},
   "source": [
    "Functions in the re module"
   ]
  },
  {
   "cell_type": "code",
   "execution_count": 29,
   "id": "0cc7baf6-0072-4e9f-9cba-06c782a5c3ae",
   "metadata": {},
   "outputs": [
    {
     "name": "stdout",
     "output_type": "stream",
     "text": [
      "he goes where he wants to, he's a sheriff.\n"
     ]
    }
   ],
   "source": [
    "import re\n",
    "str = \"She goes where she wants to, she's a sheriff.\"\n",
    "newstr = re.sub(r'\\b[Ss]he\\b', 'he', str)\n",
    "print(newstr)"
   ]
  },
  {
   "cell_type": "code",
   "execution_count": 39,
   "id": "e43dc05d-a3f9-4dff-b3cf-980524b3c82e",
   "metadata": {},
   "outputs": [
    {
     "name": "stdout",
     "output_type": "stream",
     "text": [
      "He (The Doctor) is a timelord.\n",
      "He has a Tardis.\n"
     ]
    }
   ],
   "source": [
    "import re\n",
    "str = \"\"\"He is a timelord.\n",
    "He has a Tardis.\"\"\"\n",
    "newstr = re.sub(r'(\\b[Hh]e\\b)', r'\\1 (The Doctor)', str, 1)\n",
    "print(newstr)"
   ]
  },
  {
   "cell_type": "markdown",
   "id": "9048edf3-d965-4e08-8fb5-f7b93b3000f1",
   "metadata": {},
   "source": [
    "Match object"
   ]
  },
  {
   "cell_type": "code",
   "execution_count": 44,
   "id": "3907a5c5-34be-417e-a117-df8e91b12cd6",
   "metadata": {},
   "outputs": [],
   "source": [
    "mo = re.search(r'\\d+ (\\d+) \\d+ (\\d+)', 'first 123 45 67 890 last')"
   ]
  },
  {
   "cell_type": "code",
   "execution_count": 52,
   "id": "6458beba-7682-4c2c-ba46-344c282c2ef8",
   "metadata": {},
   "outputs": [
    {
     "data": {
      "text/plain": [
       "('45', '890')"
      ]
     },
     "execution_count": 52,
     "metadata": {},
     "output_type": "execute_result"
    }
   ],
   "source": [
    "mo.groups()"
   ]
  },
  {
   "cell_type": "code",
   "execution_count": 54,
   "id": "13ac166f-72ea-4244-a6ad-afecf22f88e5",
   "metadata": {},
   "outputs": [
    {
     "data": {
      "text/plain": [
       "'123 45 67 890'"
      ]
     },
     "execution_count": 54,
     "metadata": {},
     "output_type": "execute_result"
    }
   ],
   "source": [
    "mo.group(0)"
   ]
  },
  {
   "cell_type": "code",
   "execution_count": 80,
   "id": "8876f936-81d2-4bb2-b86d-4b11d3caa53b",
   "metadata": {},
   "outputs": [
    {
     "name": "stdout",
     "output_type": "stream",
     "text": [
      "The string 'first' is present\n"
     ]
    }
   ],
   "source": [
    "mo = re.search(r'first', 'first 123 45 67 890 last')\n",
    "if mo:\n",
    "    print(\"The string 'first' is present\")"
   ]
  },
  {
   "cell_type": "markdown",
   "id": "b1dd7e99-dbe4-4a1c-8ed7-c924f1f97829",
   "metadata": {},
   "source": [
    "Miscellaneous stuff"
   ]
  },
  {
   "cell_type": "markdown",
   "id": "dfe76f72-ee31-433f-9d9d-c53e5a47746f",
   "metadata": {},
   "source": [
    "Exercise 2.1 (integers in brackets)"
   ]
  },
  {
   "cell_type": "code",
   "execution_count": 85,
   "id": "3f0374e5-3589-47e5-a3d5-fe1d8c3761df",
   "metadata": {},
   "outputs": [
    {
     "name": "stdout",
     "output_type": "stream",
     "text": [
      "[12, -43, 12]\n"
     ]
    }
   ],
   "source": [
    "def integers_in_brackets(s):\n",
    "    \"\"\"Returns all integers enclosed in brackets from a given string\"\"\"\n",
    "    import re\n",
    "    # * over ? accomodates multiple whitespaces, () to only return that part\n",
    "    return list(map(int, (re.findall(r'\\[\\s*([+-]?\\d+)\\s*\\]', s))))\n",
    "\n",
    "def main():\n",
    "    result = integers_in_brackets(\" afd [asd] [12 ] [a34] [ -43 ]tt [+12]xxx\")\n",
    "    print(result)\n",
    "\n",
    "if __name__ == \"__main__\":\n",
    "    main()"
   ]
  },
  {
   "cell_type": "code",
   "execution_count": null,
   "id": "df891e1e-146c-4e18-a525-b2e95458a415",
   "metadata": {},
   "outputs": [],
   "source": []
  }
 ],
 "metadata": {
  "kernelspec": {
   "display_name": "Python [conda env:base] *",
   "language": "python",
   "name": "conda-base-py"
  },
  "language_info": {
   "codemirror_mode": {
    "name": "ipython",
    "version": 3
   },
   "file_extension": ".py",
   "mimetype": "text/x-python",
   "name": "python",
   "nbconvert_exporter": "python",
   "pygments_lexer": "ipython3",
   "version": "3.12.7"
  }
 },
 "nbformat": 4,
 "nbformat_minor": 5
}
