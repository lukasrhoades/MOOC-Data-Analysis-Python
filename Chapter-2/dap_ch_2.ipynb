{
 "cells": [
  {
   "cell_type": "markdown",
   "id": "2dc248e6-90fb-47f0-85b8-74f689c9d8f7",
   "metadata": {},
   "source": [
    "Regular expressions"
   ]
  },
  {
   "cell_type": "markdown",
   "id": "c1bf42e5-3fa9-4219-a7dc-c41e9fa77ca8",
   "metadata": {},
   "source": [
    "Examples"
   ]
  },
  {
   "cell_type": "markdown",
   "id": "6c016659-f915-4c81-a54d-110cb25317b3",
   "metadata": {},
   "source": [
    "Patterns"
   ]
  },
  {
   "cell_type": "markdown",
   "id": "8131f422-91bc-42bf-ba5b-e30f253ca5e9",
   "metadata": {},
   "source": [
    "Match and search functions"
   ]
  },
  {
   "cell_type": "code",
   "execution_count": 6,
   "id": "7d8323a6-6f7d-4f8a-8dbd-f4e492698c7a",
   "metadata": {},
   "outputs": [
    {
     "data": {
      "text/plain": [
       "['Doing', 'going', 'staying', 'sleeping']"
      ]
     },
     "execution_count": 6,
     "metadata": {},
     "output_type": "execute_result"
    }
   ],
   "source": [
    "import re\n",
    "s = \"Doing things, going home, staying awake, sleeping later\"\n",
    "re.findall(r'\\w+ing\\b', s)"
   ]
  },
  {
   "cell_type": "code",
   "execution_count": 8,
   "id": "425756d6-174a-4334-b9af-f4ed71805c48",
   "metadata": {},
   "outputs": [
    {
     "data": {
      "text/plain": [
       "['23', '-24', '-1']"
      ]
     },
     "execution_count": 8,
     "metadata": {},
     "output_type": "execute_result"
    }
   ],
   "source": [
    "re.findall(r'[+-]?\\d+', \"23 + -24 = -1\")"
   ]
  },
  {
   "cell_type": "code",
   "execution_count": 22,
   "id": "4c896e66-3518-405b-ad68-b6da20e282dc",
   "metadata": {},
   "outputs": [
    {
     "data": {
      "text/plain": [
       "[\"I'm not in a hurry, then I should stay. On the other hand, if I leave\"]"
      ]
     },
     "execution_count": 22,
     "metadata": {},
     "output_type": "execute_result"
    }
   ],
   "source": [
    "s = (\"If I'm not in a hurry, then I should stay. \" + \n",
    "     \"On the other hand, if I leave, then I can sleep.\")\n",
    "re.findall(r'[Ii]f (.*), then', s)    # tries to match as many characters as possible"
   ]
  },
  {
   "cell_type": "code",
   "execution_count": 24,
   "id": "44d3beaf-5d1d-4c92-a7d7-4b7b13bcbbf2",
   "metadata": {},
   "outputs": [
    {
     "data": {
      "text/plain": [
       "[\"I'm not in a hurry\", 'I leave']"
      ]
     },
     "execution_count": 24,
     "metadata": {},
     "output_type": "execute_result"
    }
   ],
   "source": [
    "re.findall(r'[Ii]f ([^.]*), then', s)    # match everything but dot character"
   ]
  },
  {
   "cell_type": "code",
   "execution_count": 20,
   "id": "8d413131-c112-48a5-8454-1b7034e160d6",
   "metadata": {},
   "outputs": [
    {
     "data": {
      "text/plain": [
       "[\"I'm not in a hurry\", 'I leave']"
      ]
     },
     "execution_count": 20,
     "metadata": {},
     "output_type": "execute_result"
    }
   ],
   "source": [
    "re.findall(r'[Ii]f (.*?), then', s)    # non-greedy version"
   ]
  },
  {
   "cell_type": "markdown",
   "id": "fc07f061-ea98-4478-a582-e68df29be325",
   "metadata": {},
   "source": [
    "Functions in the re module"
   ]
  },
  {
   "cell_type": "code",
   "execution_count": 29,
   "id": "0cc7baf6-0072-4e9f-9cba-06c782a5c3ae",
   "metadata": {},
   "outputs": [
    {
     "name": "stdout",
     "output_type": "stream",
     "text": [
      "he goes where he wants to, he's a sheriff.\n"
     ]
    }
   ],
   "source": [
    "import re\n",
    "str = \"She goes where she wants to, she's a sheriff.\"\n",
    "newstr = re.sub(r'\\b[Ss]he\\b', 'he', str)\n",
    "print(newstr)"
   ]
  },
  {
   "cell_type": "code",
   "execution_count": 39,
   "id": "e43dc05d-a3f9-4dff-b3cf-980524b3c82e",
   "metadata": {},
   "outputs": [
    {
     "name": "stdout",
     "output_type": "stream",
     "text": [
      "He (The Doctor) is a timelord.\n",
      "He has a Tardis.\n"
     ]
    }
   ],
   "source": [
    "import re\n",
    "str = \"\"\"He is a timelord.\n",
    "He has a Tardis.\"\"\"\n",
    "newstr = re.sub(r'(\\b[Hh]e\\b)', r'\\1 (The Doctor)', str, 1)\n",
    "print(newstr)"
   ]
  },
  {
   "cell_type": "markdown",
   "id": "9048edf3-d965-4e08-8fb5-f7b93b3000f1",
   "metadata": {},
   "source": [
    "Match object"
   ]
  },
  {
   "cell_type": "code",
   "execution_count": 44,
   "id": "3907a5c5-34be-417e-a117-df8e91b12cd6",
   "metadata": {},
   "outputs": [],
   "source": [
    "mo = re.search(r'\\d+ (\\d+) \\d+ (\\d+)', 'first 123 45 67 890 last')"
   ]
  },
  {
   "cell_type": "code",
   "execution_count": 52,
   "id": "6458beba-7682-4c2c-ba46-344c282c2ef8",
   "metadata": {},
   "outputs": [
    {
     "data": {
      "text/plain": [
       "('45', '890')"
      ]
     },
     "execution_count": 52,
     "metadata": {},
     "output_type": "execute_result"
    }
   ],
   "source": [
    "mo.groups()"
   ]
  },
  {
   "cell_type": "code",
   "execution_count": 54,
   "id": "13ac166f-72ea-4244-a6ad-afecf22f88e5",
   "metadata": {},
   "outputs": [
    {
     "data": {
      "text/plain": [
       "'123 45 67 890'"
      ]
     },
     "execution_count": 54,
     "metadata": {},
     "output_type": "execute_result"
    }
   ],
   "source": [
    "mo.group(0)"
   ]
  },
  {
   "cell_type": "code",
   "execution_count": 80,
   "id": "8876f936-81d2-4bb2-b86d-4b11d3caa53b",
   "metadata": {},
   "outputs": [
    {
     "name": "stdout",
     "output_type": "stream",
     "text": [
      "The string 'first' is present\n"
     ]
    }
   ],
   "source": [
    "mo = re.search(r'first', 'first 123 45 67 890 last')\n",
    "if mo:\n",
    "    print(\"The string 'first' is present\")"
   ]
  },
  {
   "cell_type": "markdown",
   "id": "b1dd7e99-dbe4-4a1c-8ed7-c924f1f97829",
   "metadata": {},
   "source": [
    "Miscellaneous stuff"
   ]
  },
  {
   "cell_type": "markdown",
   "id": "dfe76f72-ee31-433f-9d9d-c53e5a47746f",
   "metadata": {},
   "source": [
    "Exercise 2.1 (integers in brackets)"
   ]
  },
  {
   "cell_type": "code",
   "execution_count": 85,
   "id": "3f0374e5-3589-47e5-a3d5-fe1d8c3761df",
   "metadata": {},
   "outputs": [
    {
     "name": "stdout",
     "output_type": "stream",
     "text": [
      "[12, -43, 12]\n"
     ]
    }
   ],
   "source": [
    "def integers_in_brackets(s):\n",
    "    \"\"\"Returns all integers enclosed in brackets from a given string\"\"\"\n",
    "    import re\n",
    "    # * over ? accomodates multiple whitespaces, () to only return that part\n",
    "    return list(map(int, (re.findall(r'\\[\\s*([+-]?\\d+)\\s*\\]', s))))\n",
    "\n",
    "def main():\n",
    "    result = integers_in_brackets(\" afd [asd] [12 ] [a34] [ -43 ]tt [+12]xxx\")\n",
    "    print(result)\n",
    "\n",
    "if __name__ == \"__main__\":\n",
    "    main()"
   ]
  },
  {
   "cell_type": "markdown",
   "id": "886d89d0-5f9b-400d-8cfa-8ce2c59459f4",
   "metadata": {},
   "source": [
    "Basic file processing"
   ]
  },
  {
   "cell_type": "code",
   "execution_count": 90,
   "id": "553c828f-dbb8-4ed2-b53c-3a8245e4e635",
   "metadata": {},
   "outputs": [
    {
     "data": {
      "text/plain": [
       "b'\\xc3\\xa4'"
      ]
     },
     "execution_count": 90,
     "metadata": {},
     "output_type": "execute_result"
    }
   ],
   "source": [
    "\"ä\".encode(\"utf-8\")"
   ]
  },
  {
   "cell_type": "code",
   "execution_count": 94,
   "id": "dc4da0ce-70a9-4dcd-833b-8edb90bbc01c",
   "metadata": {},
   "outputs": [
    {
     "data": {
      "text/plain": [
       "[195, 164]"
      ]
     },
     "execution_count": 94,
     "metadata": {},
     "output_type": "execute_result"
    }
   ],
   "source": [
    "list(\"ä\".encode(\"utf-8\"))    # Show as a list of integers"
   ]
  },
  {
   "cell_type": "code",
   "execution_count": 98,
   "id": "7ca6cac2-adbd-43da-a975-42a5321de8a3",
   "metadata": {},
   "outputs": [
    {
     "data": {
      "text/plain": [
       "b'a'"
      ]
     },
     "execution_count": 98,
     "metadata": {},
     "output_type": "execute_result"
    }
   ],
   "source": [
    "\"a\".encode(\"utf-8\")"
   ]
  },
  {
   "cell_type": "markdown",
   "id": "2ad0ab57-b8d5-4e6f-9286-19e14dcc55c5",
   "metadata": {},
   "source": [
    "Some common file object methods"
   ]
  },
  {
   "cell_type": "code",
   "execution_count": 116,
   "id": "8765e128-6ef8-4e33-b3a2-4729921d002f",
   "metadata": {},
   "outputs": [
    {
     "name": "stdout",
     "output_type": "stream",
     "text": [
      "Line 0: {\n",
      "Line 1:  \"cells\": [\n",
      "Line 2:   {\n",
      "Line 3:    \"cell_type\": \"markdown\",\n",
      "Line 4:    \"id\": \"226311c3-351b-4382-8c6a-5bd8a269ea73\",\n"
     ]
    }
   ],
   "source": [
    "f = open(\"basics.ipynb\", \"r\")    # let's open this notebook file,\n",
    "                                 # which is essentially a text file\n",
    "                                 # so you can open it in a texteditor also\n",
    "\n",
    "for i in range(5):               # and read the first five lines\n",
    "    line = f.readline()\n",
    "    print(f\"Line {i}: {line}\", end=\"\")\n",
    "f.close()"
   ]
  },
  {
   "cell_type": "code",
   "execution_count": 118,
   "id": "0e9c4ab6-03b4-4421-95ff-d014b9e85050",
   "metadata": {},
   "outputs": [
    {
     "name": "stdout",
     "output_type": "stream",
     "text": [
      "Line 0: {\n",
      "Line 1:  \"cells\": [\n",
      "Line 2:   {\n",
      "Line 3:    \"cell_type\": \"markdown\",\n",
      "Line 4:    \"id\": \"226311c3-351b-4382-8c6a-5bd8a269ea73\",\n"
     ]
    }
   ],
   "source": [
    "with open(\"basics.ipynb\", \"r\") as f:    # the file will be automatically closed,\n",
    "                                        # when the with block exits\n",
    "\n",
    "    for i in range(5):\n",
    "        line = f.readline()\n",
    "        print(f\"Line {i}: {line}\", end=\"\")"
   ]
  },
  {
   "cell_type": "code",
   "execution_count": 120,
   "id": "ab51ec7c-127a-49c2-b245-2c023cff2be6",
   "metadata": {},
   "outputs": [
    {
     "name": "stdout",
     "output_type": "stream",
     "text": [
      "The longest line in this file has length 49\n"
     ]
    }
   ],
   "source": [
    "max_len = 0\n",
    "with open(\"basics.ipynb\", \"r\") as f:\n",
    "    for line in f:    # iterates through all the lines in the file\n",
    "        if len(line) > max_len:\n",
    "            max_len = len(line)\n",
    "print(f\"The longest line in this file has length {max_len}\")"
   ]
  },
  {
   "cell_type": "markdown",
   "id": "eca203d7-2b94-447a-85d4-babe7e9ad183",
   "metadata": {},
   "source": [
    "Standard file objects"
   ]
  },
  {
   "cell_type": "code",
   "execution_count": 123,
   "id": "cfb4a0f5-5410-426c-bf43-37bd260f5fb5",
   "metadata": {},
   "outputs": [
    {
     "name": "stderr",
     "output_type": "stream",
     "text": [
      "Got a negative integer.\n"
     ]
    }
   ],
   "source": [
    "import sys\n",
    "import random\n",
    "i = random.randint(-10, 10)\n",
    "if i >= 0:\n",
    "    sys.stdout.write(\"Got a positive integer or zero.\\n\")\n",
    "else:\n",
    "    sys.stderr.write(\"Got a negative integer.\\n\")"
   ]
  },
  {
   "cell_type": "markdown",
   "id": "a39ac31c-dce8-4e7f-a858-53459ce3e636",
   "metadata": {},
   "source": [
    "sys module"
   ]
  },
  {
   "cell_type": "markdown",
   "id": "69f3269e-dba7-46e2-85b6-dfef4425f544",
   "metadata": {},
   "source": [
    "Exercise 2.2 (file listing)"
   ]
  },
  {
   "cell_type": "markdown",
   "id": "aed694bf-320f-4a69-b558-d0fdcefe5d2f",
   "metadata": {},
   "source": [
    "My solution:"
   ]
  },
  {
   "cell_type": "code",
   "execution_count": 139,
   "id": "17957ef5-2461-4702-974c-3701538570c0",
   "metadata": {},
   "outputs": [
    {
     "name": "stdout",
     "output_type": "stream",
     "text": [
      "[(2356, 'Dec', 11, 11, 50, 'add_colab_link.py'), (164519, 'Dec', 28, 17, 59, 'basics.ipynb'), (164477, 'Nov', 5, 19, 21, 'basics.ipynb.orig'), (115587, 'Dec', 11, 11, 50, 'bayes.ipynb'), (4096, 'Nov', 29, 13, 7, '_build'), (198820, 'Dec', 11, 11, 50, 'clustering.ipynb'), (6647, 'Dec', 11, 12, 20, 'conf.py'), (41828, 'Nov', 28, 13, 26, 'example_figure2.png'), (125079, 'Nov', 28, 13, 26, 'example_figure2.xcf'), (24139, 'Nov', 28, 12, 3, 'example_figure.png'), (650, 'Nov', 28, 12, 3, 'example_figure.py'), (25399, 'Nov', 2, 21, 25, 'exception_hierarchy.pdf'), (43632, 'Nov', 2, 22, 5, 'exception_hierarchy.png'), (24366, 'Nov', 2, 21, 26, 'exception_hierarchy.svg'), (72095, 'Oct', 3, 17, 36, 'extra.ipynb'), (1207075, 'Nov', 28, 16, 2, 'face.png'), (897, 'Nov', 12, 10, 59, 'generate_contents.py'), (4096, 'Dec', 27, 13, 55, '.git'), (19, 'Dec', 10, 10, 24, '.gitignore'), (890349, 'Dec', 11, 11, 50, 'image_processing.ipynb'), (689, 'Dec', 10, 10, 28, 'index.rst'), (5254, 'Nov', 3, 18, 46, 'inheritance_hierarchy.pdf'), (7271, 'Nov', 3, 18, 46, 'inheritance_hierarchy.svg'), (4091, 'Dec', 11, 11, 50, 'instructions.ipynb'), (4096, 'Nov', 30, 14, 13, '.ipynb_checkpoints'), (54011, 'Dec', 11, 11, 50, 'linear_regression.ipynb'), (620, 'Nov', 1, 11, 44, 'Makefile'), (52191, 'Dec', 11, 11, 50, 'matplotlib.ipynb'), (1920, 'Nov', 30, 11, 37, 'notes.ipynb'), (82564, 'Dec', 11, 11, 50, 'numpy.ipynb'), (10201, 'Nov', 3, 16, 36, 'package.pdf'), (5742, 'Nov', 3, 16, 37, 'package.svg'), (913641, 'Nov', 26, 10, 58, 'painting.png'), (348531, 'Dec', 28, 13, 40, 'pandas.ipynb'), (100697, 'Dec', 11, 11, 50, 'pca.ipynb'), (32451, 'Oct', 5, 19, 21, 'Python-basic-elements.ipynb'), (82, 'Nov', 13, 12, 55, 'requirements.txt'), (81, 'Nov', 13, 12, 44, 'requirements.txt.old'), (2836, 'Nov', 12, 10, 58, 'sisallys.ipynb'), (128194, 'Nov', 23, 12, 58, 'testing.ipynb'), (691, 'Nov', 29, 16, 27, '.travis.yml'), (973, 'Oct', 31, 14, 1, 'typing1.fig'), (3747, 'Oct', 31, 14, 1, 'typing1.svg'), (1093, 'Oct', 31, 14, 1, 'typing2.fig'), (4053, 'Oct', 31, 14, 2, 'typing2.svg'), (12220, 'Oct', 31, 14, 7, 'typing.svg'), (766, 'Oct', 25, 12, 10, 'versions.py')]\n"
     ]
    }
   ],
   "source": [
    "import re\n",
    "\n",
    "\n",
    "def file_listing(filename=\"listing.txt\"):\n",
    "    \"\"\"Filters file and returns tuples for each line,\n",
    "    each including size, month, day, hour, minute, and filename\n",
    "    \"\"\"\n",
    "    result = []\n",
    "    with open(filename, \"r\") as f:\n",
    "        for line in f:\n",
    "            size = re.findall(r'(\\d+)', line)\n",
    "            month = re.search(r'\\b[A-Z][a-z][a-z]\\b', line) \n",
    "            day = re.findall(r'\\b\\d+\\b', line)\n",
    "            hour = re.findall(r'\\b(\\d+):', line)\n",
    "            minute = re.findall(r':(\\d+)\\b', line)\n",
    "            # will take last continuous non-string\n",
    "            filename = re.findall(r'\\s(\\S+)\\b', line)\n",
    "            tuple = (int(size[1]), month.group(0), int(day[2]),\n",
    "                      int(hour[0]), int(minute[0]), filename[-1])\n",
    "            result.append(tuple)\n",
    "    return result\n",
    "\n",
    "def main():\n",
    "    print(file_listing())\n",
    "\n",
    "if __name__ == \"__main__\":\n",
    "    main()"
   ]
  },
  {
   "cell_type": "markdown",
   "id": "4c198b47-0673-4eb2-b9c3-6246435237bd",
   "metadata": {},
   "source": [
    "Suggested solution:"
   ]
  },
  {
   "cell_type": "code",
   "execution_count": 153,
   "id": "b298de88-52e0-4388-b936-1c926f779979",
   "metadata": {},
   "outputs": [
    {
     "name": "stdout",
     "output_type": "stream",
     "text": [
      "(2356, 'Dec', 11, 11, 50, 'add_colab_link.py')\n",
      "(164519, 'Dec', 28, 17, 59, 'basics.ipynb')\n",
      "(164477, 'Nov', 5, 19, 21, 'basics.ipynb.orig')\n",
      "(115587, 'Dec', 11, 11, 50, 'bayes.ipynb')\n",
      "(4096, 'Nov', 29, 13, 7, '_build')\n",
      "(198820, 'Dec', 11, 11, 50, 'clustering.ipynb')\n",
      "(6647, 'Dec', 11, 12, 20, 'conf.py')\n",
      "(41828, 'Nov', 28, 13, 26, 'example_figure2.png')\n",
      "(125079, 'Nov', 28, 13, 26, 'example_figure2.xcf')\n",
      "(24139, 'Nov', 28, 12, 3, 'example_figure.png')\n",
      "(650, 'Nov', 28, 12, 3, 'example_figure.py')\n",
      "(25399, 'Nov', 2, 21, 25, 'exception_hierarchy.pdf')\n",
      "(43632, 'Nov', 2, 22, 5, 'exception_hierarchy.png')\n",
      "(24366, 'Nov', 2, 21, 26, 'exception_hierarchy.svg')\n",
      "(72095, 'Oct', 3, 17, 36, 'extra.ipynb')\n",
      "(1207075, 'Nov', 28, 16, 2, 'face.png')\n",
      "(897, 'Nov', 12, 10, 59, 'generate_contents.py')\n",
      "(4096, 'Dec', 27, 13, 55, '.git')\n",
      "(19, 'Dec', 10, 10, 24, '.gitignore')\n",
      "(890349, 'Dec', 11, 11, 50, 'image_processing.ipynb')\n",
      "(689, 'Dec', 10, 10, 28, 'index.rst')\n",
      "(5254, 'Nov', 3, 18, 46, 'inheritance_hierarchy.pdf')\n",
      "(7271, 'Nov', 3, 18, 46, 'inheritance_hierarchy.svg')\n",
      "(4091, 'Dec', 11, 11, 50, 'instructions.ipynb')\n",
      "(4096, 'Nov', 30, 14, 13, '.ipynb_checkpoints')\n",
      "(54011, 'Dec', 11, 11, 50, 'linear_regression.ipynb')\n",
      "(620, 'Nov', 1, 11, 44, 'Makefile')\n",
      "(52191, 'Dec', 11, 11, 50, 'matplotlib.ipynb')\n",
      "(1920, 'Nov', 30, 11, 37, 'notes.ipynb')\n",
      "(82564, 'Dec', 11, 11, 50, 'numpy.ipynb')\n",
      "(10201, 'Nov', 3, 16, 36, 'package.pdf')\n",
      "(5742, 'Nov', 3, 16, 37, 'package.svg')\n",
      "(913641, 'Nov', 26, 10, 58, 'painting.png')\n",
      "(348531, 'Dec', 28, 13, 40, 'pandas.ipynb')\n",
      "(100697, 'Dec', 11, 11, 50, 'pca.ipynb')\n",
      "(32451, 'Oct', 5, 19, 21, 'Python-basic-elements.ipynb')\n",
      "(82, 'Nov', 13, 12, 55, 'requirements.txt')\n",
      "(81, 'Nov', 13, 12, 44, 'requirements.txt.old')\n",
      "(2836, 'Nov', 12, 10, 58, 'sisallys.ipynb')\n",
      "(128194, 'Nov', 23, 12, 58, 'testing.ipynb')\n",
      "(691, 'Nov', 29, 16, 27, '.travis.yml')\n",
      "(973, 'Oct', 31, 14, 1, 'typing1.fig')\n",
      "(3747, 'Oct', 31, 14, 1, 'typing1.svg')\n",
      "(1093, 'Oct', 31, 14, 1, 'typing2.fig')\n",
      "(4053, 'Oct', 31, 14, 2, 'typing2.svg')\n",
      "(12220, 'Oct', 31, 14, 7, 'typing.svg')\n",
      "(766, 'Oct', 25, 12, 10, 'versions.py')\n"
     ]
    }
   ],
   "source": [
    "import re\n",
    " \n",
    " \n",
    "def file_listing(filename=\"listing.txt\"):\n",
    "    with open(filename) as f:\n",
    "        lines = f.readlines()\n",
    "    result=[]\n",
    "    for line in lines:\n",
    "        pattern = r\".{10}\\s+\\d+\\s+.+\\s+.+\\s+(\\d+)\\s+(...)\\s+(\\d+)\\s+(\\d\\d):(\\d\\d)\\s+(.+)\"\n",
    "        if True:      # Two alternative ways of doing the same thing\n",
    "            m = re.match(pattern, line)\n",
    "        else:\n",
    "            compiled_pattern = re.compile(pattern)\n",
    "            m = compiled_pattern.match(line)\n",
    "        if m:\n",
    "            t = m.groups()\n",
    "            result.append((int(t[0]), t[1], int(t[2]), int(t[3]), int(t[4]), t[5]))\n",
    "        else:\n",
    "            print(line)\n",
    "    return result\n",
    " \n",
    "def main():\n",
    "    tuples = file_listing()\n",
    "    for t in tuples:\n",
    "        print(t)\n",
    " \n",
    "if __name__ == \"__main__\":\n",
    "    main()"
   ]
  },
  {
   "cell_type": "markdown",
   "id": "741106c8-fe3e-40a1-94d3-1b3ff871e8e7",
   "metadata": {},
   "source": [
    "Exercise 2.3 (red green blue)"
   ]
  },
  {
   "cell_type": "markdown",
   "id": "7c9718e3-6e05-4221-979a-f8a5e248c882",
   "metadata": {},
   "source": [
    "My solution:"
   ]
  },
  {
   "cell_type": "code",
   "execution_count": 143,
   "id": "d1520db2-8057-4ad8-a15a-7c83f044924c",
   "metadata": {},
   "outputs": [
    {
     "name": "stdout",
     "output_type": "stream",
     "text": [
      "['255\\t250\\t250\\tsnow', '248\\t248\\t255\\tghost white', '248\\t248\\t255\\tGhostWhite', '245\\t245\\t245\\twhite smoke', '245\\t245\\t245\\tWhiteSmoke', '220\\t220\\t220\\tgainsboro', '255\\t250\\t240\\tfloral white', '255\\t250\\t240\\tFloralWhite', '253\\t245\\t230\\told lace', '253\\t245\\t230\\tOldLace', '250\\t240\\t230\\tlinen', '250\\t235\\t215\\tantique white', '250\\t235\\t215\\tAntiqueWhite', '255\\t239\\t213\\tpapaya whip', '255\\t239\\t213\\tPapayaWhip', '255\\t235\\t205\\tblanched almond', '255\\t235\\t205\\tBlanchedAlmond', '255\\t228\\t196\\tbisque', '255\\t218\\t185\\tpeach puff', '255\\t218\\t185\\tPeachPuff', '255\\t222\\t173\\tnavajo white', '255\\t222\\t173\\tNavajoWhite', '255\\t228\\t181\\tmoccasin', '255\\t248\\t220\\tcornsilk', '255\\t255\\t240\\tivory', '255\\t250\\t205\\tlemon chiffon', '255\\t250\\t205\\tLemonChiffon', '255\\t245\\t238\\tseashell', '240\\t255\\t240\\thoneydew', '245\\t255\\t250\\tmint cream', '245\\t255\\t250\\tMintCream', '240\\t255\\t255\\tazure', '240\\t248\\t255\\talice blue', '240\\t248\\t255\\tAliceBlue', '230\\t230\\t250\\tlavender', '255\\t240\\t245\\tlavender blush', '255\\t240\\t245\\tLavenderBlush', '255\\t228\\t225\\tmisty rose', '255\\t228\\t225\\tMistyRose', '255\\t255\\t255\\twhite', '0\\t0\\t0\\tblack', '47\\t79\\t79\\tdark slate gray', '47\\t79\\t79\\tDarkSlateGray', '47\\t79\\t79\\tdark slate grey', '47\\t79\\t79\\tDarkSlateGrey', '105\\t105\\t105\\tdim gray', '105\\t105\\t105\\tDimGray', '105\\t105\\t105\\tdim grey', '105\\t105\\t105\\tDimGrey', '112\\t128\\t144\\tslate gray', '112\\t128\\t144\\tSlateGray', '112\\t128\\t144\\tslate grey', '112\\t128\\t144\\tSlateGrey', '119\\t136\\t153\\tlight slate gray', '119\\t136\\t153\\tLightSlateGray', '119\\t136\\t153\\tlight slate grey', '119\\t136\\t153\\tLightSlateGrey', '190\\t190\\t190\\tgray', '190\\t190\\t190\\tgrey', '211\\t211\\t211\\tlight grey', '211\\t211\\t211\\tLightGrey', '211\\t211\\t211\\tlight gray', '211\\t211\\t211\\tLightGray', '25\\t25\\t112\\tmidnight blue', '25\\t25\\t112\\tMidnightBlue', '0\\t0\\t128\\tnavy', '0\\t0\\t128\\tnavy blue', '0\\t0\\t128\\tNavyBlue', '100\\t149\\t237\\tcornflower blue', '100\\t149\\t237\\tCornflowerBlue', '72\\t61\\t139\\tdark slate blue', '72\\t61\\t139\\tDarkSlateBlue', '106\\t90\\t205\\tslate blue', '106\\t90\\t205\\tSlateBlue', '123\\t104\\t238\\tmedium slate blue', '123\\t104\\t238\\tMediumSlateBlue', '132\\t112\\t255\\tlight slate blue', '132\\t112\\t255\\tLightSlateBlue', '0\\t0\\t205\\tmedium blue', '0\\t0\\t205\\tMediumBlue', '65\\t105\\t225\\troyal blue', '65\\t105\\t225\\tRoyalBlue', '0\\t0\\t255\\tblue', '30\\t144\\t255\\tdodger blue', '30\\t144\\t255\\tDodgerBlue', '0\\t191\\t255\\tdeep sky blue', '0\\t191\\t255\\tDeepSkyBlue', '135\\t206\\t235\\tsky blue', '135\\t206\\t235\\tSkyBlue', '135\\t206\\t250\\tlight sky blue', '135\\t206\\t250\\tLightSkyBlue', '70\\t130\\t180\\tsteel blue', '70\\t130\\t180\\tSteelBlue', '176\\t196\\t222\\tlight steel blue', '176\\t196\\t222\\tLightSteelBlue', '173\\t216\\t230\\tlight blue', '173\\t216\\t230\\tLightBlue', '176\\t224\\t230\\tpowder blue', '176\\t224\\t230\\tPowderBlue', '175\\t238\\t238\\tpale turquoise', '175\\t238\\t238\\tPaleTurquoise', '0\\t206\\t209\\tdark turquoise', '0\\t206\\t209\\tDarkTurquoise', '72\\t209\\t204\\tmedium turquoise', '72\\t209\\t204\\tMediumTurquoise', '64\\t224\\t208\\tturquoise', '0\\t255\\t255\\tcyan', '224\\t255\\t255\\tlight cyan', '224\\t255\\t255\\tLightCyan', '95\\t158\\t160\\tcadet blue', '95\\t158\\t160\\tCadetBlue', '102\\t205\\t170\\tmedium aquamarine', '102\\t205\\t170\\tMediumAquamarine', '127\\t255\\t212\\taquamarine', '0\\t100\\t0\\tdark green', '0\\t100\\t0\\tDarkGreen', '85\\t107\\t47\\tdark olive green', '85\\t107\\t47\\tDarkOliveGreen', '143\\t188\\t143\\tdark sea green', '143\\t188\\t143\\tDarkSeaGreen', '46\\t139\\t87\\tsea green', '46\\t139\\t87\\tSeaGreen', '60\\t179\\t113\\tmedium sea green', '60\\t179\\t113\\tMediumSeaGreen', '32\\t178\\t170\\tlight sea green', '32\\t178\\t170\\tLightSeaGreen', '152\\t251\\t152\\tpale green', '152\\t251\\t152\\tPaleGreen', '0\\t255\\t127\\tspring green', '0\\t255\\t127\\tSpringGreen', '124\\t252\\t0\\tlawn green', '124\\t252\\t0\\tLawnGreen', '0\\t255\\t0\\tgreen', '127\\t255\\t0\\tchartreuse', '0\\t250\\t154\\tmedium spring green', '0\\t250\\t154\\tMediumSpringGreen', '173\\t255\\t47\\tgreen yellow', '173\\t255\\t47\\tGreenYellow', '50\\t205\\t50\\tlime green', '50\\t205\\t50\\tLimeGreen', '154\\t205\\t50\\tyellow green', '154\\t205\\t50\\tYellowGreen', '34\\t139\\t34\\tforest green', '34\\t139\\t34\\tForestGreen', '107\\t142\\t35\\tolive drab', '107\\t142\\t35\\tOliveDrab', '189\\t183\\t107\\tdark khaki', '189\\t183\\t107\\tDarkKhaki', '240\\t230\\t140\\tkhaki', '238\\t232\\t170\\tpale goldenrod', '238\\t232\\t170\\tPaleGoldenrod', '250\\t250\\t210\\tlight goldenrod yellow', '250\\t250\\t210\\tLightGoldenrodYellow', '255\\t255\\t224\\tlight yellow', '255\\t255\\t224\\tLightYellow', '255\\t255\\t0\\tyellow', '255\\t215\\t0\\tgold', '238\\t221\\t130\\tlight goldenrod', '238\\t221\\t130\\tLightGoldenrod', '218\\t165\\t32\\tgoldenrod', '184\\t134\\t11\\tdark goldenrod', '184\\t134\\t11\\tDarkGoldenrod', '188\\t143\\t143\\trosy brown', '188\\t143\\t143\\tRosyBrown', '205\\t92\\t92\\tindian red', '205\\t92\\t92\\tIndianRed', '139\\t69\\t19\\tsaddle brown', '139\\t69\\t19\\tSaddleBrown', '160\\t82\\t45\\tsienna', '205\\t133\\t63\\tperu', '222\\t184\\t135\\tburlywood', '245\\t245\\t220\\tbeige', '245\\t222\\t179\\twheat', '244\\t164\\t96\\tsandy brown', '244\\t164\\t96\\tSandyBrown', '210\\t180\\t140\\ttan', '210\\t105\\t30\\tchocolate', '178\\t34\\t34\\tfirebrick', '165\\t42\\t42\\tbrown', '233\\t150\\t122\\tdark salmon', '233\\t150\\t122\\tDarkSalmon', '250\\t128\\t114\\tsalmon', '255\\t160\\t122\\tlight salmon', '255\\t160\\t122\\tLightSalmon', '255\\t165\\t0\\torange', '255\\t140\\t0\\tdark orange', '255\\t140\\t0\\tDarkOrange', '255\\t127\\t80\\tcoral', '240\\t128\\t128\\tlight coral', '240\\t128\\t128\\tLightCoral', '255\\t99\\t71\\ttomato', '255\\t69\\t0\\torange red', '255\\t69\\t0\\tOrangeRed', '255\\t0\\t0\\tred', '255\\t105\\t180\\thot pink', '255\\t105\\t180\\tHotPink', '255\\t20\\t147\\tdeep pink', '255\\t20\\t147\\tDeepPink', '255\\t192\\t203\\tpink', '255\\t182\\t193\\tlight pink', '255\\t182\\t193\\tLightPink', '219\\t112\\t147\\tpale violet red', '219\\t112\\t147\\tPaleVioletRed', '176\\t48\\t96\\tmaroon', '199\\t21\\t133\\tmedium violet red', '199\\t21\\t133\\tMediumVioletRed', '208\\t32\\t144\\tviolet red', '208\\t32\\t144\\tVioletRed', '255\\t0\\t255\\tmagenta', '238\\t130\\t238\\tviolet', '221\\t160\\t221\\tplum', '218\\t112\\t214\\torchid', '186\\t85\\t211\\tmedium orchid', '186\\t85\\t211\\tMediumOrchid', '153\\t50\\t204\\tdark orchid', '153\\t50\\t204\\tDarkOrchid', '148\\t0\\t211\\tdark violet', '148\\t0\\t211\\tDarkViolet', '138\\t43\\t226\\tblue violet', '138\\t43\\t226\\tBlueViolet', '160\\t32\\t240\\tpurple', '147\\t112\\t219\\tmedium purple', '147\\t112\\t219\\tMediumPurple', '216\\t191\\t216\\tthistle', '255\\t250\\t250\\tsnow1', '238\\t233\\t233\\tsnow2', '205\\t201\\t201\\tsnow3', '139\\t137\\t137\\tsnow4', '255\\t245\\t238\\tseashell1', '238\\t229\\t222\\tseashell2', '205\\t197\\t191\\tseashell3', '139\\t134\\t130\\tseashell4', '255\\t239\\t219\\tAntiqueWhite1', '238\\t223\\t204\\tAntiqueWhite2', '205\\t192\\t176\\tAntiqueWhite3', '139\\t131\\t120\\tAntiqueWhite4', '255\\t228\\t196\\tbisque1', '238\\t213\\t183\\tbisque2', '205\\t183\\t158\\tbisque3', '139\\t125\\t107\\tbisque4', '255\\t218\\t185\\tPeachPuff1', '238\\t203\\t173\\tPeachPuff2', '205\\t175\\t149\\tPeachPuff3', '139\\t119\\t101\\tPeachPuff4', '255\\t222\\t173\\tNavajoWhite1', '238\\t207\\t161\\tNavajoWhite2', '205\\t179\\t139\\tNavajoWhite3', '139\\t121\\t94\\tNavajoWhite4', '255\\t250\\t205\\tLemonChiffon1', '238\\t233\\t191\\tLemonChiffon2', '205\\t201\\t165\\tLemonChiffon3', '139\\t137\\t112\\tLemonChiffon4', '255\\t248\\t220\\tcornsilk1', '238\\t232\\t205\\tcornsilk2', '205\\t200\\t177\\tcornsilk3', '139\\t136\\t120\\tcornsilk4', '255\\t255\\t240\\tivory1', '238\\t238\\t224\\tivory2', '205\\t205\\t193\\tivory3', '139\\t139\\t131\\tivory4', '240\\t255\\t240\\thoneydew1', '224\\t238\\t224\\thoneydew2', '193\\t205\\t193\\thoneydew3', '131\\t139\\t131\\thoneydew4', '255\\t240\\t245\\tLavenderBlush1', '238\\t224\\t229\\tLavenderBlush2', '205\\t193\\t197\\tLavenderBlush3', '139\\t131\\t134\\tLavenderBlush4', '255\\t228\\t225\\tMistyRose1', '238\\t213\\t210\\tMistyRose2', '205\\t183\\t181\\tMistyRose3', '139\\t125\\t123\\tMistyRose4', '240\\t255\\t255\\tazure1', '224\\t238\\t238\\tazure2', '193\\t205\\t205\\tazure3', '131\\t139\\t139\\tazure4', '131\\t111\\t255\\tSlateBlue1', '122\\t103\\t238\\tSlateBlue2', '105\\t89\\t205\\tSlateBlue3', '71\\t60\\t139\\tSlateBlue4', '72\\t118\\t255\\tRoyalBlue1', '67\\t110\\t238\\tRoyalBlue2', '58\\t95\\t205\\tRoyalBlue3', '39\\t64\\t139\\tRoyalBlue4', '0\\t0\\t255\\tblue1', '0\\t0\\t238\\tblue2', '0\\t0\\t205\\tblue3', '0\\t0\\t139\\tblue4', '30\\t144\\t255\\tDodgerBlue1', '28\\t134\\t238\\tDodgerBlue2', '24\\t116\\t205\\tDodgerBlue3', '16\\t78\\t139\\tDodgerBlue4', '99\\t184\\t255\\tSteelBlue1', '92\\t172\\t238\\tSteelBlue2', '79\\t148\\t205\\tSteelBlue3', '54\\t100\\t139\\tSteelBlue4', '0\\t191\\t255\\tDeepSkyBlue1', '0\\t178\\t238\\tDeepSkyBlue2', '0\\t154\\t205\\tDeepSkyBlue3', '0\\t104\\t139\\tDeepSkyBlue4', '135\\t206\\t255\\tSkyBlue1', '126\\t192\\t238\\tSkyBlue2', '108\\t166\\t205\\tSkyBlue3', '74\\t112\\t139\\tSkyBlue4', '176\\t226\\t255\\tLightSkyBlue1', '164\\t211\\t238\\tLightSkyBlue2', '141\\t182\\t205\\tLightSkyBlue3', '96\\t123\\t139\\tLightSkyBlue4', '198\\t226\\t255\\tSlateGray1', '185\\t211\\t238\\tSlateGray2', '159\\t182\\t205\\tSlateGray3', '108\\t123\\t139\\tSlateGray4', '202\\t225\\t255\\tLightSteelBlue1', '188\\t210\\t238\\tLightSteelBlue2', '162\\t181\\t205\\tLightSteelBlue3', '110\\t123\\t139\\tLightSteelBlue4', '191\\t239\\t255\\tLightBlue1', '178\\t223\\t238\\tLightBlue2', '154\\t192\\t205\\tLightBlue3', '104\\t131\\t139\\tLightBlue4', '224\\t255\\t255\\tLightCyan1', '209\\t238\\t238\\tLightCyan2', '180\\t205\\t205\\tLightCyan3', '122\\t139\\t139\\tLightCyan4', '187\\t255\\t255\\tPaleTurquoise1', '174\\t238\\t238\\tPaleTurquoise2', '150\\t205\\t205\\tPaleTurquoise3', '102\\t139\\t139\\tPaleTurquoise4', '152\\t245\\t255\\tCadetBlue1', '142\\t229\\t238\\tCadetBlue2', '122\\t197\\t205\\tCadetBlue3', '83\\t134\\t139\\tCadetBlue4', '0\\t245\\t255\\tturquoise1', '0\\t229\\t238\\tturquoise2', '0\\t197\\t205\\tturquoise3', '0\\t134\\t139\\tturquoise4', '0\\t255\\t255\\tcyan1', '0\\t238\\t238\\tcyan2', '0\\t205\\t205\\tcyan3', '0\\t139\\t139\\tcyan4', '151\\t255\\t255\\tDarkSlateGray1', '141\\t238\\t238\\tDarkSlateGray2', '121\\t205\\t205\\tDarkSlateGray3', '82\\t139\\t139\\tDarkSlateGray4', '127\\t255\\t212\\taquamarine1', '118\\t238\\t198\\taquamarine2', '102\\t205\\t170\\taquamarine3', '69\\t139\\t116\\taquamarine4', '193\\t255\\t193\\tDarkSeaGreen1', '180\\t238\\t180\\tDarkSeaGreen2', '155\\t205\\t155\\tDarkSeaGreen3', '105\\t139\\t105\\tDarkSeaGreen4', '84\\t255\\t159\\tSeaGreen1', '78\\t238\\t148\\tSeaGreen2', '67\\t205\\t128\\tSeaGreen3', '46\\t139\\t87\\tSeaGreen4', '154\\t255\\t154\\tPaleGreen1', '144\\t238\\t144\\tPaleGreen2', '124\\t205\\t124\\tPaleGreen3', '84\\t139\\t84\\tPaleGreen4', '0\\t255\\t127\\tSpringGreen1', '0\\t238\\t118\\tSpringGreen2', '0\\t205\\t102\\tSpringGreen3', '0\\t139\\t69\\tSpringGreen4', '0\\t255\\t0\\tgreen1', '0\\t238\\t0\\tgreen2', '0\\t205\\t0\\tgreen3', '0\\t139\\t0\\tgreen4', '127\\t255\\t0\\tchartreuse1', '118\\t238\\t0\\tchartreuse2', '102\\t205\\t0\\tchartreuse3', '69\\t139\\t0\\tchartreuse4', '192\\t255\\t62\\tOliveDrab1', '179\\t238\\t58\\tOliveDrab2', '154\\t205\\t50\\tOliveDrab3', '105\\t139\\t34\\tOliveDrab4', '202\\t255\\t112\\tDarkOliveGreen1', '188\\t238\\t104\\tDarkOliveGreen2', '162\\t205\\t90\\tDarkOliveGreen3', '110\\t139\\t61\\tDarkOliveGreen4', '255\\t246\\t143\\tkhaki1', '238\\t230\\t133\\tkhaki2', '205\\t198\\t115\\tkhaki3', '139\\t134\\t78\\tkhaki4', '255\\t236\\t139\\tLightGoldenrod1', '238\\t220\\t130\\tLightGoldenrod2', '205\\t190\\t112\\tLightGoldenrod3', '139\\t129\\t76\\tLightGoldenrod4', '255\\t255\\t224\\tLightYellow1', '238\\t238\\t209\\tLightYellow2', '205\\t205\\t180\\tLightYellow3', '139\\t139\\t122\\tLightYellow4', '255\\t255\\t0\\tyellow1', '238\\t238\\t0\\tyellow2', '205\\t205\\t0\\tyellow3', '139\\t139\\t0\\tyellow4', '255\\t215\\t0\\tgold1', '238\\t201\\t0\\tgold2', '205\\t173\\t0\\tgold3', '139\\t117\\t0\\tgold4', '255\\t193\\t37\\tgoldenrod1', '238\\t180\\t34\\tgoldenrod2', '205\\t155\\t29\\tgoldenrod3', '139\\t105\\t20\\tgoldenrod4', '255\\t185\\t15\\tDarkGoldenrod1', '238\\t173\\t14\\tDarkGoldenrod2', '205\\t149\\t12\\tDarkGoldenrod3', '139\\t101\\t8\\tDarkGoldenrod4', '255\\t193\\t193\\tRosyBrown1', '238\\t180\\t180\\tRosyBrown2', '205\\t155\\t155\\tRosyBrown3', '139\\t105\\t105\\tRosyBrown4', '255\\t106\\t106\\tIndianRed1', '238\\t99\\t99\\tIndianRed2', '205\\t85\\t85\\tIndianRed3', '139\\t58\\t58\\tIndianRed4', '255\\t130\\t71\\tsienna1', '238\\t121\\t66\\tsienna2', '205\\t104\\t57\\tsienna3', '139\\t71\\t38\\tsienna4', '255\\t211\\t155\\tburlywood1', '238\\t197\\t145\\tburlywood2', '205\\t170\\t125\\tburlywood3', '139\\t115\\t85\\tburlywood4', '255\\t231\\t186\\twheat1', '238\\t216\\t174\\twheat2', '205\\t186\\t150\\twheat3', '139\\t126\\t102\\twheat4', '255\\t165\\t79\\ttan1', '238\\t154\\t73\\ttan2', '205\\t133\\t63\\ttan3', '139\\t90\\t43\\ttan4', '255\\t127\\t36\\tchocolate1', '238\\t118\\t33\\tchocolate2', '205\\t102\\t29\\tchocolate3', '139\\t69\\t19\\tchocolate4', '255\\t48\\t48\\tfirebrick1', '238\\t44\\t44\\tfirebrick2', '205\\t38\\t38\\tfirebrick3', '139\\t26\\t26\\tfirebrick4', '255\\t64\\t64\\tbrown1', '238\\t59\\t59\\tbrown2', '205\\t51\\t51\\tbrown3', '139\\t35\\t35\\tbrown4', '255\\t140\\t105\\tsalmon1', '238\\t130\\t98\\tsalmon2', '205\\t112\\t84\\tsalmon3', '139\\t76\\t57\\tsalmon4', '255\\t160\\t122\\tLightSalmon1', '238\\t149\\t114\\tLightSalmon2', '205\\t129\\t98\\tLightSalmon3', '139\\t87\\t66\\tLightSalmon4', '255\\t165\\t0\\torange1', '238\\t154\\t0\\torange2', '205\\t133\\t0\\torange3', '139\\t90\\t0\\torange4', '255\\t127\\t0\\tDarkOrange1', '238\\t118\\t0\\tDarkOrange2', '205\\t102\\t0\\tDarkOrange3', '139\\t69\\t0\\tDarkOrange4', '255\\t114\\t86\\tcoral1', '238\\t106\\t80\\tcoral2', '205\\t91\\t69\\tcoral3', '139\\t62\\t47\\tcoral4', '255\\t99\\t71\\ttomato1', '238\\t92\\t66\\ttomato2', '205\\t79\\t57\\ttomato3', '139\\t54\\t38\\ttomato4', '255\\t69\\t0\\tOrangeRed1', '238\\t64\\t0\\tOrangeRed2', '205\\t55\\t0\\tOrangeRed3', '139\\t37\\t0\\tOrangeRed4', '255\\t0\\t0\\tred1', '238\\t0\\t0\\tred2', '205\\t0\\t0\\tred3', '139\\t0\\t0\\tred4', '215\\t7\\t81\\tDebianRed', '255\\t20\\t147\\tDeepPink1', '238\\t18\\t137\\tDeepPink2', '205\\t16\\t118\\tDeepPink3', '139\\t10\\t80\\tDeepPink4', '255\\t110\\t180\\tHotPink1', '238\\t106\\t167\\tHotPink2', '205\\t96\\t144\\tHotPink3', '139\\t58\\t98\\tHotPink4', '255\\t181\\t197\\tpink1', '238\\t169\\t184\\tpink2', '205\\t145\\t158\\tpink3', '139\\t99\\t108\\tpink4', '255\\t174\\t185\\tLightPink1', '238\\t162\\t173\\tLightPink2', '205\\t140\\t149\\tLightPink3', '139\\t95\\t101\\tLightPink4', '255\\t130\\t171\\tPaleVioletRed1', '238\\t121\\t159\\tPaleVioletRed2', '205\\t104\\t137\\tPaleVioletRed3', '139\\t71\\t93\\tPaleVioletRed4', '255\\t52\\t179\\tmaroon1', '238\\t48\\t167\\tmaroon2', '205\\t41\\t144\\tmaroon3', '139\\t28\\t98\\tmaroon4', '255\\t62\\t150\\tVioletRed1', '238\\t58\\t140\\tVioletRed2', '205\\t50\\t120\\tVioletRed3', '139\\t34\\t82\\tVioletRed4', '255\\t0\\t255\\tmagenta1', '238\\t0\\t238\\tmagenta2', '205\\t0\\t205\\tmagenta3', '139\\t0\\t139\\tmagenta4', '255\\t131\\t250\\torchid1', '238\\t122\\t233\\torchid2', '205\\t105\\t201\\torchid3', '139\\t71\\t137\\torchid4', '255\\t187\\t255\\tplum1', '238\\t174\\t238\\tplum2', '205\\t150\\t205\\tplum3', '139\\t102\\t139\\tplum4', '224\\t102\\t255\\tMediumOrchid1', '209\\t95\\t238\\tMediumOrchid2', '180\\t82\\t205\\tMediumOrchid3', '122\\t55\\t139\\tMediumOrchid4', '191\\t62\\t255\\tDarkOrchid1', '178\\t58\\t238\\tDarkOrchid2', '154\\t50\\t205\\tDarkOrchid3', '104\\t34\\t139\\tDarkOrchid4', '155\\t48\\t255\\tpurple1', '145\\t44\\t238\\tpurple2', '125\\t38\\t205\\tpurple3', '85\\t26\\t139\\tpurple4', '171\\t130\\t255\\tMediumPurple1', '159\\t121\\t238\\tMediumPurple2', '137\\t104\\t205\\tMediumPurple3', '93\\t71\\t139\\tMediumPurple4', '255\\t225\\t255\\tthistle1', '238\\t210\\t238\\tthistle2', '205\\t181\\t205\\tthistle3', '139\\t123\\t139\\tthistle4', '0\\t0\\t0\\tgray0', '0\\t0\\t0\\tgrey0', '3\\t3\\t3\\tgray1', '3\\t3\\t3\\tgrey1', '5\\t5\\t5\\tgray2', '5\\t5\\t5\\tgrey2', '8\\t8\\t8\\tgray3', '8\\t8\\t8\\tgrey3', '10\\t10\\t10\\tgray4', '10\\t10\\t10\\tgrey4', '13\\t13\\t13\\tgray5', '13\\t13\\t13\\tgrey5', '15\\t15\\t15\\tgray6', '15\\t15\\t15\\tgrey6', '18\\t18\\t18\\tgray7', '18\\t18\\t18\\tgrey7', '20\\t20\\t20\\tgray8', '20\\t20\\t20\\tgrey8', '23\\t23\\t23\\tgray9', '23\\t23\\t23\\tgrey9', '26\\t26\\t26\\tgray10', '26\\t26\\t26\\tgrey10', '28\\t28\\t28\\tgray11', '28\\t28\\t28\\tgrey11', '31\\t31\\t31\\tgray12', '31\\t31\\t31\\tgrey12', '33\\t33\\t33\\tgray13', '33\\t33\\t33\\tgrey13', '36\\t36\\t36\\tgray14', '36\\t36\\t36\\tgrey14', '38\\t38\\t38\\tgray15', '38\\t38\\t38\\tgrey15', '41\\t41\\t41\\tgray16', '41\\t41\\t41\\tgrey16', '43\\t43\\t43\\tgray17', '43\\t43\\t43\\tgrey17', '46\\t46\\t46\\tgray18', '46\\t46\\t46\\tgrey18', '48\\t48\\t48\\tgray19', '48\\t48\\t48\\tgrey19', '51\\t51\\t51\\tgray20', '51\\t51\\t51\\tgrey20', '54\\t54\\t54\\tgray21', '54\\t54\\t54\\tgrey21', '56\\t56\\t56\\tgray22', '56\\t56\\t56\\tgrey22', '59\\t59\\t59\\tgray23', '59\\t59\\t59\\tgrey23', '61\\t61\\t61\\tgray24', '61\\t61\\t61\\tgrey24', '64\\t64\\t64\\tgray25', '64\\t64\\t64\\tgrey25', '66\\t66\\t66\\tgray26', '66\\t66\\t66\\tgrey26', '69\\t69\\t69\\tgray27', '69\\t69\\t69\\tgrey27', '71\\t71\\t71\\tgray28', '71\\t71\\t71\\tgrey28', '74\\t74\\t74\\tgray29', '74\\t74\\t74\\tgrey29', '77\\t77\\t77\\tgray30', '77\\t77\\t77\\tgrey30', '79\\t79\\t79\\tgray31', '79\\t79\\t79\\tgrey31', '82\\t82\\t82\\tgray32', '82\\t82\\t82\\tgrey32', '84\\t84\\t84\\tgray33', '84\\t84\\t84\\tgrey33', '87\\t87\\t87\\tgray34', '87\\t87\\t87\\tgrey34', '89\\t89\\t89\\tgray35', '89\\t89\\t89\\tgrey35', '92\\t92\\t92\\tgray36', '92\\t92\\t92\\tgrey36', '94\\t94\\t94\\tgray37', '94\\t94\\t94\\tgrey37', '97\\t97\\t97\\tgray38', '97\\t97\\t97\\tgrey38', '99\\t99\\t99\\tgray39', '99\\t99\\t99\\tgrey39', '102\\t102\\t102\\tgray40', '102\\t102\\t102\\tgrey40', '105\\t105\\t105\\tgray41', '105\\t105\\t105\\tgrey41', '107\\t107\\t107\\tgray42', '107\\t107\\t107\\tgrey42', '110\\t110\\t110\\tgray43', '110\\t110\\t110\\tgrey43', '112\\t112\\t112\\tgray44', '112\\t112\\t112\\tgrey44', '115\\t115\\t115\\tgray45', '115\\t115\\t115\\tgrey45', '117\\t117\\t117\\tgray46', '117\\t117\\t117\\tgrey46', '120\\t120\\t120\\tgray47', '120\\t120\\t120\\tgrey47', '122\\t122\\t122\\tgray48', '122\\t122\\t122\\tgrey48', '125\\t125\\t125\\tgray49', '125\\t125\\t125\\tgrey49', '127\\t127\\t127\\tgray50', '127\\t127\\t127\\tgrey50', '130\\t130\\t130\\tgray51', '130\\t130\\t130\\tgrey51', '133\\t133\\t133\\tgray52', '133\\t133\\t133\\tgrey52', '135\\t135\\t135\\tgray53', '135\\t135\\t135\\tgrey53', '138\\t138\\t138\\tgray54', '138\\t138\\t138\\tgrey54', '140\\t140\\t140\\tgray55', '140\\t140\\t140\\tgrey55', '143\\t143\\t143\\tgray56', '143\\t143\\t143\\tgrey56', '145\\t145\\t145\\tgray57', '145\\t145\\t145\\tgrey57', '148\\t148\\t148\\tgray58', '148\\t148\\t148\\tgrey58', '150\\t150\\t150\\tgray59', '150\\t150\\t150\\tgrey59', '153\\t153\\t153\\tgray60', '153\\t153\\t153\\tgrey60', '156\\t156\\t156\\tgray61', '156\\t156\\t156\\tgrey61', '158\\t158\\t158\\tgray62', '158\\t158\\t158\\tgrey62', '161\\t161\\t161\\tgray63', '161\\t161\\t161\\tgrey63', '163\\t163\\t163\\tgray64', '163\\t163\\t163\\tgrey64', '166\\t166\\t166\\tgray65', '166\\t166\\t166\\tgrey65', '168\\t168\\t168\\tgray66', '168\\t168\\t168\\tgrey66', '171\\t171\\t171\\tgray67', '171\\t171\\t171\\tgrey67', '173\\t173\\t173\\tgray68', '173\\t173\\t173\\tgrey68', '176\\t176\\t176\\tgray69', '176\\t176\\t176\\tgrey69', '179\\t179\\t179\\tgray70', '179\\t179\\t179\\tgrey70', '181\\t181\\t181\\tgray71', '181\\t181\\t181\\tgrey71', '184\\t184\\t184\\tgray72', '184\\t184\\t184\\tgrey72', '186\\t186\\t186\\tgray73', '186\\t186\\t186\\tgrey73', '189\\t189\\t189\\tgray74', '189\\t189\\t189\\tgrey74', '191\\t191\\t191\\tgray75', '191\\t191\\t191\\tgrey75', '194\\t194\\t194\\tgray76', '194\\t194\\t194\\tgrey76', '196\\t196\\t196\\tgray77', '196\\t196\\t196\\tgrey77', '199\\t199\\t199\\tgray78', '199\\t199\\t199\\tgrey78', '201\\t201\\t201\\tgray79', '201\\t201\\t201\\tgrey79', '204\\t204\\t204\\tgray80', '204\\t204\\t204\\tgrey80', '207\\t207\\t207\\tgray81', '207\\t207\\t207\\tgrey81', '209\\t209\\t209\\tgray82', '209\\t209\\t209\\tgrey82', '212\\t212\\t212\\tgray83', '212\\t212\\t212\\tgrey83', '214\\t214\\t214\\tgray84', '214\\t214\\t214\\tgrey84', '217\\t217\\t217\\tgray85', '217\\t217\\t217\\tgrey85', '219\\t219\\t219\\tgray86', '219\\t219\\t219\\tgrey86', '222\\t222\\t222\\tgray87', '222\\t222\\t222\\tgrey87', '224\\t224\\t224\\tgray88', '224\\t224\\t224\\tgrey88', '227\\t227\\t227\\tgray89', '227\\t227\\t227\\tgrey89', '229\\t229\\t229\\tgray90', '229\\t229\\t229\\tgrey90', '232\\t232\\t232\\tgray91', '232\\t232\\t232\\tgrey91', '235\\t235\\t235\\tgray92', '235\\t235\\t235\\tgrey92', '237\\t237\\t237\\tgray93', '237\\t237\\t237\\tgrey93', '240\\t240\\t240\\tgray94', '240\\t240\\t240\\tgrey94', '242\\t242\\t242\\tgray95', '242\\t242\\t242\\tgrey95', '245\\t245\\t245\\tgray96', '245\\t245\\t245\\tgrey96', '247\\t247\\t247\\tgray97', '247\\t247\\t247\\tgrey97', '250\\t250\\t250\\tgray98', '250\\t250\\t250\\tgrey98', '252\\t252\\t252\\tgray99', '252\\t252\\t252\\tgrey99', '255\\t255\\t255\\tgray100', '255\\t255\\t255\\tgrey100', '169\\t169\\t169\\tdark grey', '169\\t169\\t169\\tDarkGrey', '169\\t169\\t169\\tdark gray', '169\\t169\\t169\\tDarkGray', '0\\t0\\t139\\tdark blue', '0\\t0\\t139\\tDarkBlue', '0\\t139\\t139\\tdark cyan', '0\\t139\\t139\\tDarkCyan', '139\\t0\\t139\\tdark magenta', '139\\t0\\t139\\tDarkMagenta', '139\\t0\\t0\\tdark red', '139\\t0\\t0\\tDarkRed', '144\\t238\\t144\\tlight green', '144\\t238\\t144\\tLightGreen']\n"
     ]
    }
   ],
   "source": [
    "import re\n",
    "\n",
    "def red_green_blue(filename=\"rgb.txt\"):\n",
    "    \"\"\"Returns for each line the RGB format and color name\n",
    "    \"\"\"\n",
    "    result = []\n",
    "\n",
    "    # remove first line of file\n",
    "    with open(filename, \"r\") as f:\n",
    "        lines = f.readlines()\n",
    "    del lines[0]\n",
    "    with open(filename, \"w\") as f:\n",
    "        f.writelines(lines)\n",
    "    \n",
    "    # clean file\n",
    "    with open(filename, \"r\") as f:\n",
    "        for line in f:\n",
    "            rgb = re.findall(r'(\\d+)\\s', line)\n",
    "            # grabs everything after the rgb numbers\n",
    "            color = re.findall(r'\\d+\\s+\\d+\\s+\\d+\\s+(.*)', line)\n",
    "            new = f\"{rgb[0]}\\t{rgb[1]}\\t{rgb[2]}\\t{color[0]}\"\n",
    "            result.append(new)\n",
    "    return result\n",
    "\n",
    "def main():\n",
    "    print(red_green_blue())\n",
    "\n",
    "if __name__ == \"__main__\":\n",
    "    main()"
   ]
  },
  {
   "cell_type": "markdown",
   "id": "39755feb-c3c5-4265-9fb3-b9ac9f0c8960",
   "metadata": {},
   "source": [
    "Suggested solution:"
   ]
  },
  {
   "cell_type": "code",
   "execution_count": 148,
   "id": "e692dd83-f5bf-4ad8-8586-36d6de578d2f",
   "metadata": {},
   "outputs": [
    {
     "name": "stdout",
     "output_type": "stream",
     "text": [
      "255\t250\t250\tsnow\n",
      "248\t248\t255\tghost white\n",
      "248\t248\t255\tGhostWhite\n",
      "245\t245\t245\twhite smoke\n",
      "245\t245\t245\tWhiteSmoke\n",
      "220\t220\t220\tgainsboro\n",
      "255\t250\t240\tfloral white\n",
      "255\t250\t240\tFloralWhite\n",
      "253\t245\t230\told lace\n",
      "253\t245\t230\tOldLace\n",
      "250\t240\t230\tlinen\n",
      "250\t235\t215\tantique white\n",
      "250\t235\t215\tAntiqueWhite\n",
      "255\t239\t213\tpapaya whip\n",
      "255\t239\t213\tPapayaWhip\n",
      "255\t235\t205\tblanched almond\n",
      "255\t235\t205\tBlanchedAlmond\n",
      "255\t228\t196\tbisque\n",
      "255\t218\t185\tpeach puff\n",
      "255\t218\t185\tPeachPuff\n",
      "255\t222\t173\tnavajo white\n",
      "255\t222\t173\tNavajoWhite\n",
      "255\t228\t181\tmoccasin\n",
      "255\t248\t220\tcornsilk\n",
      "255\t255\t240\tivory\n",
      "255\t250\t205\tlemon chiffon\n",
      "255\t250\t205\tLemonChiffon\n",
      "255\t245\t238\tseashell\n",
      "240\t255\t240\thoneydew\n",
      "245\t255\t250\tmint cream\n",
      "245\t255\t250\tMintCream\n",
      "240\t255\t255\tazure\n",
      "240\t248\t255\talice blue\n",
      "240\t248\t255\tAliceBlue\n",
      "230\t230\t250\tlavender\n",
      "255\t240\t245\tlavender blush\n",
      "255\t240\t245\tLavenderBlush\n",
      "255\t228\t225\tmisty rose\n",
      "255\t228\t225\tMistyRose\n",
      "255\t255\t255\twhite\n",
      "0\t0\t0\tblack\n",
      "47\t79\t79\tdark slate gray\n",
      "47\t79\t79\tDarkSlateGray\n",
      "47\t79\t79\tdark slate grey\n",
      "47\t79\t79\tDarkSlateGrey\n",
      "105\t105\t105\tdim gray\n",
      "105\t105\t105\tDimGray\n",
      "105\t105\t105\tdim grey\n",
      "105\t105\t105\tDimGrey\n",
      "112\t128\t144\tslate gray\n",
      "112\t128\t144\tSlateGray\n",
      "112\t128\t144\tslate grey\n",
      "112\t128\t144\tSlateGrey\n",
      "119\t136\t153\tlight slate gray\n",
      "119\t136\t153\tLightSlateGray\n",
      "119\t136\t153\tlight slate grey\n",
      "119\t136\t153\tLightSlateGrey\n",
      "190\t190\t190\tgray\n",
      "190\t190\t190\tgrey\n",
      "211\t211\t211\tlight grey\n",
      "211\t211\t211\tLightGrey\n",
      "211\t211\t211\tlight gray\n",
      "211\t211\t211\tLightGray\n",
      "25\t25\t112\tmidnight blue\n",
      "25\t25\t112\tMidnightBlue\n",
      "0\t0\t128\tnavy\n",
      "0\t0\t128\tnavy blue\n",
      "0\t0\t128\tNavyBlue\n",
      "100\t149\t237\tcornflower blue\n",
      "100\t149\t237\tCornflowerBlue\n",
      "72\t61\t139\tdark slate blue\n",
      "72\t61\t139\tDarkSlateBlue\n",
      "106\t90\t205\tslate blue\n",
      "106\t90\t205\tSlateBlue\n",
      "123\t104\t238\tmedium slate blue\n",
      "123\t104\t238\tMediumSlateBlue\n",
      "132\t112\t255\tlight slate blue\n",
      "132\t112\t255\tLightSlateBlue\n",
      "0\t0\t205\tmedium blue\n",
      "0\t0\t205\tMediumBlue\n",
      "65\t105\t225\troyal blue\n",
      "65\t105\t225\tRoyalBlue\n",
      "0\t0\t255\tblue\n",
      "30\t144\t255\tdodger blue\n",
      "30\t144\t255\tDodgerBlue\n",
      "0\t191\t255\tdeep sky blue\n",
      "0\t191\t255\tDeepSkyBlue\n",
      "135\t206\t235\tsky blue\n",
      "135\t206\t235\tSkyBlue\n",
      "135\t206\t250\tlight sky blue\n",
      "135\t206\t250\tLightSkyBlue\n",
      "70\t130\t180\tsteel blue\n",
      "70\t130\t180\tSteelBlue\n",
      "176\t196\t222\tlight steel blue\n",
      "176\t196\t222\tLightSteelBlue\n",
      "173\t216\t230\tlight blue\n",
      "173\t216\t230\tLightBlue\n",
      "176\t224\t230\tpowder blue\n",
      "176\t224\t230\tPowderBlue\n",
      "175\t238\t238\tpale turquoise\n",
      "175\t238\t238\tPaleTurquoise\n",
      "0\t206\t209\tdark turquoise\n",
      "0\t206\t209\tDarkTurquoise\n",
      "72\t209\t204\tmedium turquoise\n",
      "72\t209\t204\tMediumTurquoise\n",
      "64\t224\t208\tturquoise\n",
      "0\t255\t255\tcyan\n",
      "224\t255\t255\tlight cyan\n",
      "224\t255\t255\tLightCyan\n",
      "95\t158\t160\tcadet blue\n",
      "95\t158\t160\tCadetBlue\n",
      "102\t205\t170\tmedium aquamarine\n",
      "102\t205\t170\tMediumAquamarine\n",
      "127\t255\t212\taquamarine\n",
      "0\t100\t0\tdark green\n",
      "0\t100\t0\tDarkGreen\n",
      "85\t107\t47\tdark olive green\n",
      "85\t107\t47\tDarkOliveGreen\n",
      "143\t188\t143\tdark sea green\n",
      "143\t188\t143\tDarkSeaGreen\n",
      "46\t139\t87\tsea green\n",
      "46\t139\t87\tSeaGreen\n",
      "60\t179\t113\tmedium sea green\n",
      "60\t179\t113\tMediumSeaGreen\n",
      "32\t178\t170\tlight sea green\n",
      "32\t178\t170\tLightSeaGreen\n",
      "152\t251\t152\tpale green\n",
      "152\t251\t152\tPaleGreen\n",
      "0\t255\t127\tspring green\n",
      "0\t255\t127\tSpringGreen\n",
      "124\t252\t0\tlawn green\n",
      "124\t252\t0\tLawnGreen\n",
      "0\t255\t0\tgreen\n",
      "127\t255\t0\tchartreuse\n",
      "0\t250\t154\tmedium spring green\n",
      "0\t250\t154\tMediumSpringGreen\n",
      "173\t255\t47\tgreen yellow\n",
      "173\t255\t47\tGreenYellow\n",
      "50\t205\t50\tlime green\n",
      "50\t205\t50\tLimeGreen\n",
      "154\t205\t50\tyellow green\n",
      "154\t205\t50\tYellowGreen\n",
      "34\t139\t34\tforest green\n",
      "34\t139\t34\tForestGreen\n",
      "107\t142\t35\tolive drab\n",
      "107\t142\t35\tOliveDrab\n",
      "189\t183\t107\tdark khaki\n",
      "189\t183\t107\tDarkKhaki\n",
      "240\t230\t140\tkhaki\n",
      "238\t232\t170\tpale goldenrod\n",
      "238\t232\t170\tPaleGoldenrod\n",
      "250\t250\t210\tlight goldenrod yellow\n",
      "250\t250\t210\tLightGoldenrodYellow\n",
      "255\t255\t224\tlight yellow\n",
      "255\t255\t224\tLightYellow\n",
      "255\t255\t0\tyellow\n",
      "255\t215\t0\tgold\n",
      "238\t221\t130\tlight goldenrod\n",
      "238\t221\t130\tLightGoldenrod\n",
      "218\t165\t32\tgoldenrod\n",
      "184\t134\t11\tdark goldenrod\n",
      "184\t134\t11\tDarkGoldenrod\n",
      "188\t143\t143\trosy brown\n",
      "188\t143\t143\tRosyBrown\n",
      "205\t92\t92\tindian red\n",
      "205\t92\t92\tIndianRed\n",
      "139\t69\t19\tsaddle brown\n",
      "139\t69\t19\tSaddleBrown\n",
      "160\t82\t45\tsienna\n",
      "205\t133\t63\tperu\n",
      "222\t184\t135\tburlywood\n",
      "245\t245\t220\tbeige\n",
      "245\t222\t179\twheat\n",
      "244\t164\t96\tsandy brown\n",
      "244\t164\t96\tSandyBrown\n",
      "210\t180\t140\ttan\n",
      "210\t105\t30\tchocolate\n",
      "178\t34\t34\tfirebrick\n",
      "165\t42\t42\tbrown\n",
      "233\t150\t122\tdark salmon\n",
      "233\t150\t122\tDarkSalmon\n",
      "250\t128\t114\tsalmon\n",
      "255\t160\t122\tlight salmon\n",
      "255\t160\t122\tLightSalmon\n",
      "255\t165\t0\torange\n",
      "255\t140\t0\tdark orange\n",
      "255\t140\t0\tDarkOrange\n",
      "255\t127\t80\tcoral\n",
      "240\t128\t128\tlight coral\n",
      "240\t128\t128\tLightCoral\n",
      "255\t99\t71\ttomato\n",
      "255\t69\t0\torange red\n",
      "255\t69\t0\tOrangeRed\n",
      "255\t0\t0\tred\n",
      "255\t105\t180\thot pink\n",
      "255\t105\t180\tHotPink\n",
      "255\t20\t147\tdeep pink\n",
      "255\t20\t147\tDeepPink\n",
      "255\t192\t203\tpink\n",
      "255\t182\t193\tlight pink\n",
      "255\t182\t193\tLightPink\n",
      "219\t112\t147\tpale violet red\n",
      "219\t112\t147\tPaleVioletRed\n",
      "176\t48\t96\tmaroon\n",
      "199\t21\t133\tmedium violet red\n",
      "199\t21\t133\tMediumVioletRed\n",
      "208\t32\t144\tviolet red\n",
      "208\t32\t144\tVioletRed\n",
      "255\t0\t255\tmagenta\n",
      "238\t130\t238\tviolet\n",
      "221\t160\t221\tplum\n",
      "218\t112\t214\torchid\n",
      "186\t85\t211\tmedium orchid\n",
      "186\t85\t211\tMediumOrchid\n",
      "153\t50\t204\tdark orchid\n",
      "153\t50\t204\tDarkOrchid\n",
      "148\t0\t211\tdark violet\n",
      "148\t0\t211\tDarkViolet\n",
      "138\t43\t226\tblue violet\n",
      "138\t43\t226\tBlueViolet\n",
      "160\t32\t240\tpurple\n",
      "147\t112\t219\tmedium purple\n",
      "147\t112\t219\tMediumPurple\n",
      "216\t191\t216\tthistle\n",
      "255\t250\t250\tsnow1\n",
      "238\t233\t233\tsnow2\n",
      "205\t201\t201\tsnow3\n",
      "139\t137\t137\tsnow4\n",
      "255\t245\t238\tseashell1\n",
      "238\t229\t222\tseashell2\n",
      "205\t197\t191\tseashell3\n",
      "139\t134\t130\tseashell4\n",
      "255\t239\t219\tAntiqueWhite1\n",
      "238\t223\t204\tAntiqueWhite2\n",
      "205\t192\t176\tAntiqueWhite3\n",
      "139\t131\t120\tAntiqueWhite4\n",
      "255\t228\t196\tbisque1\n",
      "238\t213\t183\tbisque2\n",
      "205\t183\t158\tbisque3\n",
      "139\t125\t107\tbisque4\n",
      "255\t218\t185\tPeachPuff1\n",
      "238\t203\t173\tPeachPuff2\n",
      "205\t175\t149\tPeachPuff3\n",
      "139\t119\t101\tPeachPuff4\n",
      "255\t222\t173\tNavajoWhite1\n",
      "238\t207\t161\tNavajoWhite2\n",
      "205\t179\t139\tNavajoWhite3\n",
      "139\t121\t94\tNavajoWhite4\n",
      "255\t250\t205\tLemonChiffon1\n",
      "238\t233\t191\tLemonChiffon2\n",
      "205\t201\t165\tLemonChiffon3\n",
      "139\t137\t112\tLemonChiffon4\n",
      "255\t248\t220\tcornsilk1\n",
      "238\t232\t205\tcornsilk2\n",
      "205\t200\t177\tcornsilk3\n",
      "139\t136\t120\tcornsilk4\n",
      "255\t255\t240\tivory1\n",
      "238\t238\t224\tivory2\n",
      "205\t205\t193\tivory3\n",
      "139\t139\t131\tivory4\n",
      "240\t255\t240\thoneydew1\n",
      "224\t238\t224\thoneydew2\n",
      "193\t205\t193\thoneydew3\n",
      "131\t139\t131\thoneydew4\n",
      "255\t240\t245\tLavenderBlush1\n",
      "238\t224\t229\tLavenderBlush2\n",
      "205\t193\t197\tLavenderBlush3\n",
      "139\t131\t134\tLavenderBlush4\n",
      "255\t228\t225\tMistyRose1\n",
      "238\t213\t210\tMistyRose2\n",
      "205\t183\t181\tMistyRose3\n",
      "139\t125\t123\tMistyRose4\n",
      "240\t255\t255\tazure1\n",
      "224\t238\t238\tazure2\n",
      "193\t205\t205\tazure3\n",
      "131\t139\t139\tazure4\n",
      "131\t111\t255\tSlateBlue1\n",
      "122\t103\t238\tSlateBlue2\n",
      "105\t89\t205\tSlateBlue3\n",
      "71\t60\t139\tSlateBlue4\n",
      "72\t118\t255\tRoyalBlue1\n",
      "67\t110\t238\tRoyalBlue2\n",
      "58\t95\t205\tRoyalBlue3\n",
      "39\t64\t139\tRoyalBlue4\n",
      "0\t0\t255\tblue1\n",
      "0\t0\t238\tblue2\n",
      "0\t0\t205\tblue3\n",
      "0\t0\t139\tblue4\n",
      "30\t144\t255\tDodgerBlue1\n",
      "28\t134\t238\tDodgerBlue2\n",
      "24\t116\t205\tDodgerBlue3\n",
      "16\t78\t139\tDodgerBlue4\n",
      "99\t184\t255\tSteelBlue1\n",
      "92\t172\t238\tSteelBlue2\n",
      "79\t148\t205\tSteelBlue3\n",
      "54\t100\t139\tSteelBlue4\n",
      "0\t191\t255\tDeepSkyBlue1\n",
      "0\t178\t238\tDeepSkyBlue2\n",
      "0\t154\t205\tDeepSkyBlue3\n",
      "0\t104\t139\tDeepSkyBlue4\n",
      "135\t206\t255\tSkyBlue1\n",
      "126\t192\t238\tSkyBlue2\n",
      "108\t166\t205\tSkyBlue3\n",
      "74\t112\t139\tSkyBlue4\n",
      "176\t226\t255\tLightSkyBlue1\n",
      "164\t211\t238\tLightSkyBlue2\n",
      "141\t182\t205\tLightSkyBlue3\n",
      "96\t123\t139\tLightSkyBlue4\n",
      "198\t226\t255\tSlateGray1\n",
      "185\t211\t238\tSlateGray2\n",
      "159\t182\t205\tSlateGray3\n",
      "108\t123\t139\tSlateGray4\n",
      "202\t225\t255\tLightSteelBlue1\n",
      "188\t210\t238\tLightSteelBlue2\n",
      "162\t181\t205\tLightSteelBlue3\n",
      "110\t123\t139\tLightSteelBlue4\n",
      "191\t239\t255\tLightBlue1\n",
      "178\t223\t238\tLightBlue2\n",
      "154\t192\t205\tLightBlue3\n",
      "104\t131\t139\tLightBlue4\n",
      "224\t255\t255\tLightCyan1\n",
      "209\t238\t238\tLightCyan2\n",
      "180\t205\t205\tLightCyan3\n",
      "122\t139\t139\tLightCyan4\n",
      "187\t255\t255\tPaleTurquoise1\n",
      "174\t238\t238\tPaleTurquoise2\n",
      "150\t205\t205\tPaleTurquoise3\n",
      "102\t139\t139\tPaleTurquoise4\n",
      "152\t245\t255\tCadetBlue1\n",
      "142\t229\t238\tCadetBlue2\n",
      "122\t197\t205\tCadetBlue3\n",
      "83\t134\t139\tCadetBlue4\n",
      "0\t245\t255\tturquoise1\n",
      "0\t229\t238\tturquoise2\n",
      "0\t197\t205\tturquoise3\n",
      "0\t134\t139\tturquoise4\n",
      "0\t255\t255\tcyan1\n",
      "0\t238\t238\tcyan2\n",
      "0\t205\t205\tcyan3\n",
      "0\t139\t139\tcyan4\n",
      "151\t255\t255\tDarkSlateGray1\n",
      "141\t238\t238\tDarkSlateGray2\n",
      "121\t205\t205\tDarkSlateGray3\n",
      "82\t139\t139\tDarkSlateGray4\n",
      "127\t255\t212\taquamarine1\n",
      "118\t238\t198\taquamarine2\n",
      "102\t205\t170\taquamarine3\n",
      "69\t139\t116\taquamarine4\n",
      "193\t255\t193\tDarkSeaGreen1\n",
      "180\t238\t180\tDarkSeaGreen2\n",
      "155\t205\t155\tDarkSeaGreen3\n",
      "105\t139\t105\tDarkSeaGreen4\n",
      "84\t255\t159\tSeaGreen1\n",
      "78\t238\t148\tSeaGreen2\n",
      "67\t205\t128\tSeaGreen3\n",
      "46\t139\t87\tSeaGreen4\n",
      "154\t255\t154\tPaleGreen1\n",
      "144\t238\t144\tPaleGreen2\n",
      "124\t205\t124\tPaleGreen3\n",
      "84\t139\t84\tPaleGreen4\n",
      "0\t255\t127\tSpringGreen1\n",
      "0\t238\t118\tSpringGreen2\n",
      "0\t205\t102\tSpringGreen3\n",
      "0\t139\t69\tSpringGreen4\n",
      "0\t255\t0\tgreen1\n",
      "0\t238\t0\tgreen2\n",
      "0\t205\t0\tgreen3\n",
      "0\t139\t0\tgreen4\n",
      "127\t255\t0\tchartreuse1\n",
      "118\t238\t0\tchartreuse2\n",
      "102\t205\t0\tchartreuse3\n",
      "69\t139\t0\tchartreuse4\n",
      "192\t255\t62\tOliveDrab1\n",
      "179\t238\t58\tOliveDrab2\n",
      "154\t205\t50\tOliveDrab3\n",
      "105\t139\t34\tOliveDrab4\n",
      "202\t255\t112\tDarkOliveGreen1\n",
      "188\t238\t104\tDarkOliveGreen2\n",
      "162\t205\t90\tDarkOliveGreen3\n",
      "110\t139\t61\tDarkOliveGreen4\n",
      "255\t246\t143\tkhaki1\n",
      "238\t230\t133\tkhaki2\n",
      "205\t198\t115\tkhaki3\n",
      "139\t134\t78\tkhaki4\n",
      "255\t236\t139\tLightGoldenrod1\n",
      "238\t220\t130\tLightGoldenrod2\n",
      "205\t190\t112\tLightGoldenrod3\n",
      "139\t129\t76\tLightGoldenrod4\n",
      "255\t255\t224\tLightYellow1\n",
      "238\t238\t209\tLightYellow2\n",
      "205\t205\t180\tLightYellow3\n",
      "139\t139\t122\tLightYellow4\n",
      "255\t255\t0\tyellow1\n",
      "238\t238\t0\tyellow2\n",
      "205\t205\t0\tyellow3\n",
      "139\t139\t0\tyellow4\n",
      "255\t215\t0\tgold1\n",
      "238\t201\t0\tgold2\n",
      "205\t173\t0\tgold3\n",
      "139\t117\t0\tgold4\n",
      "255\t193\t37\tgoldenrod1\n",
      "238\t180\t34\tgoldenrod2\n",
      "205\t155\t29\tgoldenrod3\n",
      "139\t105\t20\tgoldenrod4\n",
      "255\t185\t15\tDarkGoldenrod1\n",
      "238\t173\t14\tDarkGoldenrod2\n",
      "205\t149\t12\tDarkGoldenrod3\n",
      "139\t101\t8\tDarkGoldenrod4\n",
      "255\t193\t193\tRosyBrown1\n",
      "238\t180\t180\tRosyBrown2\n",
      "205\t155\t155\tRosyBrown3\n",
      "139\t105\t105\tRosyBrown4\n",
      "255\t106\t106\tIndianRed1\n",
      "238\t99\t99\tIndianRed2\n",
      "205\t85\t85\tIndianRed3\n",
      "139\t58\t58\tIndianRed4\n",
      "255\t130\t71\tsienna1\n",
      "238\t121\t66\tsienna2\n",
      "205\t104\t57\tsienna3\n",
      "139\t71\t38\tsienna4\n",
      "255\t211\t155\tburlywood1\n",
      "238\t197\t145\tburlywood2\n",
      "205\t170\t125\tburlywood3\n",
      "139\t115\t85\tburlywood4\n",
      "255\t231\t186\twheat1\n",
      "238\t216\t174\twheat2\n",
      "205\t186\t150\twheat3\n",
      "139\t126\t102\twheat4\n",
      "255\t165\t79\ttan1\n",
      "238\t154\t73\ttan2\n",
      "205\t133\t63\ttan3\n",
      "139\t90\t43\ttan4\n",
      "255\t127\t36\tchocolate1\n",
      "238\t118\t33\tchocolate2\n",
      "205\t102\t29\tchocolate3\n",
      "139\t69\t19\tchocolate4\n",
      "255\t48\t48\tfirebrick1\n",
      "238\t44\t44\tfirebrick2\n",
      "205\t38\t38\tfirebrick3\n",
      "139\t26\t26\tfirebrick4\n",
      "255\t64\t64\tbrown1\n",
      "238\t59\t59\tbrown2\n",
      "205\t51\t51\tbrown3\n",
      "139\t35\t35\tbrown4\n",
      "255\t140\t105\tsalmon1\n",
      "238\t130\t98\tsalmon2\n",
      "205\t112\t84\tsalmon3\n",
      "139\t76\t57\tsalmon4\n",
      "255\t160\t122\tLightSalmon1\n",
      "238\t149\t114\tLightSalmon2\n",
      "205\t129\t98\tLightSalmon3\n",
      "139\t87\t66\tLightSalmon4\n",
      "255\t165\t0\torange1\n",
      "238\t154\t0\torange2\n",
      "205\t133\t0\torange3\n",
      "139\t90\t0\torange4\n",
      "255\t127\t0\tDarkOrange1\n",
      "238\t118\t0\tDarkOrange2\n",
      "205\t102\t0\tDarkOrange3\n",
      "139\t69\t0\tDarkOrange4\n",
      "255\t114\t86\tcoral1\n",
      "238\t106\t80\tcoral2\n",
      "205\t91\t69\tcoral3\n",
      "139\t62\t47\tcoral4\n",
      "255\t99\t71\ttomato1\n",
      "238\t92\t66\ttomato2\n",
      "205\t79\t57\ttomato3\n",
      "139\t54\t38\ttomato4\n",
      "255\t69\t0\tOrangeRed1\n",
      "238\t64\t0\tOrangeRed2\n",
      "205\t55\t0\tOrangeRed3\n",
      "139\t37\t0\tOrangeRed4\n",
      "255\t0\t0\tred1\n",
      "238\t0\t0\tred2\n",
      "205\t0\t0\tred3\n",
      "139\t0\t0\tred4\n",
      "215\t7\t81\tDebianRed\n",
      "255\t20\t147\tDeepPink1\n",
      "238\t18\t137\tDeepPink2\n",
      "205\t16\t118\tDeepPink3\n",
      "139\t10\t80\tDeepPink4\n",
      "255\t110\t180\tHotPink1\n",
      "238\t106\t167\tHotPink2\n",
      "205\t96\t144\tHotPink3\n",
      "139\t58\t98\tHotPink4\n",
      "255\t181\t197\tpink1\n",
      "238\t169\t184\tpink2\n",
      "205\t145\t158\tpink3\n",
      "139\t99\t108\tpink4\n",
      "255\t174\t185\tLightPink1\n",
      "238\t162\t173\tLightPink2\n",
      "205\t140\t149\tLightPink3\n",
      "139\t95\t101\tLightPink4\n",
      "255\t130\t171\tPaleVioletRed1\n",
      "238\t121\t159\tPaleVioletRed2\n",
      "205\t104\t137\tPaleVioletRed3\n",
      "139\t71\t93\tPaleVioletRed4\n",
      "255\t52\t179\tmaroon1\n",
      "238\t48\t167\tmaroon2\n",
      "205\t41\t144\tmaroon3\n",
      "139\t28\t98\tmaroon4\n",
      "255\t62\t150\tVioletRed1\n",
      "238\t58\t140\tVioletRed2\n",
      "205\t50\t120\tVioletRed3\n",
      "139\t34\t82\tVioletRed4\n",
      "255\t0\t255\tmagenta1\n",
      "238\t0\t238\tmagenta2\n",
      "205\t0\t205\tmagenta3\n",
      "139\t0\t139\tmagenta4\n",
      "255\t131\t250\torchid1\n",
      "238\t122\t233\torchid2\n",
      "205\t105\t201\torchid3\n",
      "139\t71\t137\torchid4\n",
      "255\t187\t255\tplum1\n",
      "238\t174\t238\tplum2\n",
      "205\t150\t205\tplum3\n",
      "139\t102\t139\tplum4\n",
      "224\t102\t255\tMediumOrchid1\n",
      "209\t95\t238\tMediumOrchid2\n",
      "180\t82\t205\tMediumOrchid3\n",
      "122\t55\t139\tMediumOrchid4\n",
      "191\t62\t255\tDarkOrchid1\n",
      "178\t58\t238\tDarkOrchid2\n",
      "154\t50\t205\tDarkOrchid3\n",
      "104\t34\t139\tDarkOrchid4\n",
      "155\t48\t255\tpurple1\n",
      "145\t44\t238\tpurple2\n",
      "125\t38\t205\tpurple3\n",
      "85\t26\t139\tpurple4\n",
      "171\t130\t255\tMediumPurple1\n",
      "159\t121\t238\tMediumPurple2\n",
      "137\t104\t205\tMediumPurple3\n",
      "93\t71\t139\tMediumPurple4\n",
      "255\t225\t255\tthistle1\n",
      "238\t210\t238\tthistle2\n",
      "205\t181\t205\tthistle3\n",
      "139\t123\t139\tthistle4\n",
      "0\t0\t0\tgray0\n",
      "0\t0\t0\tgrey0\n",
      "3\t3\t3\tgray1\n",
      "3\t3\t3\tgrey1\n",
      "5\t5\t5\tgray2\n",
      "5\t5\t5\tgrey2\n",
      "8\t8\t8\tgray3\n",
      "8\t8\t8\tgrey3\n",
      "10\t10\t10\tgray4\n",
      "10\t10\t10\tgrey4\n",
      "13\t13\t13\tgray5\n",
      "13\t13\t13\tgrey5\n",
      "15\t15\t15\tgray6\n",
      "15\t15\t15\tgrey6\n",
      "18\t18\t18\tgray7\n",
      "18\t18\t18\tgrey7\n",
      "20\t20\t20\tgray8\n",
      "20\t20\t20\tgrey8\n",
      "23\t23\t23\tgray9\n",
      "23\t23\t23\tgrey9\n",
      "26\t26\t26\tgray10\n",
      "26\t26\t26\tgrey10\n",
      "28\t28\t28\tgray11\n",
      "28\t28\t28\tgrey11\n",
      "31\t31\t31\tgray12\n",
      "31\t31\t31\tgrey12\n",
      "33\t33\t33\tgray13\n",
      "33\t33\t33\tgrey13\n",
      "36\t36\t36\tgray14\n",
      "36\t36\t36\tgrey14\n",
      "38\t38\t38\tgray15\n",
      "38\t38\t38\tgrey15\n",
      "41\t41\t41\tgray16\n",
      "41\t41\t41\tgrey16\n",
      "43\t43\t43\tgray17\n",
      "43\t43\t43\tgrey17\n",
      "46\t46\t46\tgray18\n",
      "46\t46\t46\tgrey18\n",
      "48\t48\t48\tgray19\n",
      "48\t48\t48\tgrey19\n",
      "51\t51\t51\tgray20\n",
      "51\t51\t51\tgrey20\n",
      "54\t54\t54\tgray21\n",
      "54\t54\t54\tgrey21\n",
      "56\t56\t56\tgray22\n",
      "56\t56\t56\tgrey22\n",
      "59\t59\t59\tgray23\n",
      "59\t59\t59\tgrey23\n",
      "61\t61\t61\tgray24\n",
      "61\t61\t61\tgrey24\n",
      "64\t64\t64\tgray25\n",
      "64\t64\t64\tgrey25\n",
      "66\t66\t66\tgray26\n",
      "66\t66\t66\tgrey26\n",
      "69\t69\t69\tgray27\n",
      "69\t69\t69\tgrey27\n",
      "71\t71\t71\tgray28\n",
      "71\t71\t71\tgrey28\n",
      "74\t74\t74\tgray29\n",
      "74\t74\t74\tgrey29\n",
      "77\t77\t77\tgray30\n",
      "77\t77\t77\tgrey30\n",
      "79\t79\t79\tgray31\n",
      "79\t79\t79\tgrey31\n",
      "82\t82\t82\tgray32\n",
      "82\t82\t82\tgrey32\n",
      "84\t84\t84\tgray33\n",
      "84\t84\t84\tgrey33\n",
      "87\t87\t87\tgray34\n",
      "87\t87\t87\tgrey34\n",
      "89\t89\t89\tgray35\n",
      "89\t89\t89\tgrey35\n",
      "92\t92\t92\tgray36\n",
      "92\t92\t92\tgrey36\n",
      "94\t94\t94\tgray37\n",
      "94\t94\t94\tgrey37\n",
      "97\t97\t97\tgray38\n",
      "97\t97\t97\tgrey38\n",
      "99\t99\t99\tgray39\n",
      "99\t99\t99\tgrey39\n",
      "102\t102\t102\tgray40\n",
      "102\t102\t102\tgrey40\n",
      "105\t105\t105\tgray41\n",
      "105\t105\t105\tgrey41\n",
      "107\t107\t107\tgray42\n",
      "107\t107\t107\tgrey42\n",
      "110\t110\t110\tgray43\n",
      "110\t110\t110\tgrey43\n",
      "112\t112\t112\tgray44\n",
      "112\t112\t112\tgrey44\n",
      "115\t115\t115\tgray45\n",
      "115\t115\t115\tgrey45\n",
      "117\t117\t117\tgray46\n",
      "117\t117\t117\tgrey46\n",
      "120\t120\t120\tgray47\n",
      "120\t120\t120\tgrey47\n",
      "122\t122\t122\tgray48\n",
      "122\t122\t122\tgrey48\n",
      "125\t125\t125\tgray49\n",
      "125\t125\t125\tgrey49\n",
      "127\t127\t127\tgray50\n",
      "127\t127\t127\tgrey50\n",
      "130\t130\t130\tgray51\n",
      "130\t130\t130\tgrey51\n",
      "133\t133\t133\tgray52\n",
      "133\t133\t133\tgrey52\n",
      "135\t135\t135\tgray53\n",
      "135\t135\t135\tgrey53\n",
      "138\t138\t138\tgray54\n",
      "138\t138\t138\tgrey54\n",
      "140\t140\t140\tgray55\n",
      "140\t140\t140\tgrey55\n",
      "143\t143\t143\tgray56\n",
      "143\t143\t143\tgrey56\n",
      "145\t145\t145\tgray57\n",
      "145\t145\t145\tgrey57\n",
      "148\t148\t148\tgray58\n",
      "148\t148\t148\tgrey58\n",
      "150\t150\t150\tgray59\n",
      "150\t150\t150\tgrey59\n",
      "153\t153\t153\tgray60\n",
      "153\t153\t153\tgrey60\n",
      "156\t156\t156\tgray61\n",
      "156\t156\t156\tgrey61\n",
      "158\t158\t158\tgray62\n",
      "158\t158\t158\tgrey62\n",
      "161\t161\t161\tgray63\n",
      "161\t161\t161\tgrey63\n",
      "163\t163\t163\tgray64\n",
      "163\t163\t163\tgrey64\n",
      "166\t166\t166\tgray65\n",
      "166\t166\t166\tgrey65\n",
      "168\t168\t168\tgray66\n",
      "168\t168\t168\tgrey66\n",
      "171\t171\t171\tgray67\n",
      "171\t171\t171\tgrey67\n",
      "173\t173\t173\tgray68\n",
      "173\t173\t173\tgrey68\n",
      "176\t176\t176\tgray69\n",
      "176\t176\t176\tgrey69\n",
      "179\t179\t179\tgray70\n",
      "179\t179\t179\tgrey70\n",
      "181\t181\t181\tgray71\n",
      "181\t181\t181\tgrey71\n",
      "184\t184\t184\tgray72\n",
      "184\t184\t184\tgrey72\n",
      "186\t186\t186\tgray73\n",
      "186\t186\t186\tgrey73\n",
      "189\t189\t189\tgray74\n",
      "189\t189\t189\tgrey74\n",
      "191\t191\t191\tgray75\n",
      "191\t191\t191\tgrey75\n",
      "194\t194\t194\tgray76\n",
      "194\t194\t194\tgrey76\n",
      "196\t196\t196\tgray77\n",
      "196\t196\t196\tgrey77\n",
      "199\t199\t199\tgray78\n",
      "199\t199\t199\tgrey78\n",
      "201\t201\t201\tgray79\n",
      "201\t201\t201\tgrey79\n",
      "204\t204\t204\tgray80\n",
      "204\t204\t204\tgrey80\n",
      "207\t207\t207\tgray81\n",
      "207\t207\t207\tgrey81\n",
      "209\t209\t209\tgray82\n",
      "209\t209\t209\tgrey82\n",
      "212\t212\t212\tgray83\n",
      "212\t212\t212\tgrey83\n",
      "214\t214\t214\tgray84\n",
      "214\t214\t214\tgrey84\n",
      "217\t217\t217\tgray85\n",
      "217\t217\t217\tgrey85\n",
      "219\t219\t219\tgray86\n",
      "219\t219\t219\tgrey86\n",
      "222\t222\t222\tgray87\n",
      "222\t222\t222\tgrey87\n",
      "224\t224\t224\tgray88\n",
      "224\t224\t224\tgrey88\n",
      "227\t227\t227\tgray89\n",
      "227\t227\t227\tgrey89\n",
      "229\t229\t229\tgray90\n",
      "229\t229\t229\tgrey90\n",
      "232\t232\t232\tgray91\n",
      "232\t232\t232\tgrey91\n",
      "235\t235\t235\tgray92\n",
      "235\t235\t235\tgrey92\n",
      "237\t237\t237\tgray93\n",
      "237\t237\t237\tgrey93\n",
      "240\t240\t240\tgray94\n",
      "240\t240\t240\tgrey94\n",
      "242\t242\t242\tgray95\n",
      "242\t242\t242\tgrey95\n",
      "245\t245\t245\tgray96\n",
      "245\t245\t245\tgrey96\n",
      "247\t247\t247\tgray97\n",
      "247\t247\t247\tgrey97\n",
      "250\t250\t250\tgray98\n",
      "250\t250\t250\tgrey98\n",
      "252\t252\t252\tgray99\n",
      "252\t252\t252\tgrey99\n",
      "255\t255\t255\tgray100\n",
      "255\t255\t255\tgrey100\n",
      "169\t169\t169\tdark grey\n",
      "169\t169\t169\tDarkGrey\n",
      "169\t169\t169\tdark gray\n",
      "169\t169\t169\tDarkGray\n",
      "0\t0\t139\tdark blue\n",
      "0\t0\t139\tDarkBlue\n",
      "0\t139\t139\tdark cyan\n",
      "0\t139\t139\tDarkCyan\n",
      "139\t0\t139\tdark magenta\n",
      "139\t0\t139\tDarkMagenta\n",
      "139\t0\t0\tdark red\n",
      "139\t0\t0\tDarkRed\n",
      "144\t238\t144\tlight green\n",
      "144\t238\t144\tLightGreen\n"
     ]
    }
   ],
   "source": [
    "import re\n",
    " \n",
    "def red_green_blue(filename=\"rgb.txt\"):\n",
    "    with open(filename) as in_file:\n",
    "        l = re.findall(r\"(\\d+)\\s+(\\d+)\\s+(\\d+)\\s+(.*)\\n\", in_file.read())\n",
    "        return [\n",
    "            \"{}\\t{}\\t{}\\t{}\".format(r, g, b, name)\n",
    "            for r, g, b, name\n",
    "            in l\n",
    "        ]\n",
    " \n",
    " \n",
    "def main():\n",
    "    lines = red_green_blue()\n",
    "    for line in lines:\n",
    "        print(line)\n",
    " \n",
    "if __name__ == \"__main__\":\n",
    "    main()"
   ]
  },
  {
   "cell_type": "code",
   "execution_count": null,
   "id": "c1a81b34-3b14-4fca-bbdf-a923847e595b",
   "metadata": {},
   "outputs": [],
   "source": []
  }
 ],
 "metadata": {
  "kernelspec": {
   "display_name": "Python [conda env:base] *",
   "language": "python",
   "name": "conda-base-py"
  },
  "language_info": {
   "codemirror_mode": {
    "name": "ipython",
    "version": 3
   },
   "file_extension": ".py",
   "mimetype": "text/x-python",
   "name": "python",
   "nbconvert_exporter": "python",
   "pygments_lexer": "ipython3",
   "version": "3.12.7"
  }
 },
 "nbformat": 4,
 "nbformat_minor": 5
}
