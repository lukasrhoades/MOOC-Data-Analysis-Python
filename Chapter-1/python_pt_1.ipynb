{
 "cells": [
  {
   "cell_type": "markdown",
   "id": "ed5b0855-8226-4302-8964-6dca1c67e53a",
   "metadata": {},
   "source": [
    "Basic input and output"
   ]
  },
  {
   "cell_type": "code",
   "execution_count": 1,
   "id": "72aa51ce-86c1-4afc-8fa2-3be07974204e",
   "metadata": {},
   "outputs": [
    {
     "name": "stdout",
     "output_type": "stream",
     "text": [
      "Hello world2!\n"
     ]
    }
   ],
   "source": [
    "print(\"Hello world2!\")"
   ]
  },
  {
   "cell_type": "code",
   "execution_count": 5,
   "id": "820e8b9e-0c33-48cc-b92e-8c66350b24b9",
   "metadata": {},
   "outputs": [
    {
     "name": "stdout",
     "output_type": "stream",
     "text": [
      "Hello, John! How are you?\n"
     ]
    }
   ],
   "source": [
    "print(\"Hello,\", \"John!\", \"How are you?\")"
   ]
  },
  {
   "cell_type": "code",
   "execution_count": 7,
   "id": "2b36e2cf-9563-43be-908b-7b284af92eb8",
   "metadata": {},
   "outputs": [
    {
     "name": "stdout",
     "output_type": "stream",
     "text": [
      "1 plus 2 equals 3\n"
     ]
    }
   ],
   "source": [
    "print(1, \"plus\", 2, \"equals\", 1+2)"
   ]
  },
  {
   "cell_type": "code",
   "execution_count": 11,
   "id": "92b13aed-68a7-482d-88ce-85053f6970fa",
   "metadata": {},
   "outputs": [
    {
     "name": "stdin",
     "output_type": "stream",
     "text": [
      "Give me your name:  Lukas\n"
     ]
    },
    {
     "name": "stdout",
     "output_type": "stream",
     "text": [
      "Hello, Lukas\n"
     ]
    }
   ],
   "source": [
    "name=input(\"Give me your name: \")\n",
    "print(\"Hello,\", name)"
   ]
  },
  {
   "cell_type": "markdown",
   "id": "c50ddd57-d6b7-4e61-80d1-b5fb5661ff95",
   "metadata": {},
   "source": [
    "Indentation"
   ]
  },
  {
   "cell_type": "code",
   "execution_count": 13,
   "id": "43736682-c8e3-4601-acf3-9972c6ae190a",
   "metadata": {},
   "outputs": [
    {
     "name": "stdout",
     "output_type": "stream",
     "text": [
      "Hello\n",
      "Hello\n",
      "Hello\n",
      "Bye!\n"
     ]
    }
   ],
   "source": [
    "for i in range(3):\n",
    "    print(\"Hello\")\n",
    "print(\"Bye!\")"
   ]
  },
  {
   "cell_type": "code",
   "execution_count": 17,
   "id": "c4839460-a5a1-4bd1-b43f-405cd5c3b2fa",
   "metadata": {},
   "outputs": [
    {
     "name": "stdout",
     "output_type": "stream",
     "text": [
      "0 Hello\n",
      "1 Hello\n",
      "2 Hello\n",
      "Bye!\n"
     ]
    }
   ],
   "source": [
    "for i in range(3):\n",
    "    print (i, \"Hello\")\n",
    "print(\"Bye!\")"
   ]
  },
  {
   "cell_type": "markdown",
   "id": "eba12f95-e789-44ec-be04-832095acd4bc",
   "metadata": {},
   "source": [
    "Exercise 1.1 (hello world)"
   ]
  },
  {
   "cell_type": "code",
   "execution_count": 145,
   "id": "53b9c4a6-4029-4073-af42-fb50d7a1244a",
   "metadata": {},
   "outputs": [
    {
     "name": "stdout",
     "output_type": "stream",
     "text": [
      "Hello, world!\n"
     ]
    }
   ],
   "source": [
    "# Everything after a hash sign (#) is considered a comment in Python\n",
    "\n",
    "# The print statement could be written on the top-level (zero indentation),\n",
    "# but here we have put it inside the main function.\n",
    "# This enables TestMyCode (TMC) framework to work correctly.\n",
    "\n",
    "# In more complicated programs it is good practise not to clutter the top-level of the program\n",
    "# by using a main function as here.\n",
    "\n",
    "def main():\n",
    "    print(\"Hello, world!\") # Enter your code here, this is the correct indentation\n",
    "\n",
    "# This makes sure the main function is not called immediatedly\n",
    "# when TMC imports this module\n",
    "if __name__ == \"__main__\": \n",
    "    main()"
   ]
  },
  {
   "cell_type": "markdown",
   "id": "2bd3cf61-0b51-47a6-b310-016d16fc03cb",
   "metadata": {},
   "source": [
    "Exercise 1.2 (compliment)"
   ]
  },
  {
   "cell_type": "code",
   "execution_count": 143,
   "id": "b2d5773b-7908-4ed7-bba5-02bbde1a0b1e",
   "metadata": {},
   "outputs": [
    {
     "name": "stdin",
     "output_type": "stream",
     "text": [
      "What country are you from?  United States\n"
     ]
    },
    {
     "name": "stdout",
     "output_type": "stream",
     "text": [
      "I have heard that United States is a beautiful country.\n"
     ]
    }
   ],
   "source": [
    "def main():\n",
    "    country = input(\"What country are you from? \")\n",
    "    print(\"I have heard that\", country, \"is a beautiful country.\")\n",
    "\n",
    "\n",
    "if __name__ == \"__main__\":\n",
    "    main()"
   ]
  },
  {
   "cell_type": "markdown",
   "id": "deb256d3-1407-4056-9ece-db53c0380ae9",
   "metadata": {},
   "source": [
    "Exercise 1.3 (multiplication)"
   ]
  },
  {
   "cell_type": "code",
   "execution_count": 141,
   "id": "eda0978a-5040-49b8-98c4-009d33b9143b",
   "metadata": {},
   "outputs": [
    {
     "name": "stdout",
     "output_type": "stream",
     "text": [
      "4 multiplied by 0 is 0\n",
      "4 multiplied by 1 is 4\n",
      "4 multiplied by 2 is 8\n",
      "4 multiplied by 3 is 12\n",
      "4 multiplied by 4 is 16\n",
      "4 multiplied by 5 is 20\n",
      "4 multiplied by 6 is 24\n",
      "4 multiplied by 7 is 28\n",
      "4 multiplied by 8 is 32\n",
      "4 multiplied by 9 is 36\n",
      "4 multiplied by 10 is 40\n"
     ]
    }
   ],
   "source": [
    "def main():\n",
    "    for i in range(11):\n",
    "        print(\"4 multiplied by\", i, \"is\", 4*i)\n",
    "\n",
    "if __name__ == \"__main__\":\n",
    "    main()"
   ]
  },
  {
   "cell_type": "markdown",
   "id": "6e28a323-1aa4-485c-950e-d2acbee59c5c",
   "metadata": {},
   "source": [
    "Variables and data types"
   ]
  },
  {
   "cell_type": "code",
   "execution_count": 21,
   "id": "1e365c18-5b0a-49ac-8b79-e35b11f8694e",
   "metadata": {},
   "outputs": [
    {
     "name": "stdout",
     "output_type": "stream",
     "text": [
      "1\n"
     ]
    }
   ],
   "source": [
    "a = 1\n",
    "print(a)"
   ]
  },
  {
   "cell_type": "code",
   "execution_count": 23,
   "id": "add58235-d9dc-409c-81f5-38e874b4e60b",
   "metadata": {},
   "outputs": [
    {
     "data": {
      "text/plain": [
       "int"
      ]
     },
     "execution_count": 23,
     "metadata": {},
     "output_type": "execute_result"
    }
   ],
   "source": [
    "type(a)"
   ]
  },
  {
   "cell_type": "code",
   "execution_count": 25,
   "id": "be18545d-b901-4b33-b497-d33e39ba0184",
   "metadata": {},
   "outputs": [
    {
     "data": {
      "text/plain": [
       "str"
      ]
     },
     "execution_count": 25,
     "metadata": {},
     "output_type": "execute_result"
    }
   ],
   "source": [
    "a = \"some text\"\n",
    "type(a)"
   ]
  },
  {
   "cell_type": "code",
   "execution_count": 27,
   "id": "226744f5-45f2-45d4-b6e4-dcb955cdf1e7",
   "metadata": {},
   "outputs": [
    {
     "name": "stdout",
     "output_type": "stream",
     "text": [
      "Result of the comparison: False\n",
      "Complex multiplication: (-4+0j)\n",
      "concatenation\n"
     ]
    }
   ],
   "source": [
    "i = 5\n",
    "f = 1.5\n",
    "b = i == 4\n",
    "print(\"Result of the comparison:\", b)\n",
    "c = 0 + 2j # j denotes imaginary unit of complex numbers\n",
    "print(\"Complex multiplication:\", c * c)\n",
    "s = \"conca\" + \"tenation\"\n",
    "print(s)"
   ]
  },
  {
   "cell_type": "code",
   "execution_count": null,
   "id": "47e9c5e1-7a1c-4d7c-b058-82a9a55dbf87",
   "metadata": {},
   "outputs": [],
   "source": [
    "print(int(-2.8))\n",
    "print(float(2))\n",
    "print(int(\"123\"))\n",
    "print(bool(-2), bool(0)) # zero is interpreted as false\n",
    "print(str(234))"
   ]
  },
  {
   "cell_type": "code",
   "execution_count": 38,
   "id": "a4e98b35-efdd-46cb-87d5-bb2ef1714471",
   "metadata": {},
   "outputs": [
    {
     "name": "stdout",
     "output_type": "stream",
     "text": [
      "b'\\xc3\\xa4'\n",
      "[195, 164]\n"
     ]
    }
   ],
   "source": [
    "b = \"ä\".encode(\"utf-8\") # converts character to sequence of bytes\n",
    "print(b) # prints bytes in hexidecimal notation\n",
    "print(list(b)) # prints bytes in decimal notation"
   ]
  },
  {
   "cell_type": "markdown",
   "id": "d3848002-4a9d-46a1-8c99-65301e9ca107",
   "metadata": {},
   "source": [
    "Creating strings"
   ]
  },
  {
   "cell_type": "code",
   "execution_count": 41,
   "id": "a95e68b3-ca49-4bbb-862f-b36ae4947a0e",
   "metadata": {},
   "outputs": [
    {
     "name": "stdout",
     "output_type": "stream",
     "text": [
      "One\tTwo\n",
      "Three\tFour\n"
     ]
    }
   ],
   "source": [
    "print(\"One\\tTwo\\nThree\\tFour\")"
   ]
  },
  {
   "cell_type": "code",
   "execution_count": 45,
   "id": "df4ef598-107d-4993-9ce3-937b1d051e25",
   "metadata": {},
   "outputs": [
    {
     "name": "stdout",
     "output_type": "stream",
     "text": [
      "A string\n",
      "spanning over\n",
      "several lines\n"
     ]
    }
   ],
   "source": [
    "s = \"\"\"A string\n",
    "spanning over\n",
    "several lines\"\"\"\n",
    "print(s)"
   ]
  },
  {
   "cell_type": "code",
   "execution_count": 47,
   "id": "33299598-d1d2-431a-93e4-b66c877ee1ec",
   "metadata": {},
   "outputs": [
    {
     "name": "stdout",
     "output_type": "stream",
     "text": [
      "firstsecond\n",
      "first second second first\n"
     ]
    }
   ],
   "source": [
    "a = \"first\"\n",
    "b = \"second\"\n",
    "print(a + b)\n",
    "print(\" \".join([a, b, b, a]))"
   ]
  },
  {
   "cell_type": "code",
   "execution_count": 51,
   "id": "3794a914-e4a1-46f5-9491-e2aa597e7aee",
   "metadata": {},
   "outputs": [
    {
     "name": "stdout",
     "output_type": "stream",
     "text": [
      "1 plus 3 is equal to 4\n",
      "1 plus 3 is equal to 4\n"
     ]
    }
   ],
   "source": [
    "print(str(1) + \" plus \" + str(3) + \" is equal to \" + str(4))\n",
    "# slightly better\n",
    "print(1, \"plus\", 3, \"is equal to\", 4)"
   ]
  },
  {
   "cell_type": "code",
   "execution_count": 55,
   "id": "4076ed44-998f-45d3-bc3d-660b933f5eb1",
   "metadata": {},
   "outputs": [
    {
     "name": "stdout",
     "output_type": "stream",
     "text": [
      "1 plus 3 is equal to 4\n",
      "1 plus 3 is equal to 4\n",
      "1 plus 3 is equal to 4\n"
     ]
    }
   ],
   "source": [
    "print(\"%i plus %i is equal to %i\" % (1, 3, 4)) # format syntax\n",
    "print(\"{} plus {} is equal to {}\".format(1, 3, 4)) # format method\n",
    "print(f\"{1} plus {3} is equal to {4}\") # f-string"
   ]
  },
  {
   "cell_type": "code",
   "execution_count": 57,
   "id": "bc8132cc-1330-47ad-85ef-6bf872dd0d51",
   "metadata": {},
   "outputs": [
    {
     "name": "stdout",
     "output_type": "stream",
     "text": [
      "water concatenated with melon produces watermelon\n",
      "water concatenated with melon produces watermelon\n",
      "water concatenated with melon produces watermelon\n"
     ]
    }
   ],
   "source": [
    "print(\"%s concatenated with %s produces %s\" % (\"water\", \"melon\", \"water\" + \"melon\"))\n",
    "print(\"{0} concatenated with {1} produces {0}{1}\".format(\"water\", \"melon\"))\n",
    "print(f\"{'water'} concatenated with {'melon'} produces {'water' + 'melon'}\")"
   ]
  },
  {
   "cell_type": "markdown",
   "id": "07447198-2e9a-4aeb-bb69-ec7f377ee869",
   "metadata": {},
   "source": [
    "Expressions"
   ]
  },
  {
   "cell_type": "markdown",
   "id": "bb6e2e15-2ce1-410a-a39a-772d3396a2b3",
   "metadata": {},
   "source": [
    "Statements"
   ]
  },
  {
   "cell_type": "code",
   "execution_count": 61,
   "id": "522e16d1-b279-4079-affd-9093c3ee84a4",
   "metadata": {},
   "outputs": [],
   "source": [
    "i = 5\n",
    "i = i + 1 # common idiom to increment the value of i by one\n",
    "i += 1 # short-hand for above"
   ]
  },
  {
   "cell_type": "markdown",
   "id": "e66aebb0-1759-4acb-b9e3-a8dd759d5ff3",
   "metadata": {},
   "source": [
    "Loops for repetitive tasks"
   ]
  },
  {
   "cell_type": "code",
   "execution_count": 64,
   "id": "6d789b2d-b3ad-4e95-b5a6-7fb42521adf2",
   "metadata": {},
   "outputs": [
    {
     "name": "stdout",
     "output_type": "stream",
     "text": [
      "Square of 1 is 1\n",
      "Square of 2 is 4\n",
      "Square of 3 is 9\n",
      "Square of 4 is 16\n",
      "Square of 5 is 25\n",
      "Square of 6 is 36\n",
      "Square of 7 is 49\n",
      "Square of 8 is 64\n",
      "Square of 9 is 81\n",
      "Square of 10 is 100\n",
      "Square of 11 is 121\n",
      "Square of 12 is 144\n",
      "Square of 13 is 169\n",
      "Square of 14 is 196\n",
      "Square of 15 is 225\n",
      "Square of 16 is 256\n",
      "Square of 17 is 289\n",
      "Square of 18 is 324\n",
      "Square of 19 is 361\n",
      "Square of 20 is 400\n",
      "Square of 21 is 441\n",
      "Square of 22 is 484\n",
      "Square of 23 is 529\n",
      "Square of 24 is 576\n",
      "Square of 25 is 625\n",
      "Square of 26 is 676\n",
      "Square of 27 is 729\n",
      "Square of 28 is 784\n",
      "Square of 29 is 841\n",
      "Square of 30 is 900\n",
      "Square of 31 is 961\n",
      "Finished printing all the squares below 1000.\n"
     ]
    }
   ],
   "source": [
    "i = 1\n",
    "while i * i < 1000:\n",
    "    print(\"Square of\", i, \"is\", i * i)\n",
    "    i = i + 1\n",
    "print(\"Finished printing all the squares below 1000.\")"
   ]
  },
  {
   "cell_type": "code",
   "execution_count": 66,
   "id": "420a4c43-922e-4be0-b781-3164faec9839",
   "metadata": {},
   "outputs": [
    {
     "name": "stdout",
     "output_type": "stream",
     "text": [
      "The sum is 45\n"
     ]
    }
   ],
   "source": [
    "s = 0\n",
    "for i in [0, 1, 2, 3, 4, 5, 6, 7, 8, 9]:\n",
    "    s = s + i\n",
    "print(\"The sum is\", s)"
   ]
  },
  {
   "cell_type": "markdown",
   "id": "bcfc7548-de46-4dfe-9a9b-4e6d0ab53cf6",
   "metadata": {},
   "source": [
    "Exercise 1.4 (multiplication table)"
   ]
  },
  {
   "cell_type": "code",
   "execution_count": 134,
   "id": "a1fad1c1-945a-4dc3-b520-be71da254cc0",
   "metadata": {},
   "outputs": [
    {
     "name": "stdout",
     "output_type": "stream",
     "text": [
      "   1   2   3   4   5   6   7   8   9  10\n",
      "   2   4   6   8  10  12  14  16  18  20\n",
      "   3   6   9  12  15  18  21  24  27  30\n",
      "   4   8  12  16  20  24  28  32  36  40\n",
      "   5  10  15  20  25  30  35  40  45  50\n",
      "   6  12  18  24  30  36  42  48  54  60\n",
      "   7  14  21  28  35  42  49  56  63  70\n",
      "   8  16  24  32  40  48  56  64  72  80\n",
      "   9  18  27  36  45  54  63  72  81  90\n",
      "  10  20  30  40  50  60  70  80  90 100\n"
     ]
    }
   ],
   "source": [
    "def main():\n",
    "    for i in range(1,11):\n",
    "        for j in range(1,11):\n",
    "            print('{:4d}'.format(i * j), end=\"\")\n",
    "        print() # new line after each row\n",
    "\n",
    "if __name__ == \"__main__\":\n",
    "    main()"
   ]
  },
  {
   "cell_type": "markdown",
   "id": "80cc79e7-3c82-47ae-8686-a2c624c89945",
   "metadata": {},
   "source": [
    "Decision making with the if statement"
   ]
  },
  {
   "cell_type": "code",
   "execution_count": 3,
   "id": "468f94d4-8021-43aa-9db7-22b029aad4a4",
   "metadata": {},
   "outputs": [
    {
     "name": "stdin",
     "output_type": "stream",
     "text": [
      "Give an integer:  -1\n"
     ]
    },
    {
     "name": "stdout",
     "output_type": "stream",
     "text": [
      "The absolute value of -1 is 1\n"
     ]
    }
   ],
   "source": [
    "x = input(\"Give an integer: \")\n",
    "x = int(x)\n",
    "if x >= 0:\n",
    "    a = x\n",
    "else:\n",
    "    a = -x\n",
    "print(\"The absolute value of %i is %i\" % (x, a))"
   ]
  },
  {
   "cell_type": "code",
   "execution_count": 5,
   "id": "30814788-cc32-460f-9c41-fd39442ee2ac",
   "metadata": {},
   "outputs": [
    {
     "name": "stdin",
     "output_type": "stream",
     "text": [
      "Give a number:  3\n"
     ]
    },
    {
     "name": "stdout",
     "output_type": "stream",
     "text": [
      "c is positive\n"
     ]
    }
   ],
   "source": [
    "c = float(input(\"Give a number: \"))\n",
    "if c > 0:\n",
    "    print(\"c is positive\")\n",
    "elif c < 0:\n",
    "    print(\"c is negative\")\n",
    "else:\n",
    "    print(\"c is zero\")"
   ]
  },
  {
   "cell_type": "markdown",
   "id": "efe1a546-6b06-49e6-92fd-5d4a6a836a25",
   "metadata": {},
   "source": [
    "Breaking and continuing loop"
   ]
  },
  {
   "cell_type": "code",
   "execution_count": 8,
   "id": "44e14a3d-12c2-4dd8-a080-b5b5191850c8",
   "metadata": {},
   "outputs": [
    {
     "name": "stdout",
     "output_type": "stream",
     "text": [
      "The first negative list item was -1\n"
     ]
    }
   ],
   "source": [
    "l = [1, 3, 65, 3, -1, 56 ,-10]\n",
    "for x in l:\n",
    "    if x < 0:\n",
    "        break\n",
    "print(\"The first negative list item was\", x)"
   ]
  },
  {
   "cell_type": "code",
   "execution_count": 68,
   "id": "199783d4-39dd-47f0-a092-56a1b12daf94",
   "metadata": {},
   "outputs": [
    {
     "name": "stdout",
     "output_type": "stream",
     "text": [
      "Square root of 1 is 1.000\n",
      "Natural logarithm of 1 is 0.0000\n",
      "Square root of 3 is 1.732\n",
      "Natural logarithm of 3 is 1.0986\n",
      "Square root of 65 is 8.062\n",
      "Natural logarithm of 65 is 4.1744\n",
      "Square root of 3 is 1.732\n",
      "Natural logarithm of 3 is 1.0986\n",
      "Square root of 56 is 7.483\n",
      "Natural logarithm of 56 is 4.0254\n"
     ]
    }
   ],
   "source": [
    "from math import sqrt, log\n",
    "l = [1, 3,65 ,3, -1, 56, -10]\n",
    "for x in l:\n",
    "    if x < 0:\n",
    "        continue # stop current iteration and continue to next\n",
    "    print(f\"Square root of {x} is {sqrt(x):.3f}\")\n",
    "    print(f\"Natural logarithm of {x} is {log(x):.4f}\")"
   ]
  },
  {
   "cell_type": "markdown",
   "id": "7d7839c3-9998-4eff-95f2-52550ec1707a",
   "metadata": {},
   "source": [
    "Exercise 1.5 (two dice)"
   ]
  },
  {
   "cell_type": "code",
   "execution_count": 131,
   "id": "6062f504-49e0-4290-86aa-03b1fcb00497",
   "metadata": {},
   "outputs": [
    {
     "name": "stdout",
     "output_type": "stream",
     "text": [
      "(1,4)\n",
      "(2,3)\n",
      "(3,2)\n",
      "(4,1)\n"
     ]
    }
   ],
   "source": [
    "def main():\n",
    "    for i in range(1,7):\n",
    "        for j in range(1,7):\n",
    "            if i + j != 5:\n",
    "               continue\n",
    "            print(f\"({i},{j})\")\n",
    "\n",
    "if __name__ == \"__main__\":\n",
    "    main()"
   ]
  },
  {
   "cell_type": "markdown",
   "id": "ce2dcc39-c4ad-4ce7-b694-1cc8b7678e3d",
   "metadata": {},
   "source": [
    "Functions"
   ]
  },
  {
   "cell_type": "code",
   "execution_count": 15,
   "id": "19a6d1e2-fee1-46e2-af47-15debc8534d9",
   "metadata": {},
   "outputs": [
    {
     "name": "stdout",
     "output_type": "stream",
     "text": [
      "8 2.4 abcabc\n"
     ]
    }
   ],
   "source": [
    "def double(x):\n",
    "    \"This function multiplies its argument by two.\"\n",
    "    return x * 2\n",
    "print(double(4), double(1.2), double(\"abc\")) # it even works for strings"
   ]
  },
  {
   "cell_type": "code",
   "execution_count": 17,
   "id": "6b8af2b1-b7cb-489c-82b7-153581511025",
   "metadata": {},
   "outputs": [
    {
     "name": "stdout",
     "output_type": "stream",
     "text": [
      "The docstring is: This function multiplies its argument by two.\n",
      "Help on function double in module __main__:\n",
      "\n",
      "double(x)\n",
      "    This function multiplies its argument by two.\n",
      "\n"
     ]
    }
   ],
   "source": [
    "print(\"The docstring is:\", double.__doc__)\n",
    "help(double) # another way to access docstring"
   ]
  },
  {
   "cell_type": "code",
   "execution_count": 19,
   "id": "d4c7c218-9979-45c2-be99-bbcf42567d65",
   "metadata": {},
   "outputs": [
    {
     "name": "stdout",
     "output_type": "stream",
     "text": [
      "Help on built-in function print in module builtins:\n",
      "\n",
      "print(*args, sep=' ', end='\\n', file=None, flush=False)\n",
      "    Prints the values to a stream, or to sys.stdout by default.\n",
      "\n",
      "    sep\n",
      "      string inserted between values, default a space.\n",
      "    end\n",
      "      string appended after the last value, default a newline.\n",
      "    file\n",
      "      a file-like object (stream); defaults to the current sys.stdout.\n",
      "    flush\n",
      "      whether to forcibly flush the stream.\n",
      "\n"
     ]
    }
   ],
   "source": [
    "help(print)"
   ]
  },
  {
   "cell_type": "code",
   "execution_count": 21,
   "id": "e4845ca6-7c94-4348-899b-b2069593d447",
   "metadata": {},
   "outputs": [
    {
     "name": "stdout",
     "output_type": "stream",
     "text": [
      "25\n"
     ]
    }
   ],
   "source": [
    "def sum_of_squares(a, b):\n",
    "    \"Computes the sum of arguments squared\"\n",
    "    return a**2 + b**2\n",
    "print(sum_of_squares(3, 4))"
   ]
  },
  {
   "cell_type": "code",
   "execution_count": 39,
   "id": "564b7133-b050-4d8a-b6e5-e18b128f0650",
   "metadata": {},
   "outputs": [
    {
     "name": "stdout",
     "output_type": "stream",
     "text": [
      "4\n",
      "45\n"
     ]
    }
   ],
   "source": [
    "def sum_of_squares(lst):\n",
    "    \"Computes the sum of squares of elements in the list given as a parameter\"\n",
    "    s = 0\n",
    "    for x in lst:\n",
    "        s += x**2\n",
    "    return s\n",
    "print(sum_of_squares([-2]))\n",
    "print(sum_of_squares([-2, 4, 5]))"
   ]
  },
  {
   "cell_type": "code",
   "execution_count": 45,
   "id": "1fdbf7e1-f707-4333-ae54-7666c19536aa",
   "metadata": {},
   "outputs": [
    {
     "name": "stdout",
     "output_type": "stream",
     "text": [
      "4\n",
      "45\n"
     ]
    }
   ],
   "source": [
    "def sum_of_squares(*t): # tuples are immutable lists\n",
    "    \"Computes the sum of squares of arbitrary number of arguments\"\n",
    "    s = 0\n",
    "    for x in t:\n",
    "        s += x**2\n",
    "    return s\n",
    "print(sum_of_squares(-2))\n",
    "print(sum_of_squares(-2, 4, 5))"
   ]
  },
  {
   "cell_type": "code",
   "execution_count": 51,
   "id": "e61a982b-1fd2-49ec-bf05-8fd0f889708b",
   "metadata": {},
   "outputs": [
    {
     "name": "stdout",
     "output_type": "stream",
     "text": [
      "With list unpacked as arguments to the functions: 90\n"
     ]
    }
   ],
   "source": [
    "lst = [1, 5, 8]\n",
    "print(\"With list unpacked as arguments to the functions:\", sum_of_squares(*lst))\n",
    "# print(sum_of_squares(lst)) # does not work correctly"
   ]
  },
  {
   "cell_type": "code",
   "execution_count": 57,
   "id": "13bec33e-fc3e-492d-a5ea-ae03c871e25e",
   "metadata": {},
   "outputs": [
    {
     "name": "stdout",
     "output_type": "stream",
     "text": [
      "First: 5 Second: 8 Third: 7\n"
     ]
    }
   ],
   "source": [
    "def named(a, b, c):\n",
    "    print(\"First:\", a, \"Second:\", b, \"Third:\", c)\n",
    "named(5, c=7, b=8)"
   ]
  },
  {
   "cell_type": "code",
   "execution_count": 59,
   "id": "a9a5293a-d1e9-4926-9fd9-590dbcaaafa0",
   "metadata": {},
   "outputs": [
    {
     "name": "stdout",
     "output_type": "stream",
     "text": [
      "1 -*- 2 -*- 3 |first -*- second -*- third |"
     ]
    }
   ],
   "source": [
    "print(1, 2, 3, end=' |', sep=' -*- ')\n",
    "print(\"first\", \"second\", \"third\", end=' |', sep=' -*- ')"
   ]
  },
  {
   "cell_type": "code",
   "execution_count": 65,
   "id": "0b5dad95-7d69-46b7-b80d-7fc1bb3f4b84",
   "metadata": {},
   "outputs": [
    {
     "name": "stdout",
     "output_type": "stream",
     "text": [
      "5.0\n",
      "4.497941445275415\n"
     ]
    }
   ],
   "source": [
    "def length(*t, degree = 2):\n",
    "    \"\"\"Comptues the length of the vector given as parameter. By default, it computes\n",
    "    the Euclidean distance (degree==2)\"\"\"\n",
    "    s = 0\n",
    "    for x in t:\n",
    "        s += abs(x)**degree\n",
    "    return s**(1/degree)\n",
    "print(length(-4, 3))\n",
    "print(length(-4, 3, degree = 3))"
   ]
  },
  {
   "cell_type": "markdown",
   "id": "11920576-41a4-4f94-a7e5-52cfca4fd74f",
   "metadata": {},
   "source": [
    "Visibility of variables"
   ]
  },
  {
   "cell_type": "code",
   "execution_count": 70,
   "id": "7991c7bb-9112-47dd-a53a-102fa801c556",
   "metadata": {},
   "outputs": [
    {
     "name": "stdout",
     "output_type": "stream",
     "text": [
      "3\n",
      "2\n"
     ]
    }
   ],
   "source": [
    "i = 2        # global variable\n",
    "def f():\n",
    "    i = 3    # this creates a new variable, it does not rebind the global i\n",
    "    print(i) # this will print 3\n",
    "f()\n",
    "print(i)"
   ]
  },
  {
   "cell_type": "code",
   "execution_count": 74,
   "id": "f9c42022-8441-4c1d-a052-278d38e5988c",
   "metadata": {},
   "outputs": [
    {
     "name": "stdout",
     "output_type": "stream",
     "text": [
      "5\n",
      "5\n"
     ]
    }
   ],
   "source": [
    "i = 2\n",
    "def f():\n",
    "    global i\n",
    "    i = 5    # rebind the global i variable\n",
    "    print(i) # this will print 5\n",
    "f()\n",
    "print(i)     # this will print 5"
   ]
  },
  {
   "cell_type": "code",
   "execution_count": 80,
   "id": "6e48ebfa-798c-49c3-b8fd-d24cafada0a4",
   "metadata": {},
   "outputs": [
    {
     "name": "stdout",
     "output_type": "stream",
     "text": [
      "3\n",
      "2\n"
     ]
    }
   ],
   "source": [
    "def f():             # outer function\n",
    "    b = 2\n",
    "    def g():         # inner function\n",
    "        # nonlocal b # without this nonlocal statement,\n",
    "        b = 3        # this will create a new local variable\n",
    "        print(b)\n",
    "    g()\n",
    "    print(b)\n",
    "f()"
   ]
  },
  {
   "cell_type": "markdown",
   "id": "80497b7c-e916-4429-aa5f-e38c464fc5f5",
   "metadata": {},
   "source": [
    "Exercise 1.6 (triple square)"
   ]
  },
  {
   "cell_type": "code",
   "execution_count": 128,
   "id": "e8cd17e1-f865-4832-b11f-2ddb32cb7aeb",
   "metadata": {},
   "outputs": [
    {
     "name": "stdout",
     "output_type": "stream",
     "text": [
      "triple(1)==3 square(1)==1\n",
      "triple(2)==6 square(2)==4\n",
      "triple(3)==9 square(3)==9\n"
     ]
    }
   ],
   "source": [
    "def triple(i):\n",
    "    return i*3\n",
    "def square(i):\n",
    "    return i**2\n",
    "\n",
    "def main():\n",
    "    for i in range(1,11):\n",
    "        tr = triple(i)\n",
    "        sq = square(i)\n",
    "        if sq > tr:\n",
    "            break\n",
    "        print(f\"triple({i})=={tr}\", f\"square({i})=={sq}\")\n",
    "\n",
    "if __name__ == \"__main__\":\n",
    "    main()"
   ]
  },
  {
   "cell_type": "markdown",
   "id": "c9f8fa38-d3b8-4013-9e12-9223df929fcc",
   "metadata": {},
   "source": [
    "Exercise 1.7 (area of shapes)\n"
   ]
  },
  {
   "cell_type": "code",
   "execution_count": 126,
   "id": "23af4911-f1a1-4f29-bc67-2b1c31729bb3",
   "metadata": {},
   "outputs": [
    {
     "name": "stdin",
     "output_type": "stream",
     "text": [
      "Choose a shape (triangle, rectangle, circle): \n"
     ]
    }
   ],
   "source": [
    "import math\n",
    "\n",
    "def shape():\n",
    "    while choice := input(\"Choose a shape (triangle, rectangle, circle):\"):\n",
    "        if choice == \"triangle\":\n",
    "            base = input(\"Give base of the triangle:\")\n",
    "            height = input(\"Give height of the triangle:\")\n",
    "            print(f\"The area is {0.5 * float(base) * float(height)}\")\n",
    "        elif choice == \"rectangle\":\n",
    "            width = input(\"Give width of the rectangle:\")\n",
    "            height = input(\"Give height of the rectangle:\")\n",
    "            print(f\"The area is {float(width) * float(height)}\")\n",
    "        elif choice == \"circle\":\n",
    "            radius = input(\"Give radius of the circle:\")\n",
    "            print(f\"The area is {math.pi * (float(radius)**2)}\")\n",
    "        else:\n",
    "            print(\"Unknown shape!\")\n",
    "\n",
    "def main():\n",
    "    shape()\n",
    "\n",
    "if __name__ == \"__main__\":\n",
    "    main()"
   ]
  },
  {
   "cell_type": "markdown",
   "id": "7756b80d-e830-41ce-bf13-0977041e65ab",
   "metadata": {},
   "source": [
    "Data Structures"
   ]
  },
  {
   "cell_type": "markdown",
   "id": "21059f48-c80e-4a83-99d2-17708e852b56",
   "metadata": {},
   "source": [
    "Sequences"
   ]
  },
  {
   "cell_type": "code",
   "execution_count": 83,
   "id": "b4a57488-7042-42c8-9962-14c6cf6ebf4c",
   "metadata": {},
   "outputs": [
    {
     "data": {
      "text/plain": [
       "[2, 100, 'hello', 1.0]"
      ]
     },
     "execution_count": 83,
     "metadata": {},
     "output_type": "execute_result"
    }
   ],
   "source": [
    "[2, 100, \"hello\", 1.0]"
   ]
  },
  {
   "cell_type": "code",
   "execution_count": 85,
   "id": "d898a522-9585-413e-844f-8ecf45c6ebce",
   "metadata": {},
   "outputs": [
    {
     "data": {
      "text/plain": [
       "'bcd'"
      ]
     },
     "execution_count": 85,
     "metadata": {},
     "output_type": "execute_result"
    }
   ],
   "source": [
    "s = \"abcdefg\"\n",
    "s[1:4]"
   ]
  },
  {
   "cell_type": "code",
   "execution_count": 87,
   "id": "5613eabe-6141-4e24-8925-a62edcaea989",
   "metadata": {},
   "outputs": [
    {
     "name": "stdout",
     "output_type": "stream",
     "text": [
      "[0, 3, 6, 9]\n"
     ]
    }
   ],
   "source": [
    "print([0, 1, 2, 3, 4, 5, 6, 7, 8, 9][::3])"
   ]
  },
  {
   "cell_type": "markdown",
   "id": "e176678a-ae32-43aa-9358-7fc14c74b0e1",
   "metadata": {},
   "source": [
    "Exercise 1.8 (solve quadratic)"
   ]
  },
  {
   "cell_type": "code",
   "execution_count": 119,
   "id": "6c37363e-b2b8-42fa-8aee-1271d9eb03ca",
   "metadata": {},
   "outputs": [
    {
     "name": "stdout",
     "output_type": "stream",
     "text": [
      "(2.0, 1.0)\n",
      "(-1.0, -1.0)\n"
     ]
    }
   ],
   "source": [
    "import math\n",
    "\n",
    "def solve_quadratic(a, b, c):\n",
    "    x1 = (-float(b) + math.sqrt(float(b)**2 - 4*float(a)*float(c)))/(2*float(a))\n",
    "    x2 = (-float(b) - math.sqrt(float(b)**2 - 4*float(a)*float(c)))/(2*float(a))\n",
    "    return (x1,x2)\n",
    "\n",
    "\n",
    "def main():\n",
    "    print(solve_quadratic(1, -3, 2))\n",
    "    print(solve_quadratic(1, 2, 1))\n",
    "\n",
    "if __name__ == \"__main__\":\n",
    "    main()"
   ]
  },
  {
   "cell_type": "markdown",
   "id": "54ea72b2-7d13-4a58-8155-b91051d57e94",
   "metadata": {},
   "source": [
    "Modifying lists"
   ]
  },
  {
   "cell_type": "code",
   "execution_count": 90,
   "id": "c5932396-b491-4961-89af-2ca7d7c400a2",
   "metadata": {},
   "outputs": [
    {
     "name": "stdout",
     "output_type": "stream",
     "text": [
      "[11, 13, 10, 32]\n"
     ]
    }
   ],
   "source": [
    "L = [11, 13, 22, 32]\n",
    "L[2] = 10 # changes the third element\n",
    "print(L)"
   ]
  },
  {
   "cell_type": "code",
   "execution_count": 92,
   "id": "919a1086-db88-4a25-9cbc-6fbea374af90",
   "metadata": {},
   "outputs": [
    {
     "name": "stdout",
     "output_type": "stream",
     "text": [
      "[11, 4, 32]\n"
     ]
    }
   ],
   "source": [
    "L[1:3] = [4]\n",
    "print(L)"
   ]
  },
  {
   "cell_type": "markdown",
   "id": "ae22db78-c551-4229-8e4c-336bfd1672fe",
   "metadata": {},
   "source": [
    "Generating numerical sequences"
   ]
  },
  {
   "cell_type": "code",
   "execution_count": 100,
   "id": "e4abc893-d819-4b80-843b-0fbc02ae9794",
   "metadata": {},
   "outputs": [
    {
     "name": "stdout",
     "output_type": "stream",
     "text": [
      "0\n",
      "1\n",
      "2\n",
      "range(0, 3)\n"
     ]
    }
   ],
   "source": [
    "L = range(3)\n",
    "for i in L:\n",
    "    print(i)\n",
    "# note that L is not a list!\n",
    "print(L)"
   ]
  },
  {
   "cell_type": "code",
   "execution_count": 102,
   "id": "ddbc1983-13af-40e5-9c05-8e59fa2f061a",
   "metadata": {},
   "outputs": [
    {
     "name": "stdout",
     "output_type": "stream",
     "text": [
      "[0, 1, 2, 3, 4, 5, 6, 7, 8, 9]\n"
     ]
    }
   ],
   "source": [
    "L = range(10)\n",
    "print(list(L))"
   ]
  },
  {
   "cell_type": "code",
   "execution_count": 104,
   "id": "86b791d9-6cda-452a-b413-87f699ec7693",
   "metadata": {},
   "outputs": [
    {
     "name": "stdout",
     "output_type": "stream",
     "text": [
      "[0, 2, 4, 6]\n"
     ]
    }
   ],
   "source": [
    "print(list(range(0, 7, 2)))"
   ]
  },
  {
   "cell_type": "markdown",
   "id": "1c8a882c-9583-46b6-baee-4d7a1b661a0e",
   "metadata": {},
   "source": [
    "Sorting sequences"
   ]
  },
  {
   "cell_type": "code",
   "execution_count": 107,
   "id": "7287457d-2af8-4c0c-8197-cd468f1a80dc",
   "metadata": {},
   "outputs": [
    {
     "name": "stdout",
     "output_type": "stream",
     "text": [
      "[1, 3, 5, 7]\n",
      "[1, 3, 6, 6, 7]\n",
      "[6, 1, 7, 3, 6]\n"
     ]
    }
   ],
   "source": [
    "L = [5, 3, 7, 1]\n",
    "L.sort() # here we call the sort method of the object L\n",
    "print(L)\n",
    "L2 = [6, 1, 7, 3, 6]\n",
    "print(sorted(L2))\n",
    "print(L2)"
   ]
  },
  {
   "cell_type": "code",
   "execution_count": 109,
   "id": "51b2df48-6bdc-4ca8-8ed0-4c3f1cdcdb8a",
   "metadata": {},
   "outputs": [
    {
     "name": "stdout",
     "output_type": "stream",
     "text": [
      "[7, 5, 3, 1]\n"
     ]
    }
   ],
   "source": [
    "L = [5, 3, 7, 1]\n",
    "print(sorted(L, reverse=True))"
   ]
  },
  {
   "cell_type": "markdown",
   "id": "5fecdc69-63e1-4882-8e7d-13436e0c6bd1",
   "metadata": {},
   "source": [
    "Exercise 1.9 (merge)"
   ]
  },
  {
   "cell_type": "code",
   "execution_count": 116,
   "id": "06f28881-646a-464e-afb6-9bebe72bbd1a",
   "metadata": {},
   "outputs": [
    {
     "name": "stdout",
     "output_type": "stream",
     "text": [
      "[0, 1, 3, 4, 5, 7, 8, 9, 12, 15]\n",
      "[-31, -21, 0, 5, 12, 12, 16, 34, 37, 43]\n"
     ]
    }
   ],
   "source": [
    "def merge(L1, L2):\n",
    "    i1 = 0\n",
    "    i2 = 0\n",
    "    merged = []\n",
    "    while i1 + i2 < len(L1) + len(L2):\n",
    "        if i2 == len(L2) or i1 < len(L1) and L1[i1] < L2[i2]:\n",
    "            merged.append(L1[i1])\n",
    "            i1 += 1\n",
    "        else:\n",
    "            merged.append(L2[i2])\n",
    "            i2 += 1\n",
    "    return merged\n",
    "        \n",
    "        \n",
    "def main():\n",
    "    L1 = [0, 4, 8, 12, 15]\n",
    "    L2 = [1, 3, 5, 7, 9]\n",
    "    print(merge(L1, L2))\n",
    "    L1 = [12, 34, -31, 43, 16]\n",
    "    L2 = [0, 5, 37, 12, -21]\n",
    "    print(merge(sorted(L1),sorted(L2)))\n",
    "\n",
    "\n",
    "if __name__ == \"__main__\":\n",
    "    main()"
   ]
  },
  {
   "cell_type": "markdown",
   "id": "1350c2ea-8828-4aa3-95dd-c93872fc04fa",
   "metadata": {},
   "source": [
    "Exercise 1.10 (detect ranges)"
   ]
  },
  {
   "cell_type": "code",
   "execution_count": 4,
   "id": "3ab24e23-be89-4574-9e4c-f7af62511636",
   "metadata": {},
   "outputs": [
    {
     "name": "stdout",
     "output_type": "stream",
     "text": [
      "[2, 5, 4, 8, 12, 6, 7, 10, 13]\n",
      "[2, (4, 9), 10, (12, 14)]\n"
     ]
    }
   ],
   "source": [
    "def detect_subrange(L):\n",
    "    # determine length of consecutive sequence\n",
    "    i = 1\n",
    "    while i < len(L): # potentially check whole list\n",
    "        if L[i] == L[0] + i:\n",
    "            i += 1 # if consecutive, continue\n",
    "        else:\n",
    "            break # stop if detect end of sequence\n",
    "    if i > 1:\n",
    "        # return tuple for sequence and length of range\n",
    "        return (L[0],L[0]+i), i  \n",
    "    else: # single element list or if no sequence detected\n",
    "        return L[0], 1 # return element and length of sequence = 1\n",
    "\n",
    "def detect_ranges(L):\n",
    "    M = sorted(L) # create new sorted list\n",
    "    ranges = [] # result\n",
    "    i = 0\n",
    "    while i < len(M): # while looking at non-empty sublist\n",
    "        s, j = detect_subrange(M[i:]) # check for subrange on current sublist\n",
    "        ranges.append(s) # append result\n",
    "        i += j # increment by length of last subrange result\n",
    "    return ranges\n",
    "\n",
    "def main():\n",
    "    L = [2, 5, 4, 8, 12, 6, 7, 10, 13]\n",
    "    result = detect_ranges(L)\n",
    "    print(L)\n",
    "    print(result)\n",
    "\n",
    "if __name__ == \"__main__\":\n",
    "    main()"
   ]
  },
  {
   "cell_type": "markdown",
   "id": "c5dcf437-b7c8-494e-bc7c-252b2a752e1f",
   "metadata": {},
   "source": [
    "Zipping sequences"
   ]
  },
  {
   "cell_type": "code",
   "execution_count": 3,
   "id": "4b337b25-1f97-44e2-b49b-bde07d1e7137",
   "metadata": {},
   "outputs": [
    {
     "name": "stdout",
     "output_type": "stream",
     "text": [
      "<zip object at 0x1062dee80>\n",
      "[(1, 'first'), (2, 'second'), (3, 'third')]\n"
     ]
    }
   ],
   "source": [
    "L1 = [1, 2, 3]\n",
    "L2 = [\"first\", \"second\", \"third\"]\n",
    "print(zip(L1, L2))       # note that zip does not return a list\n",
    "print(list(zip(L1, L2))) # convert to a list"
   ]
  },
  {
   "cell_type": "code",
   "execution_count": 5,
   "id": "6a91b87b-eec1-43ce-989a-bb28ac725c21",
   "metadata": {},
   "outputs": [
    {
     "name": "stdout",
     "output_type": "stream",
     "text": [
      "On Monday it was rainy and the temperature was 10 celsius.\n",
      "On Tuesday it was rainy and the temperature was 12 celsius.\n",
      "On Wednesday it was sunny and the temperature was 12 celsius.\n",
      "On Thursday it was cloudy and the temperature was 9 celsius.\n",
      "On Friday it was rainny and the temperature was 9 celsius.\n",
      "On Saturday it was sunny and the temperature was 11 celsius.\n",
      "On Sunday it was sunny and the temperature was 11 celsius.\n"
     ]
    }
   ],
   "source": [
    "days = \"Monday Tuesday Wednesday Thursday Friday Saturday Sunday\".split()\n",
    "weathers = \"rainy rainy sunny cloudy rainny sunny sunny\".split()\n",
    "temperatures = [10, 12, 12, 9, 9, 11, 11]\n",
    "for day, weather, temperature in zip(days, weathers, temperatures):\n",
    "    print(f\"On {day} it was {weather} and the temperature was {temperature} celsius.\")\n",
    "\n",
    "#  or equivalently:\n",
    "# for t in zip(days, weathers, temperatures):\n",
    "#     print(\"On {} it was {} and the temperature was {} degrees celsius.\".format(*t))"
   ]
  },
  {
   "cell_type": "markdown",
   "id": "42ffec90-c36c-4b0a-9fb1-7c1d922ed529",
   "metadata": {},
   "source": [
    "Exercise 1.11 (interleave)"
   ]
  },
  {
   "cell_type": "code",
   "execution_count": 8,
   "id": "7183031e-b60d-49cd-9efb-013e200b3234",
   "metadata": {},
   "outputs": [
    {
     "name": "stdout",
     "output_type": "stream",
     "text": [
      "[1, 20, 'a', 2, 30, 'b', 3, 40, 'c']\n"
     ]
    }
   ],
   "source": [
    "def interleave(*lists):\n",
    "    \"\"\"Converts arbitrary amount of lists into one list,\n",
    "    containing all elements from input lists interleaved.\n",
    "    \"\"\"\n",
    "    L1 = list(zip(*lists)) # zips each list into one list of tuples\n",
    "    L2 = []\n",
    "    for t in L1:\n",
    "        L2.extend(t)       # adds each tuple into a single list\n",
    "    return L2\n",
    "\n",
    "\n",
    "def main():\n",
    "    print(interleave([1, 2, 3], [20, 30, 40], ['a', 'b', 'c']))\n",
    "\n",
    "if __name__ == \"__main__\":\n",
    "    main()"
   ]
  },
  {
   "cell_type": "markdown",
   "id": "c7706179-6b7c-4421-a922-3a83c8869511",
   "metadata": {},
   "source": [
    "Enumerating sequences"
   ]
  },
  {
   "cell_type": "code",
   "execution_count": 11,
   "id": "b556437c-b8e5-4f3b-a3d3-670b1185ebd7",
   "metadata": {},
   "outputs": [
    {
     "name": "stdout",
     "output_type": "stream",
     "text": [
      "7\n"
     ]
    }
   ],
   "source": [
    "L = [1, 2, 98, 5, -1, 2, 0, 5, 10]\n",
    "counter = 0\n",
    "for i, x in enumerate(L):\n",
    "    if x == 5:\n",
    "        counter += 1\n",
    "        if counter == 2:\n",
    "            break\n",
    "print(i)"
   ]
  },
  {
   "cell_type": "markdown",
   "id": "ea23b62f-ed48-4bb5-b7a4-b0c0cf0babd2",
   "metadata": {},
   "source": [
    "Dictionary"
   ]
  },
  {
   "cell_type": "code",
   "execution_count": 16,
   "id": "89caae8d-d830-4d9d-b13a-9f8c4e5ae811",
   "metadata": {},
   "outputs": [
    {
     "name": "stdout",
     "output_type": "stream",
     "text": [
      "value1\n",
      "value2\n"
     ]
    }
   ],
   "source": [
    "d = {\"key1\":\"value1\", \"key2\":\"value2\"}\n",
    "print(d[\"key1\"])\n",
    "print(d[\"key2\"])"
   ]
  },
  {
   "cell_type": "code",
   "execution_count": 20,
   "id": "dee52753-8e24-4f6a-81a6-f2984c2099b4",
   "metadata": {},
   "outputs": [],
   "source": [
    "dict([(\"key1\", \"value1\"), (\"key2\", \"value2\"), (\"key3\", \"value3\")]) # list of items\n",
    "dict(key1 = \"value1\", key2 = \"value2\", key3 = \"value3\");"
   ]
  },
  {
   "cell_type": "code",
   "execution_count": 22,
   "id": "2a2497ab-27fb-4ecb-be51-077bbf5b0df0",
   "metadata": {},
   "outputs": [
    {
     "name": "stdout",
     "output_type": "stream",
     "text": [
      "{2: 'value'}\n"
     ]
    }
   ],
   "source": [
    "d = {}\n",
    "d[2] = \"value\"\n",
    "print(d)"
   ]
  },
  {
   "cell_type": "code",
   "execution_count": 26,
   "id": "020efe49-dab5-4f51-8f74-e9dce3c86553",
   "metadata": {},
   "outputs": [],
   "source": [
    "# d[1] # this would cause an error"
   ]
  },
  {
   "cell_type": "code",
   "execution_count": 37,
   "id": "d0034803-5bad-4cd8-a71e-e0ca7cae6d3b",
   "metadata": {},
   "outputs": [
    {
     "data": {
      "text/plain": [
       "dict_values([1, 2, 3, 4, 5])"
      ]
     },
     "execution_count": 37,
     "metadata": {},
     "output_type": "execute_result"
    }
   ],
   "source": [
    "d = dict(a = 1, b = 2, c = 3, d = 4, e = 5)\n",
    "d.values()"
   ]
  },
  {
   "cell_type": "markdown",
   "id": "aa0918d7-aaeb-4b67-a1ef-5374210940f0",
   "metadata": {},
   "source": [
    "Sets"
   ]
  },
  {
   "cell_type": "code",
   "execution_count": 40,
   "id": "6c906043-059a-4a12-a55b-6dd6e81bf0d6",
   "metadata": {},
   "outputs": [
    {
     "name": "stdout",
     "output_type": "stream",
     "text": [
      "{1}\n",
      "{1, 2, 'a'}\n",
      "set()\n",
      "{7}\n"
     ]
    }
   ],
   "source": [
    "s = {1, 1, 1}\n",
    "print(s)\n",
    "s = set([1, 2, 2, 'a'])\n",
    "print(s)\n",
    "s = set() # empty set\n",
    "print(s)\n",
    "s.add(7)  # add one elemnt\n",
    "print(s)"
   ]
  },
  {
   "cell_type": "code",
   "execution_count": 42,
   "id": "0797f1f2-72de-4d2b-bde9-d4c76bc7878d",
   "metadata": {},
   "outputs": [
    {
     "name": "stdout",
     "output_type": "stream",
     "text": [
      "There are 4 distinct charcaters in mississippi\n"
     ]
    }
   ],
   "source": [
    "s = \"mississippi\"\n",
    "print(f\"There are {len(set(s))} distinct charcaters in {s}\")"
   ]
  },
  {
   "cell_type": "code",
   "execution_count": 46,
   "id": "aa062e1c-633e-4e69-afb5-f5a182f1e91f",
   "metadata": {},
   "outputs": [
    {
     "name": "stdout",
     "output_type": "stream",
     "text": [
      "Union: {1, 2, 7, 8, 9}\n",
      "Intersection: {2}\n",
      "Difference: {1, 7}\n",
      "Symmetric difference {1, 7, 8, 9}\n"
     ]
    }
   ],
   "source": [
    "s = set([1, 2, 7])\n",
    "t = set([2, 8, 9])\n",
    "print(\"Union:\", s|t)\n",
    "print(\"Intersection:\", s&t)\n",
    "print(\"Difference:\", s-t)\n",
    "print(\"Symmetric difference\", s^t)"
   ]
  },
  {
   "cell_type": "markdown",
   "id": "f04a5dea-b17e-4167-add8-c4f9042751ac",
   "metadata": {},
   "source": [
    "Exercise 1.12 (distinct characters)"
   ]
  },
  {
   "cell_type": "code",
   "execution_count": 51,
   "id": "8b7bf569-f5fe-4657-b1aa-bc8fe2f092fe",
   "metadata": {},
   "outputs": [
    {
     "name": "stdout",
     "output_type": "stream",
     "text": [
      "{'check': 4, 'look': 3, 'try': 3, 'pop': 2}\n"
     ]
    }
   ],
   "source": [
    "def distinct_characters(L):\n",
    "    \"\"\"Receives list of strings and returns dictionary,\n",
    "    whose keys are strings of input list,\n",
    "    and corresponding values are numbers of distinct characters in key\n",
    "    \"\"\"\n",
    "    d = {}\n",
    "    # make each input a key, setting its value to number of distinct characters\n",
    "    for i in L: \n",
    "        d[i] = len(set(i))\n",
    "    return d\n",
    "\n",
    "def main():\n",
    "    print(distinct_characters([\"check\", \"look\", \"try\", \"pop\"]))\n",
    "\n",
    "if __name__ == \"__main__\":\n",
    "    main()"
   ]
  },
  {
   "cell_type": "markdown",
   "id": "4f21736e-e61d-4c5a-a4d3-a63d9b94576d",
   "metadata": {},
   "source": [
    "Miscellaneous stuff"
   ]
  },
  {
   "cell_type": "code",
   "execution_count": 60,
   "id": "b5d07689-d279-4847-a625-5f0e669d6a4c",
   "metadata": {},
   "outputs": [
    {
     "name": "stdout",
     "output_type": "stream",
     "text": [
      "True\n",
      "True\n",
      "False\n",
      "True\n"
     ]
    }
   ],
   "source": [
    "print(1 in [1, 2])\n",
    "d = dict(a = 1, b = 3)\n",
    "print(\"b\" in d)\n",
    "s = set()\n",
    "print(1 in s)\n",
    "print(\"x\" in \"text\")"
   ]
  },
  {
   "cell_type": "code",
   "execution_count": 64,
   "id": "1f255add-2849-4762-966c-ea958ad515e1",
   "metadata": {},
   "outputs": [
    {
     "name": "stdout",
     "output_type": "stream",
     "text": [
      "True\n",
      "False\n"
     ]
    }
   ],
   "source": [
    "print(\"issi\" in \"mississippi\")\n",
    "print(\"issp\" in \"mississippi\")"
   ]
  },
  {
   "cell_type": "code",
   "execution_count": 68,
   "id": "89a949d1-bf5f-4605-8966-d7825c8f7174",
   "metadata": {},
   "outputs": [
    {
     "name": "stdout",
     "output_type": "stream",
     "text": [
      "e\n",
      "a b\n"
     ]
    }
   ],
   "source": [
    "first, second = [4, 5]\n",
    "a, b, c = \"bye\"\n",
    "print(c)\n",
    "d = dict(a = 1, b = 3)\n",
    "key1, key2 = d\n",
    "print(key1, key2)"
   ]
  },
  {
   "cell_type": "code",
   "execution_count": 70,
   "id": "217dd53b-78ba-4ed4-82e3-6758567c9d58",
   "metadata": {},
   "outputs": [
    {
     "name": "stdout",
     "output_type": "stream",
     "text": [
      "For key 'a' value 1 was stored\n",
      "For key 'b' value 3 was stored\n"
     ]
    }
   ],
   "source": [
    "for key, value in d.items():\n",
    "    print(f\"For key '{key}' value {value} was stored\")"
   ]
  },
  {
   "cell_type": "code",
   "execution_count": 76,
   "id": "4c27490a-5f93-49d2-ae78-600027a5db42",
   "metadata": {},
   "outputs": [],
   "source": [
    "s = \"hello\"\n",
    "del s\n",
    "# print(s) # this would cause an error"
   ]
  },
  {
   "cell_type": "code",
   "execution_count": 80,
   "id": "06bdc45d-7d05-49f2-88a4-cf3dd0268d91",
   "metadata": {},
   "outputs": [
    {
     "name": "stdout",
     "output_type": "stream",
     "text": [
      "[13, 40, 100]\n"
     ]
    }
   ],
   "source": [
    "L = [13, 23, 40, 100]\n",
    "del L[1]\n",
    "print(L)"
   ]
  },
  {
   "cell_type": "markdown",
   "id": "8c6d0be1-ae6d-4f7e-aa45-32b60ed92e17",
   "metadata": {},
   "source": [
    "Exercise 1.13 (reverse dictionary)"
   ]
  },
  {
   "cell_type": "markdown",
   "id": "de0d80c5-29f0-4189-b123-731e44adc03b",
   "metadata": {},
   "source": [
    "My solution:"
   ]
  },
  {
   "cell_type": "code",
   "execution_count": 102,
   "id": "da016f77-45cc-487e-b84c-06e03b6a3e24",
   "metadata": {},
   "outputs": [
    {
     "name": "stdout",
     "output_type": "stream",
     "text": [
      "{'liikuttaa': ['move'], 'piilottaa': ['hide'], 'salata': ['hide'], 'kuusi': ['six', 'fir']}\n"
     ]
    }
   ],
   "source": [
    "def reverse_dictionary(d):\n",
    "    \"\"\"Input a English to Finnish dictionary,\n",
    "    returns a Finnish to English dictionary \n",
    "    \"\"\"\n",
    "    rd = {}\n",
    "    # unpack each key (english) and value (finnish) to be reversed\n",
    "    for key, value in d.items():\n",
    "        # if there are multiple finnish definitions for the english word, make key for each finnish word\n",
    "        if len(value) > 1:\n",
    "            for i in range(len(value)): \n",
    "                rd[value[i]] = [key]\n",
    "        # if finnish word already has an entry, add the new english definition\n",
    "        elif value[0] in rd:\n",
    "            rd[value[0]].append(key)\n",
    "        # otherwise the finnish definition becomes the new key\n",
    "        else:\n",
    "            rd[value[0]] = [key]\n",
    "    return rd\n",
    "\n",
    "def main():\n",
    "    d={'move': ['liikuttaa'], 'hide': ['piilottaa', 'salata'], 'six': ['kuusi'], 'fir': ['kuusi']}\n",
    "    reverse_dictionary(d)\n",
    "    print(reverse_dictionary(d))\n",
    "\n",
    "if __name__ == \"__main__\":\n",
    "    main()"
   ]
  },
  {
   "cell_type": "markdown",
   "id": "b36ff9d8-ca80-4ca5-8e80-597674cc9cc2",
   "metadata": {},
   "source": [
    "Suggested solution:"
   ]
  },
  {
   "cell_type": "code",
   "execution_count": 118,
   "id": "4f54b284-9d17-4585-95d2-8195ab234041",
   "metadata": {},
   "outputs": [
    {
     "name": "stdout",
     "output_type": "stream",
     "text": [
      "{'move': ['liikuttaa'], 'hide': ['piilottaa', 'salata']}\n",
      "{'liikuttaa': ['move'], 'piilottaa': ['hide'], 'salata': ['hide']}\n",
      "{'move': ['liikuttaa'], 'hide': ['piilottaa', 'salata'], 'six': ['kuusi'], 'fir': ['kuusi']}\n",
      "{'liikuttaa': ['move'], 'piilottaa': ['hide'], 'salata': ['hide'], 'kuusi': ['six', 'fir']}\n"
     ]
    }
   ],
   "source": [
    "def reverse_dictionary(d):\n",
    "    result = {}\n",
    "    for key, value in d.items():\n",
    "        for v in value: # doing this loop for everything removes need for 3 cases\n",
    "            if v in result:\n",
    "                result[v].append(key)\n",
    "            else:\n",
    "                result[v] = [key]\n",
    "    return result\n",
    " \n",
    "def main():\n",
    "    d = {\"move\":[\"liikuttaa\"], \"hide\":[\"piilottaa\", \"salata\"]}\n",
    "    print(d)\n",
    "    print(reverse_dictionary(d))\n",
    " \n",
    "    d = {\"move\":[\"liikuttaa\"], \"hide\":[\"piilottaa\", \"salata\"],\n",
    "         \"six\" : [\"kuusi\"], \"fir\" : [\"kuusi\"]}\n",
    "    print(d)\n",
    "    print(reverse_dictionary(d))\n",
    " \n",
    "if __name__ == \"__main__\":\n",
    "    main()"
   ]
  },
  {
   "cell_type": "markdown",
   "id": "d225f7fc-8db4-4189-8ed2-153f85d13fbe",
   "metadata": {},
   "source": [
    "Exercise 1.14 (find matching)"
   ]
  },
  {
   "cell_type": "code",
   "execution_count": 121,
   "id": "2a5d22cb-c502-480f-928f-e660ebfeb48b",
   "metadata": {},
   "outputs": [
    {
     "name": "stdout",
     "output_type": "stream",
     "text": [
      "[0, 1, 3]\n"
     ]
    }
   ],
   "source": [
    "def find_matching(L, pattern):\n",
    "    \"\"\"Returns indices in the input list that contain the search string.\n",
    "    \"\"\"\n",
    "    match = []\n",
    "    # goes through input list and includes the index for each value\n",
    "    for i, j in enumerate(L):\n",
    "        # if value includes pattern string then add the index to new list\n",
    "        if pattern in L[i]: \n",
    "            match.append(i)\n",
    "    return match\n",
    "\n",
    "def main():\n",
    "    print(find_matching([\"sensitive\", \"engine\", \"rubbish\", \"comment\"], \"en\"))\n",
    "\n",
    "if __name__ == \"__main__\":\n",
    "    main()"
   ]
  },
  {
   "cell_type": "markdown",
   "id": "5f305e32-cbf0-455a-98ba-f2db1d55dc43",
   "metadata": {},
   "source": [
    "Compact way of creating data structures"
   ]
  },
  {
   "cell_type": "code",
   "execution_count": 125,
   "id": "d2b74826-a561-4e61-8279-f1b1a6c5bc72",
   "metadata": {},
   "outputs": [
    {
     "name": "stdout",
     "output_type": "stream",
     "text": [
      "[0, 1, 4, 9, 16, 25, 36, 49, 64, 81]\n"
     ]
    }
   ],
   "source": [
    "L = []\n",
    "for i in range(10):\n",
    "    L.append(i**2)\n",
    "print(L)"
   ]
  },
  {
   "cell_type": "code",
   "execution_count": 142,
   "id": "885bc593-291e-47ca-802b-dd13ed57eebe",
   "metadata": {},
   "outputs": [
    {
     "name": "stdout",
     "output_type": "stream",
     "text": [
      "[1, 8, 27, 64, 125, 216, 343, 512, 729, 1000]\n"
     ]
    }
   ],
   "source": [
    "L = [ a**3 for a in range(1, 11)]\n",
    "print(L)"
   ]
  },
  {
   "cell_type": "code",
   "execution_count": 146,
   "id": "4fc8aa06-7b6d-4dae-bc25-20fe52c405ef",
   "metadata": {},
   "outputs": [
    {
     "name": "stdout",
     "output_type": "stream",
     "text": [
      "[0, 1, 2, 3, 4, 5, 6, 7, 8, 9, 11, 12, 13, 14, 15, 16, 17, 18, 19, 22, 23, 24, 25, 26, 27, 28, 29, 33, 34, 35, 36, 37, 38, 39, 44, 45, 46, 47, 48, 49, 55, 56, 57, 58, 59, 66, 67, 68, 69, 77, 78, 79, 88, 89, 99, 111, 112, 113, 114, 115, 116, 117, 118, 119, 122, 123, 124, 125, 126, 127, 128, 129, 133, 134, 135, 136, 137, 138, 139, 144, 145, 146, 147, 148, 149, 155, 156, 157, 158, 159, 166, 167, 168, 169, 177, 178, 179, 188, 189, 199, 222, 223, 224, 225, 226, 227, 228, 229, 233, 234, 235, 236, 237, 238, 239, 244, 245, 246, 247, 248, 249, 255, 256, 257, 258, 259, 266, 267, 268, 269, 277, 278, 279, 288, 289, 299, 333, 334, 335, 336, 337, 338, 339, 344, 345, 346, 347, 348, 349, 355, 356, 357, 358, 359, 366, 367, 368, 369, 377, 378, 379, 388, 389, 399, 444, 445, 446, 447, 448, 449, 455, 456, 457, 458, 459, 466, 467, 468, 469, 477, 478, 479, 488, 489, 499, 555, 556, 557, 558, 559, 566, 567, 568, 569, 577, 578, 579, 588, 589, 599, 666, 667, 668, 669, 677, 678, 679, 688, 689, 699, 777, 778, 779, 788, 789, 799, 888, 889, 899, 999]\n"
     ]
    }
   ],
   "source": [
    "L = [ 100*a + 10*b + c for a in range(0, 10)\n",
    "                       for b in range(0, 10)\n",
    "                       for c in range(0, 10)\n",
    "                       if a <= b <= c]\n",
    "print(L)"
   ]
  },
  {
   "cell_type": "code",
   "execution_count": 148,
   "id": "c0e79033-155a-4f37-9de0-36ab06e7c1e9",
   "metadata": {},
   "outputs": [
    {
     "name": "stdout",
     "output_type": "stream",
     "text": [
      "60885\n",
      "0\n"
     ]
    }
   ],
   "source": [
    "G = ( 100*a + 10*b + c for a in range(0, 10)\n",
    "                       for b in range(0, 10)\n",
    "                       for c in range(0, 10)\n",
    "                       if a <= b <= c )\n",
    "print(sum(G))    # this iterates through all the elements from the generator\n",
    "print(sum(G))    # it doesn't restart from the beginning, so all elements are already consumed"
   ]
  },
  {
   "cell_type": "code",
   "execution_count": 150,
   "id": "4ad17298-18e9-4a31-b3b6-40ba9ed450e1",
   "metadata": {},
   "outputs": [
    {
     "name": "stdout",
     "output_type": "stream",
     "text": [
      "{0: 0, 1: 1, 2: 4, 3: 9, 4: 16, 5: 25, 6: 36, 7: 49, 8: 64, 9: 81}\n"
     ]
    }
   ],
   "source": [
    "d = { k : k**2 for k in range(10)}\n",
    "print(d)"
   ]
  },
  {
   "cell_type": "code",
   "execution_count": 152,
   "id": "10d68132-eae6-4077-86ae-c9d31a97e5b5",
   "metadata": {},
   "outputs": [
    {
     "name": "stdout",
     "output_type": "stream",
     "text": [
      "{0, 1, 2, 3, 4, 5, 6, 7, 8, 9, 10, 12, 14, 15, 16, 18, 20, 21, 24, 25, 27, 28, 30, 32, 35, 36, 40, 42, 45, 48, 49, 54, 56, 63, 64, 72, 81}\n"
     ]
    }
   ],
   "source": [
    "s = { i*j for i in range(10) for j in range(10)}\n",
    "print(s)"
   ]
  },
  {
   "cell_type": "markdown",
   "id": "45b5987c-c680-4bc2-b57e-7abb5c6d31c9",
   "metadata": {},
   "source": [
    "Exercise 1.15 (two dice comprehension)"
   ]
  },
  {
   "cell_type": "markdown",
   "id": "1fb6fa95-80c0-4579-a848-12d6376d8f40",
   "metadata": {},
   "source": [
    "My solution:"
   ]
  },
  {
   "cell_type": "code",
   "execution_count": 157,
   "id": "5b30893c-7999-471a-8570-0fb4a7e9558b",
   "metadata": {},
   "outputs": [
    {
     "name": "stdout",
     "output_type": "stream",
     "text": [
      "(1, 4)\n",
      "(2, 3)\n",
      "(3, 2)\n",
      "(4, 1)\n"
     ]
    }
   ],
   "source": [
    "def main():\n",
    "    L = [ (i,j) for i in range(1, 7)\n",
    "                for j in range(1, 7)\n",
    "                if i+j == 5]\n",
    "    for k in L:\n",
    "        print(k, end=\"\\n\")\n",
    "\n",
    "if __name__ == \"__main__\":\n",
    "    main()"
   ]
  },
  {
   "cell_type": "markdown",
   "id": "0e006f4a-890a-4382-b2af-58d030059bb5",
   "metadata": {},
   "source": [
    "Suggested solution:"
   ]
  },
  {
   "cell_type": "code",
   "execution_count": 163,
   "id": "66d29466-de50-41bf-a5d3-0eb1f9033b44",
   "metadata": {},
   "outputs": [
    {
     "name": "stdout",
     "output_type": "stream",
     "text": [
      "(1,4)\n",
      "(2,3)\n",
      "(3,2)\n",
      "(4,1)\n"
     ]
    }
   ],
   "source": [
    "def main():\n",
    "    print(\"\\n\".join(f\"({a},{b})\" for a in range(1, 7) for b in range(1, 7) if a + b == 5))\n",
    " \n",
    "if __name__ == \"__main__\":\n",
    "    main()"
   ]
  },
  {
   "cell_type": "markdown",
   "id": "af241397-fea6-423d-a0c8-07148f372606",
   "metadata": {},
   "source": [
    "Processing sequences"
   ]
  },
  {
   "cell_type": "markdown",
   "id": "60cde78e-9479-4cff-91ae-07020ae0815f",
   "metadata": {},
   "source": [
    "Map and lambda functions"
   ]
  },
  {
   "cell_type": "code",
   "execution_count": 168,
   "id": "cc8a6d67-271d-471b-9b06-96e817199cce",
   "metadata": {},
   "outputs": [
    {
     "name": "stdout",
     "output_type": "stream",
     "text": [
      "<map object at 0x14862ba00>\n"
     ]
    }
   ],
   "source": [
    "def double(x):\n",
    "    return 2*x\n",
    "L = [12, 4, -1]\n",
    "print(map(double, L))"
   ]
  },
  {
   "cell_type": "code",
   "execution_count": 170,
   "id": "d6e6105a-4000-447c-9789-21509cd15887",
   "metadata": {},
   "outputs": [
    {
     "name": "stdout",
     "output_type": "stream",
     "text": [
      "[24, 8, -2]\n"
     ]
    }
   ],
   "source": [
    "print(list(map(double, L)))"
   ]
  },
  {
   "cell_type": "code",
   "execution_count": 172,
   "id": "2dfcc315-1588-4c3f-bf45-b501e8799b6c",
   "metadata": {},
   "outputs": [
    {
     "name": "stdout",
     "output_type": "stream",
     "text": [
      "['12', '43', '64', '6']\n",
      "125\n"
     ]
    }
   ],
   "source": [
    "s = \"12 43 64 6\"\n",
    "L = s.split()    # the split method of the string class,\n",
    "                 # breaks the string at whitespaces to a list of strings\n",
    "print(L)\n",
    "print(sum(map(int, L)))    # the int function converts a string to an integer"
   ]
  },
  {
   "cell_type": "code",
   "execution_count": 174,
   "id": "81c2cfdd-01a0-454e-996f-84dab09c275f",
   "metadata": {},
   "outputs": [],
   "source": [
    "def add_double_and_square(x):\n",
    "    return 2*x + x**2"
   ]
  },
  {
   "cell_type": "code",
   "execution_count": 176,
   "id": "541b12e8-c32b-4b39-97fa-1d597a1d42bd",
   "metadata": {},
   "outputs": [
    {
     "name": "stdout",
     "output_type": "stream",
     "text": [
      "[8, 15, 35]\n"
     ]
    }
   ],
   "source": [
    "L = [2, 3, 5]\n",
    "print(list(map(lambda x : 2*x + x**2, L)))"
   ]
  },
  {
   "cell_type": "markdown",
   "id": "14252b8c-f60a-4236-a829-bc4e954e7629",
   "metadata": {},
   "source": [
    "Exercise 1.16 (transform)"
   ]
  },
  {
   "cell_type": "code",
   "execution_count": 179,
   "id": "d52c8a9a-8f85-41f3-8887-0e245f3b526d",
   "metadata": {},
   "outputs": [
    {
     "name": "stdout",
     "output_type": "stream",
     "text": [
      "[2, 30, -3]\n"
     ]
    }
   ],
   "source": [
    "def transform(s1, s2):\n",
    "    \"\"\"Converts two strings into a list of integers,\n",
    "    whose elements are multiplication of the two integers in respective part of list\n",
    "    \"\"\"\n",
    "    # zip together tuples with integers of the split strings,\n",
    "    # then multiply the two values in each tuple\n",
    "    return [ x * y for (x, y) in zip(map(int, s1.split()), map(int, s2.split()))]\n",
    "\n",
    "def main():\n",
    "    print(transform(\"1 5 3\", \"2 6 -1\"))\n",
    "\n",
    "if __name__ == \"__main__\":\n",
    "    main()"
   ]
  },
  {
   "cell_type": "markdown",
   "id": "9d25eda0-3632-403e-8ed3-9e66df124694",
   "metadata": {},
   "source": [
    "Filter function"
   ]
  },
  {
   "cell_type": "code",
   "execution_count": 182,
   "id": "d7bcf94b-d0b1-465e-84ec-47546e2ff15d",
   "metadata": {},
   "outputs": [
    {
     "name": "stdout",
     "output_type": "stream",
     "text": [
      "[1, 5, 9]\n"
     ]
    }
   ],
   "source": [
    "def is_odd(x):\n",
    "    \"\"\"Returns True if x is odd and False if x is even\"\"\"\n",
    "    return x % 2 == 1    # the % operator returns the remainder of integer division\n",
    "L = [1, 4, 5, 9, 10]\n",
    "print(list(filter(is_odd, L)))"
   ]
  },
  {
   "cell_type": "code",
   "execution_count": 184,
   "id": "f1e7207b-564b-4fa4-a6ee-2b65f4d770a1",
   "metadata": {},
   "outputs": [
    {
     "data": {
      "text/plain": [
       "[1, 25, 81]"
      ]
     },
     "execution_count": 184,
     "metadata": {},
     "output_type": "execute_result"
    }
   ],
   "source": [
    "[l**2 for l in L if is_odd(l)] # squares of odd values"
   ]
  },
  {
   "cell_type": "markdown",
   "id": "a3f67988-1556-4843-9174-29a7f4ed833c",
   "metadata": {},
   "source": [
    "Exercise 1.17 (positive list)"
   ]
  },
  {
   "cell_type": "code",
   "execution_count": 187,
   "id": "12ecd0f6-3381-4d90-979b-d8a29cc347bd",
   "metadata": {},
   "outputs": [
    {
     "name": "stdout",
     "output_type": "stream",
     "text": [
      "[2, 1]\n"
     ]
    }
   ],
   "source": [
    "def positive_list(L):\n",
    "    \"\"\"input a list of numbers,\n",
    "    returns a list with negative numbers and zero filtered out\n",
    "    \"\"\"\n",
    "    return list(filter(lambda i : i>0, L))\n",
    "    # without filter function\n",
    "    # return [i for i in L if i>0]\n",
    "\n",
    "def main():\n",
    "    result = positive_list([2, -2, 0, 1, -7])\n",
    "    print(result)\n",
    "\n",
    "if __name__ == \"__main__\":\n",
    "    main()"
   ]
  },
  {
   "cell_type": "markdown",
   "id": "86454fc3-50cb-424b-91fd-2fd8eb5d6083",
   "metadata": {},
   "source": [
    "The reduce function"
   ]
  },
  {
   "cell_type": "code",
   "execution_count": 190,
   "id": "c8db82bd-cb02-41b8-8dbd-4cd8e07d7237",
   "metadata": {},
   "outputs": [],
   "source": [
    "def sumreduce(L):\n",
    "    s = 0\n",
    "    for x in L:\n",
    "        s = s + x\n",
    "    return s"
   ]
  },
  {
   "cell_type": "code",
   "execution_count": 192,
   "id": "f2356add-4a66-4579-93a4-dffe3a964f4b",
   "metadata": {},
   "outputs": [
    {
     "data": {
      "text/plain": [
       "10"
      ]
     },
     "execution_count": 192,
     "metadata": {},
     "output_type": "execute_result"
    }
   ],
   "source": [
    "L = [1, 2, 3, 4]\n",
    "from functools import reduce    # import the reduce function from the functool smodule\n",
    "reduce(lambda x,y:x+y, L, 0)"
   ]
  },
  {
   "cell_type": "code",
   "execution_count": 198,
   "id": "2f73cd4a-5019-4eef-9b2c-7663708560b2",
   "metadata": {},
   "outputs": [
    {
     "data": {
      "text/plain": [
       "24"
      ]
     },
     "execution_count": 198,
     "metadata": {},
     "output_type": "execute_result"
    }
   ],
   "source": [
    "reduce(lambda x,y:x*y, L, 1)"
   ]
  },
  {
   "cell_type": "markdown",
   "id": "fd5b9c75-c437-4cf3-90cd-46465df11081",
   "metadata": {},
   "source": [
    "String handling"
   ]
  },
  {
   "cell_type": "code",
   "execution_count": 207,
   "id": "18df9cb4-a9a9-46b5-9564-753738dac159",
   "metadata": {},
   "outputs": [],
   "source": [
    "s = \"text\"\n",
    "# s[0] = \"a\" # this is not legal in python"
   ]
  },
  {
   "cell_type": "markdown",
   "id": "570ac632-07a6-4230-bec4-05a6ab6f95e4",
   "metadata": {},
   "source": [
    "Classification of strings"
   ]
  },
  {
   "cell_type": "markdown",
   "id": "96c3b5c0-b1b1-47b8-a7da-0bf5aee10898",
   "metadata": {},
   "source": [
    "String transformations"
   ]
  },
  {
   "cell_type": "markdown",
   "id": "14d715b4-503c-4204-a15d-b1ed3fa1c69f",
   "metadata": {},
   "source": [
    "Searching for substrings"
   ]
  },
  {
   "cell_type": "markdown",
   "id": "a0024c00-0f9b-4253-a012-c480b1667839",
   "metadata": {},
   "source": [
    "Trimming and adjusting"
   ]
  },
  {
   "cell_type": "code",
   "execution_count": 218,
   "id": "69330206-0587-41d9-bd54-ff48bd3dbaec",
   "metadata": {},
   "outputs": [
    {
     "name": "stdout",
     "output_type": "stream",
     "text": [
      "-----------\n",
      "|    *    |\n",
      "|   ***   |\n",
      "|  *****  |\n",
      "| ******* |\n",
      "|*********|\n",
      "|    *    |\n",
      "|    *    |\n",
      "-----------\n"
     ]
    }
   ],
   "source": [
    "L = [1, 3, 5, 7, 9, 1, 1]\n",
    "print(\"-\"*11)\n",
    "for i in L:\n",
    "    s = \"*\"*i\n",
    "    print(f\"|{s.center(9)}|\")\n",
    "print(\"-\"*11)"
   ]
  },
  {
   "cell_type": "markdown",
   "id": "d62b47ab-cd3b-4f9e-81c0-90fea59eabeb",
   "metadata": {},
   "source": [
    "Joining and splitting"
   ]
  },
  {
   "cell_type": "code",
   "execution_count": 221,
   "id": "e6510161-76b7-4e3d-a864-beeb3549db1d",
   "metadata": {},
   "outputs": [
    {
     "data": {
      "text/plain": [
       "'abc--def--ghi'"
      ]
     },
     "execution_count": 221,
     "metadata": {},
     "output_type": "execute_result"
    }
   ],
   "source": [
    "\"--\".join([\"abc\", \"def\", \"ghi\"])"
   ]
  },
  {
   "cell_type": "code",
   "execution_count": 223,
   "id": "89707adf-0ba6-4a74-b26d-51171cf3e2b3",
   "metadata": {},
   "outputs": [
    {
     "name": "stdout",
     "output_type": "stream",
     "text": [
      " 0 1 2 3 4 5 6 7 8 9 10 11 12 13 14 15 16 17 18 19 20 21 22 23 24 25 26 27 28 29 30 31 32 33 34 35 36 37 38 39 40 41 42 43 44 45 46 47 48 49 50 51 52 53 54 55 56 57 58 59 60 61 62 63 64 65 66 67 68 69 70 71 72 73 74 75 76 77 78 79 80 81 82 83 84 85 86 87 88 89 90 91 92 93 94 95 96 97 98 99\n",
      "0 1 2 3 4 5 6 7 8 9 10 11 12 13 14 15 16 17 18 19 20 21 22 23 24 25 26 27 28 29 30 31 32 33 34 35 36 37 38 39 40 41 42 43 44 45 46 47 48 49 50 51 52 53 54 55 56 57 58 59 60 61 62 63 64 65 66 67 68 69 70 71 72 73 74 75 76 77 78 79 80 81 82 83 84 85 86 87 88 89 90 91 92 93 94 95 96 97 98 99\n"
     ]
    }
   ],
   "source": [
    "L = [str(x) for x in range(100)]\n",
    "s = \"\"\n",
    "for x in L:\n",
    "    s += \" \" + x     # avoid doing this, creates a new string at every iteration\n",
    "print(s)             # note the redundant initial space\n",
    "print(\" \".join(L))   # this the correct way of building a string out of smaller strings"
   ]
  },
  {
   "cell_type": "code",
   "execution_count": 225,
   "id": "cd463e36-82c8-4004-a56a-d3c40b1ef54a",
   "metadata": {},
   "outputs": [
    {
     "name": "stdout",
     "output_type": "stream",
     "text": [
      "4.07 μs ± 75.6 ns per loop (mean ± std. dev. of 7 runs, 100,000 loops each)\n"
     ]
    }
   ],
   "source": [
    "%%timeit\n",
    "s = \"\"\n",
    "for x in L:\n",
    "    s += \" \" + x"
   ]
  },
  {
   "cell_type": "code",
   "execution_count": 229,
   "id": "fa8c77cb-396d-4266-92f6-42eed940ad88",
   "metadata": {},
   "outputs": [
    {
     "name": "stdout",
     "output_type": "stream",
     "text": [
      "667 ns ± 11.4 ns per loop (mean ± std. dev. of 7 runs, 1,000,000 loops each)\n"
     ]
    }
   ],
   "source": [
    "%%timeit\n",
    "s = \" \".join(L)"
   ]
  },
  {
   "cell_type": "code",
   "execution_count": 231,
   "id": "09cd07ad-3b2f-4b20-b544-ba84bd5d3c1a",
   "metadata": {},
   "outputs": [
    {
     "data": {
      "text/plain": [
       "['abc', 'def', 'ghi']"
      ]
     },
     "execution_count": 231,
     "metadata": {},
     "output_type": "execute_result"
    }
   ],
   "source": [
    "'abc--def--ghi'.split(\"--\")"
   ]
  },
  {
   "cell_type": "markdown",
   "id": "8a26037c-48b4-4ca3-90c9-ed25a68033f6",
   "metadata": {},
   "source": [
    "Exercise 1.18 (acronyms)"
   ]
  },
  {
   "cell_type": "code",
   "execution_count": 242,
   "id": "e2c6470b-777f-49b8-a028-265744943eed",
   "metadata": {},
   "outputs": [
    {
     "name": "stdout",
     "output_type": "stream",
     "text": [
      "['EU', 'GDPR', 'IBM', 'IBM', 'EEA', 'EEA', 'IBM', 'PO', 'PO6', '3AU']\n"
     ]
    }
   ],
   "source": [
    "from string import punctuation\n",
    "\n",
    "def acronyms(s):\n",
    "    \"\"\"returns a list of acronyms present in a string\n",
    "    \"\"\"\n",
    "    # create list with each string and strip punctuation \n",
    "    L = [ i.strip(punctuation) for i in s.split() ]\n",
    "    # acronym if length at least two and all characters uppercase\n",
    "    return [ j for j in L if len(j) >= 2 and j.isupper() ]\n",
    "    \"\"\"long way\n",
    "    result = []\n",
    "    s = s.split()    # creates list with each string\n",
    "    for i in s:\n",
    "        # delete punctuation\n",
    "        i = i.strip(punctuation)\n",
    "        # acronym if length at least two and all characters uppercase\n",
    "        if len(i) >= 2 and i.isupper():\n",
    "            result.append(i)\n",
    "    return result\n",
    "    \"\"\"\n",
    "\n",
    "def main():\n",
    "    print(acronyms(\"\"\"For the purposes of the EU General Data Protection Regulation (GDPR), the controller of your personal information is International Business Machines Corporation (IBM Corp.), 1 New Orchard Road, Armonk, New York, United States, unless indicated otherwise. Where IBM Corp. or a subsidiary it controls (not established in the European Economic Area (EEA)) is required to appoint a legal representative in the EEA, the representative for all such cases is IBM United Kingdom Limited, PO Box 41, North Harbour, Portsmouth, Hampshire, United Kingdom PO6 3AU.\"\"\"))\n",
    "\n",
    "\n",
    "if __name__ == \"__main__\":\n",
    "    main()"
   ]
  },
  {
   "cell_type": "markdown",
   "id": "b5298b8a-4dc2-457e-8252-688dd64a9563",
   "metadata": {},
   "source": [
    "Exercise 1.19 (sum equation)"
   ]
  },
  {
   "cell_type": "code",
   "execution_count": 247,
   "id": "f862539a-9e99-4025-b0fa-f96ec5b03258",
   "metadata": {},
   "outputs": [
    {
     "name": "stdout",
     "output_type": "stream",
     "text": [
      "1 + 5 + 7 = 13\n"
     ]
    }
   ],
   "source": [
    "def sum_equation(L):\n",
    "    \"\"\"turns list of positive integers into a string\n",
    "    with equation of the sum of elements\n",
    "    \"\"\"\n",
    "    if len(L) == 0:\n",
    "        return \"0 = 0\"\n",
    "    else:\n",
    "        return \" + \".join(str(i) for i in L) + f\" = {sum(L)}\"\n",
    "\n",
    "def main():\n",
    "    print(sum_equation([1, 5, 7]))\n",
    "\n",
    "if __name__ == \"__main__\":\n",
    "    main()"
   ]
  },
  {
   "cell_type": "markdown",
   "id": "31b51db1-0d31-4022-9547-42968aaacd51",
   "metadata": {},
   "source": [
    "Modules"
   ]
  },
  {
   "cell_type": "markdown",
   "id": "7b7c25a8-4618-42af-b1c0-f148ada3be0d",
   "metadata": {},
   "source": [
    "Using modules"
   ]
  },
  {
   "cell_type": "code",
   "execution_count": 251,
   "id": "02c8bf12-1840-4bda-a896-a71eb929f67e",
   "metadata": {},
   "outputs": [
    {
     "data": {
      "text/plain": [
       "1.0"
      ]
     },
     "execution_count": 251,
     "metadata": {},
     "output_type": "execute_result"
    }
   ],
   "source": [
    "import math\n",
    "math.cos(0)"
   ]
  },
  {
   "cell_type": "markdown",
   "id": "21aa11a1-21d7-43f8-b250-d033e1b251e0",
   "metadata": {},
   "source": [
    "Breaking the namespace"
   ]
  },
  {
   "cell_type": "markdown",
   "id": "37004746-c5d9-404a-88e1-8d905733cd02",
   "metadata": {},
   "source": [
    "Module lookup"
   ]
  },
  {
   "cell_type": "markdown",
   "id": "d4d38139-a199-444c-9c68-d756411d4547",
   "metadata": {},
   "source": [
    "Module hierarchy"
   ]
  },
  {
   "cell_type": "markdown",
   "id": "33669554-9663-4a28-a3c1-596324528858",
   "metadata": {},
   "source": [
    "Importing from packages"
   ]
  },
  {
   "cell_type": "code",
   "execution_count": 257,
   "id": "26b935b9-c249-4aba-8b27-e430639ece10",
   "metadata": {},
   "outputs": [],
   "source": [
    "from numpy.linalg import linalg"
   ]
  },
  {
   "cell_type": "code",
   "execution_count": 259,
   "id": "550c0327-a2d9-4e2c-9b5a-718129e76314",
   "metadata": {},
   "outputs": [],
   "source": [
    "from numpy.linalg import linalg as lin"
   ]
  },
  {
   "cell_type": "code",
   "execution_count": 261,
   "id": "20477949-666e-430e-bf0e-858fe8ec7d06",
   "metadata": {},
   "outputs": [],
   "source": [
    "from numpy.linalg.linalg import det"
   ]
  },
  {
   "cell_type": "markdown",
   "id": "40b41353-62bc-4370-a9d2-108d61685b06",
   "metadata": {},
   "source": [
    "Correspondence between folder and module hierarchies"
   ]
  },
  {
   "cell_type": "markdown",
   "id": "2a194550-9633-41e0-aa5c-df307029e0d6",
   "metadata": {},
   "source": [
    "Contents of a module"
   ]
  },
  {
   "cell_type": "code",
   "execution_count": 269,
   "id": "342d1f9c-47be-4cb3-8959-ac1268b78c8b",
   "metadata": {},
   "outputs": [],
   "source": [
    "a = 5\n",
    "def f(i):\n",
    "    return i + 1"
   ]
  },
  {
   "cell_type": "code",
   "execution_count": 271,
   "id": "867255b1-6d1e-441c-808f-5bbcd8808cd0",
   "metadata": {},
   "outputs": [
    {
     "name": "stdout",
     "output_type": "stream",
     "text": [
      "Hello\n",
      "Hello\n",
      "Hello\n"
     ]
    }
   ],
   "source": [
    "for _ in range(3):\n",
    "    print(\"Hello\")"
   ]
  },
  {
   "cell_type": "code",
   "execution_count": 273,
   "id": "0e760753-21df-48b2-ab00-17415b653273",
   "metadata": {},
   "outputs": [
    {
     "name": "stdout",
     "output_type": "stream",
     "text": [
      "Hello\n",
      "Hello\n",
      "Hello\n"
     ]
    }
   ],
   "source": [
    "def main():\n",
    "    for _ in range(3):\n",
    "        print(\"Hello\")\n",
    "\n",
    "if __name__ == \"__main__\":    # we call main only when this module is not being imported, but directly executed\n",
    "    main()                    # for example with 'python3 mod.py'"
   ]
  },
  {
   "cell_type": "markdown",
   "id": "656389ea-4c7d-443c-b381-ec790284414c",
   "metadata": {},
   "source": [
    "Exercise 1.20 (usemodule)"
   ]
  },
  {
   "cell_type": "code",
   "execution_count": 284,
   "id": "da96015f-278f-438f-859b-0f24119d6d61",
   "metadata": {},
   "outputs": [
    {
     "name": "stdout",
     "output_type": "stream",
     "text": [
      "5.0\n",
      "6.0\n"
     ]
    }
   ],
   "source": [
    "# Don't modify the below hack\n",
    "try:\n",
    "    from src import triangle\n",
    "except ModuleNotFoundError:\n",
    "    import triangle\n",
    "\n",
    "def main():\n",
    "    # Call the functions from here\n",
    "    print(triangle.hypotenuse(3, 4))\n",
    "    print(triangle.area(3, 4))\n",
    "\n",
    "if __name__ == \"__main__\":\n",
    "    main()"
   ]
  }
 ],
 "metadata": {
  "kernelspec": {
   "display_name": "Python [conda env:base] *",
   "language": "python",
   "name": "conda-base-py"
  },
  "language_info": {
   "codemirror_mode": {
    "name": "ipython",
    "version": 3
   },
   "file_extension": ".py",
   "mimetype": "text/x-python",
   "name": "python",
   "nbconvert_exporter": "python",
   "pygments_lexer": "ipython3",
   "version": "3.12.7"
  }
 },
 "nbformat": 4,
 "nbformat_minor": 5
}
