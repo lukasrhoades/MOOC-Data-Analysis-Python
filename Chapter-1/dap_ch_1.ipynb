{
 "cells": [
  {
   "cell_type": "markdown",
   "id": "ed5b0855-8226-4302-8964-6dca1c67e53a",
   "metadata": {},
   "source": [
    "Basic input and output"
   ]
  },
  {
   "cell_type": "code",
   "execution_count": 1,
   "id": "72aa51ce-86c1-4afc-8fa2-3be07974204e",
   "metadata": {},
   "outputs": [
    {
     "name": "stdout",
     "output_type": "stream",
     "text": [
      "Hello world2!\n"
     ]
    }
   ],
   "source": [
    "print(\"Hello world2!\")"
   ]
  },
  {
   "cell_type": "code",
   "execution_count": 5,
   "id": "820e8b9e-0c33-48cc-b92e-8c66350b24b9",
   "metadata": {},
   "outputs": [
    {
     "name": "stdout",
     "output_type": "stream",
     "text": [
      "Hello, John! How are you?\n"
     ]
    }
   ],
   "source": [
    "print(\"Hello,\", \"John!\", \"How are you?\")"
   ]
  },
  {
   "cell_type": "code",
   "execution_count": 7,
   "id": "2b36e2cf-9563-43be-908b-7b284af92eb8",
   "metadata": {},
   "outputs": [
    {
     "name": "stdout",
     "output_type": "stream",
     "text": [
      "1 plus 2 equals 3\n"
     ]
    }
   ],
   "source": [
    "print(1, \"plus\", 2, \"equals\", 1+2)"
   ]
  },
  {
   "cell_type": "code",
   "execution_count": 11,
   "id": "92b13aed-68a7-482d-88ce-85053f6970fa",
   "metadata": {},
   "outputs": [
    {
     "name": "stdin",
     "output_type": "stream",
     "text": [
      "Give me your name:  Lukas\n"
     ]
    },
    {
     "name": "stdout",
     "output_type": "stream",
     "text": [
      "Hello, Lukas\n"
     ]
    }
   ],
   "source": [
    "name=input(\"Give me your name: \")\n",
    "print(\"Hello,\", name)"
   ]
  },
  {
   "cell_type": "markdown",
   "id": "c50ddd57-d6b7-4e61-80d1-b5fb5661ff95",
   "metadata": {},
   "source": [
    "Indentation"
   ]
  },
  {
   "cell_type": "code",
   "execution_count": 13,
   "id": "43736682-c8e3-4601-acf3-9972c6ae190a",
   "metadata": {},
   "outputs": [
    {
     "name": "stdout",
     "output_type": "stream",
     "text": [
      "Hello\n",
      "Hello\n",
      "Hello\n",
      "Bye!\n"
     ]
    }
   ],
   "source": [
    "for i in range(3):\n",
    "    print(\"Hello\")\n",
    "print(\"Bye!\")"
   ]
  },
  {
   "cell_type": "code",
   "execution_count": 17,
   "id": "c4839460-a5a1-4bd1-b43f-405cd5c3b2fa",
   "metadata": {},
   "outputs": [
    {
     "name": "stdout",
     "output_type": "stream",
     "text": [
      "0 Hello\n",
      "1 Hello\n",
      "2 Hello\n",
      "Bye!\n"
     ]
    }
   ],
   "source": [
    "for i in range(3):\n",
    "    print (i, \"Hello\")\n",
    "print(\"Bye!\")"
   ]
  },
  {
   "cell_type": "markdown",
   "id": "eba12f95-e789-44ec-be04-832095acd4bc",
   "metadata": {},
   "source": [
    "Exercise 1.1 (hello world)"
   ]
  },
  {
   "cell_type": "code",
   "execution_count": 145,
   "id": "53b9c4a6-4029-4073-af42-fb50d7a1244a",
   "metadata": {},
   "outputs": [
    {
     "name": "stdout",
     "output_type": "stream",
     "text": [
      "Hello, world!\n"
     ]
    }
   ],
   "source": [
    "# Everything after a hash sign (#) is considered a comment in Python\n",
    "\n",
    "# The print statement could be written on the top-level (zero indentation),\n",
    "# but here we have put it inside the main function.\n",
    "# This enables TestMyCode (TMC) framework to work correctly.\n",
    "\n",
    "# In more complicated programs it is good practise not to clutter the top-level of the program\n",
    "# by using a main function as here.\n",
    "\n",
    "def main():\n",
    "    print(\"Hello, world!\") # Enter your code here, this is the correct indentation\n",
    "\n",
    "# This makes sure the main function is not called immediatedly\n",
    "# when TMC imports this module\n",
    "if __name__ == \"__main__\": \n",
    "    main()"
   ]
  },
  {
   "cell_type": "markdown",
   "id": "2bd3cf61-0b51-47a6-b310-016d16fc03cb",
   "metadata": {},
   "source": [
    "Exercise 1.2 (compliment)"
   ]
  },
  {
   "cell_type": "code",
   "execution_count": 143,
   "id": "b2d5773b-7908-4ed7-bba5-02bbde1a0b1e",
   "metadata": {},
   "outputs": [
    {
     "name": "stdin",
     "output_type": "stream",
     "text": [
      "What country are you from?  United States\n"
     ]
    },
    {
     "name": "stdout",
     "output_type": "stream",
     "text": [
      "I have heard that United States is a beautiful country.\n"
     ]
    }
   ],
   "source": [
    "def main():\n",
    "    country = input(\"What country are you from? \")\n",
    "    print(\"I have heard that\", country, \"is a beautiful country.\")\n",
    "\n",
    "\n",
    "if __name__ == \"__main__\":\n",
    "    main()"
   ]
  },
  {
   "cell_type": "markdown",
   "id": "deb256d3-1407-4056-9ece-db53c0380ae9",
   "metadata": {},
   "source": [
    "Exercise 1.3 (multiplication)"
   ]
  },
  {
   "cell_type": "code",
   "execution_count": 141,
   "id": "eda0978a-5040-49b8-98c4-009d33b9143b",
   "metadata": {},
   "outputs": [
    {
     "name": "stdout",
     "output_type": "stream",
     "text": [
      "4 multiplied by 0 is 0\n",
      "4 multiplied by 1 is 4\n",
      "4 multiplied by 2 is 8\n",
      "4 multiplied by 3 is 12\n",
      "4 multiplied by 4 is 16\n",
      "4 multiplied by 5 is 20\n",
      "4 multiplied by 6 is 24\n",
      "4 multiplied by 7 is 28\n",
      "4 multiplied by 8 is 32\n",
      "4 multiplied by 9 is 36\n",
      "4 multiplied by 10 is 40\n"
     ]
    }
   ],
   "source": [
    "def main():\n",
    "    for i in range(11):\n",
    "        print(\"4 multiplied by\", i, \"is\", 4*i)\n",
    "\n",
    "if __name__ == \"__main__\":\n",
    "    main()"
   ]
  },
  {
   "cell_type": "markdown",
   "id": "6e28a323-1aa4-485c-950e-d2acbee59c5c",
   "metadata": {},
   "source": [
    "Variables and data types"
   ]
  },
  {
   "cell_type": "code",
   "execution_count": 21,
   "id": "1e365c18-5b0a-49ac-8b79-e35b11f8694e",
   "metadata": {},
   "outputs": [
    {
     "name": "stdout",
     "output_type": "stream",
     "text": [
      "1\n"
     ]
    }
   ],
   "source": [
    "a = 1\n",
    "print(a)"
   ]
  },
  {
   "cell_type": "code",
   "execution_count": 23,
   "id": "add58235-d9dc-409c-81f5-38e874b4e60b",
   "metadata": {},
   "outputs": [
    {
     "data": {
      "text/plain": [
       "int"
      ]
     },
     "execution_count": 23,
     "metadata": {},
     "output_type": "execute_result"
    }
   ],
   "source": [
    "type(a)"
   ]
  },
  {
   "cell_type": "code",
   "execution_count": 25,
   "id": "be18545d-b901-4b33-b497-d33e39ba0184",
   "metadata": {},
   "outputs": [
    {
     "data": {
      "text/plain": [
       "str"
      ]
     },
     "execution_count": 25,
     "metadata": {},
     "output_type": "execute_result"
    }
   ],
   "source": [
    "a = \"some text\"\n",
    "type(a)"
   ]
  },
  {
   "cell_type": "code",
   "execution_count": 27,
   "id": "226744f5-45f2-45d4-b6e4-dcb955cdf1e7",
   "metadata": {},
   "outputs": [
    {
     "name": "stdout",
     "output_type": "stream",
     "text": [
      "Result of the comparison: False\n",
      "Complex multiplication: (-4+0j)\n",
      "concatenation\n"
     ]
    }
   ],
   "source": [
    "i = 5\n",
    "f = 1.5\n",
    "b = i == 4\n",
    "print(\"Result of the comparison:\", b)\n",
    "c = 0 + 2j # j denotes imaginary unit of complex numbers\n",
    "print(\"Complex multiplication:\", c * c)\n",
    "s = \"conca\" + \"tenation\"\n",
    "print(s)"
   ]
  },
  {
   "cell_type": "code",
   "execution_count": null,
   "id": "47e9c5e1-7a1c-4d7c-b058-82a9a55dbf87",
   "metadata": {},
   "outputs": [],
   "source": [
    "print(int(-2.8))\n",
    "print(float(2))\n",
    "print(int(\"123\"))\n",
    "print(bool(-2), bool(0)) # zero is interpreted as false\n",
    "print(str(234))"
   ]
  },
  {
   "cell_type": "code",
   "execution_count": 38,
   "id": "a4e98b35-efdd-46cb-87d5-bb2ef1714471",
   "metadata": {},
   "outputs": [
    {
     "name": "stdout",
     "output_type": "stream",
     "text": [
      "b'\\xc3\\xa4'\n",
      "[195, 164]\n"
     ]
    }
   ],
   "source": [
    "b = \"ä\".encode(\"utf-8\") # converts character to sequence of bytes\n",
    "print(b) # prints bytes in hexidecimal notation\n",
    "print(list(b)) # prints bytes in decimal notation"
   ]
  },
  {
   "cell_type": "markdown",
   "id": "d3848002-4a9d-46a1-8c99-65301e9ca107",
   "metadata": {},
   "source": [
    "Creating strings"
   ]
  },
  {
   "cell_type": "code",
   "execution_count": 41,
   "id": "a95e68b3-ca49-4bbb-862f-b36ae4947a0e",
   "metadata": {},
   "outputs": [
    {
     "name": "stdout",
     "output_type": "stream",
     "text": [
      "One\tTwo\n",
      "Three\tFour\n"
     ]
    }
   ],
   "source": [
    "print(\"One\\tTwo\\nThree\\tFour\")"
   ]
  },
  {
   "cell_type": "code",
   "execution_count": 45,
   "id": "df4ef598-107d-4993-9ce3-937b1d051e25",
   "metadata": {},
   "outputs": [
    {
     "name": "stdout",
     "output_type": "stream",
     "text": [
      "A string\n",
      "spanning over\n",
      "several lines\n"
     ]
    }
   ],
   "source": [
    "s = \"\"\"A string\n",
    "spanning over\n",
    "several lines\"\"\"\n",
    "print(s)"
   ]
  },
  {
   "cell_type": "code",
   "execution_count": 47,
   "id": "33299598-d1d2-431a-93e4-b66c877ee1ec",
   "metadata": {},
   "outputs": [
    {
     "name": "stdout",
     "output_type": "stream",
     "text": [
      "firstsecond\n",
      "first second second first\n"
     ]
    }
   ],
   "source": [
    "a = \"first\"\n",
    "b = \"second\"\n",
    "print(a + b)\n",
    "print(\" \".join([a, b, b, a]))"
   ]
  },
  {
   "cell_type": "code",
   "execution_count": 51,
   "id": "3794a914-e4a1-46f5-9491-e2aa597e7aee",
   "metadata": {},
   "outputs": [
    {
     "name": "stdout",
     "output_type": "stream",
     "text": [
      "1 plus 3 is equal to 4\n",
      "1 plus 3 is equal to 4\n"
     ]
    }
   ],
   "source": [
    "print(str(1) + \" plus \" + str(3) + \" is equal to \" + str(4))\n",
    "# slightly better\n",
    "print(1, \"plus\", 3, \"is equal to\", 4)"
   ]
  },
  {
   "cell_type": "code",
   "execution_count": 55,
   "id": "4076ed44-998f-45d3-bc3d-660b933f5eb1",
   "metadata": {},
   "outputs": [
    {
     "name": "stdout",
     "output_type": "stream",
     "text": [
      "1 plus 3 is equal to 4\n",
      "1 plus 3 is equal to 4\n",
      "1 plus 3 is equal to 4\n"
     ]
    }
   ],
   "source": [
    "print(\"%i plus %i is equal to %i\" % (1, 3, 4)) # format syntax\n",
    "print(\"{} plus {} is equal to {}\".format(1, 3, 4)) # format method\n",
    "print(f\"{1} plus {3} is equal to {4}\") # f-string"
   ]
  },
  {
   "cell_type": "code",
   "execution_count": 57,
   "id": "bc8132cc-1330-47ad-85ef-6bf872dd0d51",
   "metadata": {},
   "outputs": [
    {
     "name": "stdout",
     "output_type": "stream",
     "text": [
      "water concatenated with melon produces watermelon\n",
      "water concatenated with melon produces watermelon\n",
      "water concatenated with melon produces watermelon\n"
     ]
    }
   ],
   "source": [
    "print(\"%s concatenated with %s produces %s\" % (\"water\", \"melon\", \"water\" + \"melon\"))\n",
    "print(\"{0} concatenated with {1} produces {0}{1}\".format(\"water\", \"melon\"))\n",
    "print(f\"{'water'} concatenated with {'melon'} produces {'water' + 'melon'}\")"
   ]
  },
  {
   "cell_type": "markdown",
   "id": "07447198-2e9a-4aeb-bb69-ec7f377ee869",
   "metadata": {},
   "source": [
    "Expressions"
   ]
  },
  {
   "cell_type": "markdown",
   "id": "bb6e2e15-2ce1-410a-a39a-772d3396a2b3",
   "metadata": {},
   "source": [
    "Statements"
   ]
  },
  {
   "cell_type": "code",
   "execution_count": 61,
   "id": "522e16d1-b279-4079-affd-9093c3ee84a4",
   "metadata": {},
   "outputs": [],
   "source": [
    "i = 5\n",
    "i = i + 1 # common idiom to increment the value of i by one\n",
    "i += 1 # short-hand for above"
   ]
  },
  {
   "cell_type": "markdown",
   "id": "e66aebb0-1759-4acb-b9e3-a8dd759d5ff3",
   "metadata": {},
   "source": [
    "Loops for repetitive tasks"
   ]
  },
  {
   "cell_type": "code",
   "execution_count": 64,
   "id": "6d789b2d-b3ad-4e95-b5a6-7fb42521adf2",
   "metadata": {},
   "outputs": [
    {
     "name": "stdout",
     "output_type": "stream",
     "text": [
      "Square of 1 is 1\n",
      "Square of 2 is 4\n",
      "Square of 3 is 9\n",
      "Square of 4 is 16\n",
      "Square of 5 is 25\n",
      "Square of 6 is 36\n",
      "Square of 7 is 49\n",
      "Square of 8 is 64\n",
      "Square of 9 is 81\n",
      "Square of 10 is 100\n",
      "Square of 11 is 121\n",
      "Square of 12 is 144\n",
      "Square of 13 is 169\n",
      "Square of 14 is 196\n",
      "Square of 15 is 225\n",
      "Square of 16 is 256\n",
      "Square of 17 is 289\n",
      "Square of 18 is 324\n",
      "Square of 19 is 361\n",
      "Square of 20 is 400\n",
      "Square of 21 is 441\n",
      "Square of 22 is 484\n",
      "Square of 23 is 529\n",
      "Square of 24 is 576\n",
      "Square of 25 is 625\n",
      "Square of 26 is 676\n",
      "Square of 27 is 729\n",
      "Square of 28 is 784\n",
      "Square of 29 is 841\n",
      "Square of 30 is 900\n",
      "Square of 31 is 961\n",
      "Finished printing all the squares below 1000.\n"
     ]
    }
   ],
   "source": [
    "i = 1\n",
    "while i * i < 1000:\n",
    "    print(\"Square of\", i, \"is\", i * i)\n",
    "    i = i + 1\n",
    "print(\"Finished printing all the squares below 1000.\")"
   ]
  },
  {
   "cell_type": "code",
   "execution_count": 66,
   "id": "420a4c43-922e-4be0-b781-3164faec9839",
   "metadata": {},
   "outputs": [
    {
     "name": "stdout",
     "output_type": "stream",
     "text": [
      "The sum is 45\n"
     ]
    }
   ],
   "source": [
    "s = 0\n",
    "for i in [0, 1, 2, 3, 4, 5, 6, 7, 8, 9]:\n",
    "    s = s + i\n",
    "print(\"The sum is\", s)"
   ]
  },
  {
   "cell_type": "markdown",
   "id": "bcfc7548-de46-4dfe-9a9b-4e6d0ab53cf6",
   "metadata": {},
   "source": [
    "Exercise 1.4 (multiplication table)"
   ]
  },
  {
   "cell_type": "code",
   "execution_count": 134,
   "id": "a1fad1c1-945a-4dc3-b520-be71da254cc0",
   "metadata": {},
   "outputs": [
    {
     "name": "stdout",
     "output_type": "stream",
     "text": [
      "   1   2   3   4   5   6   7   8   9  10\n",
      "   2   4   6   8  10  12  14  16  18  20\n",
      "   3   6   9  12  15  18  21  24  27  30\n",
      "   4   8  12  16  20  24  28  32  36  40\n",
      "   5  10  15  20  25  30  35  40  45  50\n",
      "   6  12  18  24  30  36  42  48  54  60\n",
      "   7  14  21  28  35  42  49  56  63  70\n",
      "   8  16  24  32  40  48  56  64  72  80\n",
      "   9  18  27  36  45  54  63  72  81  90\n",
      "  10  20  30  40  50  60  70  80  90 100\n"
     ]
    }
   ],
   "source": [
    "def main():\n",
    "    for i in range(1,11):\n",
    "        for j in range(1,11):\n",
    "            print('{:4d}'.format(i * j), end=\"\")\n",
    "        print() # new line after each row\n",
    "\n",
    "if __name__ == \"__main__\":\n",
    "    main()"
   ]
  },
  {
   "cell_type": "markdown",
   "id": "80cc79e7-3c82-47ae-8686-a2c624c89945",
   "metadata": {},
   "source": [
    "Decision making with the if statement"
   ]
  },
  {
   "cell_type": "code",
   "execution_count": 3,
   "id": "468f94d4-8021-43aa-9db7-22b029aad4a4",
   "metadata": {},
   "outputs": [
    {
     "name": "stdin",
     "output_type": "stream",
     "text": [
      "Give an integer:  -1\n"
     ]
    },
    {
     "name": "stdout",
     "output_type": "stream",
     "text": [
      "The absolute value of -1 is 1\n"
     ]
    }
   ],
   "source": [
    "x = input(\"Give an integer: \")\n",
    "x = int(x)\n",
    "if x >= 0:\n",
    "    a = x\n",
    "else:\n",
    "    a = -x\n",
    "print(\"The absolute value of %i is %i\" % (x, a))"
   ]
  },
  {
   "cell_type": "code",
   "execution_count": 5,
   "id": "30814788-cc32-460f-9c41-fd39442ee2ac",
   "metadata": {},
   "outputs": [
    {
     "name": "stdin",
     "output_type": "stream",
     "text": [
      "Give a number:  3\n"
     ]
    },
    {
     "name": "stdout",
     "output_type": "stream",
     "text": [
      "c is positive\n"
     ]
    }
   ],
   "source": [
    "c = float(input(\"Give a number: \"))\n",
    "if c > 0:\n",
    "    print(\"c is positive\")\n",
    "elif c < 0:\n",
    "    print(\"c is negative\")\n",
    "else:\n",
    "    print(\"c is zero\")"
   ]
  },
  {
   "cell_type": "markdown",
   "id": "efe1a546-6b06-49e6-92fd-5d4a6a836a25",
   "metadata": {},
   "source": [
    "Breaking and continuing loop"
   ]
  },
  {
   "cell_type": "code",
   "execution_count": 8,
   "id": "44e14a3d-12c2-4dd8-a080-b5b5191850c8",
   "metadata": {},
   "outputs": [
    {
     "name": "stdout",
     "output_type": "stream",
     "text": [
      "The first negative list item was -1\n"
     ]
    }
   ],
   "source": [
    "l = [1, 3, 65, 3, -1, 56 ,-10]\n",
    "for x in l:\n",
    "    if x < 0:\n",
    "        break\n",
    "print(\"The first negative list item was\", x)"
   ]
  },
  {
   "cell_type": "code",
   "execution_count": 68,
   "id": "199783d4-39dd-47f0-a092-56a1b12daf94",
   "metadata": {},
   "outputs": [
    {
     "name": "stdout",
     "output_type": "stream",
     "text": [
      "Square root of 1 is 1.000\n",
      "Natural logarithm of 1 is 0.0000\n",
      "Square root of 3 is 1.732\n",
      "Natural logarithm of 3 is 1.0986\n",
      "Square root of 65 is 8.062\n",
      "Natural logarithm of 65 is 4.1744\n",
      "Square root of 3 is 1.732\n",
      "Natural logarithm of 3 is 1.0986\n",
      "Square root of 56 is 7.483\n",
      "Natural logarithm of 56 is 4.0254\n"
     ]
    }
   ],
   "source": [
    "from math import sqrt, log\n",
    "l = [1, 3,65 ,3, -1, 56, -10]\n",
    "for x in l:\n",
    "    if x < 0:\n",
    "        continue # stop current iteration and continue to next\n",
    "    print(f\"Square root of {x} is {sqrt(x):.3f}\")\n",
    "    print(f\"Natural logarithm of {x} is {log(x):.4f}\")"
   ]
  },
  {
   "cell_type": "markdown",
   "id": "7d7839c3-9998-4eff-95f2-52550ec1707a",
   "metadata": {},
   "source": [
    "Exercise 1.5 (two dice)"
   ]
  },
  {
   "cell_type": "code",
   "execution_count": 131,
   "id": "6062f504-49e0-4290-86aa-03b1fcb00497",
   "metadata": {},
   "outputs": [
    {
     "name": "stdout",
     "output_type": "stream",
     "text": [
      "(1,4)\n",
      "(2,3)\n",
      "(3,2)\n",
      "(4,1)\n"
     ]
    }
   ],
   "source": [
    "def main():\n",
    "    for i in range(1,7):\n",
    "        for j in range(1,7):\n",
    "            if i + j != 5:\n",
    "               continue\n",
    "            print(f\"({i},{j})\")\n",
    "\n",
    "if __name__ == \"__main__\":\n",
    "    main()"
   ]
  },
  {
   "cell_type": "markdown",
   "id": "ce2dcc39-c4ad-4ce7-b694-1cc8b7678e3d",
   "metadata": {},
   "source": [
    "Functions"
   ]
  },
  {
   "cell_type": "code",
   "execution_count": 15,
   "id": "19a6d1e2-fee1-46e2-af47-15debc8534d9",
   "metadata": {},
   "outputs": [
    {
     "name": "stdout",
     "output_type": "stream",
     "text": [
      "8 2.4 abcabc\n"
     ]
    }
   ],
   "source": [
    "def double(x):\n",
    "    \"This function multiplies its argument by two.\"\n",
    "    return x * 2\n",
    "print(double(4), double(1.2), double(\"abc\")) # it even works for strings"
   ]
  },
  {
   "cell_type": "code",
   "execution_count": 17,
   "id": "6b8af2b1-b7cb-489c-82b7-153581511025",
   "metadata": {},
   "outputs": [
    {
     "name": "stdout",
     "output_type": "stream",
     "text": [
      "The docstring is: This function multiplies its argument by two.\n",
      "Help on function double in module __main__:\n",
      "\n",
      "double(x)\n",
      "    This function multiplies its argument by two.\n",
      "\n"
     ]
    }
   ],
   "source": [
    "print(\"The docstring is:\", double.__doc__)\n",
    "help(double) # another way to access docstring"
   ]
  },
  {
   "cell_type": "code",
   "execution_count": 19,
   "id": "d4c7c218-9979-45c2-be99-bbcf42567d65",
   "metadata": {},
   "outputs": [
    {
     "name": "stdout",
     "output_type": "stream",
     "text": [
      "Help on built-in function print in module builtins:\n",
      "\n",
      "print(*args, sep=' ', end='\\n', file=None, flush=False)\n",
      "    Prints the values to a stream, or to sys.stdout by default.\n",
      "\n",
      "    sep\n",
      "      string inserted between values, default a space.\n",
      "    end\n",
      "      string appended after the last value, default a newline.\n",
      "    file\n",
      "      a file-like object (stream); defaults to the current sys.stdout.\n",
      "    flush\n",
      "      whether to forcibly flush the stream.\n",
      "\n"
     ]
    }
   ],
   "source": [
    "help(print)"
   ]
  },
  {
   "cell_type": "code",
   "execution_count": 21,
   "id": "e4845ca6-7c94-4348-899b-b2069593d447",
   "metadata": {},
   "outputs": [
    {
     "name": "stdout",
     "output_type": "stream",
     "text": [
      "25\n"
     ]
    }
   ],
   "source": [
    "def sum_of_squares(a, b):\n",
    "    \"Computes the sum of arguments squared\"\n",
    "    return a**2 + b**2\n",
    "print(sum_of_squares(3, 4))"
   ]
  },
  {
   "cell_type": "code",
   "execution_count": 39,
   "id": "564b7133-b050-4d8a-b6e5-e18b128f0650",
   "metadata": {},
   "outputs": [
    {
     "name": "stdout",
     "output_type": "stream",
     "text": [
      "4\n",
      "45\n"
     ]
    }
   ],
   "source": [
    "def sum_of_squares(lst):\n",
    "    \"Computes the sum of squares of elements in the list given as a parameter\"\n",
    "    s = 0\n",
    "    for x in lst:\n",
    "        s += x**2\n",
    "    return s\n",
    "print(sum_of_squares([-2]))\n",
    "print(sum_of_squares([-2, 4, 5]))"
   ]
  },
  {
   "cell_type": "code",
   "execution_count": 45,
   "id": "1fdbf7e1-f707-4333-ae54-7666c19536aa",
   "metadata": {},
   "outputs": [
    {
     "name": "stdout",
     "output_type": "stream",
     "text": [
      "4\n",
      "45\n"
     ]
    }
   ],
   "source": [
    "def sum_of_squares(*t): # tuples are immutable lists\n",
    "    \"Computes the sum of squares of arbitrary number of arguments\"\n",
    "    s = 0\n",
    "    for x in t:\n",
    "        s += x**2\n",
    "    return s\n",
    "print(sum_of_squares(-2))\n",
    "print(sum_of_squares(-2, 4, 5))"
   ]
  },
  {
   "cell_type": "code",
   "execution_count": 51,
   "id": "e61a982b-1fd2-49ec-bf05-8fd0f889708b",
   "metadata": {},
   "outputs": [
    {
     "name": "stdout",
     "output_type": "stream",
     "text": [
      "With list unpacked as arguments to the functions: 90\n"
     ]
    }
   ],
   "source": [
    "lst = [1, 5, 8]\n",
    "print(\"With list unpacked as arguments to the functions:\", sum_of_squares(*lst))\n",
    "# print(sum_of_squares(lst)) # does not work correctly"
   ]
  },
  {
   "cell_type": "code",
   "execution_count": 57,
   "id": "13bec33e-fc3e-492d-a5ea-ae03c871e25e",
   "metadata": {},
   "outputs": [
    {
     "name": "stdout",
     "output_type": "stream",
     "text": [
      "First: 5 Second: 8 Third: 7\n"
     ]
    }
   ],
   "source": [
    "def named(a, b, c):\n",
    "    print(\"First:\", a, \"Second:\", b, \"Third:\", c)\n",
    "named(5, c=7, b=8)"
   ]
  },
  {
   "cell_type": "code",
   "execution_count": 59,
   "id": "a9a5293a-d1e9-4926-9fd9-590dbcaaafa0",
   "metadata": {},
   "outputs": [
    {
     "name": "stdout",
     "output_type": "stream",
     "text": [
      "1 -*- 2 -*- 3 |first -*- second -*- third |"
     ]
    }
   ],
   "source": [
    "print(1, 2, 3, end=' |', sep=' -*- ')\n",
    "print(\"first\", \"second\", \"third\", end=' |', sep=' -*- ')"
   ]
  },
  {
   "cell_type": "code",
   "execution_count": 65,
   "id": "0b5dad95-7d69-46b7-b80d-7fc1bb3f4b84",
   "metadata": {},
   "outputs": [
    {
     "name": "stdout",
     "output_type": "stream",
     "text": [
      "5.0\n",
      "4.497941445275415\n"
     ]
    }
   ],
   "source": [
    "def length(*t, degree = 2):\n",
    "    \"\"\"Comptues the length of the vector given as parameter. By default, it computes\n",
    "    the Euclidean distance (degree==2)\"\"\"\n",
    "    s = 0\n",
    "    for x in t:\n",
    "        s += abs(x)**degree\n",
    "    return s**(1/degree)\n",
    "print(length(-4, 3))\n",
    "print(length(-4, 3, degree = 3))"
   ]
  },
  {
   "cell_type": "markdown",
   "id": "11920576-41a4-4f94-a7e5-52cfca4fd74f",
   "metadata": {},
   "source": [
    "Visibility of variables"
   ]
  },
  {
   "cell_type": "code",
   "execution_count": 70,
   "id": "7991c7bb-9112-47dd-a53a-102fa801c556",
   "metadata": {},
   "outputs": [
    {
     "name": "stdout",
     "output_type": "stream",
     "text": [
      "3\n",
      "2\n"
     ]
    }
   ],
   "source": [
    "i = 2        # global variable\n",
    "def f():\n",
    "    i = 3    # this creates a new variable, it does not rebind the global i\n",
    "    print(i) # this will print 3\n",
    "f()\n",
    "print(i)"
   ]
  },
  {
   "cell_type": "code",
   "execution_count": 74,
   "id": "f9c42022-8441-4c1d-a052-278d38e5988c",
   "metadata": {},
   "outputs": [
    {
     "name": "stdout",
     "output_type": "stream",
     "text": [
      "5\n",
      "5\n"
     ]
    }
   ],
   "source": [
    "i = 2\n",
    "def f():\n",
    "    global i\n",
    "    i = 5    # rebind the global i variable\n",
    "    print(i) # this will print 5\n",
    "f()\n",
    "print(i)     # this will print 5"
   ]
  },
  {
   "cell_type": "code",
   "execution_count": 80,
   "id": "6e48ebfa-798c-49c3-b8fd-d24cafada0a4",
   "metadata": {},
   "outputs": [
    {
     "name": "stdout",
     "output_type": "stream",
     "text": [
      "3\n",
      "2\n"
     ]
    }
   ],
   "source": [
    "def f():             # outer function\n",
    "    b = 2\n",
    "    def g():         # inner function\n",
    "        # nonlocal b # without this nonlocal statement,\n",
    "        b = 3        # this will create a new local variable\n",
    "        print(b)\n",
    "    g()\n",
    "    print(b)\n",
    "f()"
   ]
  },
  {
   "cell_type": "markdown",
   "id": "80497b7c-e916-4429-aa5f-e38c464fc5f5",
   "metadata": {},
   "source": [
    "Exercise 1.6 (triple square)"
   ]
  },
  {
   "cell_type": "code",
   "execution_count": 128,
   "id": "e8cd17e1-f865-4832-b11f-2ddb32cb7aeb",
   "metadata": {},
   "outputs": [
    {
     "name": "stdout",
     "output_type": "stream",
     "text": [
      "triple(1)==3 square(1)==1\n",
      "triple(2)==6 square(2)==4\n",
      "triple(3)==9 square(3)==9\n"
     ]
    }
   ],
   "source": [
    "def triple(i):\n",
    "    return i*3\n",
    "def square(i):\n",
    "    return i**2\n",
    "\n",
    "def main():\n",
    "    for i in range(1,11):\n",
    "        tr = triple(i)\n",
    "        sq = square(i)\n",
    "        if sq > tr:\n",
    "            break\n",
    "        print(f\"triple({i})=={tr}\", f\"square({i})=={sq}\")\n",
    "\n",
    "if __name__ == \"__main__\":\n",
    "    main()"
   ]
  },
  {
   "cell_type": "markdown",
   "id": "c9f8fa38-d3b8-4013-9e12-9223df929fcc",
   "metadata": {},
   "source": [
    "Exercise 1.7 (area of shapes)\n"
   ]
  },
  {
   "cell_type": "code",
   "execution_count": 126,
   "id": "23af4911-f1a1-4f29-bc67-2b1c31729bb3",
   "metadata": {},
   "outputs": [
    {
     "name": "stdin",
     "output_type": "stream",
     "text": [
      "Choose a shape (triangle, rectangle, circle): \n"
     ]
    }
   ],
   "source": [
    "import math\n",
    "\n",
    "def shape():\n",
    "    while choice := input(\"Choose a shape (triangle, rectangle, circle):\"):\n",
    "        if choice == \"triangle\":\n",
    "            base = input(\"Give base of the triangle:\")\n",
    "            height = input(\"Give height of the triangle:\")\n",
    "            print(f\"The area is {0.5 * float(base) * float(height)}\")\n",
    "        elif choice == \"rectangle\":\n",
    "            width = input(\"Give width of the rectangle:\")\n",
    "            height = input(\"Give height of the rectangle:\")\n",
    "            print(f\"The area is {float(width) * float(height)}\")\n",
    "        elif choice == \"circle\":\n",
    "            radius = input(\"Give radius of the circle:\")\n",
    "            print(f\"The area is {math.pi * (float(radius)**2)}\")\n",
    "        else:\n",
    "            print(\"Unknown shape!\")\n",
    "\n",
    "def main():\n",
    "    shape()\n",
    "\n",
    "if __name__ == \"__main__\":\n",
    "    main()"
   ]
  },
  {
   "cell_type": "markdown",
   "id": "7756b80d-e830-41ce-bf13-0977041e65ab",
   "metadata": {},
   "source": [
    "Data Structures"
   ]
  },
  {
   "cell_type": "markdown",
   "id": "21059f48-c80e-4a83-99d2-17708e852b56",
   "metadata": {},
   "source": [
    "Sequences"
   ]
  },
  {
   "cell_type": "code",
   "execution_count": 83,
   "id": "b4a57488-7042-42c8-9962-14c6cf6ebf4c",
   "metadata": {},
   "outputs": [
    {
     "data": {
      "text/plain": [
       "[2, 100, 'hello', 1.0]"
      ]
     },
     "execution_count": 83,
     "metadata": {},
     "output_type": "execute_result"
    }
   ],
   "source": [
    "[2, 100, \"hello\", 1.0]"
   ]
  },
  {
   "cell_type": "code",
   "execution_count": 85,
   "id": "d898a522-9585-413e-844f-8ecf45c6ebce",
   "metadata": {},
   "outputs": [
    {
     "data": {
      "text/plain": [
       "'bcd'"
      ]
     },
     "execution_count": 85,
     "metadata": {},
     "output_type": "execute_result"
    }
   ],
   "source": [
    "s = \"abcdefg\"\n",
    "s[1:4]"
   ]
  },
  {
   "cell_type": "code",
   "execution_count": 87,
   "id": "5613eabe-6141-4e24-8925-a62edcaea989",
   "metadata": {},
   "outputs": [
    {
     "name": "stdout",
     "output_type": "stream",
     "text": [
      "[0, 3, 6, 9]\n"
     ]
    }
   ],
   "source": [
    "print([0, 1, 2, 3, 4, 5, 6, 7, 8, 9][::3])"
   ]
  },
  {
   "cell_type": "markdown",
   "id": "e176678a-ae32-43aa-9358-7fc14c74b0e1",
   "metadata": {},
   "source": [
    "Exercise 1.8 (solve quadratic)"
   ]
  },
  {
   "cell_type": "code",
   "execution_count": 119,
   "id": "6c37363e-b2b8-42fa-8aee-1271d9eb03ca",
   "metadata": {},
   "outputs": [
    {
     "name": "stdout",
     "output_type": "stream",
     "text": [
      "(2.0, 1.0)\n",
      "(-1.0, -1.0)\n"
     ]
    }
   ],
   "source": [
    "import math\n",
    "\n",
    "def solve_quadratic(a, b, c):\n",
    "    x1 = (-float(b) + math.sqrt(float(b)**2 - 4*float(a)*float(c)))/(2*float(a))\n",
    "    x2 = (-float(b) - math.sqrt(float(b)**2 - 4*float(a)*float(c)))/(2*float(a))\n",
    "    return (x1,x2)\n",
    "\n",
    "\n",
    "def main():\n",
    "    print(solve_quadratic(1, -3, 2))\n",
    "    print(solve_quadratic(1, 2, 1))\n",
    "\n",
    "if __name__ == \"__main__\":\n",
    "    main()"
   ]
  },
  {
   "cell_type": "markdown",
   "id": "54ea72b2-7d13-4a58-8155-b91051d57e94",
   "metadata": {},
   "source": [
    "Modifying lists"
   ]
  },
  {
   "cell_type": "code",
   "execution_count": 90,
   "id": "c5932396-b491-4961-89af-2ca7d7c400a2",
   "metadata": {},
   "outputs": [
    {
     "name": "stdout",
     "output_type": "stream",
     "text": [
      "[11, 13, 10, 32]\n"
     ]
    }
   ],
   "source": [
    "L = [11, 13, 22, 32]\n",
    "L[2] = 10 # changes the third element\n",
    "print(L)"
   ]
  },
  {
   "cell_type": "code",
   "execution_count": 92,
   "id": "919a1086-db88-4a25-9cbc-6fbea374af90",
   "metadata": {},
   "outputs": [
    {
     "name": "stdout",
     "output_type": "stream",
     "text": [
      "[11, 4, 32]\n"
     ]
    }
   ],
   "source": [
    "L[1:3] = [4]\n",
    "print(L)"
   ]
  },
  {
   "cell_type": "markdown",
   "id": "ae22db78-c551-4229-8e4c-336bfd1672fe",
   "metadata": {},
   "source": [
    "Generating numerical sequences"
   ]
  },
  {
   "cell_type": "code",
   "execution_count": 100,
   "id": "e4abc893-d819-4b80-843b-0fbc02ae9794",
   "metadata": {},
   "outputs": [
    {
     "name": "stdout",
     "output_type": "stream",
     "text": [
      "0\n",
      "1\n",
      "2\n",
      "range(0, 3)\n"
     ]
    }
   ],
   "source": [
    "L = range(3)\n",
    "for i in L:\n",
    "    print(i)\n",
    "# note that L is not a list!\n",
    "print(L)"
   ]
  },
  {
   "cell_type": "code",
   "execution_count": 102,
   "id": "ddbc1983-13af-40e5-9c05-8e59fa2f061a",
   "metadata": {},
   "outputs": [
    {
     "name": "stdout",
     "output_type": "stream",
     "text": [
      "[0, 1, 2, 3, 4, 5, 6, 7, 8, 9]\n"
     ]
    }
   ],
   "source": [
    "L = range(10)\n",
    "print(list(L))"
   ]
  },
  {
   "cell_type": "code",
   "execution_count": 104,
   "id": "86b791d9-6cda-452a-b413-87f699ec7693",
   "metadata": {},
   "outputs": [
    {
     "name": "stdout",
     "output_type": "stream",
     "text": [
      "[0, 2, 4, 6]\n"
     ]
    }
   ],
   "source": [
    "print(list(range(0, 7, 2)))"
   ]
  },
  {
   "cell_type": "markdown",
   "id": "1c8a882c-9583-46b6-baee-4d7a1b661a0e",
   "metadata": {},
   "source": [
    "Sorting sequences"
   ]
  },
  {
   "cell_type": "code",
   "execution_count": 107,
   "id": "7287457d-2af8-4c0c-8197-cd468f1a80dc",
   "metadata": {},
   "outputs": [
    {
     "name": "stdout",
     "output_type": "stream",
     "text": [
      "[1, 3, 5, 7]\n",
      "[1, 3, 6, 6, 7]\n",
      "[6, 1, 7, 3, 6]\n"
     ]
    }
   ],
   "source": [
    "L = [5, 3, 7, 1]\n",
    "L.sort() # here we call the sort method of the object L\n",
    "print(L)\n",
    "L2 = [6, 1, 7, 3, 6]\n",
    "print(sorted(L2))\n",
    "print(L2)"
   ]
  },
  {
   "cell_type": "code",
   "execution_count": 109,
   "id": "51b2df48-6bdc-4ca8-8ed0-4c3f1cdcdb8a",
   "metadata": {},
   "outputs": [
    {
     "name": "stdout",
     "output_type": "stream",
     "text": [
      "[7, 5, 3, 1]\n"
     ]
    }
   ],
   "source": [
    "L = [5, 3, 7, 1]\n",
    "print(sorted(L, reverse=True))"
   ]
  },
  {
   "cell_type": "markdown",
   "id": "5fecdc69-63e1-4882-8e7d-13436e0c6bd1",
   "metadata": {},
   "source": [
    "Exercise 1.9 (merge)"
   ]
  },
  {
   "cell_type": "code",
   "execution_count": 116,
   "id": "06f28881-646a-464e-afb6-9bebe72bbd1a",
   "metadata": {},
   "outputs": [
    {
     "name": "stdout",
     "output_type": "stream",
     "text": [
      "[0, 1, 3, 4, 5, 7, 8, 9, 12, 15]\n",
      "[-31, -21, 0, 5, 12, 12, 16, 34, 37, 43]\n"
     ]
    }
   ],
   "source": [
    "def merge(L1, L2):\n",
    "    i1 = 0\n",
    "    i2 = 0\n",
    "    merged = []\n",
    "    while i1 + i2 < len(L1) + len(L2):\n",
    "        if i2 == len(L2) or i1 < len(L1) and L1[i1] < L2[i2]:\n",
    "            merged.append(L1[i1])\n",
    "            i1 += 1\n",
    "        else:\n",
    "            merged.append(L2[i2])\n",
    "            i2 += 1\n",
    "    return merged\n",
    "        \n",
    "        \n",
    "def main():\n",
    "    L1 = [0, 4, 8, 12, 15]\n",
    "    L2 = [1, 3, 5, 7, 9]\n",
    "    print(merge(L1, L2))\n",
    "    L1 = [12, 34, -31, 43, 16]\n",
    "    L2 = [0, 5, 37, 12, -21]\n",
    "    print(merge(sorted(L1),sorted(L2)))\n",
    "\n",
    "\n",
    "if __name__ == \"__main__\":\n",
    "    main()"
   ]
  },
  {
   "cell_type": "markdown",
   "id": "1350c2ea-8828-4aa3-95dd-c93872fc04fa",
   "metadata": {},
   "source": [
    "Exercise 1.10 (detect ranges)"
   ]
  },
  {
   "cell_type": "code",
   "execution_count": null,
   "id": "3ab24e23-be89-4574-9e4c-f7af62511636",
   "metadata": {},
   "outputs": [],
   "source": []
  },
  {
   "cell_type": "code",
   "execution_count": null,
   "id": "02c74467-d1a2-4228-80e8-85f8b6e73e83",
   "metadata": {},
   "outputs": [],
   "source": []
  }
 ],
 "metadata": {
  "kernelspec": {
   "display_name": "Python [conda env:base] *",
   "language": "python",
   "name": "conda-base-py"
  },
  "language_info": {
   "codemirror_mode": {
    "name": "ipython",
    "version": 3
   },
   "file_extension": ".py",
   "mimetype": "text/x-python",
   "name": "python",
   "nbconvert_exporter": "python",
   "pygments_lexer": "ipython3",
   "version": "3.12.7"
  }
 },
 "nbformat": 4,
 "nbformat_minor": 5
}
